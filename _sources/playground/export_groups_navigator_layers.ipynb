{
 "cells": [
  {
   "cell_type": "markdown",
   "metadata": {},
   "source": [
    "# Exporting ATT&CK Group Navigator Layers"
   ]
  },
  {
   "cell_type": "markdown",
   "metadata": {},
   "source": [
    "# Get Relationship STIX Objects - (Manual)\n",
    "-----------------------\n",
    "I believe it is important to understand the code behind the main functions available in the Python library [attackcti](https://attackcti.readthedocs.io/en/latest/index.html). I highly recommend to first read the docs I put together about [cti-taxii-client](https://attackcti.readthedocs.io/en/latest/taxii_client.html) and [cti-python-stix2](https://attackcti.readthedocs.io/en/latest/stix.html) libraries.\n",
    "Those two summarize several of the concepts that I had to read to understand how to perform a simple query against ATT&CK's TAXII server"
   ]
  },
  {
   "cell_type": "markdown",
   "metadata": {},
   "source": [
    "## Import STIX and TAXII Libraries"
   ]
  },
  {
   "cell_type": "code",
   "execution_count": 1,
   "metadata": {},
   "outputs": [],
   "source": [
    "from stix2 import TAXIICollectionSource, Filter, CompositeDataSource\n",
    "from taxii2client.v20 import Collection"
   ]
  },
  {
   "cell_type": "markdown",
   "metadata": {},
   "source": [
    "## Set ATT&CK TAXII Collection ID Variables\n",
    "The public ATT&CK TAXII instance has three main collections (Enterprise, Pre and Mobile). Every collection has an ID which attackcti uses to retrieve ATT&CK STIX objects from all those matrices."
   ]
  },
  {
   "cell_type": "code",
   "execution_count": 2,
   "metadata": {},
   "outputs": [],
   "source": [
    "ATTACK_STIX_COLLECTIONS = \"https://cti-taxii.mitre.org/stix/collections/\"\n",
    "ENTERPRISE_ATTACK = \"95ecc380-afe9-11e4-9b6c-751b66dd541e\"\n",
    "PRE_ATTACK = \"062767bd-02d2-4b72-84ba-56caef0f8658\"\n",
    "MOBILE_ATTACK = \"2f669986-b40b-4423-b720-4396ca6a462b\"\n",
    "ICS_ATTACK = \"02c3ef24-9cd4-48f3-a99f-b74ce24f1d34\""
   ]
  },
  {
   "cell_type": "markdown",
   "metadata": {},
   "source": [
    "## Initialize TAXII Collection Sources\n",
    "According to [STIX2 docs](https://stix2.readthedocs.io/en/latest/index.html), the [TAXIICollectionSource API](https://stix2.readthedocs.io/en/latest/api/datastore/stix2.datastore.taxii.html#stix2.datastore.taxii.TAXIICollectionSource) provides an interface for searching/retrieving STIX objects from a local/remote TAXII Collection endpoint. In our case, we are pointing to our ATT&CK TAXII Collection instances (https://cti-taxii.mitre.org/stix/collections/<Collection ID>)"
   ]
  },
  {
   "cell_type": "code",
   "execution_count": 3,
   "metadata": {},
   "outputs": [],
   "source": [
    "ENTERPRISE_COLLECTION = Collection(ATTACK_STIX_COLLECTIONS + ENTERPRISE_ATTACK + \"/\")\n",
    "TC_ENTERPRISE_SOURCE = TAXIICollectionSource(ENTERPRISE_COLLECTION)\n",
    "PRE_COLLECTION = Collection(ATTACK_STIX_COLLECTIONS + PRE_ATTACK + \"/\")\n",
    "TC_PRE_SOURCE = TAXIICollectionSource(PRE_COLLECTION)\n",
    "MOBILE_COLLECTION = Collection(ATTACK_STIX_COLLECTIONS + MOBILE_ATTACK + \"/\")\n",
    "TC_MOBILE_SOURCE = TAXIICollectionSource(MOBILE_COLLECTION)\n",
    "ICS_COLLECTION = Collection(ATTACK_STIX_COLLECTIONS + ICS_ATTACK + \"/\")\n",
    "TC_ICS_SOURCE = TAXIICollectionSource(ICS_COLLECTION)"
   ]
  },
  {
   "cell_type": "markdown",
   "metadata": {},
   "source": [
    "## Initialize a Composite Data Source\n",
    "According to [STIX2 docs](https://stix2.readthedocs.io/en/latest/index.html), a user can have a single [CompositeDataSource](https://stix2.readthedocs.io/en/latest/api/stix2.datastore.html#stix2.datastore.CompositeDataSource) as an interface to a set of DataSources. When an API call is made to the CompositeDataSource, it is delegated to each of the (real) DataSources that are attached to it. In our case, we have three TAXIICollection sources (Enterprise, PRE and Mobile) as defined in our previous step. Therefore, we can use the CompositeDataSource class and the add_data_sources method to attach every ATT&CK TAXIICollection source and be able to query all of them at the same time."
   ]
  },
  {
   "cell_type": "code",
   "execution_count": 4,
   "metadata": {},
   "outputs": [],
   "source": [
    "COMPOSITE_DS = CompositeDataSource()\n",
    "COMPOSITE_DS.add_data_sources([TC_ENTERPRISE_SOURCE, TC_PRE_SOURCE, TC_MOBILE_SOURCE, TC_ICS_SOURCE])"
   ]
  },
  {
   "cell_type": "markdown",
   "metadata": {},
   "source": [
    "## Retrieve all relationships\n",
    "Now that we can query all the ATT&CK TAXIICollection sources at once, we can use the query method and a set of filters to retrieve STIX objects of type relationship"
   ]
  },
  {
   "cell_type": "code",
   "execution_count": 5,
   "metadata": {},
   "outputs": [
    {
     "data": {
      "text/plain": [
       "Relationship(type='relationship', id='relationship--fbe555c3-5c7b-44e7-a48f-293bdae9de0c', created_by_ref='identity--c78cb6e5-0c4b-4611-8297-d1b8b55e40b5', created='2021-04-27T15:46:45.720Z', modified='2021-04-27T15:46:45.720Z', relationship_type='uses', description=\"[AppleJeus](https://attack.mitre.org/software/S0584)'s spearphishing links required user interaction to navigate to the malicious website.(Citation: CISA AppleJeus Feb 2021)\", source_ref='malware--e2d34c63-6f5a-41f5-86a2-e2380f27f858', target_ref='attack-pattern--ef67e13e-5598-4adc-bdb2-998225874fa9', external_references=[ExternalReference(source_name='CISA AppleJeus Feb 2021', description='Cybersecurity and Infrastructure Security Agency. (2021, February 21). AppleJeus: Analysis of North Korea’s Cryptocurrency Malware. Retrieved March 1, 2021.', url='https://us-cert.cisa.gov/ncas/alerts/aa21-048a')], object_marking_refs=['marking-definition--fa42a846-8d90-4e51-bc29-71d5b4802168'])"
      ]
     },
     "execution_count": 5,
     "metadata": {},
     "output_type": "execute_result"
    }
   ],
   "source": [
    "rels = COMPOSITE_DS.query(Filter(\"type\", \"=\", \"relationship\"))\n",
    "rels[0]"
   ]
  },
  {
   "cell_type": "markdown",
   "metadata": {},
   "source": [
    "## Retrieve all relationships from an specific STIX object\n",
    "What if you want to be very specific and get relationships from a specific STIX objects? You can use the [relationships](https://stix2.readthedocs.io/en/latest/api/stix2.datastore.html#stix2.datastore.CompositeDataSource.relationships) method from the [CompositeDataSource](https://stix2.readthedocs.io/en/latest/api/stix2.datastore.html#stix2.datastore.CompositeDataSource) class to retrieve relationships involving a given STIX object."
   ]
  },
  {
   "cell_type": "code",
   "execution_count": 6,
   "metadata": {},
   "outputs": [
    {
     "data": {
      "text/plain": [
       "Relationship(type='relationship', id='relationship--12e483aa-14a0-41ea-b6fd-7ced3590472b', created_by_ref='identity--c78cb6e5-0c4b-4611-8297-d1b8b55e40b5', created='2021-04-14T14:05:51.798Z', modified='2021-04-14T14:05:51.798Z', relationship_type='uses', description='(Citation: Check Point Rocket Kitten)', source_ref='intrusion-set--fa19de15-6169-428d-9cd6-3ca3d56075b7', target_ref='tool--fbd727ea-c0dc-42a9-8448-9e12962d1ab5', external_references=[ExternalReference(source_name='Check Point Rocket Kitten', description='Check Point Software Technologies. (2015). ROCKET KITTEN: A CAMPAIGN WITH 9 LIVES. Retrieved March 16, 2018.', url='https://blog.checkpoint.com/wp-content/uploads/2015/11/rocket-kitten-report.pdf')], object_marking_refs=['marking-definition--fa42a846-8d90-4e51-bc29-71d5b4802168'])"
      ]
     },
     "execution_count": 6,
     "metadata": {},
     "output_type": "execute_result"
    }
   ],
   "source": [
    "from attackcti import attack_client\n",
    "lift = attack_client()\n",
    "\n",
    "groups = lift.get_groups()\n",
    "groups = lift.remove_revoked(groups)\n",
    "\n",
    "rels = COMPOSITE_DS.relationships(groups[0], 'uses', source_only=True)\n",
    "rels[0]"
   ]
  },
  {
   "cell_type": "markdown",
   "metadata": {},
   "source": [
    "# Get Relationship STIX Objects - (Automatic)\n",
    "-----------------------"
   ]
  },
  {
   "cell_type": "markdown",
   "metadata": {},
   "source": [
    "## Retrieve all relationships"
   ]
  },
  {
   "cell_type": "code",
   "execution_count": 7,
   "metadata": {},
   "outputs": [],
   "source": [
    "from attackcti import attack_client\n",
    "lift = attack_client()"
   ]
  },
  {
   "cell_type": "code",
   "execution_count": 8,
   "metadata": {},
   "outputs": [
    {
     "name": "stdout",
     "output_type": "stream",
     "text": [
      "CPU times: user 3.04 s, sys: 74.9 ms, total: 3.11 s\n",
      "Wall time: 5.49 s\n"
     ]
    }
   ],
   "source": [
    "%time all_relationships = lift.get_relationships()"
   ]
  },
  {
   "cell_type": "code",
   "execution_count": 9,
   "metadata": {},
   "outputs": [
    {
     "data": {
      "text/plain": [
       "Relationship(type='relationship', id='relationship--fbe555c3-5c7b-44e7-a48f-293bdae9de0c', created_by_ref='identity--c78cb6e5-0c4b-4611-8297-d1b8b55e40b5', created='2021-04-27T15:46:45.720Z', modified='2021-04-27T15:46:45.720Z', relationship_type='uses', description=\"[AppleJeus](https://attack.mitre.org/software/S0584)'s spearphishing links required user interaction to navigate to the malicious website.(Citation: CISA AppleJeus Feb 2021)\", source_ref='malware--e2d34c63-6f5a-41f5-86a2-e2380f27f858', target_ref='attack-pattern--ef67e13e-5598-4adc-bdb2-998225874fa9', external_references=[ExternalReference(source_name='CISA AppleJeus Feb 2021', description='Cybersecurity and Infrastructure Security Agency. (2021, February 21). AppleJeus: Analysis of North Korea’s Cryptocurrency Malware. Retrieved March 1, 2021.', url='https://us-cert.cisa.gov/ncas/alerts/aa21-048a')], object_marking_refs=['marking-definition--fa42a846-8d90-4e51-bc29-71d5b4802168'])"
      ]
     },
     "execution_count": 9,
     "metadata": {},
     "output_type": "execute_result"
    }
   ],
   "source": [
    "all_relationships[0]"
   ]
  },
  {
   "cell_type": "markdown",
   "metadata": {},
   "source": [
    "## Retrieve all relationships from an specific STIX object"
   ]
  },
  {
   "cell_type": "code",
   "execution_count": 10,
   "metadata": {},
   "outputs": [],
   "source": [
    "groups = lift.get_groups()\n",
    "groups = lift.remove_revoked(groups)"
   ]
  },
  {
   "cell_type": "code",
   "execution_count": 11,
   "metadata": {},
   "outputs": [
    {
     "name": "stdout",
     "output_type": "stream",
     "text": [
      "CPU times: user 357 ms, sys: 53.8 ms, total: 411 ms\n",
      "Wall time: 3.91 s\n"
     ]
    }
   ],
   "source": [
    "%time group_relationships = lift.get_relationships_by_object(groups[0])"
   ]
  },
  {
   "cell_type": "code",
   "execution_count": 12,
   "metadata": {},
   "outputs": [
    {
     "data": {
      "text/plain": [
       "Relationship(type='relationship', id='relationship--12e483aa-14a0-41ea-b6fd-7ced3590472b', created_by_ref='identity--c78cb6e5-0c4b-4611-8297-d1b8b55e40b5', created='2021-04-14T14:05:51.798Z', modified='2021-04-14T14:05:51.798Z', relationship_type='uses', description='(Citation: Check Point Rocket Kitten)', source_ref='intrusion-set--fa19de15-6169-428d-9cd6-3ca3d56075b7', target_ref='tool--fbd727ea-c0dc-42a9-8448-9e12962d1ab5', external_references=[ExternalReference(source_name='Check Point Rocket Kitten', description='Check Point Software Technologies. (2015). ROCKET KITTEN: A CAMPAIGN WITH 9 LIVES. Retrieved March 16, 2018.', url='https://blog.checkpoint.com/wp-content/uploads/2015/11/rocket-kitten-report.pdf')], object_marking_refs=['marking-definition--fa42a846-8d90-4e51-bc29-71d5b4802168'])"
      ]
     },
     "execution_count": 12,
     "metadata": {},
     "output_type": "execute_result"
    }
   ],
   "source": [
    "group_relationships[0]"
   ]
  },
  {
   "cell_type": "markdown",
   "metadata": {},
   "source": [
    "# Retrive Techniques used by one Group - (Manual)\n",
    "-----------------------"
   ]
  },
  {
   "cell_type": "markdown",
   "metadata": {},
   "source": [
    "In this case we want relationship objects that have target_ref values of type attack-pattern. Following the manual code I shared above, and the results from the `get_relationships_by_object()` function, you can simply query the ATT&CK Enterprise TAXIICollection source with the filter below"
   ]
  },
  {
   "cell_type": "code",
   "execution_count": 13,
   "metadata": {},
   "outputs": [
    {
     "data": {
      "text/plain": [
       "AttackPattern(type='attack-pattern', id='attack-pattern--232b7f21-adf9-4b42-b936-b9d6f7df856e', created_by_ref='identity--c78cb6e5-0c4b-4611-8297-d1b8b55e40b5', created='2020-03-11T14:49:36.954Z', modified='2020-03-11T14:55:56.177Z', name='Malicious File', description=\"An adversary may rely upon a user opening a malicious file in order to gain execution. Users may be subjected to social engineering to get them to open a file that will lead to code execution. This user action will typically be observed as follow-on behavior from [Spearphishing Attachment](https://attack.mitre.org/techniques/T1566/001). Adversaries may use several types of files that require a user to execute them, including .doc, .pdf, .xls, .rtf, .scr, .exe, .lnk, .pif, and .cpl.\\n\\nAdversaries may employ various forms of [Masquerading](https://attack.mitre.org/techniques/T1036) on the file to increase the likelihood that a user will open it.\\n\\nWhile [Malicious File](https://attack.mitre.org/techniques/T1204/002) frequently occurs shortly after Initial Access it may occur at other phases of an intrusion, such as when an adversary places a file in a shared directory or on a user's desktop hoping that a user will click on it. This activity may also be seen shortly after [Internal Spearphishing](https://attack.mitre.org/techniques/T1534).\", kill_chain_phases=[KillChainPhase(kill_chain_name='mitre-attack', phase_name='execution')], external_references=[ExternalReference(source_name='mitre-attack', url='https://attack.mitre.org/techniques/T1204/002', external_id='T1204.002')], object_marking_refs=['marking-definition--fa42a846-8d90-4e51-bc29-71d5b4802168'], x_mitre_data_sources=['Process: Process Creation', 'File: File Creation'], x_mitre_detection=\"Monitor the execution of and command-line arguments for applications that may be used by an adversary to gain initial access that require user interaction. This includes compression applications, such as those for zip files, that can be used to [Deobfuscate/Decode Files or Information](https://attack.mitre.org/techniques/T1140) in payloads.\\n\\nAnti-virus can potentially detect malicious documents and files that are downloaded and executed on the user's computer. Endpoint sensing or network sensing can potentially detect malicious events once the file is opened (such as a Microsoft Word document or PDF reaching out to the internet or spawning powershell.exe).\", x_mitre_is_subtechnique=True, x_mitre_permissions_required=['User'], x_mitre_platforms=['Linux', 'macOS', 'Windows'], x_mitre_version='1.0')"
      ]
     },
     "execution_count": 13,
     "metadata": {},
     "output_type": "execute_result"
    }
   ],
   "source": [
    "filter_objects = [\n",
    "  Filter('type', '=', 'attack-pattern'),\n",
    "  Filter('id', '=', [r.target_ref for r in group_relationships])\n",
    "]\n",
    "techniques_used = TC_ENTERPRISE_SOURCE.query(filter_objects)\n",
    "techniques_used[0]"
   ]
  },
  {
   "cell_type": "markdown",
   "metadata": {},
   "source": [
    "# Retrive Techniques used by one Group - (Automatic)\n",
    "-----------------------"
   ]
  },
  {
   "cell_type": "code",
   "execution_count": 14,
   "metadata": {},
   "outputs": [
    {
     "data": {
      "text/plain": [
       "AttackPattern(type='attack-pattern', id='attack-pattern--232b7f21-adf9-4b42-b936-b9d6f7df856e', created_by_ref='identity--c78cb6e5-0c4b-4611-8297-d1b8b55e40b5', created='2020-03-11T14:49:36.954Z', modified='2020-03-11T14:55:56.177Z', name='Malicious File', description=\"An adversary may rely upon a user opening a malicious file in order to gain execution. Users may be subjected to social engineering to get them to open a file that will lead to code execution. This user action will typically be observed as follow-on behavior from [Spearphishing Attachment](https://attack.mitre.org/techniques/T1566/001). Adversaries may use several types of files that require a user to execute them, including .doc, .pdf, .xls, .rtf, .scr, .exe, .lnk, .pif, and .cpl.\\n\\nAdversaries may employ various forms of [Masquerading](https://attack.mitre.org/techniques/T1036) on the file to increase the likelihood that a user will open it.\\n\\nWhile [Malicious File](https://attack.mitre.org/techniques/T1204/002) frequently occurs shortly after Initial Access it may occur at other phases of an intrusion, such as when an adversary places a file in a shared directory or on a user's desktop hoping that a user will click on it. This activity may also be seen shortly after [Internal Spearphishing](https://attack.mitre.org/techniques/T1534).\", kill_chain_phases=[KillChainPhase(kill_chain_name='mitre-attack', phase_name='execution')], external_references=[ExternalReference(source_name='mitre-attack', url='https://attack.mitre.org/techniques/T1204/002', external_id='T1204.002')], object_marking_refs=['marking-definition--fa42a846-8d90-4e51-bc29-71d5b4802168'], x_mitre_data_sources=['Process: Process Creation', 'File: File Creation'], x_mitre_detection=\"Monitor the execution of and command-line arguments for applications that may be used by an adversary to gain initial access that require user interaction. This includes compression applications, such as those for zip files, that can be used to [Deobfuscate/Decode Files or Information](https://attack.mitre.org/techniques/T1140) in payloads.\\n\\nAnti-virus can potentially detect malicious documents and files that are downloaded and executed on the user's computer. Endpoint sensing or network sensing can potentially detect malicious events once the file is opened (such as a Microsoft Word document or PDF reaching out to the internet or spawning powershell.exe).\", x_mitre_is_subtechnique=True, x_mitre_permissions_required=['User'], x_mitre_platforms=['Linux', 'macOS', 'Windows'], x_mitre_version='1.0')"
      ]
     },
     "execution_count": 14,
     "metadata": {},
     "output_type": "execute_result"
    }
   ],
   "source": [
    "from attackcti import attack_client\n",
    "lift = attack_client()\n",
    "groups = lift.get_groups()\n",
    "groups = lift.remove_revoked(groups)\n",
    "group_techniques = lift.get_techniques_used_by_group(groups[0])\n",
    "group_techniques[0]"
   ]
  },
  {
   "cell_type": "markdown",
   "metadata": {},
   "source": [
    "# Retrive all Techniques used by all Groups - (Manual)\n",
    "-----------------------\n",
    "You can apply the same get_techniques_used_by_group() function, but against all the groups STIX objects that the get_groups() function retrieves. You can do a simple for loop over more than 90 groups. However, it takes longer than what I would like it to take. Therefore, I decided to go a different route and started testing some code."
   ]
  },
  {
   "cell_type": "markdown",
   "metadata": {},
   "source": [
    "## Get all groups and techniques"
   ]
  },
  {
   "cell_type": "code",
   "execution_count": 15,
   "metadata": {},
   "outputs": [],
   "source": [
    "from attackcti import attack_client\n",
    "lift = attack_client()\n",
    "groups = lift.get_groups()\n",
    "techniques = lift.get_techniques()\n",
    "techniques = lift.remove_revoked(techniques)"
   ]
  },
  {
   "cell_type": "markdown",
   "metadata": {},
   "source": [
    "## Filter Group objects using techniques"
   ]
  },
  {
   "cell_type": "code",
   "execution_count": 16,
   "metadata": {},
   "outputs": [
    {
     "name": "stdout",
     "output_type": "stream",
     "text": [
      "{\n",
      "    \"type\": \"relationship\",\n",
      "    \"id\": \"relationship--435c288d-1e10-4610-bf41-531390e5a650\",\n",
      "    \"created_by_ref\": \"identity--c78cb6e5-0c4b-4611-8297-d1b8b55e40b5\",\n",
      "    \"created\": \"2021-04-25T23:26:10.590Z\",\n",
      "    \"modified\": \"2021-04-25T23:26:10.590Z\",\n",
      "    \"relationship_type\": \"uses\",\n",
      "    \"description\": \"[MuddyWater](https://attack.mitre.org/groups/G0069) has used JavaScript files to execute its [POWERSTATS](https://attack.mitre.org/software/S0223) payload.(Citation: ClearSky MuddyWater Nov 2018)(Citation: FireEye MuddyWater Mar 2018)\",\n",
      "    \"source_ref\": \"intrusion-set--269e8108-68c6-4f99-b911-14b2e765dec2\",\n",
      "    \"target_ref\": \"attack-pattern--0f4a0c76-ab2d-4cb0-85d3-3f0efb8cba0d\",\n",
      "    \"external_references\": [\n",
      "        {\n",
      "            \"source_name\": \"ClearSky MuddyWater Nov 2018\",\n",
      "            \"description\": \"ClearSky Cyber Security. (2018, November). MuddyWater Operations in Lebanon and Oman: Using an Israeli compromised domain for a two-stage campaign. Retrieved November 29, 2018.\",\n",
      "            \"url\": \"https://www.clearskysec.com/wp-content/uploads/2018/11/MuddyWater-Operations-in-Lebanon-and-Oman.pdf\"\n",
      "        },\n",
      "        {\n",
      "            \"source_name\": \"FireEye MuddyWater Mar 2018\",\n",
      "            \"description\": \"Singh, S. et al.. (2018, March 13). Iranian Threat Group Updates Tactics, Techniques and Procedures in Spear Phishing Campaign. Retrieved April 11, 2018.\",\n",
      "            \"url\": \"https://www.fireeye.com/blog/threat-research/2018/03/iranian-threat-group-updates-ttps-in-spear-phishing-campaign.html\"\n",
      "        }\n",
      "    ],\n",
      "    \"object_marking_refs\": [\n",
      "        \"marking-definition--fa42a846-8d90-4e51-bc29-71d5b4802168\"\n",
      "    ]\n",
      "}\n"
     ]
    }
   ],
   "source": [
    "from stix2.utils import get_type_from_id\n",
    "group_relationships = []\n",
    "for rel in all_relationships:\n",
    "    if get_type_from_id(rel.source_ref) == 'intrusion-set'\\\n",
    "    and get_type_from_id(rel.target_ref) == 'attack-pattern':\n",
    "        group_relationships.append(rel)\n",
    "len(group_relationships)\n",
    "print(group_relationships[0])"
   ]
  },
  {
   "cell_type": "markdown",
   "metadata": {},
   "source": [
    "## Match Group -> Relationships Intrusion-set ID\n",
    "Then, I just take all the group_relationships I got, and look for the specific `intrusion-set (Group)` id in the groups STIX objects. Once there is a match, I create new fields on the `intrusion-set (Group)` STIX object to add additional information about the `attack-pattern (Technique)` in the relationship object. The most important additional metadata is the target_ref field which points to the specific `attack-pattern (Technique)` id involving the `group`. The results are then added to a new list named `group_techniques_ref` ."
   ]
  },
  {
   "cell_type": "code",
   "execution_count": 17,
   "metadata": {},
   "outputs": [],
   "source": [
    "import json\n",
    "group_techniques_ref = []\n",
    "for g in groups:\n",
    "    for rel in group_relationships:\n",
    "        if g['id'] == rel['source_ref']:\n",
    "            gs = json.loads(g.serialize())\n",
    "            gs\n",
    "            gs['technique_ref'] = rel['target_ref']\n",
    "            gs['relationship_description'] = rel['description']\n",
    "            gs['relationship_id'] = rel['id']\n",
    "            group_techniques_ref.append(gs)"
   ]
  },
  {
   "cell_type": "markdown",
   "metadata": {},
   "source": [
    "## Match Attack-patterns -> Intrusion-set object ID\n",
    "I apply the same concept as before, and just loop through all the attack-pattern objects and look for the specific attack-pattern id in the initial relationships STIX objects. Once there is a match, I add additional information from the attack-pattern itself to the python dictionaries in the `group_techniques_ref` list. The results then get added to a new list named `groups_use_techniques`."
   ]
  },
  {
   "cell_type": "code",
   "execution_count": 18,
   "metadata": {},
   "outputs": [
    {
     "data": {
      "text/plain": [
       "{'created_by_ref': 'identity--c78cb6e5-0c4b-4611-8297-d1b8b55e40b5',\n",
       " 'object_marking_refs': ['marking-definition--fa42a846-8d90-4e51-bc29-71d5b4802168'],\n",
       " 'external_references': [{'external_id': 'G0130',\n",
       "   'source_name': 'mitre-attack',\n",
       "   'url': 'https://attack.mitre.org/groups/G0130'},\n",
       "  {'source_name': 'Operation Woolen-Goldfish',\n",
       "   'description': 'Analysis of infrastructure, tools, and modes of operation revealed a potential relationship between Ajax Security Team and the campaign Operation Woolen-Goldfish.(Citation: Check Point Rocket Kitten)(Citation: TrendMicro Operation Woolen Goldfish March 2015)'},\n",
       "  {'source_name': 'AjaxTM',\n",
       "   'description': '(Citation: FireEye Operation Saffron Rose 2013)'},\n",
       "  {'source_name': 'Rocket Kitten',\n",
       "   'description': 'Analysis of infrastructure, tools, and modes of operation revealed a potential relationship between Ajax Security Team and Rocket Kitten.(Citation: Check Point Rocket Kitten)(Citation: IranThreats Kittens Dec 2017)'},\n",
       "  {'source_name': 'Flying Kitten',\n",
       "   'description': '(Citation: CrowdStrike Flying Kitten )'},\n",
       "  {'source_name': 'Operation Saffron Rose',\n",
       "   'description': '(Citation: FireEye Operation Saffron Rose 2013)'},\n",
       "  {'source_name': 'FireEye Operation Saffron Rose 2013',\n",
       "   'url': 'https://www.fireeye.com/content/dam/fireeye-www/global/en/current-threats/pdfs/rpt-operation-saffron-rose.pdf',\n",
       "   'description': 'Villeneuve, N. et al.. (2013). OPERATION SAFFRON ROSE . Retrieved May 28, 2020.'},\n",
       "  {'source_name': 'Check Point Rocket Kitten',\n",
       "   'url': 'https://blog.checkpoint.com/wp-content/uploads/2015/11/rocket-kitten-report.pdf',\n",
       "   'description': 'Check Point Software Technologies. (2015). ROCKET KITTEN: A CAMPAIGN WITH 9 LIVES. Retrieved March 16, 2018.'},\n",
       "  {'source_name': 'TrendMicro Operation Woolen Goldfish March 2015',\n",
       "   'url': 'https://documents.trendmicro.com/assets/wp/wp-operation-woolen-goldfish.pdf',\n",
       "   'description': 'Cedric Pernet, Kenney Lu. (2015, March 19). Operation Woolen-Goldfish - When Kittens Go phishing. Retrieved April 21, 2021.'},\n",
       "  {'source_name': 'IranThreats Kittens Dec 2017',\n",
       "   'url': 'https://iranthreats.github.io/resources/attribution-flying-rocket-kitten/',\n",
       "   'description': 'Iran Threats . (2017, December 5). Flying Kitten to Rocket Kitten, A Case of Ambiguity and Shared Code. Retrieved May 28, 2020.'},\n",
       "  {'source_name': 'CrowdStrike Flying Kitten ',\n",
       "   'url': 'https://www.crowdstrike.com/blog/cat-scratch-fever-crowdstrike-tracks-newly-reported-iranian-actor-flying-kitten/',\n",
       "   'description': 'Dahl, M.. (2014, May 13). Cat Scratch Fever: CrowdStrike Tracks Newly Reported Iranian Actor as FLYING KITTEN. Retrieved May 27, 2020.'}],\n",
       " 'description': '[Ajax Security Team](https://attack.mitre.org/groups/G0130) is a group that has been active since at least 2010 and believed to be operating out of Iran. By 2014 [Ajax Security Team](https://attack.mitre.org/groups/G0130) transitioned from website defacement operations to malware-based cyber espionage campaigns targeting the US defense industrial base and Iranian users of anti-censorship technologies.(Citation: FireEye Operation Saffron Rose 2013)',\n",
       " 'name': 'Ajax Security Team',\n",
       " 'type': 'intrusion-set',\n",
       " 'id': 'intrusion-set--fa19de15-6169-428d-9cd6-3ca3d56075b7',\n",
       " 'aliases': ['Ajax Security Team',\n",
       "  'Operation Woolen-Goldfish',\n",
       "  'AjaxTM',\n",
       "  'Rocket Kitten',\n",
       "  'Flying Kitten',\n",
       "  'Operation Saffron Rose'],\n",
       " 'modified': '2021-04-22T20:13:14.377Z',\n",
       " 'created': '2021-04-14T13:17:43.941Z',\n",
       " 'x_mitre_version': '1.0',\n",
       " 'technique_ref': 'attack-pattern--58a3e6aa-4453-4cc8-a51f-4befe80b31a8',\n",
       " 'relationship_description': '[Ajax Security Team](https://attack.mitre.org/groups/G0130) has used FireMalv custom-developed malware, which collected passwords from the Firefox browser storage.(Citation: Check Point Rocket Kitten)',\n",
       " 'relationship_id': 'relationship--ac196369-5b5b-4e71-805a-3f64f150b1e2',\n",
       " 'technique': 'Credentials from Web Browsers',\n",
       " 'technique_description': \"Adversaries may acquire credentials from web browsers by reading files specific to the target browser.(Citation: Talos Olympic Destroyer 2018) Web browsers commonly save credentials such as website usernames and passwords so that they do not need to be entered manually in the future. Web browsers typically store the credentials in an encrypted format within a credential store; however, methods exist to extract plaintext credentials from web browsers.\\n\\nFor example, on Windows systems, encrypted credentials may be obtained from Google Chrome by reading a database file, <code>AppData\\\\Local\\\\Google\\\\Chrome\\\\User Data\\\\Default\\\\Login Data</code> and executing a SQL query: <code>SELECT action_url, username_value, password_value FROM logins;</code>. The plaintext password can then be obtained by passing the encrypted credentials to the Windows API function <code>CryptUnprotectData</code>, which uses the victim’s cached logon credentials as the decryption key. (Citation: Microsoft CryptUnprotectData April 2018)\\n \\nAdversaries have executed similar procedures for common web browsers such as FireFox, Safari, Edge, etc.(Citation: Proofpoint Vega Credential Stealer May 2018)(Citation: FireEye HawkEye Malware July 2017) Windows stores Internet Explorer and Microsoft Edge credentials in Credential Lockers managed by the [Windows Credential Manager](https://attack.mitre.org/techniques/T1555/004).\\n\\nAdversaries may also acquire credentials by searching web browser process memory for patterns that commonly match credentials.(Citation: GitHub Mimikittenz July 2016)\\n\\nAfter acquiring credentials from web browsers, adversaries may attempt to recycle the credentials across different systems and/or accounts in order to expand access. This can result in significantly furthering an adversary's objective in cases where credentials gained from web browsers overlap with privileged accounts (e.g. domain administrator).\",\n",
       " 'tactic': ['credential-access'],\n",
       " 'technique_id': 'T1555.003',\n",
       " 'matrix': 'mitre-attack',\n",
       " 'platform': ['Linux', 'macOS', 'Windows'],\n",
       " 'data_sources': ['File: File Access',\n",
       "  'Command: Command Execution',\n",
       "  'Process: OS API Execution',\n",
       "  'Process: Process Access'],\n",
       " 'permissions_required': ['User']}"
      ]
     },
     "execution_count": 18,
     "metadata": {},
     "output_type": "execute_result"
    }
   ],
   "source": [
    "groups_use_techniques = []\n",
    "for gt in group_techniques_ref:\n",
    "    for t in techniques:\n",
    "        if gt['technique_ref'] == t['id']:\n",
    "            tactic_list = list()\n",
    "            for phase in t['kill_chain_phases']:\n",
    "                tactic_list.append(phase['phase_name'])\n",
    "                gt['technique'] = t['name']\n",
    "                gt['technique_description'] = t['description']\n",
    "                gt['tactic'] = tactic_list\n",
    "                gt['technique_id'] = t['external_references'][0]['external_id']\n",
    "                gt['matrix'] =  t['external_references'][0]['source_name']\n",
    "                if 'x_mitre_platforms' in t.keys():\n",
    "                    gt['platform'] = t['x_mitre_platforms']\n",
    "                if 'x_mitre_data_sources' in t.keys():\n",
    "                    gt['data_sources'] = t['x_mitre_data_sources']\n",
    "                if 'x_mitre_permissions_required' in t.keys():\n",
    "                    gt['permissions_required'] = t['x_mitre_permissions_required']\n",
    "                if 'x_mitre_effective_permissions' in t.keys():\n",
    "                    gt['effective_permissions'] = t['x_mitre_effective_permissions']\n",
    "                groups_use_techniques.append(gt)\n",
    "groups_use_techniques[0]"
   ]
  },
  {
   "cell_type": "markdown",
   "metadata": {},
   "source": [
    "# Retrive all Techniques used by all Groups - (Automatic)\n",
    "-----------------------"
   ]
  },
  {
   "cell_type": "code",
   "execution_count": 19,
   "metadata": {},
   "outputs": [
    {
     "name": "stdout",
     "output_type": "stream",
     "text": [
      "CPU times: user 7.33 s, sys: 148 ms, total: 7.48 s\n",
      "Wall time: 11.8 s\n"
     ]
    }
   ],
   "source": [
    "from attackcti import attack_client\n",
    "lift = attack_client()\n",
    "%time techniques_used = lift.get_techniques_used_by_all_groups()"
   ]
  },
  {
   "cell_type": "code",
   "execution_count": 20,
   "metadata": {},
   "outputs": [
    {
     "data": {
      "text/plain": [
       "2512"
      ]
     },
     "execution_count": 20,
     "metadata": {},
     "output_type": "execute_result"
    }
   ],
   "source": [
    "len(techniques_used)"
   ]
  },
  {
   "cell_type": "code",
   "execution_count": 21,
   "metadata": {},
   "outputs": [
    {
     "data": {
      "text/plain": [
       "{'created_by_ref': 'identity--c78cb6e5-0c4b-4611-8297-d1b8b55e40b5',\n",
       " 'object_marking_refs': ['marking-definition--fa42a846-8d90-4e51-bc29-71d5b4802168'],\n",
       " 'external_references': [{'external_id': 'G0130',\n",
       "   'source_name': 'mitre-attack',\n",
       "   'url': 'https://attack.mitre.org/groups/G0130'},\n",
       "  {'source_name': 'Operation Woolen-Goldfish',\n",
       "   'description': 'Analysis of infrastructure, tools, and modes of operation revealed a potential relationship between Ajax Security Team and the campaign Operation Woolen-Goldfish.(Citation: Check Point Rocket Kitten)(Citation: TrendMicro Operation Woolen Goldfish March 2015)'},\n",
       "  {'source_name': 'AjaxTM',\n",
       "   'description': '(Citation: FireEye Operation Saffron Rose 2013)'},\n",
       "  {'source_name': 'Rocket Kitten',\n",
       "   'description': 'Analysis of infrastructure, tools, and modes of operation revealed a potential relationship between Ajax Security Team and Rocket Kitten.(Citation: Check Point Rocket Kitten)(Citation: IranThreats Kittens Dec 2017)'},\n",
       "  {'source_name': 'Flying Kitten',\n",
       "   'description': '(Citation: CrowdStrike Flying Kitten )'},\n",
       "  {'source_name': 'Operation Saffron Rose',\n",
       "   'description': '(Citation: FireEye Operation Saffron Rose 2013)'},\n",
       "  {'source_name': 'FireEye Operation Saffron Rose 2013',\n",
       "   'url': 'https://www.fireeye.com/content/dam/fireeye-www/global/en/current-threats/pdfs/rpt-operation-saffron-rose.pdf',\n",
       "   'description': 'Villeneuve, N. et al.. (2013). OPERATION SAFFRON ROSE . Retrieved May 28, 2020.'},\n",
       "  {'source_name': 'Check Point Rocket Kitten',\n",
       "   'url': 'https://blog.checkpoint.com/wp-content/uploads/2015/11/rocket-kitten-report.pdf',\n",
       "   'description': 'Check Point Software Technologies. (2015). ROCKET KITTEN: A CAMPAIGN WITH 9 LIVES. Retrieved March 16, 2018.'},\n",
       "  {'source_name': 'TrendMicro Operation Woolen Goldfish March 2015',\n",
       "   'url': 'https://documents.trendmicro.com/assets/wp/wp-operation-woolen-goldfish.pdf',\n",
       "   'description': 'Cedric Pernet, Kenney Lu. (2015, March 19). Operation Woolen-Goldfish - When Kittens Go phishing. Retrieved April 21, 2021.'},\n",
       "  {'source_name': 'IranThreats Kittens Dec 2017',\n",
       "   'url': 'https://iranthreats.github.io/resources/attribution-flying-rocket-kitten/',\n",
       "   'description': 'Iran Threats . (2017, December 5). Flying Kitten to Rocket Kitten, A Case of Ambiguity and Shared Code. Retrieved May 28, 2020.'},\n",
       "  {'source_name': 'CrowdStrike Flying Kitten ',\n",
       "   'url': 'https://www.crowdstrike.com/blog/cat-scratch-fever-crowdstrike-tracks-newly-reported-iranian-actor-flying-kitten/',\n",
       "   'description': 'Dahl, M.. (2014, May 13). Cat Scratch Fever: CrowdStrike Tracks Newly Reported Iranian Actor as FLYING KITTEN. Retrieved May 27, 2020.'}],\n",
       " 'description': '[Ajax Security Team](https://attack.mitre.org/groups/G0130) is a group that has been active since at least 2010 and believed to be operating out of Iran. By 2014 [Ajax Security Team](https://attack.mitre.org/groups/G0130) transitioned from website defacement operations to malware-based cyber espionage campaigns targeting the US defense industrial base and Iranian users of anti-censorship technologies.(Citation: FireEye Operation Saffron Rose 2013)',\n",
       " 'name': 'Ajax Security Team',\n",
       " 'type': 'intrusion-set',\n",
       " 'id': 'intrusion-set--fa19de15-6169-428d-9cd6-3ca3d56075b7',\n",
       " 'aliases': ['Ajax Security Team',\n",
       "  'Operation Woolen-Goldfish',\n",
       "  'AjaxTM',\n",
       "  'Rocket Kitten',\n",
       "  'Flying Kitten',\n",
       "  'Operation Saffron Rose'],\n",
       " 'modified': '2021-04-22T20:13:14.377Z',\n",
       " 'created': '2021-04-14T13:17:43.941Z',\n",
       " 'x_mitre_version': '1.0',\n",
       " 'technique_ref': 'attack-pattern--58a3e6aa-4453-4cc8-a51f-4befe80b31a8',\n",
       " 'relationship_description': '[Ajax Security Team](https://attack.mitre.org/groups/G0130) has used FireMalv custom-developed malware, which collected passwords from the Firefox browser storage.(Citation: Check Point Rocket Kitten)',\n",
       " 'relationship_id': 'relationship--ac196369-5b5b-4e71-805a-3f64f150b1e2',\n",
       " 'revoked': False,\n",
       " 'technique': 'Credentials from Web Browsers',\n",
       " 'technique_description': \"Adversaries may acquire credentials from web browsers by reading files specific to the target browser.(Citation: Talos Olympic Destroyer 2018) Web browsers commonly save credentials such as website usernames and passwords so that they do not need to be entered manually in the future. Web browsers typically store the credentials in an encrypted format within a credential store; however, methods exist to extract plaintext credentials from web browsers.\\n\\nFor example, on Windows systems, encrypted credentials may be obtained from Google Chrome by reading a database file, <code>AppData\\\\Local\\\\Google\\\\Chrome\\\\User Data\\\\Default\\\\Login Data</code> and executing a SQL query: <code>SELECT action_url, username_value, password_value FROM logins;</code>. The plaintext password can then be obtained by passing the encrypted credentials to the Windows API function <code>CryptUnprotectData</code>, which uses the victim’s cached logon credentials as the decryption key. (Citation: Microsoft CryptUnprotectData April 2018)\\n \\nAdversaries have executed similar procedures for common web browsers such as FireFox, Safari, Edge, etc.(Citation: Proofpoint Vega Credential Stealer May 2018)(Citation: FireEye HawkEye Malware July 2017) Windows stores Internet Explorer and Microsoft Edge credentials in Credential Lockers managed by the [Windows Credential Manager](https://attack.mitre.org/techniques/T1555/004).\\n\\nAdversaries may also acquire credentials by searching web browser process memory for patterns that commonly match credentials.(Citation: GitHub Mimikittenz July 2016)\\n\\nAfter acquiring credentials from web browsers, adversaries may attempt to recycle the credentials across different systems and/or accounts in order to expand access. This can result in significantly furthering an adversary's objective in cases where credentials gained from web browsers overlap with privileged accounts (e.g. domain administrator).\",\n",
       " 'tactic': [KillChainPhase(kill_chain_name='mitre-attack', phase_name='credential-access')],\n",
       " 'technique_id': 'T1555.003',\n",
       " 'matrix': 'mitre-attack',\n",
       " 'platform': ['Linux', 'macOS', 'Windows'],\n",
       " 'data_sources': ['File: File Access',\n",
       "  'Command: Command Execution',\n",
       "  'Process: OS API Execution',\n",
       "  'Process: Process Access'],\n",
       " 'permissions_required': ['User']}"
      ]
     },
     "execution_count": 21,
     "metadata": {},
     "output_type": "execute_result"
    }
   ],
   "source": [
    "techniques_used[0]"
   ]
  },
  {
   "cell_type": "markdown",
   "metadata": {},
   "source": [
    "# Create Navigator Group Layer Files - (Manual)\n",
    "-----------------------"
   ]
  },
  {
   "cell_type": "markdown",
   "metadata": {},
   "source": [
    "## Create a list of group dictionaries\n",
    "To make things easier, I create a list of dictionaries where each group name is the main key and the value is a list where I append every single technique involving that group. I get that information from the `get_techniques_used_by_all_groups()` results."
   ]
  },
  {
   "cell_type": "code",
   "execution_count": 22,
   "metadata": {},
   "outputs": [
    {
     "data": {
      "text/plain": [
       "{'Lazarus Group': []}"
      ]
     },
     "execution_count": 22,
     "metadata": {},
     "output_type": "execute_result"
    }
   ],
   "source": [
    "groups = lift.get_groups()\n",
    "groups = lift.remove_revoked(groups)\n",
    "groups_list = []\n",
    "for g in groups:\n",
    "    group_dict = dict()\n",
    "    group_dict[g['name']] = []\n",
    "    groups_list.append(group_dict)\n",
    "groups_list[89]"
   ]
  },
  {
   "cell_type": "markdown",
   "metadata": {},
   "source": [
    "## Group techniques by group\n",
    "We can then use the output of the `get_techniques_used_by_all_groups()` function and start appending techniques to the dictionaries with the key name that matches the group name being involved with each technique."
   ]
  },
  {
   "cell_type": "code",
   "execution_count": 23,
   "metadata": {},
   "outputs": [
    {
     "data": {
      "text/plain": [
       "{'Lazarus Group': [{'techniqueId': 'T1036.005',\n",
       "   'techniqueName': 'Match Legitimate Name or Location',\n",
       "   'comment': \"[Lazarus Group](https://attack.mitre.org/groups/G0032) has renamed the [TAINTEDSCRIBE](https://attack.mitre.org/software/S0586) main executable to disguise itself as Microsoft's narrator.(Citation: CISA MAR-10288834-2.v1  TAINTEDSCRIBE MAY 2020)\",\n",
       "   'tactic': [KillChainPhase(kill_chain_name='mitre-attack', phase_name='defense-evasion')],\n",
       "   'group_id': 'G0032'},\n",
       "  {'techniqueId': 'T1583.006',\n",
       "   'techniqueName': 'Web Services',\n",
       "   'comment': '[Lazarus Group](https://attack.mitre.org/groups/G0032) has hosted malicious downloads on Github.(Citation: CISA AppleJeus Feb 2021)',\n",
       "   'tactic': [KillChainPhase(kill_chain_name='mitre-attack', phase_name='resource-development')],\n",
       "   'group_id': 'G0032'},\n",
       "  {'techniqueId': 'T1588.004',\n",
       "   'techniqueName': 'Digital Certificates',\n",
       "   'comment': '[Lazarus Group](https://attack.mitre.org/groups/G0032) has obtained SSL certificates for their C2 domains.(Citation: CISA AppleJeus Feb 2021)',\n",
       "   'tactic': [KillChainPhase(kill_chain_name='mitre-attack', phase_name='resource-development')],\n",
       "   'group_id': 'G0032'},\n",
       "  {'techniqueId': 'T1587.001',\n",
       "   'techniqueName': 'Malware',\n",
       "   'comment': '[Lazarus Group](https://attack.mitre.org/groups/G0032) has developed several custom malware for use in operations.(Citation: CISA AppleJeus Feb 2021)',\n",
       "   'tactic': [KillChainPhase(kill_chain_name='mitre-attack', phase_name='resource-development')],\n",
       "   'group_id': 'G0032'},\n",
       "  {'techniqueId': 'T1583.001',\n",
       "   'techniqueName': 'Domains',\n",
       "   'comment': '[Lazarus Group](https://attack.mitre.org/groups/G0032) has acquired infrastructure related to their campaigns to act as distribution points and C2 channels.(Citation: CISA AppleJeus Feb 2021)',\n",
       "   'tactic': [KillChainPhase(kill_chain_name='mitre-attack', phase_name='resource-development')],\n",
       "   'group_id': 'G0032'},\n",
       "  {'techniqueId': 'T1218.005',\n",
       "   'techniqueName': 'Mshta',\n",
       "   'comment': '[Lazarus Group](https://attack.mitre.org/groups/G0032) has used mshta.exe to run malicious scripts and download programs.(Citation: F-Secure Lazarus Cryptocurrency Aug 2020)',\n",
       "   'tactic': [KillChainPhase(kill_chain_name='mitre-attack', phase_name='defense-evasion')],\n",
       "   'group_id': 'G0032'},\n",
       "  {'techniqueId': 'T1059.001',\n",
       "   'techniqueName': 'PowerShell',\n",
       "   'comment': '[Lazarus Group](https://attack.mitre.org/groups/G0032) has used Powershell to download malicious payloads.(Citation: F-Secure Lazarus Cryptocurrency Aug 2020)',\n",
       "   'tactic': [KillChainPhase(kill_chain_name='mitre-attack', phase_name='execution')],\n",
       "   'group_id': 'G0032'},\n",
       "  {'techniqueId': 'T1059.005',\n",
       "   'techniqueName': 'Visual Basic',\n",
       "   'comment': '[Lazarus Group](https://attack.mitre.org/groups/G0032) has used VBScript to gather information about a victim machine. (Citation: F-Secure Lazarus Cryptocurrency Aug 2020)',\n",
       "   'tactic': [KillChainPhase(kill_chain_name='mitre-attack', phase_name='execution')],\n",
       "   'group_id': 'G0032'},\n",
       "  {'techniqueId': 'T1027.002',\n",
       "   'techniqueName': 'Software Packing',\n",
       "   'comment': '[Lazarus Group](https://attack.mitre.org/groups/G0032) has used Themida to pack at least two separate backdoor implants.(Citation: F-Secure Lazarus Cryptocurrency Aug 2020)',\n",
       "   'tactic': [KillChainPhase(kill_chain_name='mitre-attack', phase_name='defense-evasion')],\n",
       "   'group_id': 'G0032'},\n",
       "  {'techniqueId': 'T1036.004',\n",
       "   'techniqueName': 'Masquerade Task or Service',\n",
       "   'comment': 'A [Lazarus Group](https://attack.mitre.org/groups/G0032) custom backdoor implant included a custom PE loader named \"Security Package\" that was added into the lsass.exe process via registry key.(Citation: F-Secure Lazarus Cryptocurrency Aug 2020) ',\n",
       "   'tactic': [KillChainPhase(kill_chain_name='mitre-attack', phase_name='defense-evasion')],\n",
       "   'group_id': 'G0032'},\n",
       "  {'techniqueId': 'T1112',\n",
       "   'techniqueName': 'Modify Registry',\n",
       "   'comment': '[Lazarus Group](https://attack.mitre.org/groups/G0032) has modified registry keys using the reg windows utility for its custom backdoor implants.(Citation: F-Secure Lazarus Cryptocurrency Aug 2020)',\n",
       "   'tactic': [KillChainPhase(kill_chain_name='mitre-attack', phase_name='defense-evasion')],\n",
       "   'group_id': 'G0032'},\n",
       "  {'techniqueId': 'T1547.005',\n",
       "   'techniqueName': 'Security Support Provider',\n",
       "   'comment': '[Lazarus Group](https://attack.mitre.org/groups/G0032) has rebooted victim machines to establish persistence by installing a SSP DLL.(Citation: F-Secure Lazarus Cryptocurrency Aug 2020)',\n",
       "   'tactic': [KillChainPhase(kill_chain_name='mitre-attack', phase_name='persistence'),\n",
       "    KillChainPhase(kill_chain_name='mitre-attack', phase_name='privilege-escalation')],\n",
       "   'group_id': 'G0032'},\n",
       "  {'techniqueId': 'T1566.003',\n",
       "   'techniqueName': 'Spearphishing via Service',\n",
       "   'comment': '[Lazarus Group](https://attack.mitre.org/groups/G0032) has used fake job advertisements sent via LinkedIn to spearphish victims.(Citation: F-Secure Lazarus Cryptocurrency Aug 2020) ',\n",
       "   'tactic': [KillChainPhase(kill_chain_name='mitre-attack', phase_name='initial-access')],\n",
       "   'group_id': 'G0032'},\n",
       "  {'techniqueId': 'T1571',\n",
       "   'techniqueName': 'Non-Standard Port',\n",
       "   'comment': 'Some [Lazarus Group](https://attack.mitre.org/groups/G0032) malware uses a list of ordered port numbers to choose a port for C2 traffic, creating port-protocol mismatches.(Citation: Novetta Blockbuster)(Citation: Novetta Blockbuster RATs)',\n",
       "   'tactic': [KillChainPhase(kill_chain_name='mitre-attack', phase_name='command-and-control')],\n",
       "   'group_id': 'G0032'},\n",
       "  {'techniqueId': 'T1560.003',\n",
       "   'techniqueName': 'Archive via Custom Method',\n",
       "   'comment': 'A [Lazarus Group](https://attack.mitre.org/groups/G0032) malware sample encrypts data using a simple byte based XOR operation prior to exfiltration.(Citation: Novetta Blockbuster)(Citation: Novetta Blockbuster Loaders)(Citation: Novetta Blockbuster RATs)(Citation: McAfee Lazarus Resurfaces Feb 2018)',\n",
       "   'tactic': [KillChainPhase(kill_chain_name='mitre-attack', phase_name='collection')],\n",
       "   'group_id': 'G0032'},\n",
       "  {'techniqueId': 'T1491.001',\n",
       "   'techniqueName': 'Internal Defacement',\n",
       "   'comment': '[Lazarus Group](https://attack.mitre.org/groups/G0032) replaced the background wallpaper of systems with a threatening image after rendering the system unbootable with a [Disk Structure Wipe](https://attack.mitre.org/techniques/T1561/002)(Citation: Kaspersky Lazarus Under The Hood Blog 2017)(Citation: Novetta Blockbuster Destructive Malware)',\n",
       "   'tactic': [KillChainPhase(kill_chain_name='mitre-attack', phase_name='impact')],\n",
       "   'group_id': 'G0032'},\n",
       "  {'techniqueId': 'T1562.004',\n",
       "   'techniqueName': 'Disable or Modify System Firewall',\n",
       "   'comment': 'Various [Lazarus Group](https://attack.mitre.org/groups/G0032) malware modifies the Windows firewall to allow incoming connections or disable it entirely using [netsh](https://attack.mitre.org/software/S0108). (Citation: Novetta Blockbuster)(Citation: Novetta Blockbuster Loaders)(Citation: Novetta Blockbuster Tools)',\n",
       "   'tactic': [KillChainPhase(kill_chain_name='mitre-attack', phase_name='defense-evasion')],\n",
       "   'group_id': 'G0032'},\n",
       "  {'techniqueId': 'T1001.003',\n",
       "   'techniqueName': 'Protocol Impersonation',\n",
       "   'comment': '[Lazarus Group](https://attack.mitre.org/groups/G0032) malware also uses a unique form of communication encryption known as FakeTLS that mimics TLS but uses a different encryption method, evading SSL man-in-the-middle decryption attacks.(Citation: Novetta Blockbuster)(Citation: Novetta Blockbuster Destructive Malware)(Citation: McAfee Lazarus Resurfaces Feb 2018)(Citation: McAfee GhostSecret)',\n",
       "   'tactic': [KillChainPhase(kill_chain_name='mitre-attack', phase_name='command-and-control')],\n",
       "   'group_id': 'G0032'},\n",
       "  {'techniqueId': 'T1059.003',\n",
       "   'techniqueName': 'Windows Command Shell',\n",
       "   'comment': '[Lazarus Group](https://attack.mitre.org/groups/G0032) malware uses cmd.exe to execute commands on victims.(Citation: Novetta Blockbuster)(Citation: Novetta Blockbuster Destructive Malware)(Citation: McAfee Lazarus Resurfaces Feb 2018)(Citation: US-CERT SHARPKNOT June 2018)(Citation: F-Secure Lazarus Cryptocurrency Aug 2020) A Destover-like variant used by [Lazarus Group](https://attack.mitre.org/groups/G0032) uses a batch file mechanism to delete its binaries from the system.(Citation: McAfee GhostSecret)',\n",
       "   'tactic': [KillChainPhase(kill_chain_name='mitre-attack', phase_name='execution')],\n",
       "   'group_id': 'G0032'},\n",
       "  {'techniqueId': 'T1529',\n",
       "   'techniqueName': 'System Shutdown/Reboot',\n",
       "   'comment': '[Lazarus Group](https://attack.mitre.org/groups/G0032) has rebooted systems after destroying files and wiping the MBR on infected systems.(Citation: US-CERT SHARPKNOT June 2018)',\n",
       "   'tactic': [KillChainPhase(kill_chain_name='mitre-attack', phase_name='impact')],\n",
       "   'group_id': 'G0032'},\n",
       "  {'techniqueId': 'T1496',\n",
       "   'techniqueName': 'Resource Hijacking',\n",
       "   'comment': '[Lazarus Group](https://attack.mitre.org/groups/G0032) has subset groups like Bluenoroff who have used cryptocurrency mining software on victim machines.(Citation: Kaspersky Lazarus Under The Hood Blog 2017)',\n",
       "   'tactic': [KillChainPhase(kill_chain_name='mitre-attack', phase_name='impact')],\n",
       "   'group_id': 'G0032'},\n",
       "  {'techniqueId': 'T1485',\n",
       "   'techniqueName': 'Data Destruction',\n",
       "   'comment': '[Lazarus Group](https://attack.mitre.org/groups/G0032) has used a custom secure delete function to overwrite file contents with data from heap memory.(Citation: Novetta Blockbuster)',\n",
       "   'tactic': [KillChainPhase(kill_chain_name='mitre-attack', phase_name='impact')],\n",
       "   'group_id': 'G0032'},\n",
       "  {'techniqueId': 'T1561.001',\n",
       "   'techniqueName': 'Disk Content Wipe',\n",
       "   'comment': '[Lazarus Group](https://attack.mitre.org/groups/G0032) has used malware like WhiskeyAlfa to overwrite the first 64MB of every drive with a mix of static and random buffers. A similar process is then used to wipe content in logical drives and, finally, attempt to wipe every byte of every sector on every drive. WhiskeyBravo can be used to overwrite the first 4.9MB of physical drives. WhiskeyDelta can overwrite the first 132MB or 1.5MB of each drive with random data from heap memory.(Citation: Novetta Blockbuster Destructive Malware)',\n",
       "   'tactic': [KillChainPhase(kill_chain_name='mitre-attack', phase_name='impact')],\n",
       "   'group_id': 'G0032'},\n",
       "  {'techniqueId': 'T1561.002',\n",
       "   'techniqueName': 'Disk Structure Wipe',\n",
       "   'comment': \"[Lazarus Group](https://attack.mitre.org/groups/G0032) malware SHARPKNOT overwrites and deletes the Master Boot Record (MBR) on the victim's machine and has possessed MBR wiper malware since at least 2009.(Citation: US-CERT SHARPKNOT June 2018)(Citation: Novetta Blockbuster)\",\n",
       "   'tactic': [KillChainPhase(kill_chain_name='mitre-attack', phase_name='impact')],\n",
       "   'group_id': 'G0032'},\n",
       "  {'techniqueId': 'T1489',\n",
       "   'techniqueName': 'Service Stop',\n",
       "   'comment': '[Lazarus Group](https://attack.mitre.org/groups/G0032) has stopped the MSExchangeIS service to render Exchange contents inaccessible to users.(Citation: Novetta Blockbuster Destructive Malware)',\n",
       "   'tactic': [KillChainPhase(kill_chain_name='mitre-attack', phase_name='impact')],\n",
       "   'group_id': 'G0032'},\n",
       "  {'techniqueId': 'T1189',\n",
       "   'techniqueName': 'Drive-by Compromise',\n",
       "   'comment': '[Lazarus Group](https://attack.mitre.org/groups/G0032) delivered [RATANKBA](https://attack.mitre.org/software/S0241) to victims via a compromised legitimate website.(Citation: RATANKBA)',\n",
       "   'tactic': [KillChainPhase(kill_chain_name='mitre-attack', phase_name='initial-access')],\n",
       "   'group_id': 'G0032'},\n",
       "  {'techniqueId': 'T1124',\n",
       "   'techniqueName': 'System Time Discovery',\n",
       "   'comment': 'A Destover-like implant used by [Lazarus Group](https://attack.mitre.org/groups/G0032) can obtain the current system time and send it to the C2 server.(Citation: McAfee GhostSecret)',\n",
       "   'tactic': [KillChainPhase(kill_chain_name='mitre-attack', phase_name='discovery')],\n",
       "   'group_id': 'G0032'},\n",
       "  {'techniqueId': 'T1218.001',\n",
       "   'techniqueName': 'Compiled HTML File',\n",
       "   'comment': '[Lazarus Group](https://attack.mitre.org/groups/G0032) has used CHM files to move concealed payloads.(Citation: Kaspersky Lazarus Under The Hood APR 2017)',\n",
       "   'tactic': [KillChainPhase(kill_chain_name='mitre-attack', phase_name='defense-evasion')],\n",
       "   'group_id': 'G0032'},\n",
       "  {'techniqueId': 'T1566.001',\n",
       "   'techniqueName': 'Spearphishing Attachment',\n",
       "   'comment': '[Lazarus Group](https://attack.mitre.org/groups/G0032) has targeted victims with spearphishing emails containing malicious Microsoft Word documents.(Citation: McAfee Bankshot)',\n",
       "   'tactic': [KillChainPhase(kill_chain_name='mitre-attack', phase_name='initial-access')],\n",
       "   'group_id': 'G0032'},\n",
       "  {'techniqueId': 'T1003.001',\n",
       "   'techniqueName': 'LSASS Memory',\n",
       "   'comment': '[Lazarus Group](https://attack.mitre.org/groups/G0032) leveraged [Mimikatz](https://attack.mitre.org/software/S0002) to extract Windows Credentials of currently logged-in users and steals passwords stored in browsers.(Citation: Lazarus KillDisk) [Lazarus Group](https://attack.mitre.org/groups/G0032) has also used a custom version [Mimikatz](https://attack.mitre.org/software/S0002) to capture credentials.(Citation: F-Secure Lazarus Cryptocurrency Aug 2020) ',\n",
       "   'tactic': [KillChainPhase(kill_chain_name='mitre-attack', phase_name='credential-access')],\n",
       "   'group_id': 'G0032'},\n",
       "  {'techniqueId': 'T1203',\n",
       "   'techniqueName': 'Exploitation for Client Execution',\n",
       "   'comment': '[Lazarus Group](https://attack.mitre.org/groups/G0032) has exploited Adobe Flash vulnerability CVE-2018-4878 for execution.(Citation: McAfee Bankshot)',\n",
       "   'tactic': [KillChainPhase(kill_chain_name='mitre-attack', phase_name='execution')],\n",
       "   'group_id': 'G0032'},\n",
       "  {'techniqueId': 'T1204.002',\n",
       "   'techniqueName': 'Malicious File',\n",
       "   'comment': '[Lazarus Group](https://attack.mitre.org/groups/G0032) has attempted to get users to launch a malicious Microsoft Word attachment delivered via a spearphishing email.(Citation: McAfee Bankshot)(Citation: F-Secure Lazarus Cryptocurrency Aug 2020)',\n",
       "   'tactic': [KillChainPhase(kill_chain_name='mitre-attack', phase_name='execution')],\n",
       "   'group_id': 'G0032'},\n",
       "  {'techniqueId': 'T1071.001',\n",
       "   'techniqueName': 'Web Protocols',\n",
       "   'comment': '[Lazarus Group](https://attack.mitre.org/groups/G0032) malware has conducted C2 over HTTP and HTTPS.(Citation: McAfee Lazarus Resurfaces Feb 2018)(Citation: SentinelOne Lazarus macOS July 2020)(Citation: TrendMicro macOS Dacls May 2020)(Citation: F-Secure Lazarus Cryptocurrency Aug 2020)',\n",
       "   'tactic': [KillChainPhase(kill_chain_name='mitre-attack', phase_name='command-and-control')],\n",
       "   'group_id': 'G0032'},\n",
       "  {'techniqueId': 'T1055.001',\n",
       "   'techniqueName': 'Dynamic-link Library Injection',\n",
       "   'comment': 'A [Lazarus Group](https://attack.mitre.org/groups/G0032) malware sample performs reflective DLL injection.(Citation: McAfee Lazarus Resurfaces Feb 2018)',\n",
       "   'tactic': [KillChainPhase(kill_chain_name='mitre-attack', phase_name='defense-evasion'),\n",
       "    KillChainPhase(kill_chain_name='mitre-attack', phase_name='privilege-escalation')],\n",
       "   'group_id': 'G0032'},\n",
       "  {'techniqueId': 'T1564.001',\n",
       "   'techniqueName': 'Hidden Files and Directories',\n",
       "   'comment': '[Lazarus Group](https://attack.mitre.org/groups/G0032) has used a VBA Macro to set its file attributes to System and Hidden and has named files with a dot prefix to hide them from the Finder application.(Citation: McAfee Lazarus Resurfaces Feb 2018)(Citation: SentinelOne Lazarus macOS July 2020)(Citation: TrendMicro macOS Dacls May 2020)',\n",
       "   'tactic': [KillChainPhase(kill_chain_name='mitre-attack', phase_name='defense-evasion')],\n",
       "   'group_id': 'G0032'},\n",
       "  {'techniqueId': 'T1547.009',\n",
       "   'techniqueName': 'Shortcut Modification',\n",
       "   'comment': 'A [Lazarus Group](https://attack.mitre.org/groups/G0032) malware sample adds persistence on the system by creating a shortcut in the user’s Startup folder.(Citation: McAfee Lazarus Resurfaces Feb 2018)',\n",
       "   'tactic': [KillChainPhase(kill_chain_name='mitre-attack', phase_name='persistence'),\n",
       "    KillChainPhase(kill_chain_name='mitre-attack', phase_name='privilege-escalation')],\n",
       "   'group_id': 'G0032'},\n",
       "  {'techniqueId': 'T1132.001',\n",
       "   'techniqueName': 'Standard Encoding',\n",
       "   'comment': 'A [Lazarus Group](https://attack.mitre.org/groups/G0032) malware sample encodes data with base64.(Citation: McAfee Lazarus Resurfaces Feb 2018)',\n",
       "   'tactic': [KillChainPhase(kill_chain_name='mitre-attack', phase_name='command-and-control')],\n",
       "   'group_id': 'G0032'},\n",
       "  {'techniqueId': 'T1090.002',\n",
       "   'techniqueName': 'External Proxy',\n",
       "   'comment': '[Lazarus Group](https://attack.mitre.org/groups/G0032) uses multiple proxies to obfuscate network traffic from victims.(Citation: US-CERT FALLCHILL Nov 2017)(Citation: TrendMicro macOS Dacls May 2020)',\n",
       "   'tactic': [KillChainPhase(kill_chain_name='mitre-attack', phase_name='command-and-control')],\n",
       "   'group_id': 'G0032'},\n",
       "  {'techniqueId': 'T1134.002',\n",
       "   'techniqueName': 'Create Process with Token',\n",
       "   'comment': \"[Lazarus Group](https://attack.mitre.org/groups/G0032) keylogger KiloAlfa obtains user tokens from interactive sessions to execute itself with API call <code>CreateProcessAsUserA</code> under that user's context.(Citation: Novetta Blockbuster)(Citation: Novetta Blockbuster Tools)\",\n",
       "   'tactic': [KillChainPhase(kill_chain_name='mitre-attack', phase_name='defense-evasion'),\n",
       "    KillChainPhase(kill_chain_name='mitre-attack', phase_name='privilege-escalation')],\n",
       "   'group_id': 'G0032'},\n",
       "  {'techniqueId': 'T1033',\n",
       "   'techniqueName': 'System Owner/User Discovery',\n",
       "   'comment': 'Various [Lazarus Group](https://attack.mitre.org/groups/G0032) malware enumerates logged-on users.(Citation: Novetta Blockbuster)(Citation: Novetta Blockbuster Destructive Malware)(Citation: Novetta Blockbuster Loaders)(Citation: Novetta Blockbuster RATs)(Citation: McAfee Lazarus Resurfaces Feb 2018)(Citation: SentinelOne Lazarus macOS July 2020)',\n",
       "   'tactic': [KillChainPhase(kill_chain_name='mitre-attack', phase_name='discovery')],\n",
       "   'group_id': 'G0032'},\n",
       "  {'techniqueId': 'T1065',\n",
       "   'techniqueName': 'Uncommonly Used Port',\n",
       "   'comment': 'Some [Lazarus Group](https://attack.mitre.org/groups/G0032) malware uses a list of ordered port numbers to choose a port for C2 traffic, which includes uncommonly used ports such as 995, 1816, 465, 1521, 3306, and many others.(Citation: Novetta Blockbuster)(Citation: Novetta Blockbuster RATs)',\n",
       "   'tactic': [],\n",
       "   'group_id': 'G0032'},\n",
       "  {'techniqueId': 'T1542.003',\n",
       "   'techniqueName': 'Bootkit',\n",
       "   'comment': '[Lazarus Group](https://attack.mitre.org/groups/G0032) malware WhiskeyAlfa-Three modifies sector 0 of the Master Boot Record (MBR) to ensure that the malware will persist even if a victim machine shuts down.(Citation: Novetta Blockbuster)(Citation: Novetta Blockbuster Destructive Malware)',\n",
       "   'tactic': [KillChainPhase(kill_chain_name='mitre-attack', phase_name='persistence'),\n",
       "    KillChainPhase(kill_chain_name='mitre-attack', phase_name='defense-evasion')],\n",
       "   'group_id': 'G0032'},\n",
       "  {'techniqueId': 'T1047',\n",
       "   'techniqueName': 'Windows Management Instrumentation',\n",
       "   'comment': '[Lazarus Group](https://attack.mitre.org/groups/G0032) malware SierraAlfa uses the Windows Management Instrumentation Command-line application wmic to start itself on a target system during lateral movement.(Citation: Novetta Blockbuster)(Citation: Novetta Blockbuster RATs)',\n",
       "   'tactic': [KillChainPhase(kill_chain_name='mitre-attack', phase_name='execution')],\n",
       "   'group_id': 'G0032'},\n",
       "  {'techniqueId': 'T1021.001',\n",
       "   'techniqueName': 'Remote Desktop Protocol',\n",
       "   'comment': '[Lazarus Group](https://attack.mitre.org/groups/G0032) malware SierraCharlie uses RDP for propagation.(Citation: Novetta Blockbuster)(Citation: Novetta Blockbuster RATs)',\n",
       "   'tactic': [KillChainPhase(kill_chain_name='mitre-attack', phase_name='lateral-movement')],\n",
       "   'group_id': 'G0032'},\n",
       "  {'techniqueId': 'T1048.003',\n",
       "   'techniqueName': 'Exfiltration Over Unencrypted/Obfuscated Non-C2 Protocol',\n",
       "   'comment': '[Lazarus Group](https://attack.mitre.org/groups/G0032) malware SierraBravo-Two generates an email message via SMTP containing information about newly infected victims.(Citation: Novetta Blockbuster)(Citation: Novetta Blockbuster RATs)',\n",
       "   'tactic': [KillChainPhase(kill_chain_name='mitre-attack', phase_name='exfiltration')],\n",
       "   'group_id': 'G0032'},\n",
       "  {'techniqueId': 'T1043',\n",
       "   'techniqueName': 'Commonly Used Port',\n",
       "   'comment': 'Some [Lazarus Group](https://attack.mitre.org/groups/G0032) malware uses a list of ordered port numbers to choose a port for C2 traffic, which includes commonly used ports such as 443, 53, 80, 25, and 8080.(Citation: Novetta Blockbuster)(Citation: Novetta Blockbuster RATs)',\n",
       "   'tactic': [KillChainPhase(kill_chain_name='mitre-attack', phase_name='command-and-control')],\n",
       "   'group_id': 'G0032'},\n",
       "  {'techniqueId': 'T1005',\n",
       "   'techniqueName': 'Data from Local System',\n",
       "   'comment': \"[Lazarus Group](https://attack.mitre.org/groups/G0032) malware IndiaIndia saves information gathered about the victim to a file that is uploaded to one of its 10 C2 servers. [Lazarus Group](https://attack.mitre.org/groups/G0032) malware RomeoDelta copies specified directories from the victim's machine, then archives and encrypts the directories before uploading to its C2 server.(Citation: Novetta Blockbuster)(Citation: Novetta Blockbuster Loaders)(Citation: Novetta Blockbuster RATs) [Lazarus Group](https://attack.mitre.org/groups/G0032) has used wevtutil to export Window security event logs.(Citation: F-Secure Lazarus Cryptocurrency Aug 2020) \",\n",
       "   'tactic': [KillChainPhase(kill_chain_name='mitre-attack', phase_name='collection')],\n",
       "   'group_id': 'G0032'},\n",
       "  {'techniqueId': 'T1110.003',\n",
       "   'techniqueName': 'Password Spraying',\n",
       "   'comment': '[Lazarus Group](https://attack.mitre.org/groups/G0032) malware attempts to connect to Windows shares for lateral movement by using a generated list of usernames, which center around permutations of the username Administrator, and weak passwords.(Citation: Novetta Blockbuster)(Citation: Novetta Blockbuster RATs)',\n",
       "   'tactic': [KillChainPhase(kill_chain_name='mitre-attack', phase_name='credential-access')],\n",
       "   'group_id': 'G0032'},\n",
       "  {'techniqueId': 'T1008',\n",
       "   'techniqueName': 'Fallback Channels',\n",
       "   'comment': '[Lazarus Group](https://attack.mitre.org/groups/G0032) malware SierraAlfa sends data to one of the hard-coded C2 servers chosen at random, and if the transmission fails, chooses a new C2 server to attempt the transmission again.(Citation: Novetta Blockbuster)(Citation: Novetta Blockbuster RATs)',\n",
       "   'tactic': [KillChainPhase(kill_chain_name='mitre-attack', phase_name='command-and-control')],\n",
       "   'group_id': 'G0032'},\n",
       "  {'techniqueId': 'T1021.002',\n",
       "   'techniqueName': 'SMB/Windows Admin Shares',\n",
       "   'comment': '[Lazarus Group](https://attack.mitre.org/groups/G0032) malware SierraAlfa accesses the <code>ADMIN$</code> share via SMB to conduct lateral movement.(Citation: Novetta Blockbuster)(Citation: Novetta Blockbuster RATs)',\n",
       "   'tactic': [KillChainPhase(kill_chain_name='mitre-attack', phase_name='lateral-movement')],\n",
       "   'group_id': 'G0032'},\n",
       "  {'techniqueId': 'T1074.001',\n",
       "   'techniqueName': 'Local Data Staging',\n",
       "   'comment': '[Lazarus Group](https://attack.mitre.org/groups/G0032) malware IndiaIndia saves information gathered about the victim to a file that is saved in the %TEMP% directory, then compressed, encrypted, and uploaded to a C2 server.(Citation: Novetta Blockbuster)(Citation: Novetta Blockbuster Loaders)',\n",
       "   'tactic': [KillChainPhase(kill_chain_name='mitre-attack', phase_name='collection')],\n",
       "   'group_id': 'G0032'},\n",
       "  {'techniqueId': 'T1547.001',\n",
       "   'techniqueName': 'Registry Run Keys / Startup Folder',\n",
       "   'comment': '[Lazarus Group](https://attack.mitre.org/groups/G0032) malware attempts to maintain persistence by saving itself in the Start menu folder or by adding a Registry Run key.(Citation: Novetta Blockbuster)(Citation: Novetta Blockbuster RATs)(Citation: McAfee Lazarus Resurfaces Feb 2018)',\n",
       "   'tactic': [KillChainPhase(kill_chain_name='mitre-attack', phase_name='persistence'),\n",
       "    KillChainPhase(kill_chain_name='mitre-attack', phase_name='privilege-escalation')],\n",
       "   'group_id': 'G0032'},\n",
       "  {'techniqueId': 'T1056.001',\n",
       "   'techniqueName': 'Keylogging',\n",
       "   'comment': '[Lazarus Group](https://attack.mitre.org/groups/G0032) malware KiloAlfa contains keylogging functionality.(Citation: Novetta Blockbuster)(Citation: Novetta Blockbuster Tools)',\n",
       "   'tactic': [KillChainPhase(kill_chain_name='mitre-attack', phase_name='collection'),\n",
       "    KillChainPhase(kill_chain_name='mitre-attack', phase_name='credential-access')],\n",
       "   'group_id': 'G0032'},\n",
       "  {'techniqueId': 'T1560',\n",
       "   'techniqueName': 'Archive Collected Data',\n",
       "   'comment': '[Lazarus Group](https://attack.mitre.org/groups/G0032) malware RomeoDelta archives specified directories in .zip format, encrypts the .zip file, and uploads it to its C2 server. (Citation: Novetta Blockbuster Loaders)(Citation: Novetta Blockbuster RATs)(Citation: McAfee Lazarus Resurfaces Feb 2018)',\n",
       "   'tactic': [KillChainPhase(kill_chain_name='mitre-attack', phase_name='collection')],\n",
       "   'group_id': 'G0032'},\n",
       "  {'techniqueId': 'T1041',\n",
       "   'techniqueName': 'Exfiltration Over C2 Channel',\n",
       "   'comment': '[Lazarus Group](https://attack.mitre.org/groups/G0032) malware IndiaIndia saves information gathered about the victim to a file that is uploaded to one of its 10 C2 servers. Another [Lazarus Group](https://attack.mitre.org/groups/G0032) malware sample also performs exfiltration over the C2 channel.(Citation: Novetta Blockbuster)(Citation: Novetta Blockbuster Loaders)(Citation: McAfee Lazarus Resurfaces Feb 2018)',\n",
       "   'tactic': [KillChainPhase(kill_chain_name='mitre-attack', phase_name='exfiltration')],\n",
       "   'group_id': 'G0032'},\n",
       "  {'techniqueId': 'T1026',\n",
       "   'techniqueName': 'Multiband Communication',\n",
       "   'comment': 'Some [Lazarus Group](https://attack.mitre.org/groups/G0032) malware uses multiple channels for C2, such as RomeoWhiskey-Two, which consists of a RAT channel that parses data in datagram form and a Proxy channel that forms virtual point-to-point sessions.(Citation: Novetta Blockbuster)(Citation: Novetta Blockbuster RATs)',\n",
       "   'tactic': [KillChainPhase(kill_chain_name='mitre-attack', phase_name='command-and-control')],\n",
       "   'group_id': 'G0032'},\n",
       "  {'techniqueId': 'T1562.001',\n",
       "   'techniqueName': 'Disable or Modify Tools',\n",
       "   'comment': '[Lazarus Group](https://attack.mitre.org/groups/G0032) malware TangoDelta attempts to terminate various processes associated with McAfee. Additionally, [Lazarus Group](https://attack.mitre.org/groups/G0032) malware SHARPKNOT disables the Microsoft Windows System Event Notification and Alerter services.(Citation: Novetta Blockbuster)(Citation: Novetta Blockbuster Loaders)(Citation: Novetta Blockbuster Tools)(Citation: US-CERT SHARPKNOT June 2018). During a 2019 intrusion, [Lazarus Group](https://attack.mitre.org/groups/G0032) disabled Windows Defender and Credential Guard as some of their first actions on host.(Citation: F-Secure Lazarus Cryptocurrency Aug 2020) ',\n",
       "   'tactic': [KillChainPhase(kill_chain_name='mitre-attack', phase_name='defense-evasion')],\n",
       "   'group_id': 'G0032'},\n",
       "  {'techniqueId': 'T1016',\n",
       "   'techniqueName': 'System Network Configuration Discovery',\n",
       "   'comment': '[Lazarus Group](https://attack.mitre.org/groups/G0032) malware IndiaIndia obtains and sends to its C2 server information about the first network interface card’s configuration, including IP address, gateways, subnet mask, DHCP information, and whether WINS is available.(Citation: Novetta Blockbuster)(Citation: Novetta Blockbuster Loaders)',\n",
       "   'tactic': [KillChainPhase(kill_chain_name='mitre-attack', phase_name='discovery')],\n",
       "   'group_id': 'G0032'},\n",
       "  {'techniqueId': 'T1010',\n",
       "   'techniqueName': 'Application Window Discovery',\n",
       "   'comment': '[Lazarus Group](https://attack.mitre.org/groups/G0032) malware IndiaIndia obtains and sends to its C2 server the title of the window for each running process. The KilaAlfa keylogger also reports the title of the window in the foreground.(Citation: Novetta Blockbuster)(Citation: Novetta Blockbuster Loaders)(Citation: Novetta Blockbuster Tools)',\n",
       "   'tactic': [KillChainPhase(kill_chain_name='mitre-attack', phase_name='discovery')],\n",
       "   'group_id': 'G0032'},\n",
       "  {'techniqueId': 'T1057',\n",
       "   'techniqueName': 'Process Discovery',\n",
       "   'comment': 'Several [Lazarus Group](https://attack.mitre.org/groups/G0032) malware families gather a list of running processes on a victim system and send it to their C2 server. A Destover-like variant used by [Lazarus Group](https://attack.mitre.org/groups/G0032) also gathers process times.(Citation: Novetta Blockbuster)(Citation: Novetta Blockbuster Loaders)(Citation: McAfee Lazarus Resurfaces Feb 2018)(Citation: McAfee GhostSecret)(Citation: TrendMicro macOS Dacls May 2020)',\n",
       "   'tactic': [KillChainPhase(kill_chain_name='mitre-attack', phase_name='discovery')],\n",
       "   'group_id': 'G0032'},\n",
       "  {'techniqueId': 'T1012',\n",
       "   'techniqueName': 'Query Registry',\n",
       "   'comment': '[Lazarus Group](https://attack.mitre.org/groups/G0032) malware IndiaIndia checks Registry keys within HKCU and HKLM to determine if certain applications are present, including SecureCRT, Terminal Services, RealVNC, TightVNC, UltraVNC, Radmin, mRemote, TeamViewer, FileZilla, pcAnyware, and Remote Desktop. Another [Lazarus Group](https://attack.mitre.org/groups/G0032) malware sample checks for the presence of the following Registry key:<code>HKEY_CURRENT_USER\\\\Software\\\\Bitcoin\\\\Bitcoin-Qt</code>.(Citation: Novetta Blockbuster)(Citation: Novetta Blockbuster Loaders)(Citation: McAfee Lazarus Resurfaces Feb 2018)',\n",
       "   'tactic': [KillChainPhase(kill_chain_name='mitre-attack', phase_name='discovery')],\n",
       "   'group_id': 'G0032'},\n",
       "  {'techniqueId': 'T1560.002',\n",
       "   'techniqueName': 'Archive via Library',\n",
       "   'comment': '[Lazarus Group](https://attack.mitre.org/groups/G0032) malware IndiaIndia saves information gathered about the victim to a file that is compressed with Zlib, encrypted, and uploaded to a C2 server.(Citation: Novetta Blockbuster RATs)(Citation: McAfee Lazarus Resurfaces Feb 2018)',\n",
       "   'tactic': [KillChainPhase(kill_chain_name='mitre-attack', phase_name='collection')],\n",
       "   'group_id': 'G0032'},\n",
       "  {'techniqueId': 'T1105',\n",
       "   'techniqueName': 'Ingress Tool Transfer',\n",
       "   'comment': 'Several [Lazarus Group](https://attack.mitre.org/groups/G0032) malware families are capable of downloading and executing binaries from its C2 server.(Citation: Novetta Blockbuster)(Citation: Novetta Blockbuster Destructive Malware)(Citation: Novetta Blockbuster Loaders)(Citation: SentinelOne Lazarus macOS July 2020)(Citation: TrendMicro macOS Dacls May 2020)',\n",
       "   'tactic': [KillChainPhase(kill_chain_name='mitre-attack', phase_name='command-and-control')],\n",
       "   'group_id': 'G0032'},\n",
       "  {'techniqueId': 'T1083',\n",
       "   'techniqueName': 'File and Directory Discovery',\n",
       "   'comment': 'Several [Lazarus Group](https://attack.mitre.org/groups/G0032) malware samples use a common function to identify target files by their extension. [Lazarus Group](https://attack.mitre.org/groups/G0032) malware families can also enumerate files and directories, including a Destover-like variant that lists files and gathers information for all drives.(Citation: Novetta Blockbuster)(Citation: McAfee GhostSecret)',\n",
       "   'tactic': [KillChainPhase(kill_chain_name='mitre-attack', phase_name='discovery')],\n",
       "   'group_id': 'G0032'},\n",
       "  {'techniqueId': 'T1573.001',\n",
       "   'techniqueName': 'Symmetric Cryptography',\n",
       "   'comment': 'Several [Lazarus Group](https://attack.mitre.org/groups/G0032) malware families encrypt C2 traffic using custom code that uses XOR with an ADD operation and XOR with a SUB operation. Another [Lazarus Group](https://attack.mitre.org/groups/G0032) malware sample XORs C2 traffic. Other [Lazarus Group](https://attack.mitre.org/groups/G0032) malware uses Caracachs encryption to encrypt C2 payloads.(Citation: Novetta Blockbuster)(Citation: Novetta Blockbuster Destructive Malware)(Citation: McAfee Lazarus Resurfaces Feb 2018)(Citation: McAfee GhostSecret)',\n",
       "   'tactic': [KillChainPhase(kill_chain_name='mitre-attack', phase_name='command-and-control')],\n",
       "   'group_id': 'G0032'},\n",
       "  {'techniqueId': 'T1070.004',\n",
       "   'techniqueName': 'File Deletion',\n",
       "   'comment': '[Lazarus Group](https://attack.mitre.org/groups/G0032) malware deletes files in various ways, including \"suicide scripts\" to delete malware binaries from the victim. [Lazarus Group](https://attack.mitre.org/groups/G0032) also uses secure file deletion to delete files from the victim.(Citation: Novetta Blockbuster)(Citation: McAfee GhostSecret)(Citation: F-Secure Lazarus Cryptocurrency Aug 2020) ',\n",
       "   'tactic': [KillChainPhase(kill_chain_name='mitre-attack', phase_name='defense-evasion')],\n",
       "   'group_id': 'G0032'},\n",
       "  {'techniqueId': 'T1098',\n",
       "   'techniqueName': 'Account Manipulation',\n",
       "   'comment': '[Lazarus Group](https://attack.mitre.org/groups/G0032) malware WhiskeyDelta-Two contains a function that attempts to rename the administrator’s account.(Citation: Novetta Blockbuster)(Citation: Novetta Blockbuster Destructive Malware)',\n",
       "   'tactic': [KillChainPhase(kill_chain_name='mitre-attack', phase_name='persistence')],\n",
       "   'group_id': 'G0032'},\n",
       "  {'techniqueId': 'T1543.003',\n",
       "   'techniqueName': 'Windows Service',\n",
       "   'comment': 'Several [Lazarus Group](https://attack.mitre.org/groups/G0032) malware families install themselves as new services on victims.(Citation: Novetta Blockbuster)(Citation: Novetta Blockbuster Destructive Malware)',\n",
       "   'tactic': [KillChainPhase(kill_chain_name='mitre-attack', phase_name='persistence'),\n",
       "    KillChainPhase(kill_chain_name='mitre-attack', phase_name='privilege-escalation')],\n",
       "   'group_id': 'G0032'},\n",
       "  {'techniqueId': 'T1082',\n",
       "   'techniqueName': 'System Information Discovery',\n",
       "   'comment': 'Several [Lazarus Group](https://attack.mitre.org/groups/G0032) malware families collect information on the type and version of the victim OS, as well as the victim computer name and CPU information. A Destover-like variant used by [Lazarus Group](https://attack.mitre.org/groups/G0032) also collects disk space information and sends it to its C2 server.(Citation: Novetta Blockbuster)(Citation: Novetta Blockbuster Destructive Malware)(Citation: Novetta Blockbuster Loaders)(Citation: McAfee Lazarus Resurfaces Feb 2018)(Citation: McAfee GhostSecret).',\n",
       "   'tactic': [KillChainPhase(kill_chain_name='mitre-attack', phase_name='discovery')],\n",
       "   'group_id': 'G0032'},\n",
       "  {'techniqueId': 'T1070.006',\n",
       "   'techniqueName': 'Timestomp',\n",
       "   'comment': 'Several [Lazarus Group](https://attack.mitre.org/groups/G0032) malware families use timestomping, including modifying the last write timestamp of a specified Registry key to a random date, as well as copying the timestamp for legitimate .exe files (such as calc.exe or mspaint.exe) to its dropped files.(Citation: Novetta Blockbuster)(Citation: Novetta Blockbuster Destructive Malware)(Citation: Novetta Blockbuster Loaders)(Citation: McAfee GhostSecret)',\n",
       "   'tactic': [KillChainPhase(kill_chain_name='mitre-attack', phase_name='defense-evasion')],\n",
       "   'group_id': 'G0032'},\n",
       "  {'techniqueId': 'T1027',\n",
       "   'techniqueName': 'Obfuscated Files or Information',\n",
       "   'comment': '[Lazarus Group](https://attack.mitre.org/groups/G0032) malware uses multiple types of encryption and encoding in its malware files, including AES, Caracachs, RC4, basic XOR with constant 0xA7, and other techniques.(Citation: Novetta Blockbuster)(Citation: Novetta Blockbuster Loaders)(Citation: Novetta Blockbuster RATs)(Citation: McAfee Lazarus Resurfaces Feb 2018)(Citation: TrendMicro macOS Dacls May 2020)',\n",
       "   'tactic': [KillChainPhase(kill_chain_name='mitre-attack', phase_name='defense-evasion')],\n",
       "   'group_id': 'G0032'},\n",
       "  {'techniqueId': 'T0865',\n",
       "   'techniqueName': 'Spearphishing Attachment',\n",
       "   'comment': '[Lazarus Group](https://collaborate.mitre.org/attackics/index.php/Group/G0008) has been observed targeting organizations using spearphishing documents with embedded malicious payloads.(Citation: Novetta Blockbuster) Highly targeted spear phishing campaigns have been conducted against a U.S. electric grid company.(Citation: Dragos Mar 2018)',\n",
       "   'tactic': [KillChainPhase(kill_chain_name='mitre-ics-attack', phase_name='initial-access-ics')],\n",
       "   'group_id': 'G0032'}]}"
      ]
     },
     "execution_count": 23,
     "metadata": {},
     "output_type": "execute_result"
    }
   ],
   "source": [
    "for group in groups_list:\n",
    "    for group_name,techniques_list in group.items():\n",
    "        for gut in techniques_used:\n",
    "            if group_name == gut['name']:\n",
    "                technique_dict = dict()\n",
    "                technique_dict['techniqueId'] = gut['technique_id']\n",
    "                technique_dict['techniqueName'] = gut['technique']\n",
    "                technique_dict['comment'] = gut['relationship_description']\n",
    "                technique_dict['tactic'] = gut['tactic']\n",
    "                technique_dict['group_id'] = gut['external_references'][0]['external_id']\n",
    "                techniques_list.append(technique_dict)\n",
    "groups_list[89]"
   ]
  },
  {
   "cell_type": "markdown",
   "metadata": {},
   "source": [
    "## Run dynamic navigator layer template"
   ]
  },
  {
   "cell_type": "code",
   "execution_count": 24,
   "metadata": {},
   "outputs": [],
   "source": [
    "import json\n",
    "for group in groups_list:\n",
    "    for k,v in group.items():\n",
    "        if v:\n",
    "            actor_layer = {\n",
    "                \"description\": (\"Enterprise techniques used by {0}, ATT&CK group {1} v1.0\".format(k,v[0]['group_id'])),\n",
    "                \"name\": (\"{0} ({1})\".format(k,v[0]['group_id'])),\n",
    "                \"domain\": \"mitre-enterprise\",\n",
    "                \"version\": \"2.2\",\n",
    "                \"techniques\": [\n",
    "                    {\n",
    "                        \"score\": 1,\n",
    "                        \"techniqueID\" : technique['techniqueId'],\n",
    "                        \"techniqueName\" : technique['techniqueName'],\n",
    "                        \"comment\": technique['comment']\n",
    "                    } for technique in v\n",
    "                ],\n",
    "                \"gradient\": {\n",
    "                    \"colors\": [\n",
    "                        \"#ffffff\",\n",
    "                        \"#ff6666\"\n",
    "                    ],\n",
    "                    \"minValue\": 0,\n",
    "                    \"maxValue\": 1\n",
    "                },\n",
    "                \"legendItems\": [\n",
    "                    {\n",
    "                        \"label\": (\"used by {}\".format(k)),\n",
    "                        \"color\": \"#ff6666\"\n",
    "                    }\n",
    "                ]\n",
    "            }\n",
    "            with open(('{0}_{1}.json'.format(k,v[0]['group_id'])), 'w') as f:\n",
    "                f.write(json.dumps(actor_layer))"
   ]
  },
  {
   "cell_type": "code",
   "execution_count": 25,
   "metadata": {},
   "outputs": [
    {
     "name": "stdout",
     "output_type": "stream",
     "text": [
      "ALLANITE_G1000.json           Indrik Spider_G0119.json\r\n",
      "APT-C-36_G0099.json           Ke3chang_G0004.json\r\n",
      "APT12_G0005.json              Kimsuky_G0094.json\r\n",
      "APT16_G0023.json              Lazarus Group_G0032.json\r\n",
      "APT17_G0025.json              Leafminer_G0077.json\r\n",
      "APT18_G0026.json              Leviathan_G0065.json\r\n",
      "APT19_G0073.json              Machete_G0095.json\r\n",
      "APT1_G0006.json               Magic Hound_G0059.json\r\n",
      "APT28_G0007.json              Moafee_G0002.json\r\n",
      "APT29_G0016.json              Mofang_G0103.json\r\n",
      "APT30_G0013.json              Molerats_G0021.json\r\n",
      "APT32_G0050.json              MuddyWater_G0069.json\r\n",
      "APT33_G0064.json              Mustang Panda_G0129.json\r\n",
      "APT37_G0067.json              Naikon_G0019.json\r\n",
      "APT38_G0082.json              Night Dragon_G0014.json\r\n",
      "APT39_G0087.json              OilRig_G0049.json\r\n",
      "APT3_G0022.json               Operation Wocao_G0116.json\r\n",
      "APT41_G0096.json              Orangeworm_G0071.json\r\n",
      "Ajax Security Team_G0130.json PLATINUM_G0068.json\r\n",
      "Axiom_G0001.json              PROMETHIUM_G0056.json\r\n",
      "BRONZE BUTLER_G0060.json      Patchwork_G0040.json\r\n",
      "BlackOasis_G0063.json         PittyTiger_G0011.json\r\n",
      "BlackTech_G0098.json          Poseidon Group_G0033.json\r\n",
      "Blue Mockingbird_G0108.json   Putter Panda_G0024.json\r\n",
      "Bouncing Golf_G0097.json      RTM_G0048.json\r\n",
      "Carbanak_G0008.json           Rancor_G0075.json\r\n",
      "Chimera_G0114.json            Rocke_G0106.json\r\n",
      "Cleaver_G0003.json            Sandworm Team_G0034.json\r\n",
      "Cobalt Group_G0080.json       Scarlet Mimic_G0029.json\r\n",
      "CopyKittens_G0052.json        Sharpshooter_G0104.json\r\n",
      "Dark Caracal_G0070.json       Sidewinder_G0121.json\r\n",
      "DarkHydrus_G0079.json         Silence_G0091.json\r\n",
      "DarkVishnya_G0105.json        Silent Librarian_G0122.json\r\n",
      "Darkhotel_G0012.json          SilverTerrier_G0083.json\r\n",
      "Deep Panda_G0009.json         Sowbug_G0054.json\r\n",
      "Dragonfly 2.0_G0074.json      Stealth Falcon_G0038.json\r\n",
      "Dragonfly_G0035.json          Stolen Pencil_G0086.json\r\n",
      "Dust Storm_G0031.json         Strider_G0041.json\r\n",
      "Elderwood_G0066.json          Suckfly_G0039.json\r\n",
      "Equation_G0020.json           TA459_G0062.json\r\n",
      "Evilnum_G0120.json            TA505_G0092.json\r\n",
      "FIN10_G0051.json              TA551_G0127.json\r\n",
      "FIN4_G0085.json               TEMP.Veles_G0088.json\r\n",
      "FIN5_G0053.json               Taidoor_G0015.json\r\n",
      "FIN6_G0037.json               The White Company_G0089.json\r\n",
      "FIN7_G0046.json               Threat Group-1314_G0028.json\r\n",
      "FIN8_G0061.json               Threat Group-3390_G0027.json\r\n",
      "Fox Kitten_G0117.json         Thrip_G0076.json\r\n",
      "Frankenstein_G0101.json       Tropic Trooper_G0081.json\r\n",
      "GALLIUM_G0093.json            Turla_G0010.json\r\n",
      "GCMAN_G0036.json              Volatile Cedar_G0123.json\r\n",
      "GOLD SOUTHFIELD_G0115.json    WIRTE_G0090.json\r\n",
      "Gallmaker_G0084.json          Whitefly_G0107.json\r\n",
      "Gamaredon Group_G0047.json    Windigo_G0124.json\r\n",
      "Gorgon Group_G0078.json       Windshift_G0112.json\r\n",
      "Group5_G0043.json             Winnti Group_G0044.json\r\n",
      "HAFNIUM_G0125.json            Wizard Spider_G0102.json\r\n",
      "HEXANE_G1001.json             ZIRCONIUM_G0128.json\r\n",
      "Higaisa_G0126.json            admin@338_G0018.json\r\n",
      "Honeybee_G0072.json           menuPass_G0045.json\r\n",
      "Inception_G0100.json\r\n"
     ]
    }
   ],
   "source": [
    "! ls *.json"
   ]
  },
  {
   "cell_type": "markdown",
   "metadata": {},
   "source": [
    "We can delete all the files with the following command."
   ]
  },
  {
   "cell_type": "code",
   "execution_count": 26,
   "metadata": {},
   "outputs": [],
   "source": [
    "! rm *.json"
   ]
  },
  {
   "cell_type": "markdown",
   "metadata": {},
   "source": [
    "# Create Navigator Group Layer Files - (Automatic)\n",
    "-----------------------"
   ]
  },
  {
   "cell_type": "code",
   "execution_count": 27,
   "metadata": {},
   "outputs": [
    {
     "name": "stdout",
     "output_type": "stream",
     "text": [
      "CPU times: user 8.02 s, sys: 215 ms, total: 8.23 s\n",
      "Wall time: 12.8 s\n"
     ]
    }
   ],
   "source": [
    "from attackcti import attack_client\n",
    "lift = attack_client()\n",
    "\n",
    "%time lift.export_groups_navigator_layers()"
   ]
  },
  {
   "cell_type": "code",
   "execution_count": 28,
   "metadata": {},
   "outputs": [
    {
     "name": "stdout",
     "output_type": "stream",
     "text": [
      "ALLANITE_G1000.json           Indrik Spider_G0119.json\r\n",
      "APT-C-36_G0099.json           Ke3chang_G0004.json\r\n",
      "APT12_G0005.json              Kimsuky_G0094.json\r\n",
      "APT16_G0023.json              Lazarus Group_G0032.json\r\n",
      "APT17_G0025.json              Leafminer_G0077.json\r\n",
      "APT18_G0026.json              Leviathan_G0065.json\r\n",
      "APT19_G0073.json              Machete_G0095.json\r\n",
      "APT1_G0006.json               Magic Hound_G0059.json\r\n",
      "APT28_G0007.json              Moafee_G0002.json\r\n",
      "APT29_G0016.json              Mofang_G0103.json\r\n",
      "APT30_G0013.json              Molerats_G0021.json\r\n",
      "APT32_G0050.json              MuddyWater_G0069.json\r\n",
      "APT33_G0064.json              Mustang Panda_G0129.json\r\n",
      "APT37_G0067.json              Naikon_G0019.json\r\n",
      "APT38_G0082.json              Night Dragon_G0014.json\r\n",
      "APT39_G0087.json              OilRig_G0049.json\r\n",
      "APT3_G0022.json               Operation Wocao_G0116.json\r\n",
      "APT41_G0096.json              Orangeworm_G0071.json\r\n",
      "Ajax Security Team_G0130.json PLATINUM_G0068.json\r\n",
      "Axiom_G0001.json              PROMETHIUM_G0056.json\r\n",
      "BRONZE BUTLER_G0060.json      Patchwork_G0040.json\r\n",
      "BlackOasis_G0063.json         PittyTiger_G0011.json\r\n",
      "BlackTech_G0098.json          Poseidon Group_G0033.json\r\n",
      "Blue Mockingbird_G0108.json   Putter Panda_G0024.json\r\n",
      "Bouncing Golf_G0097.json      RTM_G0048.json\r\n",
      "Carbanak_G0008.json           Rancor_G0075.json\r\n",
      "Chimera_G0114.json            Rocke_G0106.json\r\n",
      "Cleaver_G0003.json            Sandworm Team_G0034.json\r\n",
      "Cobalt Group_G0080.json       Scarlet Mimic_G0029.json\r\n",
      "CopyKittens_G0052.json        Sharpshooter_G0104.json\r\n",
      "Dark Caracal_G0070.json       Sidewinder_G0121.json\r\n",
      "DarkHydrus_G0079.json         Silence_G0091.json\r\n",
      "DarkVishnya_G0105.json        Silent Librarian_G0122.json\r\n",
      "Darkhotel_G0012.json          SilverTerrier_G0083.json\r\n",
      "Deep Panda_G0009.json         Sowbug_G0054.json\r\n",
      "Dragonfly 2.0_G0074.json      Stealth Falcon_G0038.json\r\n",
      "Dragonfly_G0035.json          Stolen Pencil_G0086.json\r\n",
      "Dust Storm_G0031.json         Strider_G0041.json\r\n",
      "Elderwood_G0066.json          Suckfly_G0039.json\r\n",
      "Equation_G0020.json           TA459_G0062.json\r\n",
      "Evilnum_G0120.json            TA505_G0092.json\r\n",
      "FIN10_G0051.json              TA551_G0127.json\r\n",
      "FIN4_G0085.json               TEMP.Veles_G0088.json\r\n",
      "FIN5_G0053.json               Taidoor_G0015.json\r\n",
      "FIN6_G0037.json               The White Company_G0089.json\r\n",
      "FIN7_G0046.json               Threat Group-1314_G0028.json\r\n",
      "FIN8_G0061.json               Threat Group-3390_G0027.json\r\n",
      "Fox Kitten_G0117.json         Thrip_G0076.json\r\n",
      "Frankenstein_G0101.json       Tropic Trooper_G0081.json\r\n",
      "GALLIUM_G0093.json            Turla_G0010.json\r\n",
      "GCMAN_G0036.json              Volatile Cedar_G0123.json\r\n",
      "GOLD SOUTHFIELD_G0115.json    WIRTE_G0090.json\r\n",
      "Gallmaker_G0084.json          Whitefly_G0107.json\r\n",
      "Gamaredon Group_G0047.json    Windigo_G0124.json\r\n",
      "Gorgon Group_G0078.json       Windshift_G0112.json\r\n",
      "Group5_G0043.json             Winnti Group_G0044.json\r\n",
      "HAFNIUM_G0125.json            Wizard Spider_G0102.json\r\n",
      "HEXANE_G1001.json             ZIRCONIUM_G0128.json\r\n",
      "Higaisa_G0126.json            admin@338_G0018.json\r\n",
      "Honeybee_G0072.json           menuPass_G0045.json\r\n",
      "Inception_G0100.json\r\n"
     ]
    }
   ],
   "source": [
    "! ls *.json"
   ]
  },
  {
   "cell_type": "markdown",
   "metadata": {},
   "source": [
    "We can delete all the files with the following command."
   ]
  },
  {
   "cell_type": "code",
   "execution_count": 29,
   "metadata": {},
   "outputs": [],
   "source": [
    "! rm *.json"
   ]
  },
  {
   "cell_type": "code",
   "execution_count": null,
   "metadata": {},
   "outputs": [],
   "source": []
  }
 ],
 "metadata": {
  "kernelspec": {
   "display_name": "Python 3",
   "language": "python",
   "name": "python3"
  },
  "language_info": {
   "codemirror_mode": {
    "name": "ipython",
    "version": 3
   },
   "file_extension": ".py",
   "mimetype": "text/x-python",
   "name": "python",
   "nbconvert_exporter": "python",
   "pygments_lexer": "ipython3",
   "version": "3.8.8"
  }
 },
 "nbformat": 4,
 "nbformat_minor": 4
}
