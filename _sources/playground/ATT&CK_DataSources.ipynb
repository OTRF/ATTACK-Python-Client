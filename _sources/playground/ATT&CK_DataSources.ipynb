{
 "cells": [
  {
   "cell_type": "markdown",
   "metadata": {},
   "source": [
    "# Explore ATT&CK Data Sources\n",
    "------------------"
   ]
  },
  {
   "cell_type": "markdown",
   "metadata": {},
   "source": [
    "## Goals:\n",
    "* Access ATT&CK data sources in STIX format via a public TAXII server\n",
    "* Learn to interact with ATT&CK data all at once\n",
    "* Explore and idenfity patterns in the data retrieved\n",
    "* Learn more about ATT&CK data sources"
   ]
  },
  {
   "cell_type": "markdown",
   "metadata": {},
   "source": [
    "## 1. ATT&CK Python Client Installation"
   ]
  },
  {
   "cell_type": "markdown",
   "metadata": {},
   "source": [
    "You can install it via PIP: **pip install attackcti**"
   ]
  },
  {
   "cell_type": "markdown",
   "metadata": {},
   "source": [
    "## 2. Import ATT&CK API Client"
   ]
  },
  {
   "cell_type": "code",
   "execution_count": 1,
   "metadata": {},
   "outputs": [],
   "source": [
    "from attackcti import attack_client"
   ]
  },
  {
   "cell_type": "markdown",
   "metadata": {},
   "source": [
    "## 3. Import Extra Libraries"
   ]
  },
  {
   "cell_type": "code",
   "execution_count": 2,
   "metadata": {},
   "outputs": [],
   "source": [
    "from pandas import *\n",
    "import numpy as np\n",
    "\n",
    "import altair as alt\n",
    "alt.renderers.enable('default')\n",
    "\n",
    "import itertools"
   ]
  },
  {
   "cell_type": "markdown",
   "metadata": {},
   "source": [
    "## 4. Initialize ATT&CK Client Class"
   ]
  },
  {
   "cell_type": "code",
   "execution_count": 3,
   "metadata": {},
   "outputs": [],
   "source": [
    "lift = attack_client()"
   ]
  },
  {
   "cell_type": "markdown",
   "metadata": {},
   "source": [
    "## 5. Getting Information About Techniques"
   ]
  },
  {
   "cell_type": "markdown",
   "metadata": {},
   "source": [
    "Getting ALL ATT&CK Techniques"
   ]
  },
  {
   "cell_type": "code",
   "execution_count": 4,
   "metadata": {},
   "outputs": [],
   "source": [
    "all_techniques = lift.get_techniques(stix_format=False)"
   ]
  },
  {
   "cell_type": "markdown",
   "metadata": {},
   "source": [
    "Showing the first technique in our list"
   ]
  },
  {
   "cell_type": "code",
   "execution_count": 5,
   "metadata": {},
   "outputs": [
    {
     "data": {
      "text/plain": [
       "{'external_references': [{'source_name': 'mitre-attack',\n",
       "   'external_id': 'T1553.006',\n",
       "   'url': 'https://attack.mitre.org/techniques/T1553/006'},\n",
       "  {'source_name': 'Microsoft DSE June 2017',\n",
       "   'url': 'https://docs.microsoft.com/en-us/previous-versions/windows/hardware/design/dn653559(v=vs.85)?redirectedfrom=MSDN',\n",
       "   'description': 'Microsoft. (2017, June 1). Digital Signatures for Kernel Modules on Windows. Retrieved April 22, 2021.'},\n",
       "  {'source_name': 'Apple Disable SIP',\n",
       "   'url': 'https://developer.apple.com/documentation/security/disabling_and_enabling_system_integrity_protection',\n",
       "   'description': 'Apple. (n.d.). Disabling and Enabling System Integrity Protection. Retrieved April 22, 2021.'},\n",
       "  {'source_name': 'Microsoft Unsigned Driver Apr 2017',\n",
       "   'url': 'https://docs.microsoft.com/en-us/windows-hardware/drivers/install/installing-an-unsigned-driver-during-development-and-test',\n",
       "   'description': 'Microsoft. (2017, April 20). Installing an Unsigned Driver during Development and Test. Retrieved April 22, 2021.'},\n",
       "  {'source_name': 'Microsoft TESTSIGNING Feb 2021',\n",
       "   'url': 'https://docs.microsoft.com/en-us/windows-hardware/drivers/install/the-testsigning-boot-configuration-option',\n",
       "   'description': 'Microsoft. (2021, February 15). Enable Loading of Test Signed Drivers. Retrieved April 22, 2021.'},\n",
       "  {'source_name': 'FireEye HIKIT Rootkit Part 2',\n",
       "   'url': 'https://www.fireeye.com/blog/threat-research/2012/08/hikit-rootkit-advanced-persistent-attack-techniques-part-2.html',\n",
       "   'description': 'Glyer, C., Kazanciyan, R. (2012, August 22). The “Hikit” Rootkit: Advanced and Persistent Attack Techniques (Part 2). Retrieved May 4, 2020.'},\n",
       "  {'source_name': 'GitHub Turla Driver Loader',\n",
       "   'url': 'https://github.com/hfiref0x/TDL',\n",
       "   'description': 'TDL Project. (2016, February 4). TDL (Turla Driver Loader). Retrieved April 22, 2021.'},\n",
       "  {'url': 'https://blog-assets.f-secure.com/wp-content/uploads/2019/10/15163408/BlackEnergy_Quedagh.pdf',\n",
       "   'description': 'F-Secure Labs. (2014). BlackEnergy & Quedagh: The convergence of crimeware and APT attacks. Retrieved March 24, 2016.',\n",
       "   'source_name': 'F-Secure BlackEnergy 2014'},\n",
       "  {'source_name': 'Unit42 AcidBox June 2020',\n",
       "   'url': 'https://unit42.paloaltonetworks.com/acidbox-rare-malware/',\n",
       "   'description': 'Reichel, D. and Idrizovic, E. (2020, June 17). AcidBox: Rare Malware Repurposing Turla Group Exploit Targeted Russian Organizations. Retrieved March 16, 2021.'}],\n",
       " 'kill_chain_phases': [{'kill_chain_name': 'mitre-attack',\n",
       "   'phase_name': 'defense-evasion'}],\n",
       " 'x_mitre_version': '1.0',\n",
       " 'x_mitre_is_subtechnique': True,\n",
       " 'url': 'https://attack.mitre.org/techniques/T1553/006',\n",
       " 'matrix': 'mitre-attack',\n",
       " 'technique_id': 'T1553.006',\n",
       " 'object_marking_refs': ['marking-definition--fa42a846-8d90-4e51-bc29-71d5b4802168'],\n",
       " 'created_by_ref': 'identity--c78cb6e5-0c4b-4611-8297-d1b8b55e40b5',\n",
       " 'technique': 'Code Signing Policy Modification',\n",
       " 'technique_description': 'Adversaries may modify code signing policies to enable execution of unsigned or self-signed code. Code signing provides a level of authenticity on a program from a developer and a guarantee that the program has not been tampered with. Security controls can include enforcement mechanisms to ensure that only valid, signed code can be run on an operating system. \\n\\nSome of these security controls may be enabled by default, such as Driver Signature Enforcement (DSE) on Windows or System Integrity Protection (SIP) on macOS.(Citation: Microsoft DSE June 2017)(Citation: Apple Disable SIP) Other such controls may be disabled by default but are configurable through application controls, such as only allowing signed Dynamic-Link Libraries (DLLs) to execute on a system. Since it can be useful for developers to modify default signature enforcement policies during the development and testing of applications, disabling of these features may be possible with elevated permissions.(Citation: Microsoft Unsigned Driver Apr 2017)(Citation: Apple Disable SIP)\\n\\nAdversaries may modify code signing policies in a number of ways, including through use of command-line or GUI utilities, [Modify Registry](https://attack.mitre.org/techniques/T1112), rebooting the computer in a debug/recovery mode, or by altering the value of variables in kernel memory.(Citation: Microsoft TESTSIGNING Feb 2021)(Citation: Apple Disable SIP)(Citation: FireEye HIKIT Rootkit Part 2)(Citation: GitHub Turla Driver Loader) Examples of commands that can modify the code signing policy of a system include <code>bcdedit.exe -set TESTSIGNING ON</code> on Windows and <code>csrutil disable</code> on macOS.(Citation: Microsoft TESTSIGNING Feb 2021)(Citation: Apple Disable SIP) Depending on the implementation, successful modification of a signing policy may require reboot of the compromised system. Additionally, some implementations can introduce visible artifacts for the user (ex: a watermark in the corner of the screen stating the system is in Test Mode). Adversaries may attempt to remove such artifacts.(Citation: F-Secure BlackEnergy 2014)\\n\\nTo gain access to kernel memory to modify variables related to signature checks, such as modifying <code>g_CiOptions</code> to disable Driver Signature Enforcement, adversaries may conduct [Exploitation for Privilege Escalation](https://attack.mitre.org/techniques/T1068) using a signed, but vulnerable driver.(Citation: Unit42 AcidBox June 2020)(Citation: GitHub Turla Driver Loader)',\n",
       " 'id': 'attack-pattern--565275d5-fcc3-4b66-b4e7-928e4cac6b8c',\n",
       " 'type': 'attack-pattern',\n",
       " 'tactic': ['defense-evasion'],\n",
       " 'modified': '2021-04-26T15:41:39.155Z',\n",
       " 'created': '2021-04-23T01:04:57.161Z',\n",
       " 'technique_detection': 'Monitor processes and command-line arguments for actions that could be taken to modify the code signing policy of a system, such as <code>bcdedit.exe -set TESTSIGNING ON</code>.(Citation: Microsoft TESTSIGNING Feb 2021) Consider monitoring for modifications made to Registry keys associated with code signing policies, such as <code>HKCU\\\\Software\\\\Policies\\\\Microsoft\\\\Windows NT\\\\Driver Signing</code>. Modifications to the code signing policy of a system are likely to be rare.',\n",
       " 'data_sources': ['Windows Registry: Windows Registry Key Modification',\n",
       "  'Command: Command Execution',\n",
       "  'Process: Process Creation'],\n",
       " 'contributors': ['Abel Morales, Exabeam'],\n",
       " 'defense_bypassed': ['Application control',\n",
       "  'User Mode Signature Validation',\n",
       "  'Digital Certificate Validation'],\n",
       " 'permissions_required': ['Administrator'],\n",
       " 'platform': ['Windows', 'macOS']}"
      ]
     },
     "execution_count": 5,
     "metadata": {},
     "output_type": "execute_result"
    }
   ],
   "source": [
    "all_techniques[0]"
   ]
  },
  {
   "cell_type": "markdown",
   "metadata": {},
   "source": [
    "Normalizing semi-structured JSON data into a flat table via **pandas.io.json.json_normalize**\n",
    "* Reference: https://pandas.pydata.org/pandas-docs/stable/generated/pandas.io.json.json_normalize.html"
   ]
  },
  {
   "cell_type": "code",
   "execution_count": 6,
   "metadata": {},
   "outputs": [],
   "source": [
    "techniques_normalized = pandas.json_normalize(all_techniques)"
   ]
  },
  {
   "cell_type": "code",
   "execution_count": 7,
   "metadata": {},
   "outputs": [
    {
     "data": {
      "text/html": [
       "<div>\n",
       "<style scoped>\n",
       "    .dataframe tbody tr th:only-of-type {\n",
       "        vertical-align: middle;\n",
       "    }\n",
       "\n",
       "    .dataframe tbody tr th {\n",
       "        vertical-align: top;\n",
       "    }\n",
       "\n",
       "    .dataframe thead th {\n",
       "        text-align: right;\n",
       "    }\n",
       "</style>\n",
       "<table border=\"1\" class=\"dataframe\">\n",
       "  <thead>\n",
       "    <tr style=\"text-align: right;\">\n",
       "      <th></th>\n",
       "      <th>external_references</th>\n",
       "      <th>kill_chain_phases</th>\n",
       "      <th>x_mitre_version</th>\n",
       "      <th>x_mitre_is_subtechnique</th>\n",
       "      <th>url</th>\n",
       "      <th>matrix</th>\n",
       "      <th>technique_id</th>\n",
       "      <th>object_marking_refs</th>\n",
       "      <th>created_by_ref</th>\n",
       "      <th>technique</th>\n",
       "      <th>...</th>\n",
       "      <th>effective_permissions</th>\n",
       "      <th>impact_type</th>\n",
       "      <th>revoked</th>\n",
       "      <th>x_mitre_deprecated</th>\n",
       "      <th>x_mitre_old_attack_id</th>\n",
       "      <th>difficulty_explanation</th>\n",
       "      <th>difficulty_for_adversary</th>\n",
       "      <th>detectable_explanation</th>\n",
       "      <th>detectable_by_common_defenses</th>\n",
       "      <th>tactic_type</th>\n",
       "    </tr>\n",
       "  </thead>\n",
       "  <tbody>\n",
       "    <tr>\n",
       "      <th>0</th>\n",
       "      <td>[{'source_name': 'mitre-attack', 'external_id'...</td>\n",
       "      <td>[{'kill_chain_name': 'mitre-attack', 'phase_na...</td>\n",
       "      <td>1.0</td>\n",
       "      <td>True</td>\n",
       "      <td>https://attack.mitre.org/techniques/T1553/006</td>\n",
       "      <td>mitre-attack</td>\n",
       "      <td>T1553.006</td>\n",
       "      <td>[marking-definition--fa42a846-8d90-4e51-bc29-7...</td>\n",
       "      <td>identity--c78cb6e5-0c4b-4611-8297-d1b8b55e40b5</td>\n",
       "      <td>Code Signing Policy Modification</td>\n",
       "      <td>...</td>\n",
       "      <td>NaN</td>\n",
       "      <td>NaN</td>\n",
       "      <td>NaN</td>\n",
       "      <td>NaN</td>\n",
       "      <td>NaN</td>\n",
       "      <td>NaN</td>\n",
       "      <td>NaN</td>\n",
       "      <td>NaN</td>\n",
       "      <td>NaN</td>\n",
       "      <td>NaN</td>\n",
       "    </tr>\n",
       "  </tbody>\n",
       "</table>\n",
       "<p>1 rows × 37 columns</p>\n",
       "</div>"
      ],
      "text/plain": [
       "                                 external_references  \\\n",
       "0  [{'source_name': 'mitre-attack', 'external_id'...   \n",
       "\n",
       "                                   kill_chain_phases x_mitre_version  \\\n",
       "0  [{'kill_chain_name': 'mitre-attack', 'phase_na...             1.0   \n",
       "\n",
       "  x_mitre_is_subtechnique                                            url  \\\n",
       "0                    True  https://attack.mitre.org/techniques/T1553/006   \n",
       "\n",
       "         matrix technique_id  \\\n",
       "0  mitre-attack    T1553.006   \n",
       "\n",
       "                                 object_marking_refs  \\\n",
       "0  [marking-definition--fa42a846-8d90-4e51-bc29-7...   \n",
       "\n",
       "                                   created_by_ref  \\\n",
       "0  identity--c78cb6e5-0c4b-4611-8297-d1b8b55e40b5   \n",
       "\n",
       "                          technique  ... effective_permissions impact_type  \\\n",
       "0  Code Signing Policy Modification  ...                   NaN         NaN   \n",
       "\n",
       "  revoked x_mitre_deprecated x_mitre_old_attack_id difficulty_explanation  \\\n",
       "0     NaN                NaN                   NaN                    NaN   \n",
       "\n",
       "  difficulty_for_adversary detectable_explanation  \\\n",
       "0                      NaN                    NaN   \n",
       "\n",
       "  detectable_by_common_defenses tactic_type  \n",
       "0                           NaN         NaN  \n",
       "\n",
       "[1 rows x 37 columns]"
      ]
     },
     "execution_count": 7,
     "metadata": {},
     "output_type": "execute_result"
    }
   ],
   "source": [
    "techniques_normalized[0:1]"
   ]
  },
  {
   "cell_type": "markdown",
   "metadata": {},
   "source": [
    "## 6. Re-indexing Dataframe"
   ]
  },
  {
   "cell_type": "code",
   "execution_count": 8,
   "metadata": {},
   "outputs": [],
   "source": [
    "techniques = techniques_normalized.reindex(['matrix','platform','tactic','technique','technique_id','data_sources'], axis=1)"
   ]
  },
  {
   "cell_type": "code",
   "execution_count": 9,
   "metadata": {},
   "outputs": [
    {
     "data": {
      "text/html": [
       "<div>\n",
       "<style scoped>\n",
       "    .dataframe tbody tr th:only-of-type {\n",
       "        vertical-align: middle;\n",
       "    }\n",
       "\n",
       "    .dataframe tbody tr th {\n",
       "        vertical-align: top;\n",
       "    }\n",
       "\n",
       "    .dataframe thead th {\n",
       "        text-align: right;\n",
       "    }\n",
       "</style>\n",
       "<table border=\"1\" class=\"dataframe\">\n",
       "  <thead>\n",
       "    <tr style=\"text-align: right;\">\n",
       "      <th></th>\n",
       "      <th>matrix</th>\n",
       "      <th>platform</th>\n",
       "      <th>tactic</th>\n",
       "      <th>technique</th>\n",
       "      <th>technique_id</th>\n",
       "      <th>data_sources</th>\n",
       "    </tr>\n",
       "  </thead>\n",
       "  <tbody>\n",
       "    <tr>\n",
       "      <th>0</th>\n",
       "      <td>mitre-attack</td>\n",
       "      <td>[Windows, macOS]</td>\n",
       "      <td>[defense-evasion]</td>\n",
       "      <td>Code Signing Policy Modification</td>\n",
       "      <td>T1553.006</td>\n",
       "      <td>[Windows Registry: Windows Registry Key Modifi...</td>\n",
       "    </tr>\n",
       "    <tr>\n",
       "      <th>1</th>\n",
       "      <td>mitre-attack</td>\n",
       "      <td>[Windows, Linux, macOS, IaaS]</td>\n",
       "      <td>[discovery]</td>\n",
       "      <td>System Location Discovery</td>\n",
       "      <td>T1614</td>\n",
       "      <td>[Instance: Instance Metadata, Process: Process...</td>\n",
       "    </tr>\n",
       "    <tr>\n",
       "      <th>2</th>\n",
       "      <td>mitre-attack</td>\n",
       "      <td>[Containers]</td>\n",
       "      <td>[discovery]</td>\n",
       "      <td>Container and Resource Discovery</td>\n",
       "      <td>T1613</td>\n",
       "      <td>[Cluster: Cluster Metadata, Container: Contain...</td>\n",
       "    </tr>\n",
       "    <tr>\n",
       "      <th>3</th>\n",
       "      <td>mitre-attack</td>\n",
       "      <td>[Containers]</td>\n",
       "      <td>[credential-access]</td>\n",
       "      <td>Container API</td>\n",
       "      <td>T1552.007</td>\n",
       "      <td>[Command: Command Execution, File: File Access...</td>\n",
       "    </tr>\n",
       "    <tr>\n",
       "      <th>4</th>\n",
       "      <td>mitre-attack</td>\n",
       "      <td>[Containers]</td>\n",
       "      <td>[defense-evasion]</td>\n",
       "      <td>Build Image on Host</td>\n",
       "      <td>T1612</td>\n",
       "      <td>[Image: Image Creation, Network Traffic: Netwo...</td>\n",
       "    </tr>\n",
       "  </tbody>\n",
       "</table>\n",
       "</div>"
      ],
      "text/plain": [
       "         matrix                       platform               tactic  \\\n",
       "0  mitre-attack               [Windows, macOS]    [defense-evasion]   \n",
       "1  mitre-attack  [Windows, Linux, macOS, IaaS]          [discovery]   \n",
       "2  mitre-attack                   [Containers]          [discovery]   \n",
       "3  mitre-attack                   [Containers]  [credential-access]   \n",
       "4  mitre-attack                   [Containers]    [defense-evasion]   \n",
       "\n",
       "                          technique technique_id  \\\n",
       "0  Code Signing Policy Modification    T1553.006   \n",
       "1         System Location Discovery        T1614   \n",
       "2  Container and Resource Discovery        T1613   \n",
       "3                     Container API    T1552.007   \n",
       "4               Build Image on Host        T1612   \n",
       "\n",
       "                                        data_sources  \n",
       "0  [Windows Registry: Windows Registry Key Modifi...  \n",
       "1  [Instance: Instance Metadata, Process: Process...  \n",
       "2  [Cluster: Cluster Metadata, Container: Contain...  \n",
       "3  [Command: Command Execution, File: File Access...  \n",
       "4  [Image: Image Creation, Network Traffic: Netwo...  "
      ]
     },
     "execution_count": 9,
     "metadata": {},
     "output_type": "execute_result"
    }
   ],
   "source": [
    "techniques.head()"
   ]
  },
  {
   "cell_type": "code",
   "execution_count": 10,
   "metadata": {},
   "outputs": [
    {
     "name": "stdout",
     "output_type": "stream",
     "text": [
      "A total of  1062  techniques\n"
     ]
    }
   ],
   "source": [
    "print('A total of ',len(techniques),' techniques')"
   ]
  },
  {
   "cell_type": "markdown",
   "metadata": {},
   "source": [
    "## 7. Removing Revoked Techniques"
   ]
  },
  {
   "cell_type": "code",
   "execution_count": 11,
   "metadata": {},
   "outputs": [],
   "source": [
    "all_techniques_no_revoked = lift.remove_revoked(all_techniques)"
   ]
  },
  {
   "cell_type": "code",
   "execution_count": 12,
   "metadata": {},
   "outputs": [
    {
     "name": "stdout",
     "output_type": "stream",
     "text": [
      "A total of  916  techniques\n"
     ]
    }
   ],
   "source": [
    "print('A total of ',len(all_techniques_no_revoked),' techniques')"
   ]
  },
  {
   "cell_type": "markdown",
   "metadata": {},
   "source": [
    "## 8. Extractinng Revoked Techniques"
   ]
  },
  {
   "cell_type": "code",
   "execution_count": 13,
   "metadata": {},
   "outputs": [],
   "source": [
    "all_techniques_revoked = lift.extract_revoked(all_techniques)"
   ]
  },
  {
   "cell_type": "code",
   "execution_count": 14,
   "metadata": {},
   "outputs": [
    {
     "name": "stdout",
     "output_type": "stream",
     "text": [
      "A total of  146  techniques that have been revoked\n"
     ]
    }
   ],
   "source": [
    "print('A total of ',len(all_techniques_revoked),' techniques that have been revoked')"
   ]
  },
  {
   "cell_type": "markdown",
   "metadata": {},
   "source": [
    "The revoked techniques are the following ones:"
   ]
  },
  {
   "cell_type": "code",
   "execution_count": 15,
   "metadata": {},
   "outputs": [
    {
     "name": "stdout",
     "output_type": "stream",
     "text": [
      "Web Session Cookie\n",
      "Emond\n",
      "Cloud Instance Metadata API\n",
      "Revert Cloud Instance\n",
      "Application Access Token\n",
      "Elevated Execution with Prompt\n",
      "Credentials from Web Browsers\n",
      "PowerShell Profile\n",
      "Parent PID Spoofing\n",
      "Compile After Delivery\n",
      "Systemd Service\n",
      "Runtime Data Manipulation\n",
      "Transmitted Data Manipulation\n",
      "Stored Data Manipulation\n",
      "Disk Content Wipe\n",
      "Disk Structure Wipe\n",
      "Domain Generation Algorithms\n",
      "Compiled HTML File\n",
      "SIP and Trust Provider Hijacking\n",
      "Time Providers\n",
      "CMSTP\n",
      "Credentials in Registry\n",
      "Control Panel Items\n",
      "Kernel Modules and Extensions\n",
      "Spearphishing Link\n",
      "Sudo Caching\n",
      "Spearphishing Attachment\n",
      "Kerberoasting\n",
      "Spearphishing via Service\n",
      "LSASS Driver\n",
      "Password Filter DLL\n",
      "Screensaver\n",
      "AppCert DLLs\n",
      "Domain Fronting\n",
      "Mshta\n",
      "Dynamic Data Exchange\n",
      "Hooking\n",
      "Image File Execution Options Injection\n",
      "Extra Window Memory Injection\n",
      "LLMNR/NBT-NS Poisoning and Relay\n",
      "Multi-hop Proxy\n",
      "SSH Hijacking\n",
      "Process Doppelgänging\n",
      "SID-History Injection\n",
      "Application Shimming\n",
      "Hidden Window\n",
      "Login Item\n",
      "Plist Modification\n",
      "Re-opened Applications\n",
      "Setuid and Setgid\n",
      "AppleScript\n",
      "Bash History\n",
      "Clear Command History\n",
      "Hidden Users\n",
      "Input Prompt\n",
      "Launchctl\n",
      "LC_LOAD_DYLIB Addition\n",
      "Launch Agent\n",
      "Local Job Scheduling\n",
      "Malicious Shell Modification\n",
      "Rc.common\n",
      "Space after Filename\n",
      "Hidden Files and Directories\n",
      "Keychain\n",
      "Launch Daemon\n",
      "Dylib Hijacking\n",
      "Gatekeeper Bypass\n",
      "HISTCONTROL\n",
      "Trap\n",
      "Private Keys\n",
      "Securityd Memory\n",
      "Startup Items\n",
      "Sudo\n",
      "Authentication Package\n",
      "Install Root Certificate\n",
      "Netsh Helper DLL\n",
      "Network Share Connection Removal\n",
      "Component Object Model Hijacking\n",
      "Regsvcs/Regasm\n",
      "InstallUtil\n",
      "Regsvr32\n",
      "Code Signing\n",
      "Component Firmware\n",
      "File Deletion\n",
      "AppInit DLLs\n",
      "Security Support Provider\n",
      "Web Shell\n",
      "Timestomp\n",
      "Pass the Ticket\n",
      "NTFS File Attributes\n",
      "Custom Command and Control Protocol\n",
      "Process Hollowing\n",
      "Disabling Security Tools\n",
      "Bypass User Account Control\n",
      "PowerShell\n",
      "Rundll32\n",
      "Windows Management Instrumentation Event Subscription\n",
      "Credentials in Files\n",
      "Multilayer Encryption\n",
      "Windows Admin Shares\n",
      "Remote Desktop Protocol\n",
      "Pass the Hash\n",
      "DLL Side-Loading\n",
      "Bootkit\n",
      "Indicator Removal from Tools\n",
      "Uncommonly Used Port\n",
      "Security Software Discovery\n",
      "Registry Run Keys / Startup Folder\n",
      "Service Registry Permissions Weakness\n",
      "Indicator Blocking\n",
      "New Service\n",
      "Software Packing\n",
      "File System Permissions Weakness\n",
      "Change Default File Association\n",
      "DLL Search Order Hijacking\n",
      "Service Execution\n",
      "Standard Cryptographic Protocol\n",
      "Modify Existing Service\n",
      "Windows Remote Management\n",
      "Custom Cryptographic Protocol\n",
      "Shortcut Modification\n",
      "Data Encrypted\n",
      "System Firmware\n",
      "Application Deployment Software\n",
      "Accessibility Features\n",
      "Port Monitors\n",
      "Binary Padding\n",
      "Winlogon Helper DLL\n",
      "Data Compressed\n",
      "Remotely Install Application\n",
      "Insecure Third-Party Libraries\n",
      "Fake Developer Accounts\n",
      "Device Type Discovery\n",
      "Detect App Analysis Environment\n",
      "Malicious Software Development Tools\n",
      "Biometric Spoofing\n",
      "Device Unlock Code Guessing or Brute Force\n",
      "Malicious Media Content\n",
      "URL Scheme Hijacking\n",
      "Abuse of iOS Enterprise App Signing Key\n",
      "App Delivered via Web Download\n",
      "App Delivered via Email Attachment\n",
      "Malicious or Vulnerable Built-in Device Functionality\n",
      "Malicious SMS Message\n",
      "Exploit Baseband Vulnerability\n",
      "Stolen Developer Credentials or Signing Keys\n"
     ]
    }
   ],
   "source": [
    "for t in all_techniques_revoked:\n",
    "    print(t['technique'])"
   ]
  },
  {
   "cell_type": "markdown",
   "metadata": {},
   "source": [
    "## 9. Updating our Dataframe"
   ]
  },
  {
   "cell_type": "code",
   "execution_count": 16,
   "metadata": {},
   "outputs": [],
   "source": [
    "techniques_normalized = pandas.json_normalize(all_techniques_no_revoked)\n",
    "techniques = techniques_normalized.reindex(['matrix','platform','tactic','technique','technique_id','data_sources'], axis=1)"
   ]
  },
  {
   "cell_type": "markdown",
   "metadata": {},
   "source": [
    "## 10. Techniques Per Matrix\n",
    "Using **altair** python library we can start showing a few charts stacking the number of techniques with or without data sources.\n",
    "Reference: https://altair-viz.github.io/"
   ]
  },
  {
   "cell_type": "code",
   "execution_count": 17,
   "metadata": {},
   "outputs": [
    {
     "data": {
      "text/html": [
       "<div>\n",
       "<style scoped>\n",
       "    .dataframe tbody tr th:only-of-type {\n",
       "        vertical-align: middle;\n",
       "    }\n",
       "\n",
       "    .dataframe tbody tr th {\n",
       "        vertical-align: top;\n",
       "    }\n",
       "\n",
       "    .dataframe thead th {\n",
       "        text-align: right;\n",
       "    }\n",
       "</style>\n",
       "<table border=\"1\" class=\"dataframe\">\n",
       "  <thead>\n",
       "    <tr style=\"text-align: right;\">\n",
       "      <th></th>\n",
       "      <th>matrix</th>\n",
       "      <th>technique</th>\n",
       "    </tr>\n",
       "  </thead>\n",
       "  <tbody>\n",
       "    <tr>\n",
       "      <th>0</th>\n",
       "      <td>mitre-attack</td>\n",
       "      <td>563</td>\n",
       "    </tr>\n",
       "    <tr>\n",
       "      <th>1</th>\n",
       "      <td>mitre-ics-attack</td>\n",
       "      <td>89</td>\n",
       "    </tr>\n",
       "    <tr>\n",
       "      <th>2</th>\n",
       "      <td>mitre-mobile-attack</td>\n",
       "      <td>90</td>\n",
       "    </tr>\n",
       "    <tr>\n",
       "      <th>3</th>\n",
       "      <td>mitre-pre-attack</td>\n",
       "      <td>174</td>\n",
       "    </tr>\n",
       "  </tbody>\n",
       "</table>\n",
       "</div>"
      ],
      "text/plain": [
       "                matrix  technique\n",
       "0         mitre-attack        563\n",
       "1     mitre-ics-attack         89\n",
       "2  mitre-mobile-attack         90\n",
       "3     mitre-pre-attack        174"
      ]
     },
     "execution_count": 17,
     "metadata": {},
     "output_type": "execute_result"
    }
   ],
   "source": [
    "data = techniques\n",
    "data_2 = data.groupby(['matrix'])['technique'].count()\n",
    "data_3 = data_2.to_frame().reset_index()\n",
    "data_3"
   ]
  },
  {
   "cell_type": "code",
   "execution_count": 18,
   "metadata": {},
   "outputs": [
    {
     "data": {
      "text/html": [
       "\n",
       "<div id=\"altair-viz-72d575be9a2f431e97b839562a9d37cf\"></div>\n",
       "<script type=\"text/javascript\">\n",
       "  (function(spec, embedOpt){\n",
       "    let outputDiv = document.currentScript.previousElementSibling;\n",
       "    if (outputDiv.id !== \"altair-viz-72d575be9a2f431e97b839562a9d37cf\") {\n",
       "      outputDiv = document.getElementById(\"altair-viz-72d575be9a2f431e97b839562a9d37cf\");\n",
       "    }\n",
       "    const paths = {\n",
       "      \"vega\": \"https://cdn.jsdelivr.net/npm//vega@5?noext\",\n",
       "      \"vega-lib\": \"https://cdn.jsdelivr.net/npm//vega-lib?noext\",\n",
       "      \"vega-lite\": \"https://cdn.jsdelivr.net/npm//vega-lite@4.8.1?noext\",\n",
       "      \"vega-embed\": \"https://cdn.jsdelivr.net/npm//vega-embed@6?noext\",\n",
       "    };\n",
       "\n",
       "    function loadScript(lib) {\n",
       "      return new Promise(function(resolve, reject) {\n",
       "        var s = document.createElement('script');\n",
       "        s.src = paths[lib];\n",
       "        s.async = true;\n",
       "        s.onload = () => resolve(paths[lib]);\n",
       "        s.onerror = () => reject(`Error loading script: ${paths[lib]}`);\n",
       "        document.getElementsByTagName(\"head\")[0].appendChild(s);\n",
       "      });\n",
       "    }\n",
       "\n",
       "    function showError(err) {\n",
       "      outputDiv.innerHTML = `<div class=\"error\" style=\"color:red;\">${err}</div>`;\n",
       "      throw err;\n",
       "    }\n",
       "\n",
       "    function displayChart(vegaEmbed) {\n",
       "      vegaEmbed(outputDiv, spec, embedOpt)\n",
       "        .catch(err => showError(`Javascript Error: ${err.message}<br>This usually means there's a typo in your chart specification. See the javascript console for the full traceback.`));\n",
       "    }\n",
       "\n",
       "    if(typeof define === \"function\" && define.amd) {\n",
       "      requirejs.config({paths});\n",
       "      require([\"vega-embed\"], displayChart, err => showError(`Error loading script: ${err.message}`));\n",
       "    } else if (typeof vegaEmbed === \"function\") {\n",
       "      displayChart(vegaEmbed);\n",
       "    } else {\n",
       "      loadScript(\"vega\")\n",
       "        .then(() => loadScript(\"vega-lite\"))\n",
       "        .then(() => loadScript(\"vega-embed\"))\n",
       "        .catch(showError)\n",
       "        .then(() => displayChart(vegaEmbed));\n",
       "    }\n",
       "  })({\"config\": {\"view\": {\"continuousWidth\": 400, \"continuousHeight\": 300}}, \"data\": {\"name\": \"data-aad2f8b9cc8e42360c99dd54a703a157\"}, \"mark\": \"bar\", \"encoding\": {\"color\": {\"type\": \"nominal\", \"field\": \"matrix\"}, \"x\": {\"type\": \"quantitative\", \"field\": \"technique\"}, \"y\": {\"type\": \"nominal\", \"field\": \"matrix\"}}, \"height\": 200, \"$schema\": \"https://vega.github.io/schema/vega-lite/v4.8.1.json\", \"datasets\": {\"data-aad2f8b9cc8e42360c99dd54a703a157\": [{\"matrix\": \"mitre-attack\", \"technique\": 563}, {\"matrix\": \"mitre-ics-attack\", \"technique\": 89}, {\"matrix\": \"mitre-mobile-attack\", \"technique\": 90}, {\"matrix\": \"mitre-pre-attack\", \"technique\": 174}]}}, {\"mode\": \"vega-lite\"});\n",
       "</script>"
      ],
      "text/plain": [
       "alt.Chart(...)"
      ]
     },
     "execution_count": 18,
     "metadata": {},
     "output_type": "execute_result"
    }
   ],
   "source": [
    "alt.Chart(data_3).mark_bar().encode(x='technique', y='matrix', color='matrix').properties(height = 200)"
   ]
  },
  {
   "cell_type": "markdown",
   "metadata": {},
   "source": [
    "## 11. Techniques With and Without Data Sources"
   ]
  },
  {
   "cell_type": "code",
   "execution_count": 19,
   "metadata": {},
   "outputs": [
    {
     "data": {
      "text/html": [
       "\n",
       "<div id=\"altair-viz-21aa0a47dbd0464096d9b7b2064791d7\"></div>\n",
       "<script type=\"text/javascript\">\n",
       "  (function(spec, embedOpt){\n",
       "    let outputDiv = document.currentScript.previousElementSibling;\n",
       "    if (outputDiv.id !== \"altair-viz-21aa0a47dbd0464096d9b7b2064791d7\") {\n",
       "      outputDiv = document.getElementById(\"altair-viz-21aa0a47dbd0464096d9b7b2064791d7\");\n",
       "    }\n",
       "    const paths = {\n",
       "      \"vega\": \"https://cdn.jsdelivr.net/npm//vega@5?noext\",\n",
       "      \"vega-lib\": \"https://cdn.jsdelivr.net/npm//vega-lib?noext\",\n",
       "      \"vega-lite\": \"https://cdn.jsdelivr.net/npm//vega-lite@4.8.1?noext\",\n",
       "      \"vega-embed\": \"https://cdn.jsdelivr.net/npm//vega-embed@6?noext\",\n",
       "    };\n",
       "\n",
       "    function loadScript(lib) {\n",
       "      return new Promise(function(resolve, reject) {\n",
       "        var s = document.createElement('script');\n",
       "        s.src = paths[lib];\n",
       "        s.async = true;\n",
       "        s.onload = () => resolve(paths[lib]);\n",
       "        s.onerror = () => reject(`Error loading script: ${paths[lib]}`);\n",
       "        document.getElementsByTagName(\"head\")[0].appendChild(s);\n",
       "      });\n",
       "    }\n",
       "\n",
       "    function showError(err) {\n",
       "      outputDiv.innerHTML = `<div class=\"error\" style=\"color:red;\">${err}</div>`;\n",
       "      throw err;\n",
       "    }\n",
       "\n",
       "    function displayChart(vegaEmbed) {\n",
       "      vegaEmbed(outputDiv, spec, embedOpt)\n",
       "        .catch(err => showError(`Javascript Error: ${err.message}<br>This usually means there's a typo in your chart specification. See the javascript console for the full traceback.`));\n",
       "    }\n",
       "\n",
       "    if(typeof define === \"function\" && define.amd) {\n",
       "      requirejs.config({paths});\n",
       "      require([\"vega-embed\"], displayChart, err => showError(`Error loading script: ${err.message}`));\n",
       "    } else if (typeof vegaEmbed === \"function\") {\n",
       "      displayChart(vegaEmbed);\n",
       "    } else {\n",
       "      loadScript(\"vega\")\n",
       "        .then(() => loadScript(\"vega-lite\"))\n",
       "        .then(() => loadScript(\"vega-embed\"))\n",
       "        .catch(showError)\n",
       "        .then(() => displayChart(vegaEmbed));\n",
       "    }\n",
       "  })({\"config\": {\"view\": {\"continuousWidth\": 400, \"continuousHeight\": 300}}, \"layer\": [{\"mark\": \"bar\", \"encoding\": {\"color\": {\"type\": \"nominal\", \"field\": \"Techniques\"}, \"x\": {\"type\": \"nominal\", \"field\": \"Techniques\"}, \"y\": {\"type\": \"quantitative\", \"field\": \"Count of Techniques\"}}, \"height\": 300, \"width\": 200}, {\"mark\": {\"type\": \"text\", \"align\": \"center\", \"baseline\": \"middle\", \"dx\": 0, \"dy\": -5}, \"encoding\": {\"color\": {\"type\": \"nominal\", \"field\": \"Techniques\"}, \"text\": {\"type\": \"quantitative\", \"field\": \"Count of Techniques\"}, \"x\": {\"type\": \"nominal\", \"field\": \"Techniques\"}, \"y\": {\"type\": \"quantitative\", \"field\": \"Count of Techniques\"}}, \"height\": 300, \"width\": 200}], \"data\": {\"name\": \"data-c498ef2ecc4b6b91ee423185c0e94319\"}, \"$schema\": \"https://vega.github.io/schema/vega-lite/v4.8.1.json\", \"datasets\": {\"data-c498ef2ecc4b6b91ee423185c0e94319\": [{\"Techniques\": \"Without DS\", \"Count of Techniques\": 372}, {\"Techniques\": \"With DS\", \"Count of Techniques\": 544}]}}, {\"mode\": \"vega-lite\"});\n",
       "</script>"
      ],
      "text/plain": [
       "alt.LayerChart(...)"
      ]
     },
     "execution_count": 19,
     "metadata": {},
     "output_type": "execute_result"
    }
   ],
   "source": [
    "data_source_distribution = pandas.DataFrame({\n",
    "    'Techniques': ['Without DS','With DS'],\n",
    "    'Count of Techniques': [techniques['data_sources'].isna().sum(),techniques['data_sources'].notna().sum()]})\n",
    "bars = alt.Chart(data_source_distribution).mark_bar().encode(x='Techniques',y='Count of Techniques',color='Techniques').properties(width=200,height=300)\n",
    "text = bars.mark_text(align='center',baseline='middle',dx=0,dy=-5).encode(text='Count of Techniques')\n",
    "bars + text"
   ]
  },
  {
   "cell_type": "markdown",
   "metadata": {},
   "source": [
    "What is the distribution of techniques based on ATT&CK Matrix?"
   ]
  },
  {
   "cell_type": "code",
   "execution_count": 20,
   "metadata": {},
   "outputs": [
    {
     "data": {
      "text/html": [
       "<div>\n",
       "<style scoped>\n",
       "    .dataframe tbody tr th:only-of-type {\n",
       "        vertical-align: middle;\n",
       "    }\n",
       "\n",
       "    .dataframe tbody tr th {\n",
       "        vertical-align: top;\n",
       "    }\n",
       "\n",
       "    .dataframe thead th {\n",
       "        text-align: right;\n",
       "    }\n",
       "</style>\n",
       "<table border=\"1\" class=\"dataframe\">\n",
       "  <thead>\n",
       "    <tr style=\"text-align: right;\">\n",
       "      <th></th>\n",
       "      <th>matrix</th>\n",
       "      <th>Ind_DS</th>\n",
       "      <th>technique</th>\n",
       "    </tr>\n",
       "  </thead>\n",
       "  <tbody>\n",
       "    <tr>\n",
       "      <th>0</th>\n",
       "      <td>mitre-attack</td>\n",
       "      <td>With DS</td>\n",
       "      <td>472</td>\n",
       "    </tr>\n",
       "    <tr>\n",
       "      <th>1</th>\n",
       "      <td>mitre-attack</td>\n",
       "      <td>Without DS</td>\n",
       "      <td>91</td>\n",
       "    </tr>\n",
       "    <tr>\n",
       "      <th>2</th>\n",
       "      <td>mitre-ics-attack</td>\n",
       "      <td>With DS</td>\n",
       "      <td>72</td>\n",
       "    </tr>\n",
       "    <tr>\n",
       "      <th>3</th>\n",
       "      <td>mitre-ics-attack</td>\n",
       "      <td>Without DS</td>\n",
       "      <td>17</td>\n",
       "    </tr>\n",
       "    <tr>\n",
       "      <th>4</th>\n",
       "      <td>mitre-mobile-attack</td>\n",
       "      <td>Without DS</td>\n",
       "      <td>90</td>\n",
       "    </tr>\n",
       "    <tr>\n",
       "      <th>5</th>\n",
       "      <td>mitre-pre-attack</td>\n",
       "      <td>Without DS</td>\n",
       "      <td>174</td>\n",
       "    </tr>\n",
       "  </tbody>\n",
       "</table>\n",
       "</div>"
      ],
      "text/plain": [
       "                matrix      Ind_DS  technique\n",
       "0         mitre-attack     With DS        472\n",
       "1         mitre-attack  Without DS         91\n",
       "2     mitre-ics-attack     With DS         72\n",
       "3     mitre-ics-attack  Without DS         17\n",
       "4  mitre-mobile-attack  Without DS         90\n",
       "5     mitre-pre-attack  Without DS        174"
      ]
     },
     "execution_count": 20,
     "metadata": {},
     "output_type": "execute_result"
    }
   ],
   "source": [
    "data = techniques\n",
    "data['Count_DS'] = data['data_sources'].str.len()\n",
    "data['Ind_DS'] = np.where(data['Count_DS']>0,'With DS','Without DS')\n",
    "data_2 = data.groupby(['matrix','Ind_DS'])['technique'].count()\n",
    "data_3 = data_2.to_frame().reset_index()\n",
    "data_3"
   ]
  },
  {
   "cell_type": "code",
   "execution_count": 21,
   "metadata": {},
   "outputs": [
    {
     "data": {
      "text/plain": [
       "RendererRegistry.enable('default')"
      ]
     },
     "execution_count": 21,
     "metadata": {},
     "output_type": "execute_result"
    }
   ],
   "source": [
    "alt.renderers.enable('default') "
   ]
  },
  {
   "cell_type": "code",
   "execution_count": 22,
   "metadata": {},
   "outputs": [
    {
     "data": {
      "text/html": [
       "\n",
       "<div id=\"altair-viz-608ac2d3fe324733983e4f56dd4ee527\"></div>\n",
       "<script type=\"text/javascript\">\n",
       "  (function(spec, embedOpt){\n",
       "    let outputDiv = document.currentScript.previousElementSibling;\n",
       "    if (outputDiv.id !== \"altair-viz-608ac2d3fe324733983e4f56dd4ee527\") {\n",
       "      outputDiv = document.getElementById(\"altair-viz-608ac2d3fe324733983e4f56dd4ee527\");\n",
       "    }\n",
       "    const paths = {\n",
       "      \"vega\": \"https://cdn.jsdelivr.net/npm//vega@5?noext\",\n",
       "      \"vega-lib\": \"https://cdn.jsdelivr.net/npm//vega-lib?noext\",\n",
       "      \"vega-lite\": \"https://cdn.jsdelivr.net/npm//vega-lite@4.8.1?noext\",\n",
       "      \"vega-embed\": \"https://cdn.jsdelivr.net/npm//vega-embed@6?noext\",\n",
       "    };\n",
       "\n",
       "    function loadScript(lib) {\n",
       "      return new Promise(function(resolve, reject) {\n",
       "        var s = document.createElement('script');\n",
       "        s.src = paths[lib];\n",
       "        s.async = true;\n",
       "        s.onload = () => resolve(paths[lib]);\n",
       "        s.onerror = () => reject(`Error loading script: ${paths[lib]}`);\n",
       "        document.getElementsByTagName(\"head\")[0].appendChild(s);\n",
       "      });\n",
       "    }\n",
       "\n",
       "    function showError(err) {\n",
       "      outputDiv.innerHTML = `<div class=\"error\" style=\"color:red;\">${err}</div>`;\n",
       "      throw err;\n",
       "    }\n",
       "\n",
       "    function displayChart(vegaEmbed) {\n",
       "      vegaEmbed(outputDiv, spec, embedOpt)\n",
       "        .catch(err => showError(`Javascript Error: ${err.message}<br>This usually means there's a typo in your chart specification. See the javascript console for the full traceback.`));\n",
       "    }\n",
       "\n",
       "    if(typeof define === \"function\" && define.amd) {\n",
       "      requirejs.config({paths});\n",
       "      require([\"vega-embed\"], displayChart, err => showError(`Error loading script: ${err.message}`));\n",
       "    } else if (typeof vegaEmbed === \"function\") {\n",
       "      displayChart(vegaEmbed);\n",
       "    } else {\n",
       "      loadScript(\"vega\")\n",
       "        .then(() => loadScript(\"vega-lite\"))\n",
       "        .then(() => loadScript(\"vega-embed\"))\n",
       "        .catch(showError)\n",
       "        .then(() => displayChart(vegaEmbed));\n",
       "    }\n",
       "  })({\"config\": {\"view\": {\"continuousWidth\": 400, \"continuousHeight\": 300}}, \"data\": {\"name\": \"data-7601da3b5d01b1481320e7ef0dd340b7\"}, \"mark\": \"bar\", \"encoding\": {\"color\": {\"type\": \"nominal\", \"field\": \"matrix\"}, \"x\": {\"type\": \"quantitative\", \"field\": \"technique\"}, \"y\": {\"type\": \"nominal\", \"field\": \"Ind_DS\"}}, \"height\": 200, \"$schema\": \"https://vega.github.io/schema/vega-lite/v4.8.1.json\", \"datasets\": {\"data-7601da3b5d01b1481320e7ef0dd340b7\": [{\"matrix\": \"mitre-attack\", \"Ind_DS\": \"With DS\", \"technique\": 472}, {\"matrix\": \"mitre-attack\", \"Ind_DS\": \"Without DS\", \"technique\": 91}, {\"matrix\": \"mitre-ics-attack\", \"Ind_DS\": \"With DS\", \"technique\": 72}, {\"matrix\": \"mitre-ics-attack\", \"Ind_DS\": \"Without DS\", \"technique\": 17}, {\"matrix\": \"mitre-mobile-attack\", \"Ind_DS\": \"Without DS\", \"technique\": 90}, {\"matrix\": \"mitre-pre-attack\", \"Ind_DS\": \"Without DS\", \"technique\": 174}]}}, {\"mode\": \"vega-lite\"});\n",
       "</script>"
      ],
      "text/plain": [
       "alt.Chart(...)"
      ]
     },
     "execution_count": 22,
     "metadata": {},
     "output_type": "execute_result"
    }
   ],
   "source": [
    "alt.Chart(data_3).mark_bar().encode(x='technique', y='Ind_DS', color='matrix').properties(height = 200)"
   ]
  },
  {
   "cell_type": "markdown",
   "metadata": {},
   "source": [
    "What are those mitre-attack techniques without data sources?"
   ]
  },
  {
   "cell_type": "code",
   "execution_count": 23,
   "metadata": {},
   "outputs": [
    {
     "data": {
      "text/html": [
       "<div>\n",
       "<style scoped>\n",
       "    .dataframe tbody tr th:only-of-type {\n",
       "        vertical-align: middle;\n",
       "    }\n",
       "\n",
       "    .dataframe tbody tr th {\n",
       "        vertical-align: top;\n",
       "    }\n",
       "\n",
       "    .dataframe thead th {\n",
       "        text-align: right;\n",
       "    }\n",
       "</style>\n",
       "<table border=\"1\" class=\"dataframe\">\n",
       "  <thead>\n",
       "    <tr style=\"text-align: right;\">\n",
       "      <th></th>\n",
       "      <th>matrix</th>\n",
       "      <th>platform</th>\n",
       "      <th>tactic</th>\n",
       "      <th>technique</th>\n",
       "      <th>technique_id</th>\n",
       "      <th>data_sources</th>\n",
       "      <th>Count_DS</th>\n",
       "      <th>Ind_DS</th>\n",
       "    </tr>\n",
       "  </thead>\n",
       "  <tbody>\n",
       "    <tr>\n",
       "      <th>10</th>\n",
       "      <td>mitre-attack</td>\n",
       "      <td>[PRE]</td>\n",
       "      <td>[resource-development]</td>\n",
       "      <td>Link Target</td>\n",
       "      <td>T1608.005</td>\n",
       "      <td>NaN</td>\n",
       "      <td>NaN</td>\n",
       "      <td>Without DS</td>\n",
       "    </tr>\n",
       "    <tr>\n",
       "      <th>11</th>\n",
       "      <td>mitre-attack</td>\n",
       "      <td>[PRE]</td>\n",
       "      <td>[resource-development]</td>\n",
       "      <td>Drive-by Target</td>\n",
       "      <td>T1608.004</td>\n",
       "      <td>NaN</td>\n",
       "      <td>NaN</td>\n",
       "      <td>Without DS</td>\n",
       "    </tr>\n",
       "    <tr>\n",
       "      <th>12</th>\n",
       "      <td>mitre-attack</td>\n",
       "      <td>[PRE]</td>\n",
       "      <td>[resource-development]</td>\n",
       "      <td>Install Digital Certificate</td>\n",
       "      <td>T1608.003</td>\n",
       "      <td>NaN</td>\n",
       "      <td>NaN</td>\n",
       "      <td>Without DS</td>\n",
       "    </tr>\n",
       "    <tr>\n",
       "      <th>13</th>\n",
       "      <td>mitre-attack</td>\n",
       "      <td>[PRE]</td>\n",
       "      <td>[resource-development]</td>\n",
       "      <td>Upload Tool</td>\n",
       "      <td>T1608.002</td>\n",
       "      <td>NaN</td>\n",
       "      <td>NaN</td>\n",
       "      <td>Without DS</td>\n",
       "    </tr>\n",
       "    <tr>\n",
       "      <th>14</th>\n",
       "      <td>mitre-attack</td>\n",
       "      <td>[PRE]</td>\n",
       "      <td>[resource-development]</td>\n",
       "      <td>Upload Malware</td>\n",
       "      <td>T1608.001</td>\n",
       "      <td>NaN</td>\n",
       "      <td>NaN</td>\n",
       "      <td>Without DS</td>\n",
       "    </tr>\n",
       "    <tr>\n",
       "      <th>...</th>\n",
       "      <td>...</td>\n",
       "      <td>...</td>\n",
       "      <td>...</td>\n",
       "      <td>...</td>\n",
       "      <td>...</td>\n",
       "      <td>...</td>\n",
       "      <td>...</td>\n",
       "      <td>...</td>\n",
       "    </tr>\n",
       "    <tr>\n",
       "      <th>524</th>\n",
       "      <td>mitre-attack</td>\n",
       "      <td>[Linux, macOS, Windows]</td>\n",
       "      <td>[execution]</td>\n",
       "      <td>Graphical User Interface</td>\n",
       "      <td>T1061</td>\n",
       "      <td>NaN</td>\n",
       "      <td>NaN</td>\n",
       "      <td>Without DS</td>\n",
       "    </tr>\n",
       "    <tr>\n",
       "      <th>531</th>\n",
       "      <td>mitre-attack</td>\n",
       "      <td>[Windows]</td>\n",
       "      <td>[lateral-movement]</td>\n",
       "      <td>Shared Webroot</td>\n",
       "      <td>T1051</td>\n",
       "      <td>NaN</td>\n",
       "      <td>NaN</td>\n",
       "      <td>Without DS</td>\n",
       "    </tr>\n",
       "    <tr>\n",
       "      <th>536</th>\n",
       "      <td>mitre-attack</td>\n",
       "      <td>[Linux, macOS, Windows]</td>\n",
       "      <td>[command-and-control]</td>\n",
       "      <td>Commonly Used Port</td>\n",
       "      <td>T1043</td>\n",
       "      <td>NaN</td>\n",
       "      <td>NaN</td>\n",
       "      <td>Without DS</td>\n",
       "    </tr>\n",
       "    <tr>\n",
       "      <th>542</th>\n",
       "      <td>mitre-attack</td>\n",
       "      <td>[Windows]</td>\n",
       "      <td>[persistence, privilege-escalation]</td>\n",
       "      <td>Path Interception</td>\n",
       "      <td>T1034</td>\n",
       "      <td>NaN</td>\n",
       "      <td>NaN</td>\n",
       "      <td>Without DS</td>\n",
       "    </tr>\n",
       "    <tr>\n",
       "      <th>547</th>\n",
       "      <td>mitre-attack</td>\n",
       "      <td>[Linux, macOS, Windows]</td>\n",
       "      <td>[command-and-control]</td>\n",
       "      <td>Multiband Communication</td>\n",
       "      <td>T1026</td>\n",
       "      <td>NaN</td>\n",
       "      <td>NaN</td>\n",
       "      <td>Without DS</td>\n",
       "    </tr>\n",
       "  </tbody>\n",
       "</table>\n",
       "<p>91 rows × 8 columns</p>\n",
       "</div>"
      ],
      "text/plain": [
       "           matrix                 platform  \\\n",
       "10   mitre-attack                    [PRE]   \n",
       "11   mitre-attack                    [PRE]   \n",
       "12   mitre-attack                    [PRE]   \n",
       "13   mitre-attack                    [PRE]   \n",
       "14   mitre-attack                    [PRE]   \n",
       "..            ...                      ...   \n",
       "524  mitre-attack  [Linux, macOS, Windows]   \n",
       "531  mitre-attack                [Windows]   \n",
       "536  mitre-attack  [Linux, macOS, Windows]   \n",
       "542  mitre-attack                [Windows]   \n",
       "547  mitre-attack  [Linux, macOS, Windows]   \n",
       "\n",
       "                                  tactic                    technique  \\\n",
       "10                [resource-development]                  Link Target   \n",
       "11                [resource-development]              Drive-by Target   \n",
       "12                [resource-development]  Install Digital Certificate   \n",
       "13                [resource-development]                  Upload Tool   \n",
       "14                [resource-development]               Upload Malware   \n",
       "..                                   ...                          ...   \n",
       "524                          [execution]     Graphical User Interface   \n",
       "531                   [lateral-movement]               Shared Webroot   \n",
       "536                [command-and-control]           Commonly Used Port   \n",
       "542  [persistence, privilege-escalation]            Path Interception   \n",
       "547                [command-and-control]      Multiband Communication   \n",
       "\n",
       "    technique_id data_sources  Count_DS      Ind_DS  \n",
       "10     T1608.005          NaN       NaN  Without DS  \n",
       "11     T1608.004          NaN       NaN  Without DS  \n",
       "12     T1608.003          NaN       NaN  Without DS  \n",
       "13     T1608.002          NaN       NaN  Without DS  \n",
       "14     T1608.001          NaN       NaN  Without DS  \n",
       "..           ...          ...       ...         ...  \n",
       "524        T1061          NaN       NaN  Without DS  \n",
       "531        T1051          NaN       NaN  Without DS  \n",
       "536        T1043          NaN       NaN  Without DS  \n",
       "542        T1034          NaN       NaN  Without DS  \n",
       "547        T1026          NaN       NaN  Without DS  \n",
       "\n",
       "[91 rows x 8 columns]"
      ]
     },
     "execution_count": 23,
     "metadata": {},
     "output_type": "execute_result"
    }
   ],
   "source": [
    "data[(data['matrix']=='mitre-attack') & (data['Ind_DS']=='Without DS')]"
   ]
  },
  {
   "cell_type": "markdown",
   "metadata": {},
   "source": [
    "### Techniques without data sources"
   ]
  },
  {
   "cell_type": "code",
   "execution_count": 24,
   "metadata": {},
   "outputs": [],
   "source": [
    "techniques_without_data_sources=techniques[techniques.data_sources.isnull()].reset_index(drop=True)"
   ]
  },
  {
   "cell_type": "code",
   "execution_count": 25,
   "metadata": {},
   "outputs": [
    {
     "data": {
      "text/html": [
       "<div>\n",
       "<style scoped>\n",
       "    .dataframe tbody tr th:only-of-type {\n",
       "        vertical-align: middle;\n",
       "    }\n",
       "\n",
       "    .dataframe tbody tr th {\n",
       "        vertical-align: top;\n",
       "    }\n",
       "\n",
       "    .dataframe thead th {\n",
       "        text-align: right;\n",
       "    }\n",
       "</style>\n",
       "<table border=\"1\" class=\"dataframe\">\n",
       "  <thead>\n",
       "    <tr style=\"text-align: right;\">\n",
       "      <th></th>\n",
       "      <th>matrix</th>\n",
       "      <th>platform</th>\n",
       "      <th>tactic</th>\n",
       "      <th>technique</th>\n",
       "      <th>technique_id</th>\n",
       "      <th>data_sources</th>\n",
       "      <th>Count_DS</th>\n",
       "      <th>Ind_DS</th>\n",
       "    </tr>\n",
       "  </thead>\n",
       "  <tbody>\n",
       "    <tr>\n",
       "      <th>0</th>\n",
       "      <td>mitre-attack</td>\n",
       "      <td>[PRE]</td>\n",
       "      <td>[resource-development]</td>\n",
       "      <td>Link Target</td>\n",
       "      <td>T1608.005</td>\n",
       "      <td>NaN</td>\n",
       "      <td>NaN</td>\n",
       "      <td>Without DS</td>\n",
       "    </tr>\n",
       "    <tr>\n",
       "      <th>1</th>\n",
       "      <td>mitre-attack</td>\n",
       "      <td>[PRE]</td>\n",
       "      <td>[resource-development]</td>\n",
       "      <td>Drive-by Target</td>\n",
       "      <td>T1608.004</td>\n",
       "      <td>NaN</td>\n",
       "      <td>NaN</td>\n",
       "      <td>Without DS</td>\n",
       "    </tr>\n",
       "    <tr>\n",
       "      <th>2</th>\n",
       "      <td>mitre-attack</td>\n",
       "      <td>[PRE]</td>\n",
       "      <td>[resource-development]</td>\n",
       "      <td>Install Digital Certificate</td>\n",
       "      <td>T1608.003</td>\n",
       "      <td>NaN</td>\n",
       "      <td>NaN</td>\n",
       "      <td>Without DS</td>\n",
       "    </tr>\n",
       "    <tr>\n",
       "      <th>3</th>\n",
       "      <td>mitre-attack</td>\n",
       "      <td>[PRE]</td>\n",
       "      <td>[resource-development]</td>\n",
       "      <td>Upload Tool</td>\n",
       "      <td>T1608.002</td>\n",
       "      <td>NaN</td>\n",
       "      <td>NaN</td>\n",
       "      <td>Without DS</td>\n",
       "    </tr>\n",
       "    <tr>\n",
       "      <th>4</th>\n",
       "      <td>mitre-attack</td>\n",
       "      <td>[PRE]</td>\n",
       "      <td>[resource-development]</td>\n",
       "      <td>Upload Malware</td>\n",
       "      <td>T1608.001</td>\n",
       "      <td>NaN</td>\n",
       "      <td>NaN</td>\n",
       "      <td>Without DS</td>\n",
       "    </tr>\n",
       "  </tbody>\n",
       "</table>\n",
       "</div>"
      ],
      "text/plain": [
       "         matrix platform                  tactic                    technique  \\\n",
       "0  mitre-attack    [PRE]  [resource-development]                  Link Target   \n",
       "1  mitre-attack    [PRE]  [resource-development]              Drive-by Target   \n",
       "2  mitre-attack    [PRE]  [resource-development]  Install Digital Certificate   \n",
       "3  mitre-attack    [PRE]  [resource-development]                  Upload Tool   \n",
       "4  mitre-attack    [PRE]  [resource-development]               Upload Malware   \n",
       "\n",
       "  technique_id data_sources  Count_DS      Ind_DS  \n",
       "0    T1608.005          NaN       NaN  Without DS  \n",
       "1    T1608.004          NaN       NaN  Without DS  \n",
       "2    T1608.003          NaN       NaN  Without DS  \n",
       "3    T1608.002          NaN       NaN  Without DS  \n",
       "4    T1608.001          NaN       NaN  Without DS  "
      ]
     },
     "execution_count": 25,
     "metadata": {},
     "output_type": "execute_result"
    }
   ],
   "source": [
    "techniques_without_data_sources.head()"
   ]
  },
  {
   "cell_type": "code",
   "execution_count": 26,
   "metadata": {},
   "outputs": [
    {
     "name": "stdout",
     "output_type": "stream",
     "text": [
      "There are  372  techniques without data sources ( 41%  of  916  techniques)\n"
     ]
    }
   ],
   "source": [
    "print('There are ',techniques['data_sources'].isna().sum(),' techniques without data sources (',\"{0:.0%}\".format(techniques['data_sources'].isna().sum()/len(techniques)),' of ',len(techniques),' techniques)')"
   ]
  },
  {
   "cell_type": "markdown",
   "metadata": {},
   "source": [
    "### Techniques With Data Sources"
   ]
  },
  {
   "cell_type": "code",
   "execution_count": 27,
   "metadata": {},
   "outputs": [],
   "source": [
    "techniques_with_data_sources=techniques[techniques.data_sources.notnull()].reset_index(drop=True)"
   ]
  },
  {
   "cell_type": "code",
   "execution_count": 28,
   "metadata": {},
   "outputs": [
    {
     "data": {
      "text/html": [
       "<div>\n",
       "<style scoped>\n",
       "    .dataframe tbody tr th:only-of-type {\n",
       "        vertical-align: middle;\n",
       "    }\n",
       "\n",
       "    .dataframe tbody tr th {\n",
       "        vertical-align: top;\n",
       "    }\n",
       "\n",
       "    .dataframe thead th {\n",
       "        text-align: right;\n",
       "    }\n",
       "</style>\n",
       "<table border=\"1\" class=\"dataframe\">\n",
       "  <thead>\n",
       "    <tr style=\"text-align: right;\">\n",
       "      <th></th>\n",
       "      <th>matrix</th>\n",
       "      <th>platform</th>\n",
       "      <th>tactic</th>\n",
       "      <th>technique</th>\n",
       "      <th>technique_id</th>\n",
       "      <th>data_sources</th>\n",
       "      <th>Count_DS</th>\n",
       "      <th>Ind_DS</th>\n",
       "    </tr>\n",
       "  </thead>\n",
       "  <tbody>\n",
       "    <tr>\n",
       "      <th>0</th>\n",
       "      <td>mitre-attack</td>\n",
       "      <td>[Windows, macOS]</td>\n",
       "      <td>[defense-evasion]</td>\n",
       "      <td>Code Signing Policy Modification</td>\n",
       "      <td>T1553.006</td>\n",
       "      <td>[Windows Registry: Windows Registry Key Modifi...</td>\n",
       "      <td>3.0</td>\n",
       "      <td>With DS</td>\n",
       "    </tr>\n",
       "    <tr>\n",
       "      <th>1</th>\n",
       "      <td>mitre-attack</td>\n",
       "      <td>[Windows, Linux, macOS, IaaS]</td>\n",
       "      <td>[discovery]</td>\n",
       "      <td>System Location Discovery</td>\n",
       "      <td>T1614</td>\n",
       "      <td>[Instance: Instance Metadata, Process: Process...</td>\n",
       "      <td>4.0</td>\n",
       "      <td>With DS</td>\n",
       "    </tr>\n",
       "    <tr>\n",
       "      <th>2</th>\n",
       "      <td>mitre-attack</td>\n",
       "      <td>[Containers]</td>\n",
       "      <td>[discovery]</td>\n",
       "      <td>Container and Resource Discovery</td>\n",
       "      <td>T1613</td>\n",
       "      <td>[Cluster: Cluster Metadata, Container: Contain...</td>\n",
       "      <td>6.0</td>\n",
       "      <td>With DS</td>\n",
       "    </tr>\n",
       "    <tr>\n",
       "      <th>3</th>\n",
       "      <td>mitre-attack</td>\n",
       "      <td>[Containers]</td>\n",
       "      <td>[credential-access]</td>\n",
       "      <td>Container API</td>\n",
       "      <td>T1552.007</td>\n",
       "      <td>[Command: Command Execution, File: File Access...</td>\n",
       "      <td>3.0</td>\n",
       "      <td>With DS</td>\n",
       "    </tr>\n",
       "    <tr>\n",
       "      <th>4</th>\n",
       "      <td>mitre-attack</td>\n",
       "      <td>[Containers]</td>\n",
       "      <td>[defense-evasion]</td>\n",
       "      <td>Build Image on Host</td>\n",
       "      <td>T1612</td>\n",
       "      <td>[Image: Image Creation, Network Traffic: Netwo...</td>\n",
       "      <td>4.0</td>\n",
       "      <td>With DS</td>\n",
       "    </tr>\n",
       "  </tbody>\n",
       "</table>\n",
       "</div>"
      ],
      "text/plain": [
       "         matrix                       platform               tactic  \\\n",
       "0  mitre-attack               [Windows, macOS]    [defense-evasion]   \n",
       "1  mitre-attack  [Windows, Linux, macOS, IaaS]          [discovery]   \n",
       "2  mitre-attack                   [Containers]          [discovery]   \n",
       "3  mitre-attack                   [Containers]  [credential-access]   \n",
       "4  mitre-attack                   [Containers]    [defense-evasion]   \n",
       "\n",
       "                          technique technique_id  \\\n",
       "0  Code Signing Policy Modification    T1553.006   \n",
       "1         System Location Discovery        T1614   \n",
       "2  Container and Resource Discovery        T1613   \n",
       "3                     Container API    T1552.007   \n",
       "4               Build Image on Host        T1612   \n",
       "\n",
       "                                        data_sources  Count_DS   Ind_DS  \n",
       "0  [Windows Registry: Windows Registry Key Modifi...       3.0  With DS  \n",
       "1  [Instance: Instance Metadata, Process: Process...       4.0  With DS  \n",
       "2  [Cluster: Cluster Metadata, Container: Contain...       6.0  With DS  \n",
       "3  [Command: Command Execution, File: File Access...       3.0  With DS  \n",
       "4  [Image: Image Creation, Network Traffic: Netwo...       4.0  With DS  "
      ]
     },
     "execution_count": 28,
     "metadata": {},
     "output_type": "execute_result"
    }
   ],
   "source": [
    "techniques_with_data_sources.head()"
   ]
  },
  {
   "cell_type": "code",
   "execution_count": 29,
   "metadata": {},
   "outputs": [
    {
     "name": "stdout",
     "output_type": "stream",
     "text": [
      "There are  544  techniques with data sources ( 59%  of  916  techniques)\n"
     ]
    }
   ],
   "source": [
    "print('There are ',techniques['data_sources'].notna().sum(),' techniques with data sources (',\"{0:.0%}\".format(techniques['data_sources'].notna().sum()/len(techniques)),' of ',len(techniques),' techniques)')"
   ]
  },
  {
   "cell_type": "markdown",
   "metadata": {},
   "source": [
    "## 12. Grouping Techniques With Data Sources By Matrix"
   ]
  },
  {
   "cell_type": "markdown",
   "metadata": {},
   "source": [
    "Let's create a graph to represent the number of techniques per matrix:"
   ]
  },
  {
   "cell_type": "code",
   "execution_count": 30,
   "metadata": {},
   "outputs": [
    {
     "data": {
      "text/html": [
       "\n",
       "<div id=\"altair-viz-816e5fbab8b046409a7410eefeb3f119\"></div>\n",
       "<script type=\"text/javascript\">\n",
       "  (function(spec, embedOpt){\n",
       "    let outputDiv = document.currentScript.previousElementSibling;\n",
       "    if (outputDiv.id !== \"altair-viz-816e5fbab8b046409a7410eefeb3f119\") {\n",
       "      outputDiv = document.getElementById(\"altair-viz-816e5fbab8b046409a7410eefeb3f119\");\n",
       "    }\n",
       "    const paths = {\n",
       "      \"vega\": \"https://cdn.jsdelivr.net/npm//vega@5?noext\",\n",
       "      \"vega-lib\": \"https://cdn.jsdelivr.net/npm//vega-lib?noext\",\n",
       "      \"vega-lite\": \"https://cdn.jsdelivr.net/npm//vega-lite@4.8.1?noext\",\n",
       "      \"vega-embed\": \"https://cdn.jsdelivr.net/npm//vega-embed@6?noext\",\n",
       "    };\n",
       "\n",
       "    function loadScript(lib) {\n",
       "      return new Promise(function(resolve, reject) {\n",
       "        var s = document.createElement('script');\n",
       "        s.src = paths[lib];\n",
       "        s.async = true;\n",
       "        s.onload = () => resolve(paths[lib]);\n",
       "        s.onerror = () => reject(`Error loading script: ${paths[lib]}`);\n",
       "        document.getElementsByTagName(\"head\")[0].appendChild(s);\n",
       "      });\n",
       "    }\n",
       "\n",
       "    function showError(err) {\n",
       "      outputDiv.innerHTML = `<div class=\"error\" style=\"color:red;\">${err}</div>`;\n",
       "      throw err;\n",
       "    }\n",
       "\n",
       "    function displayChart(vegaEmbed) {\n",
       "      vegaEmbed(outputDiv, spec, embedOpt)\n",
       "        .catch(err => showError(`Javascript Error: ${err.message}<br>This usually means there's a typo in your chart specification. See the javascript console for the full traceback.`));\n",
       "    }\n",
       "\n",
       "    if(typeof define === \"function\" && define.amd) {\n",
       "      requirejs.config({paths});\n",
       "      require([\"vega-embed\"], displayChart, err => showError(`Error loading script: ${err.message}`));\n",
       "    } else if (typeof vegaEmbed === \"function\") {\n",
       "      displayChart(vegaEmbed);\n",
       "    } else {\n",
       "      loadScript(\"vega\")\n",
       "        .then(() => loadScript(\"vega-lite\"))\n",
       "        .then(() => loadScript(\"vega-embed\"))\n",
       "        .catch(showError)\n",
       "        .then(() => displayChart(vegaEmbed));\n",
       "    }\n",
       "  })({\"config\": {\"view\": {\"continuousWidth\": 400, \"continuousHeight\": 300}}, \"layer\": [{\"mark\": \"bar\", \"encoding\": {\"x\": {\"type\": \"quantitative\", \"field\": \"Count of Techniques\"}, \"y\": {\"type\": \"nominal\", \"field\": \"Matrix\"}}, \"height\": 100, \"width\": 300}, {\"mark\": {\"type\": \"text\", \"align\": \"center\", \"baseline\": \"middle\", \"dx\": 10, \"dy\": 0}, \"encoding\": {\"text\": {\"type\": \"quantitative\", \"field\": \"Count of Techniques\"}, \"x\": {\"type\": \"quantitative\", \"field\": \"Count of Techniques\"}, \"y\": {\"type\": \"nominal\", \"field\": \"Matrix\"}}, \"height\": 100, \"width\": 300}], \"data\": {\"name\": \"data-553aa806ed3672e533c3c921886b7a77\"}, \"$schema\": \"https://vega.github.io/schema/vega-lite/v4.8.1.json\", \"datasets\": {\"data-553aa806ed3672e533c3c921886b7a77\": [{\"Matrix\": \"mitre-attack\", \"Count of Techniques\": 472}, {\"Matrix\": \"mitre-ics-attack\", \"Count of Techniques\": 72}]}}, {\"mode\": \"vega-lite\"});\n",
       "</script>"
      ],
      "text/plain": [
       "alt.LayerChart(...)"
      ]
     },
     "execution_count": 30,
     "metadata": {},
     "output_type": "execute_result"
    }
   ],
   "source": [
    "matrix_distribution = pandas.DataFrame({\n",
    "    'Matrix': list(techniques_with_data_sources.groupby(['matrix'])['matrix'].count().keys()),\n",
    "    'Count of Techniques': techniques_with_data_sources.groupby(['matrix'])['matrix'].count().tolist()})\n",
    "bars = alt.Chart(matrix_distribution).mark_bar().encode(y='Matrix',x='Count of Techniques').properties(width=300,height=100)\n",
    "text = bars.mark_text(align='center',baseline='middle',dx=10,dy=0).encode(text='Count of Techniques')\n",
    "bars + text"
   ]
  },
  {
   "cell_type": "markdown",
   "metadata": {},
   "source": [
    "All the techniques belong to **mitre-attack** matrix which is the main **Enterprise** matrix. Reference: https://attack.mitre.org/wiki/Main_Page "
   ]
  },
  {
   "cell_type": "markdown",
   "metadata": {},
   "source": [
    "## 13. Grouping Techniques With Data Sources by Platform"
   ]
  },
  {
   "cell_type": "markdown",
   "metadata": {},
   "source": [
    "First, we need to split the **platform** column values because a technique might be mapped to more than one platform"
   ]
  },
  {
   "cell_type": "code",
   "execution_count": 31,
   "metadata": {},
   "outputs": [],
   "source": [
    "techniques_platform=techniques_with_data_sources\n",
    "\n",
    "attributes_1 = ['platform'] # In attributes we are going to indicate the name of the columns that we need to split\n",
    "\n",
    "for a in attributes_1:\n",
    "    s = techniques_platform.apply(lambda x: pandas.Series(x[a]),axis=1).stack().reset_index(level=1, drop=True)\n",
    "    # \"s\" is going to be a column of a frame with every value of the list inside each cell of the column \"a\"\n",
    "    s.name = a\n",
    "    # We name \"s\" with the same name of \"a\".\n",
    "    techniques_platform=techniques_platform.drop(a, axis=1).join(s).reset_index(drop=True)\n",
    "    # We drop the column \"a\" from \"techniques_platform\", and then join \"techniques_platform\" with \"s\"\n",
    "\n",
    "# Let's re-arrange the columns from general to specific\n",
    "techniques_platform_2=techniques_platform.reindex(['matrix','platform','tactic','technique','technique_id','data_sources'], axis=1)"
   ]
  },
  {
   "cell_type": "markdown",
   "metadata": {},
   "source": [
    "We can now show techniques with data sources mapped to one platform at the time"
   ]
  },
  {
   "cell_type": "code",
   "execution_count": 32,
   "metadata": {},
   "outputs": [
    {
     "data": {
      "text/html": [
       "<div>\n",
       "<style scoped>\n",
       "    .dataframe tbody tr th:only-of-type {\n",
       "        vertical-align: middle;\n",
       "    }\n",
       "\n",
       "    .dataframe tbody tr th {\n",
       "        vertical-align: top;\n",
       "    }\n",
       "\n",
       "    .dataframe thead th {\n",
       "        text-align: right;\n",
       "    }\n",
       "</style>\n",
       "<table border=\"1\" class=\"dataframe\">\n",
       "  <thead>\n",
       "    <tr style=\"text-align: right;\">\n",
       "      <th></th>\n",
       "      <th>matrix</th>\n",
       "      <th>platform</th>\n",
       "      <th>tactic</th>\n",
       "      <th>technique</th>\n",
       "      <th>technique_id</th>\n",
       "      <th>data_sources</th>\n",
       "    </tr>\n",
       "  </thead>\n",
       "  <tbody>\n",
       "    <tr>\n",
       "      <th>0</th>\n",
       "      <td>mitre-attack</td>\n",
       "      <td>Windows</td>\n",
       "      <td>[defense-evasion]</td>\n",
       "      <td>Code Signing Policy Modification</td>\n",
       "      <td>T1553.006</td>\n",
       "      <td>[Windows Registry: Windows Registry Key Modifi...</td>\n",
       "    </tr>\n",
       "    <tr>\n",
       "      <th>1</th>\n",
       "      <td>mitre-attack</td>\n",
       "      <td>macOS</td>\n",
       "      <td>[defense-evasion]</td>\n",
       "      <td>Code Signing Policy Modification</td>\n",
       "      <td>T1553.006</td>\n",
       "      <td>[Windows Registry: Windows Registry Key Modifi...</td>\n",
       "    </tr>\n",
       "    <tr>\n",
       "      <th>2</th>\n",
       "      <td>mitre-attack</td>\n",
       "      <td>Windows</td>\n",
       "      <td>[discovery]</td>\n",
       "      <td>System Location Discovery</td>\n",
       "      <td>T1614</td>\n",
       "      <td>[Instance: Instance Metadata, Process: Process...</td>\n",
       "    </tr>\n",
       "    <tr>\n",
       "      <th>3</th>\n",
       "      <td>mitre-attack</td>\n",
       "      <td>Linux</td>\n",
       "      <td>[discovery]</td>\n",
       "      <td>System Location Discovery</td>\n",
       "      <td>T1614</td>\n",
       "      <td>[Instance: Instance Metadata, Process: Process...</td>\n",
       "    </tr>\n",
       "    <tr>\n",
       "      <th>4</th>\n",
       "      <td>mitre-attack</td>\n",
       "      <td>macOS</td>\n",
       "      <td>[discovery]</td>\n",
       "      <td>System Location Discovery</td>\n",
       "      <td>T1614</td>\n",
       "      <td>[Instance: Instance Metadata, Process: Process...</td>\n",
       "    </tr>\n",
       "  </tbody>\n",
       "</table>\n",
       "</div>"
      ],
      "text/plain": [
       "         matrix platform             tactic                         technique  \\\n",
       "0  mitre-attack  Windows  [defense-evasion]  Code Signing Policy Modification   \n",
       "1  mitre-attack    macOS  [defense-evasion]  Code Signing Policy Modification   \n",
       "2  mitre-attack  Windows        [discovery]         System Location Discovery   \n",
       "3  mitre-attack    Linux        [discovery]         System Location Discovery   \n",
       "4  mitre-attack    macOS        [discovery]         System Location Discovery   \n",
       "\n",
       "  technique_id                                       data_sources  \n",
       "0    T1553.006  [Windows Registry: Windows Registry Key Modifi...  \n",
       "1    T1553.006  [Windows Registry: Windows Registry Key Modifi...  \n",
       "2        T1614  [Instance: Instance Metadata, Process: Process...  \n",
       "3        T1614  [Instance: Instance Metadata, Process: Process...  \n",
       "4        T1614  [Instance: Instance Metadata, Process: Process...  "
      ]
     },
     "execution_count": 32,
     "metadata": {},
     "output_type": "execute_result"
    }
   ],
   "source": [
    "techniques_platform_2.head()"
   ]
  },
  {
   "cell_type": "markdown",
   "metadata": {},
   "source": [
    "Let's create a visualization to show the number of techniques grouped by platform:"
   ]
  },
  {
   "cell_type": "code",
   "execution_count": 33,
   "metadata": {},
   "outputs": [
    {
     "data": {
      "text/html": [
       "\n",
       "<div id=\"altair-viz-da5a1a1061b9406fa78941fd93077638\"></div>\n",
       "<script type=\"text/javascript\">\n",
       "  (function(spec, embedOpt){\n",
       "    let outputDiv = document.currentScript.previousElementSibling;\n",
       "    if (outputDiv.id !== \"altair-viz-da5a1a1061b9406fa78941fd93077638\") {\n",
       "      outputDiv = document.getElementById(\"altair-viz-da5a1a1061b9406fa78941fd93077638\");\n",
       "    }\n",
       "    const paths = {\n",
       "      \"vega\": \"https://cdn.jsdelivr.net/npm//vega@5?noext\",\n",
       "      \"vega-lib\": \"https://cdn.jsdelivr.net/npm//vega-lib?noext\",\n",
       "      \"vega-lite\": \"https://cdn.jsdelivr.net/npm//vega-lite@4.8.1?noext\",\n",
       "      \"vega-embed\": \"https://cdn.jsdelivr.net/npm//vega-embed@6?noext\",\n",
       "    };\n",
       "\n",
       "    function loadScript(lib) {\n",
       "      return new Promise(function(resolve, reject) {\n",
       "        var s = document.createElement('script');\n",
       "        s.src = paths[lib];\n",
       "        s.async = true;\n",
       "        s.onload = () => resolve(paths[lib]);\n",
       "        s.onerror = () => reject(`Error loading script: ${paths[lib]}`);\n",
       "        document.getElementsByTagName(\"head\")[0].appendChild(s);\n",
       "      });\n",
       "    }\n",
       "\n",
       "    function showError(err) {\n",
       "      outputDiv.innerHTML = `<div class=\"error\" style=\"color:red;\">${err}</div>`;\n",
       "      throw err;\n",
       "    }\n",
       "\n",
       "    function displayChart(vegaEmbed) {\n",
       "      vegaEmbed(outputDiv, spec, embedOpt)\n",
       "        .catch(err => showError(`Javascript Error: ${err.message}<br>This usually means there's a typo in your chart specification. See the javascript console for the full traceback.`));\n",
       "    }\n",
       "\n",
       "    if(typeof define === \"function\" && define.amd) {\n",
       "      requirejs.config({paths});\n",
       "      require([\"vega-embed\"], displayChart, err => showError(`Error loading script: ${err.message}`));\n",
       "    } else if (typeof vegaEmbed === \"function\") {\n",
       "      displayChart(vegaEmbed);\n",
       "    } else {\n",
       "      loadScript(\"vega\")\n",
       "        .then(() => loadScript(\"vega-lite\"))\n",
       "        .then(() => loadScript(\"vega-embed\"))\n",
       "        .catch(showError)\n",
       "        .then(() => displayChart(vegaEmbed));\n",
       "    }\n",
       "  })({\"config\": {\"view\": {\"continuousWidth\": 400, \"continuousHeight\": 300}}, \"layer\": [{\"mark\": \"bar\", \"encoding\": {\"color\": {\"type\": \"nominal\", \"field\": \"Platform\"}, \"x\": {\"type\": \"nominal\", \"field\": \"Platform\"}, \"y\": {\"type\": \"quantitative\", \"field\": \"Count of Techniques\"}}, \"height\": 300, \"width\": 200}, {\"mark\": {\"type\": \"text\", \"align\": \"center\", \"baseline\": \"middle\", \"dx\": 0, \"dy\": -5}, \"encoding\": {\"color\": {\"type\": \"nominal\", \"field\": \"Platform\"}, \"text\": {\"type\": \"quantitative\", \"field\": \"Count of Techniques\"}, \"x\": {\"type\": \"nominal\", \"field\": \"Platform\"}, \"y\": {\"type\": \"quantitative\", \"field\": \"Count of Techniques\"}}, \"height\": 300, \"width\": 200}], \"data\": {\"name\": \"data-9faab5713c5e6b02ac6a4e35c2c39c14\"}, \"$schema\": \"https://vega.github.io/schema/vega-lite/v4.8.1.json\", \"datasets\": {\"data-9faab5713c5e6b02ac6a4e35c2c39c14\": [{\"Platform\": \"Azure AD\", \"Count of Techniques\": 33}, {\"Platform\": \"Containers\", \"Count of Techniques\": 32}, {\"Platform\": \"Control Server\", \"Count of Techniques\": 27}, {\"Platform\": \"Data Historian\", \"Count of Techniques\": 15}, {\"Platform\": \"Engineering Workstation\", \"Count of Techniques\": 14}, {\"Platform\": \"Field Controller/RTU/PLC/IED\", \"Count of Techniques\": 44}, {\"Platform\": \"Google Workspace\", \"Count of Techniques\": 41}, {\"Platform\": \"Human-Machine Interface\", \"Count of Techniques\": 29}, {\"Platform\": \"IaaS\", \"Count of Techniques\": 58}, {\"Platform\": \"Input/Output Server\", \"Count of Techniques\": 9}, {\"Platform\": \"Linux\", \"Count of Techniques\": 248}, {\"Platform\": \"Network\", \"Count of Techniques\": 29}, {\"Platform\": \"Office 365\", \"Count of Techniques\": 53}, {\"Platform\": \"PRE\", \"Count of Techniques\": 8}, {\"Platform\": \"SaaS\", \"Count of Techniques\": 37}, {\"Platform\": \"Safety Instrumented System/Protection Relay\", \"Count of Techniques\": 22}, {\"Platform\": \"Windows\", \"Count of Techniques\": 391}, {\"Platform\": \"macOS\", \"Count of Techniques\": 258}]}}, {\"mode\": \"vega-lite\"});\n",
       "</script>"
      ],
      "text/plain": [
       "alt.LayerChart(...)"
      ]
     },
     "execution_count": 33,
     "metadata": {},
     "output_type": "execute_result"
    }
   ],
   "source": [
    "platform_distribution = pandas.DataFrame({\n",
    "    'Platform': list(techniques_platform_2.groupby(['platform'])['platform'].count().keys()),\n",
    "    'Count of Techniques': techniques_platform_2.groupby(['platform'])['platform'].count().tolist()})\n",
    "bars = alt.Chart(platform_distribution,height=300).mark_bar().encode(x ='Platform',y='Count of Techniques',color='Platform').properties(width=200)\n",
    "text = bars.mark_text(align='center',baseline='middle',dx=0,dy=-5).encode(text='Count of Techniques')\n",
    "bars + text"
   ]
  },
  {
   "cell_type": "markdown",
   "metadata": {},
   "source": [
    "In the bar chart above we can see that there are more techniques with data sources mapped to the Windows platform."
   ]
  },
  {
   "cell_type": "markdown",
   "metadata": {},
   "source": [
    "## 14. Grouping Techniques With Data Sources by Tactic"
   ]
  },
  {
   "cell_type": "markdown",
   "metadata": {},
   "source": [
    "Again, first we need to split the tactic column values because a technique might be mapped to more than one tactic:"
   ]
  },
  {
   "cell_type": "code",
   "execution_count": 34,
   "metadata": {},
   "outputs": [],
   "source": [
    "techniques_tactic=techniques_with_data_sources\n",
    "\n",
    "attributes_2 = ['tactic'] # In attributes we are going to indicate the name of the columns that we need to split\n",
    "\n",
    "for a in attributes_2:\n",
    "    s = techniques_tactic.apply(lambda x: pandas.Series(x[a]),axis=1).stack().reset_index(level=1, drop=True)\n",
    "    # \"s\" is going to be a column of a frame with every value of the list inside each cell of the column \"a\"\n",
    "    s.name = a\n",
    "    # We name \"s\" with the same name of \"a\".\n",
    "    techniques_tactic = techniques_tactic.drop(a, axis=1).join(s).reset_index(drop=True)\n",
    "    # We drop the column \"a\" from \"techniques_tactic\", and then join \"techniques_tactic\" with \"s\"\n",
    "\n",
    "# Let's re-arrange the columns from general to specific\n",
    "techniques_tactic_2=techniques_tactic.reindex(['matrix','platform','tactic','technique','technique_id','data_sources'], axis=1)\n"
   ]
  },
  {
   "cell_type": "markdown",
   "metadata": {},
   "source": [
    "We can now show techniques with data sources mapped to one tactic at the time"
   ]
  },
  {
   "cell_type": "code",
   "execution_count": 35,
   "metadata": {},
   "outputs": [
    {
     "data": {
      "text/html": [
       "<div>\n",
       "<style scoped>\n",
       "    .dataframe tbody tr th:only-of-type {\n",
       "        vertical-align: middle;\n",
       "    }\n",
       "\n",
       "    .dataframe tbody tr th {\n",
       "        vertical-align: top;\n",
       "    }\n",
       "\n",
       "    .dataframe thead th {\n",
       "        text-align: right;\n",
       "    }\n",
       "</style>\n",
       "<table border=\"1\" class=\"dataframe\">\n",
       "  <thead>\n",
       "    <tr style=\"text-align: right;\">\n",
       "      <th></th>\n",
       "      <th>matrix</th>\n",
       "      <th>platform</th>\n",
       "      <th>tactic</th>\n",
       "      <th>technique</th>\n",
       "      <th>technique_id</th>\n",
       "      <th>data_sources</th>\n",
       "    </tr>\n",
       "  </thead>\n",
       "  <tbody>\n",
       "    <tr>\n",
       "      <th>0</th>\n",
       "      <td>mitre-attack</td>\n",
       "      <td>[Windows, macOS]</td>\n",
       "      <td>defense-evasion</td>\n",
       "      <td>Code Signing Policy Modification</td>\n",
       "      <td>T1553.006</td>\n",
       "      <td>[Windows Registry: Windows Registry Key Modifi...</td>\n",
       "    </tr>\n",
       "    <tr>\n",
       "      <th>1</th>\n",
       "      <td>mitre-attack</td>\n",
       "      <td>[Windows, Linux, macOS, IaaS]</td>\n",
       "      <td>discovery</td>\n",
       "      <td>System Location Discovery</td>\n",
       "      <td>T1614</td>\n",
       "      <td>[Instance: Instance Metadata, Process: Process...</td>\n",
       "    </tr>\n",
       "    <tr>\n",
       "      <th>2</th>\n",
       "      <td>mitre-attack</td>\n",
       "      <td>[Containers]</td>\n",
       "      <td>discovery</td>\n",
       "      <td>Container and Resource Discovery</td>\n",
       "      <td>T1613</td>\n",
       "      <td>[Cluster: Cluster Metadata, Container: Contain...</td>\n",
       "    </tr>\n",
       "    <tr>\n",
       "      <th>3</th>\n",
       "      <td>mitre-attack</td>\n",
       "      <td>[Containers]</td>\n",
       "      <td>credential-access</td>\n",
       "      <td>Container API</td>\n",
       "      <td>T1552.007</td>\n",
       "      <td>[Command: Command Execution, File: File Access...</td>\n",
       "    </tr>\n",
       "    <tr>\n",
       "      <th>4</th>\n",
       "      <td>mitre-attack</td>\n",
       "      <td>[Containers]</td>\n",
       "      <td>defense-evasion</td>\n",
       "      <td>Build Image on Host</td>\n",
       "      <td>T1612</td>\n",
       "      <td>[Image: Image Creation, Network Traffic: Netwo...</td>\n",
       "    </tr>\n",
       "  </tbody>\n",
       "</table>\n",
       "</div>"
      ],
      "text/plain": [
       "         matrix                       platform             tactic  \\\n",
       "0  mitre-attack               [Windows, macOS]    defense-evasion   \n",
       "1  mitre-attack  [Windows, Linux, macOS, IaaS]          discovery   \n",
       "2  mitre-attack                   [Containers]          discovery   \n",
       "3  mitre-attack                   [Containers]  credential-access   \n",
       "4  mitre-attack                   [Containers]    defense-evasion   \n",
       "\n",
       "                          technique technique_id  \\\n",
       "0  Code Signing Policy Modification    T1553.006   \n",
       "1         System Location Discovery        T1614   \n",
       "2  Container and Resource Discovery        T1613   \n",
       "3                     Container API    T1552.007   \n",
       "4               Build Image on Host        T1612   \n",
       "\n",
       "                                        data_sources  \n",
       "0  [Windows Registry: Windows Registry Key Modifi...  \n",
       "1  [Instance: Instance Metadata, Process: Process...  \n",
       "2  [Cluster: Cluster Metadata, Container: Contain...  \n",
       "3  [Command: Command Execution, File: File Access...  \n",
       "4  [Image: Image Creation, Network Traffic: Netwo...  "
      ]
     },
     "execution_count": 35,
     "metadata": {},
     "output_type": "execute_result"
    }
   ],
   "source": [
    "techniques_tactic_2.head()"
   ]
  },
  {
   "cell_type": "markdown",
   "metadata": {},
   "source": [
    "Let's create a visualization to show the number of techniques grouped by tactic:"
   ]
  },
  {
   "cell_type": "code",
   "execution_count": 36,
   "metadata": {},
   "outputs": [
    {
     "data": {
      "text/html": [
       "\n",
       "<div id=\"altair-viz-c1397573e3ee45f4b5f2836d366da270\"></div>\n",
       "<script type=\"text/javascript\">\n",
       "  (function(spec, embedOpt){\n",
       "    let outputDiv = document.currentScript.previousElementSibling;\n",
       "    if (outputDiv.id !== \"altair-viz-c1397573e3ee45f4b5f2836d366da270\") {\n",
       "      outputDiv = document.getElementById(\"altair-viz-c1397573e3ee45f4b5f2836d366da270\");\n",
       "    }\n",
       "    const paths = {\n",
       "      \"vega\": \"https://cdn.jsdelivr.net/npm//vega@5?noext\",\n",
       "      \"vega-lib\": \"https://cdn.jsdelivr.net/npm//vega-lib?noext\",\n",
       "      \"vega-lite\": \"https://cdn.jsdelivr.net/npm//vega-lite@4.8.1?noext\",\n",
       "      \"vega-embed\": \"https://cdn.jsdelivr.net/npm//vega-embed@6?noext\",\n",
       "    };\n",
       "\n",
       "    function loadScript(lib) {\n",
       "      return new Promise(function(resolve, reject) {\n",
       "        var s = document.createElement('script');\n",
       "        s.src = paths[lib];\n",
       "        s.async = true;\n",
       "        s.onload = () => resolve(paths[lib]);\n",
       "        s.onerror = () => reject(`Error loading script: ${paths[lib]}`);\n",
       "        document.getElementsByTagName(\"head\")[0].appendChild(s);\n",
       "      });\n",
       "    }\n",
       "\n",
       "    function showError(err) {\n",
       "      outputDiv.innerHTML = `<div class=\"error\" style=\"color:red;\">${err}</div>`;\n",
       "      throw err;\n",
       "    }\n",
       "\n",
       "    function displayChart(vegaEmbed) {\n",
       "      vegaEmbed(outputDiv, spec, embedOpt)\n",
       "        .catch(err => showError(`Javascript Error: ${err.message}<br>This usually means there's a typo in your chart specification. See the javascript console for the full traceback.`));\n",
       "    }\n",
       "\n",
       "    if(typeof define === \"function\" && define.amd) {\n",
       "      requirejs.config({paths});\n",
       "      require([\"vega-embed\"], displayChart, err => showError(`Error loading script: ${err.message}`));\n",
       "    } else if (typeof vegaEmbed === \"function\") {\n",
       "      displayChart(vegaEmbed);\n",
       "    } else {\n",
       "      loadScript(\"vega\")\n",
       "        .then(() => loadScript(\"vega-lite\"))\n",
       "        .then(() => loadScript(\"vega-embed\"))\n",
       "        .catch(showError)\n",
       "        .then(() => displayChart(vegaEmbed));\n",
       "    }\n",
       "  })({\"config\": {\"view\": {\"continuousWidth\": 400, \"continuousHeight\": 300}}, \"layer\": [{\"mark\": \"bar\", \"encoding\": {\"color\": {\"type\": \"nominal\", \"field\": \"Tactic\"}, \"x\": {\"type\": \"nominal\", \"field\": \"Tactic\"}, \"y\": {\"type\": \"quantitative\", \"field\": \"Count of Techniques\"}}, \"height\": 300, \"width\": 400}, {\"mark\": {\"type\": \"text\", \"align\": \"center\", \"baseline\": \"middle\", \"dx\": 0, \"dy\": -5}, \"encoding\": {\"color\": {\"type\": \"nominal\", \"field\": \"Tactic\"}, \"text\": {\"type\": \"quantitative\", \"field\": \"Count of Techniques\"}, \"x\": {\"type\": \"nominal\", \"field\": \"Tactic\"}, \"y\": {\"type\": \"quantitative\", \"field\": \"Count of Techniques\"}}, \"height\": 300, \"width\": 400}], \"data\": {\"name\": \"data-4e340dc6a0664a9850e9273f0805fc98\"}, \"$schema\": \"https://vega.github.io/schema/vega-lite/v4.8.1.json\", \"datasets\": {\"data-4e340dc6a0664a9850e9273f0805fc98\": [{\"Tactic\": \"privilege-escalation-ics\", \"Count of Techniques\": 1}, {\"Tactic\": \"command-and-control-ics\", \"Count of Techniques\": 2}, {\"Tactic\": \"persistence-ics\", \"Count of Techniques\": 5}, {\"Tactic\": \"lateral-movement-ics\", \"Count of Techniques\": 6}, {\"Tactic\": \"evasion-ics\", \"Count of Techniques\": 6}, {\"Tactic\": \"impair-process-control\", \"Count of Techniques\": 7}, {\"Tactic\": \"reconnaissance\", \"Count of Techniques\": 8}, {\"Tactic\": \"discovery-ics\", \"Count of Techniques\": 8}, {\"Tactic\": \"execution-ics\", \"Count of Techniques\": 10}, {\"Tactic\": \"collection-ics\", \"Count of Techniques\": 12}, {\"Tactic\": \"initial-access-ics\", \"Count of Techniques\": 12}, {\"Tactic\": \"initial-access\", \"Count of Techniques\": 14}, {\"Tactic\": \"inhibit-response-function\", \"Count of Techniques\": 14}, {\"Tactic\": \"exfiltration\", \"Count of Techniques\": 17}, {\"Tactic\": \"lateral-movement\", \"Count of Techniques\": 21}, {\"Tactic\": \"impact\", \"Count of Techniques\": 26}, {\"Tactic\": \"execution\", \"Count of Techniques\": 33}, {\"Tactic\": \"collection\", \"Count of Techniques\": 35}, {\"Tactic\": \"command-and-control\", \"Count of Techniques\": 38}, {\"Tactic\": \"discovery\", \"Count of Techniques\": 39}, {\"Tactic\": \"credential-access\", \"Count of Techniques\": 54}, {\"Tactic\": \"privilege-escalation\", \"Count of Techniques\": 95}, {\"Tactic\": \"persistence\", \"Count of Techniques\": 105}, {\"Tactic\": \"defense-evasion\", \"Count of Techniques\": 153}]}}, {\"mode\": \"vega-lite\"});\n",
       "</script>"
      ],
      "text/plain": [
       "alt.LayerChart(...)"
      ]
     },
     "execution_count": 36,
     "metadata": {},
     "output_type": "execute_result"
    }
   ],
   "source": [
    "tactic_distribution = pandas.DataFrame({\n",
    "    'Tactic': list(techniques_tactic_2.groupby(['tactic'])['tactic'].count().keys()),\n",
    "    'Count of Techniques': techniques_tactic_2.groupby(['tactic'])['tactic'].count().tolist()}).sort_values(by='Count of Techniques',ascending=True)\n",
    "bars = alt.Chart(tactic_distribution,width=800,height=300).mark_bar().encode(x ='Tactic',y='Count of Techniques',color='Tactic').properties(width=400)\n",
    "text = bars.mark_text(align='center',baseline='middle',dx=0,dy=-5).encode(text='Count of Techniques')\n",
    "bars + text"
   ]
  },
  {
   "cell_type": "markdown",
   "metadata": {},
   "source": [
    "Defende-evasion and Persistence are tactics with the highest nummber of techniques with data sources"
   ]
  },
  {
   "cell_type": "markdown",
   "metadata": {},
   "source": [
    "## 15. Grouping Techniques With Data Sources by Data Source"
   ]
  },
  {
   "cell_type": "markdown",
   "metadata": {},
   "source": [
    "We need to split the data source column values because a technique might be mapped to more than one data source:"
   ]
  },
  {
   "cell_type": "code",
   "execution_count": 37,
   "metadata": {},
   "outputs": [],
   "source": [
    "techniques_data_source=techniques_with_data_sources\n",
    "\n",
    "attributes_3 = ['data_sources'] # In attributes we are going to indicate the name of the columns that we need to split\n",
    "\n",
    "for a in attributes_3:\n",
    "    s = techniques_data_source.apply(lambda x: pandas.Series(x[a]),axis=1).stack().reset_index(level=1, drop=True)\n",
    "    # \"s\" is going to be a column of a frame with every value of the list inside each cell of the column \"a\"\n",
    "    s.name = a\n",
    "    # We name \"s\" with the same name of \"a\".\n",
    "    techniques_data_source = techniques_data_source.drop(a, axis=1).join(s).reset_index(drop=True)\n",
    "    # We drop the column \"a\" from \"techniques_data_source\", and then join \"techniques_data_source\" with \"s\"\n",
    "\n",
    "# Let's re-arrange the columns from general to specific\n",
    "techniques_data_source_2 = techniques_data_source.reindex(['matrix','platform','tactic','technique','technique_id','data_sources'], axis=1)\n",
    "\n",
    "# We are going to edit some names inside the dataframe to improve the consistency:\n",
    "techniques_data_source_3 = techniques_data_source_2.replace(['Process monitoring','Application logs'],['Process Monitoring','Application Logs'])"
   ]
  },
  {
   "cell_type": "markdown",
   "metadata": {},
   "source": [
    "We can now show techniques with data sources mapped to one data source at the time"
   ]
  },
  {
   "cell_type": "code",
   "execution_count": 38,
   "metadata": {},
   "outputs": [
    {
     "data": {
      "text/html": [
       "<div>\n",
       "<style scoped>\n",
       "    .dataframe tbody tr th:only-of-type {\n",
       "        vertical-align: middle;\n",
       "    }\n",
       "\n",
       "    .dataframe tbody tr th {\n",
       "        vertical-align: top;\n",
       "    }\n",
       "\n",
       "    .dataframe thead th {\n",
       "        text-align: right;\n",
       "    }\n",
       "</style>\n",
       "<table border=\"1\" class=\"dataframe\">\n",
       "  <thead>\n",
       "    <tr style=\"text-align: right;\">\n",
       "      <th></th>\n",
       "      <th>matrix</th>\n",
       "      <th>platform</th>\n",
       "      <th>tactic</th>\n",
       "      <th>technique</th>\n",
       "      <th>technique_id</th>\n",
       "      <th>data_sources</th>\n",
       "    </tr>\n",
       "  </thead>\n",
       "  <tbody>\n",
       "    <tr>\n",
       "      <th>0</th>\n",
       "      <td>mitre-attack</td>\n",
       "      <td>[Windows, macOS]</td>\n",
       "      <td>[defense-evasion]</td>\n",
       "      <td>Code Signing Policy Modification</td>\n",
       "      <td>T1553.006</td>\n",
       "      <td>Windows Registry: Windows Registry Key Modific...</td>\n",
       "    </tr>\n",
       "    <tr>\n",
       "      <th>1</th>\n",
       "      <td>mitre-attack</td>\n",
       "      <td>[Windows, macOS]</td>\n",
       "      <td>[defense-evasion]</td>\n",
       "      <td>Code Signing Policy Modification</td>\n",
       "      <td>T1553.006</td>\n",
       "      <td>Command: Command Execution</td>\n",
       "    </tr>\n",
       "    <tr>\n",
       "      <th>2</th>\n",
       "      <td>mitre-attack</td>\n",
       "      <td>[Windows, macOS]</td>\n",
       "      <td>[defense-evasion]</td>\n",
       "      <td>Code Signing Policy Modification</td>\n",
       "      <td>T1553.006</td>\n",
       "      <td>Process: Process Creation</td>\n",
       "    </tr>\n",
       "    <tr>\n",
       "      <th>3</th>\n",
       "      <td>mitre-attack</td>\n",
       "      <td>[Windows, Linux, macOS, IaaS]</td>\n",
       "      <td>[discovery]</td>\n",
       "      <td>System Location Discovery</td>\n",
       "      <td>T1614</td>\n",
       "      <td>Instance: Instance Metadata</td>\n",
       "    </tr>\n",
       "    <tr>\n",
       "      <th>4</th>\n",
       "      <td>mitre-attack</td>\n",
       "      <td>[Windows, Linux, macOS, IaaS]</td>\n",
       "      <td>[discovery]</td>\n",
       "      <td>System Location Discovery</td>\n",
       "      <td>T1614</td>\n",
       "      <td>Process: Process Creation</td>\n",
       "    </tr>\n",
       "  </tbody>\n",
       "</table>\n",
       "</div>"
      ],
      "text/plain": [
       "         matrix                       platform             tactic  \\\n",
       "0  mitre-attack               [Windows, macOS]  [defense-evasion]   \n",
       "1  mitre-attack               [Windows, macOS]  [defense-evasion]   \n",
       "2  mitre-attack               [Windows, macOS]  [defense-evasion]   \n",
       "3  mitre-attack  [Windows, Linux, macOS, IaaS]        [discovery]   \n",
       "4  mitre-attack  [Windows, Linux, macOS, IaaS]        [discovery]   \n",
       "\n",
       "                          technique technique_id  \\\n",
       "0  Code Signing Policy Modification    T1553.006   \n",
       "1  Code Signing Policy Modification    T1553.006   \n",
       "2  Code Signing Policy Modification    T1553.006   \n",
       "3         System Location Discovery        T1614   \n",
       "4         System Location Discovery        T1614   \n",
       "\n",
       "                                        data_sources  \n",
       "0  Windows Registry: Windows Registry Key Modific...  \n",
       "1                         Command: Command Execution  \n",
       "2                          Process: Process Creation  \n",
       "3                        Instance: Instance Metadata  \n",
       "4                          Process: Process Creation  "
      ]
     },
     "execution_count": 38,
     "metadata": {},
     "output_type": "execute_result"
    }
   ],
   "source": [
    "techniques_data_source_3.head()"
   ]
  },
  {
   "cell_type": "markdown",
   "metadata": {},
   "source": [
    "Let's create a visualization to show the number of techniques grouped by data sources:"
   ]
  },
  {
   "cell_type": "code",
   "execution_count": 39,
   "metadata": {},
   "outputs": [
    {
     "data": {
      "text/html": [
       "\n",
       "<div id=\"altair-viz-2f16b95c221c452abde66a1c035c2a3d\"></div>\n",
       "<script type=\"text/javascript\">\n",
       "  (function(spec, embedOpt){\n",
       "    let outputDiv = document.currentScript.previousElementSibling;\n",
       "    if (outputDiv.id !== \"altair-viz-2f16b95c221c452abde66a1c035c2a3d\") {\n",
       "      outputDiv = document.getElementById(\"altair-viz-2f16b95c221c452abde66a1c035c2a3d\");\n",
       "    }\n",
       "    const paths = {\n",
       "      \"vega\": \"https://cdn.jsdelivr.net/npm//vega@5?noext\",\n",
       "      \"vega-lib\": \"https://cdn.jsdelivr.net/npm//vega-lib?noext\",\n",
       "      \"vega-lite\": \"https://cdn.jsdelivr.net/npm//vega-lite@4.8.1?noext\",\n",
       "      \"vega-embed\": \"https://cdn.jsdelivr.net/npm//vega-embed@6?noext\",\n",
       "    };\n",
       "\n",
       "    function loadScript(lib) {\n",
       "      return new Promise(function(resolve, reject) {\n",
       "        var s = document.createElement('script');\n",
       "        s.src = paths[lib];\n",
       "        s.async = true;\n",
       "        s.onload = () => resolve(paths[lib]);\n",
       "        s.onerror = () => reject(`Error loading script: ${paths[lib]}`);\n",
       "        document.getElementsByTagName(\"head\")[0].appendChild(s);\n",
       "      });\n",
       "    }\n",
       "\n",
       "    function showError(err) {\n",
       "      outputDiv.innerHTML = `<div class=\"error\" style=\"color:red;\">${err}</div>`;\n",
       "      throw err;\n",
       "    }\n",
       "\n",
       "    function displayChart(vegaEmbed) {\n",
       "      vegaEmbed(outputDiv, spec, embedOpt)\n",
       "        .catch(err => showError(`Javascript Error: ${err.message}<br>This usually means there's a typo in your chart specification. See the javascript console for the full traceback.`));\n",
       "    }\n",
       "\n",
       "    if(typeof define === \"function\" && define.amd) {\n",
       "      requirejs.config({paths});\n",
       "      require([\"vega-embed\"], displayChart, err => showError(`Error loading script: ${err.message}`));\n",
       "    } else if (typeof vegaEmbed === \"function\") {\n",
       "      displayChart(vegaEmbed);\n",
       "    } else {\n",
       "      loadScript(\"vega\")\n",
       "        .then(() => loadScript(\"vega-lite\"))\n",
       "        .then(() => loadScript(\"vega-embed\"))\n",
       "        .catch(showError)\n",
       "        .then(() => displayChart(vegaEmbed));\n",
       "    }\n",
       "  })({\"config\": {\"view\": {\"continuousWidth\": 400, \"continuousHeight\": 300}}, \"layer\": [{\"mark\": \"bar\", \"encoding\": {\"color\": {\"type\": \"nominal\", \"field\": \"Data Source\"}, \"x\": {\"type\": \"nominal\", \"field\": \"Data Source\"}, \"y\": {\"type\": \"quantitative\", \"field\": \"Count of Techniques\"}}, \"height\": 300, \"width\": 1200}, {\"mark\": {\"type\": \"text\", \"align\": \"center\", \"baseline\": \"middle\", \"dx\": 0, \"dy\": -5}, \"encoding\": {\"color\": {\"type\": \"nominal\", \"field\": \"Data Source\"}, \"text\": {\"type\": \"quantitative\", \"field\": \"Count of Techniques\"}, \"x\": {\"type\": \"nominal\", \"field\": \"Data Source\"}, \"y\": {\"type\": \"quantitative\", \"field\": \"Count of Techniques\"}}, \"height\": 300, \"width\": 1200}], \"data\": {\"name\": \"data-a0ddc70d231d77d135137425165f7c58\"}, \"$schema\": \"https://vega.github.io/schema/vega-lite/v4.8.1.json\", \"datasets\": {\"data-a0ddc70d231d77d135137425165f7c58\": [{\"Data Source\": \"API monitoring\", \"Count of Techniques\": 8}, {\"Data Source\": \"Active Directory: Active Directory Credential Request\", \"Count of Techniques\": 7}, {\"Data Source\": \"Active Directory: Active Directory Object Access\", \"Count of Techniques\": 2}, {\"Data Source\": \"Active Directory: Active Directory Object Creation\", \"Count of Techniques\": 4}, {\"Data Source\": \"Active Directory: Active Directory Object Deletion\", \"Count of Techniques\": 2}, {\"Data Source\": \"Active Directory: Active Directory Object Modification\", \"Count of Techniques\": 13}, {\"Data Source\": \"Alarm History\", \"Count of Techniques\": 3}, {\"Data Source\": \"Alarm history\", \"Count of Techniques\": 9}, {\"Data Source\": \"Alarm thresholds\", \"Count of Techniques\": 1}, {\"Data Source\": \"Anti-virus\", \"Count of Techniques\": 1}, {\"Data Source\": \"Application Log: Application Log Content\", \"Count of Techniques\": 50}, {\"Data Source\": \"Application Logs\", \"Count of Techniques\": 4}, {\"Data Source\": \"Asset management\", \"Count of Techniques\": 1}, {\"Data Source\": \"Authentication logs\", \"Count of Techniques\": 6}, {\"Data Source\": \"Binary file metadata\", \"Count of Techniques\": 3}, {\"Data Source\": \"Cloud Service: Cloud Service Disable\", \"Count of Techniques\": 2}, {\"Data Source\": \"Cloud Service: Cloud Service Enumeration\", \"Count of Techniques\": 2}, {\"Data Source\": \"Cloud Service: Cloud Service Metadata\", \"Count of Techniques\": 1}, {\"Data Source\": \"Cloud Service: Cloud Service Modification\", \"Count of Techniques\": 2}, {\"Data Source\": \"Cloud Storage: Cloud Storage Access\", \"Count of Techniques\": 1}, {\"Data Source\": \"Cloud Storage: Cloud Storage Creation\", \"Count of Techniques\": 1}, {\"Data Source\": \"Cloud Storage: Cloud Storage Deletion\", \"Count of Techniques\": 1}, {\"Data Source\": \"Cloud Storage: Cloud Storage Enumeration\", \"Count of Techniques\": 1}, {\"Data Source\": \"Cloud Storage: Cloud Storage Metadata\", \"Count of Techniques\": 2}, {\"Data Source\": \"Cloud Storage: Cloud Storage Modification\", \"Count of Techniques\": 2}, {\"Data Source\": \"Cluster: Cluster Metadata\", \"Count of Techniques\": 1}, {\"Data Source\": \"Command: Command Execution\", \"Count of Techniques\": 243}, {\"Data Source\": \"Container: Container Creation\", \"Count of Techniques\": 6}, {\"Data Source\": \"Container: Container Enumeration\", \"Count of Techniques\": 1}, {\"Data Source\": \"Container: Container Metadata\", \"Count of Techniques\": 1}, {\"Data Source\": \"Container: Container Start\", \"Count of Techniques\": 3}, {\"Data Source\": \"Controller parameters\", \"Count of Techniques\": 1}, {\"Data Source\": \"Controller program\", \"Count of Techniques\": 9}, {\"Data Source\": \"Data historian\", \"Count of Techniques\": 4}, {\"Data Source\": \"Data loss prevention\", \"Count of Techniques\": 3}, {\"Data Source\": \"Detonation chamber\", \"Count of Techniques\": 3}, {\"Data Source\": \"Digital signatures\", \"Count of Techniques\": 3}, {\"Data Source\": \"Drive: Drive Access\", \"Count of Techniques\": 5}, {\"Data Source\": \"Drive: Drive Creation\", \"Count of Techniques\": 4}, {\"Data Source\": \"Drive: Drive Modification\", \"Count of Techniques\": 6}, {\"Data Source\": \"Driver: Driver Load\", \"Count of Techniques\": 10}, {\"Data Source\": \"Driver: Driver Metadata\", \"Count of Techniques\": 2}, {\"Data Source\": \"Email gateway\", \"Count of Techniques\": 1}, {\"Data Source\": \"File Monitoring\", \"Count of Techniques\": 1}, {\"Data Source\": \"File monitoring\", \"Count of Techniques\": 14}, {\"Data Source\": \"File: File Access\", \"Count of Techniques\": 45}, {\"Data Source\": \"File: File Content\", \"Count of Techniques\": 6}, {\"Data Source\": \"File: File Creation\", \"Count of Techniques\": 82}, {\"Data Source\": \"File: File Deletion\", \"Count of Techniques\": 10}, {\"Data Source\": \"File: File Metadata\", \"Count of Techniques\": 32}, {\"Data Source\": \"File: File Modification\", \"Count of Techniques\": 95}, {\"Data Source\": \"Firewall: Firewall Disable\", \"Count of Techniques\": 3}, {\"Data Source\": \"Firewall: Firewall Enumeration\", \"Count of Techniques\": 2}, {\"Data Source\": \"Firewall: Firewall Metadata\", \"Count of Techniques\": 2}, {\"Data Source\": \"Firewall: Firewall Rule Modification\", \"Count of Techniques\": 3}, {\"Data Source\": \"Firmware: Firmware Modification\", \"Count of Techniques\": 9}, {\"Data Source\": \"Group: Group Enumeration\", \"Count of Techniques\": 2}, {\"Data Source\": \"Group: Group Metadata\", \"Count of Techniques\": 2}, {\"Data Source\": \"Group: Group Modification\", \"Count of Techniques\": 2}, {\"Data Source\": \"Host network interfaces\", \"Count of Techniques\": 2}, {\"Data Source\": \"Image: Image Creation\", \"Count of Techniques\": 4}, {\"Data Source\": \"Image: Image Deletion\", \"Count of Techniques\": 1}, {\"Data Source\": \"Image: Image Metadata\", \"Count of Techniques\": 2}, {\"Data Source\": \"Image: Image Modification\", \"Count of Techniques\": 1}, {\"Data Source\": \"Instance: Instance Creation\", \"Count of Techniques\": 5}, {\"Data Source\": \"Instance: Instance Deletion\", \"Count of Techniques\": 3}, {\"Data Source\": \"Instance: Instance Enumeration\", \"Count of Techniques\": 1}, {\"Data Source\": \"Instance: Instance Metadata\", \"Count of Techniques\": 3}, {\"Data Source\": \"Instance: Instance Modification\", \"Count of Techniques\": 2}, {\"Data Source\": \"Instance: Instance Start\", \"Count of Techniques\": 4}, {\"Data Source\": \"Instance: Instance Stop\", \"Count of Techniques\": 2}, {\"Data Source\": \"Kernel: Kernel Module Load\", \"Count of Techniques\": 2}, {\"Data Source\": \"Logon Session: Logon Session Creation\", \"Count of Techniques\": 31}, {\"Data Source\": \"Logon Session: Logon Session Metadata\", \"Count of Techniques\": 5}, {\"Data Source\": \"Mail server\", \"Count of Techniques\": 1}, {\"Data Source\": \"Malware reverse engineering\", \"Count of Techniques\": 2}, {\"Data Source\": \"Module: Module Load\", \"Count of Techniques\": 49}, {\"Data Source\": \"Netflow/Enclave netflow\", \"Count of Techniques\": 8}, {\"Data Source\": \"Network Share: Network Share Access\", \"Count of Techniques\": 4}, {\"Data Source\": \"Network Traffic: Network Connection Creation\", \"Count of Techniques\": 58}, {\"Data Source\": \"Network Traffic: Network Traffic Content\", \"Count of Techniques\": 89}, {\"Data Source\": \"Network Traffic: Network Traffic Flow\", \"Count of Techniques\": 84}, {\"Data Source\": \"Network device logs\", \"Count of Techniques\": 4}, {\"Data Source\": \"Network intrusion detection system\", \"Count of Techniques\": 3}, {\"Data Source\": \"Network protocol analysis\", \"Count of Techniques\": 39}, {\"Data Source\": \"Packet capture\", \"Count of Techniques\": 42}, {\"Data Source\": \"Pod: Pod Creation\", \"Count of Techniques\": 1}, {\"Data Source\": \"Pod: Pod Enumeration\", \"Count of Techniques\": 1}, {\"Data Source\": \"Pod: Pod Metadata\", \"Count of Techniques\": 1}, {\"Data Source\": \"Pod: Pod Modification\", \"Count of Techniques\": 1}, {\"Data Source\": \"Process Monitoring\", \"Count of Techniques\": 21}, {\"Data Source\": \"Process command-line parameters\", \"Count of Techniques\": 10}, {\"Data Source\": \"Process use of network\", \"Count of Techniques\": 4}, {\"Data Source\": \"Process: OS API Execution\", \"Count of Techniques\": 76}, {\"Data Source\": \"Process: Process Access\", \"Count of Techniques\": 18}, {\"Data Source\": \"Process: Process Creation\", \"Count of Techniques\": 197}, {\"Data Source\": \"Process: Process Metadata\", \"Count of Techniques\": 10}, {\"Data Source\": \"Process: Process Termination\", \"Count of Techniques\": 3}, {\"Data Source\": \"SSl/TLS inspection\", \"Count of Techniques\": 1}, {\"Data Source\": \"Scheduled Job: Scheduled Job Creation\", \"Count of Techniques\": 8}, {\"Data Source\": \"Scheduled Job: Scheduled Job Metadata\", \"Count of Techniques\": 2}, {\"Data Source\": \"Scheduled Job: Scheduled Job Modification\", \"Count of Techniques\": 2}, {\"Data Source\": \"Script: Script Execution\", \"Count of Techniques\": 21}, {\"Data Source\": \"Sensor Health: Host Status\", \"Count of Techniques\": 15}, {\"Data Source\": \"Sequential event recorder\", \"Count of Techniques\": 17}, {\"Data Source\": \"Service: Service Creation\", \"Count of Techniques\": 14}, {\"Data Source\": \"Service: Service Metadata\", \"Count of Techniques\": 11}, {\"Data Source\": \"Service: Service Modification\", \"Count of Techniques\": 5}, {\"Data Source\": \"Snapshot: Snapshot Creation\", \"Count of Techniques\": 3}, {\"Data Source\": \"Snapshot: Snapshot Deletion\", \"Count of Techniques\": 2}, {\"Data Source\": \"Snapshot: Snapshot Enumeration\", \"Count of Techniques\": 1}, {\"Data Source\": \"Snapshot: Snapshot Metadata\", \"Count of Techniques\": 1}, {\"Data Source\": \"Snapshot: Snapshot Modification\", \"Count of Techniques\": 2}, {\"Data Source\": \"System calls\", \"Count of Techniques\": 1}, {\"Data Source\": \"Third-party application logs\", \"Count of Techniques\": 1}, {\"Data Source\": \"User Account: User Account Authentication\", \"Count of Techniques\": 20}, {\"Data Source\": \"User Account: User Account Creation\", \"Count of Techniques\": 6}, {\"Data Source\": \"User Account: User Account Deletion\", \"Count of Techniques\": 1}, {\"Data Source\": \"User Account: User Account Metadata\", \"Count of Techniques\": 7}, {\"Data Source\": \"User Account: User Account Modification\", \"Count of Techniques\": 6}, {\"Data Source\": \"Volume: Volume Creation\", \"Count of Techniques\": 1}, {\"Data Source\": \"Volume: Volume Deletion\", \"Count of Techniques\": 2}, {\"Data Source\": \"Volume: Volume Enumeration\", \"Count of Techniques\": 1}, {\"Data Source\": \"Volume: Volume Metadata\", \"Count of Techniques\": 1}, {\"Data Source\": \"Volume: Volume Modification\", \"Count of Techniques\": 1}, {\"Data Source\": \"WMI: WMI Creation\", \"Count of Techniques\": 2}, {\"Data Source\": \"Web Credential: Web Credential Creation\", \"Count of Techniques\": 3}, {\"Data Source\": \"Web Credential: Web Credential Usage\", \"Count of Techniques\": 6}, {\"Data Source\": \"Web application firewall logs\", \"Count of Techniques\": 1}, {\"Data Source\": \"Web logs\", \"Count of Techniques\": 1}, {\"Data Source\": \"Web proxy\", \"Count of Techniques\": 2}, {\"Data Source\": \"Windows Registry\", \"Count of Techniques\": 1}, {\"Data Source\": \"Windows Registry: Windows Registry Key Access\", \"Count of Techniques\": 6}, {\"Data Source\": \"Windows Registry: Windows Registry Key Creation\", \"Count of Techniques\": 15}, {\"Data Source\": \"Windows Registry: Windows Registry Key Deletion\", \"Count of Techniques\": 4}, {\"Data Source\": \"Windows Registry: Windows Registry Key Modification\", \"Count of Techniques\": 56}, {\"Data Source\": \"Windows error reporting\", \"Count of Techniques\": 1}, {\"Data Source\": \"Windows event logs\", \"Count of Techniques\": 4}, {\"Data Source\": \"Windows registry\", \"Count of Techniques\": 2}, {\"Data Source\": \"process use of network\", \"Count of Techniques\": 1}]}}, {\"mode\": \"vega-lite\"});\n",
       "</script>"
      ],
      "text/plain": [
       "alt.LayerChart(...)"
      ]
     },
     "execution_count": 39,
     "metadata": {},
     "output_type": "execute_result"
    }
   ],
   "source": [
    "data_source_distribution = pandas.DataFrame({\n",
    "    'Data Source': list(techniques_data_source_3.groupby(['data_sources'])['data_sources'].count().keys()),\n",
    "    'Count of Techniques': techniques_data_source_3.groupby(['data_sources'])['data_sources'].count().tolist()})\n",
    "bars = alt.Chart(data_source_distribution,width=800,height=300).mark_bar().encode(x ='Data Source',y='Count of Techniques',color='Data Source').properties(width=1200)\n",
    "text = bars.mark_text(align='center',baseline='middle',dx=0,dy=-5).encode(text='Count of Techniques')\n",
    "bars + text"
   ]
  },
  {
   "cell_type": "markdown",
   "metadata": {},
   "source": [
    "A few interesting things from the bar chart above:\n",
    "* Process Monitoring, File Monitoring, and Process Command-line parameters are the Data Sources with the highest number of techniques\n",
    "* There are some data source names that include string references to Windows such as PowerShell, Windows and wmi"
   ]
  },
  {
   "cell_type": "markdown",
   "metadata": {},
   "source": [
    "## 16. Most Relevant Groups Of Data Sources Per Technique"
   ]
  },
  {
   "cell_type": "markdown",
   "metadata": {},
   "source": [
    "### Number Of Data Sources Per Technique"
   ]
  },
  {
   "cell_type": "markdown",
   "metadata": {},
   "source": [
    "Although identifying the data sources with the highest number of techniques is a good start, they usually do not work alone. You might be collecting **Process Monitoring** already but you might be still missing a lot of context from a data perspective."
   ]
  },
  {
   "cell_type": "code",
   "execution_count": 40,
   "metadata": {},
   "outputs": [
    {
     "data": {
      "text/html": [
       "\n",
       "<div id=\"altair-viz-59dff290a5594ac69e451806f2d0bae3\"></div>\n",
       "<script type=\"text/javascript\">\n",
       "  (function(spec, embedOpt){\n",
       "    let outputDiv = document.currentScript.previousElementSibling;\n",
       "    if (outputDiv.id !== \"altair-viz-59dff290a5594ac69e451806f2d0bae3\") {\n",
       "      outputDiv = document.getElementById(\"altair-viz-59dff290a5594ac69e451806f2d0bae3\");\n",
       "    }\n",
       "    const paths = {\n",
       "      \"vega\": \"https://cdn.jsdelivr.net/npm//vega@5?noext\",\n",
       "      \"vega-lib\": \"https://cdn.jsdelivr.net/npm//vega-lib?noext\",\n",
       "      \"vega-lite\": \"https://cdn.jsdelivr.net/npm//vega-lite@4.8.1?noext\",\n",
       "      \"vega-embed\": \"https://cdn.jsdelivr.net/npm//vega-embed@6?noext\",\n",
       "    };\n",
       "\n",
       "    function loadScript(lib) {\n",
       "      return new Promise(function(resolve, reject) {\n",
       "        var s = document.createElement('script');\n",
       "        s.src = paths[lib];\n",
       "        s.async = true;\n",
       "        s.onload = () => resolve(paths[lib]);\n",
       "        s.onerror = () => reject(`Error loading script: ${paths[lib]}`);\n",
       "        document.getElementsByTagName(\"head\")[0].appendChild(s);\n",
       "      });\n",
       "    }\n",
       "\n",
       "    function showError(err) {\n",
       "      outputDiv.innerHTML = `<div class=\"error\" style=\"color:red;\">${err}</div>`;\n",
       "      throw err;\n",
       "    }\n",
       "\n",
       "    function displayChart(vegaEmbed) {\n",
       "      vegaEmbed(outputDiv, spec, embedOpt)\n",
       "        .catch(err => showError(`Javascript Error: ${err.message}<br>This usually means there's a typo in your chart specification. See the javascript console for the full traceback.`));\n",
       "    }\n",
       "\n",
       "    if(typeof define === \"function\" && define.amd) {\n",
       "      requirejs.config({paths});\n",
       "      require([\"vega-embed\"], displayChart, err => showError(`Error loading script: ${err.message}`));\n",
       "    } else if (typeof vegaEmbed === \"function\") {\n",
       "      displayChart(vegaEmbed);\n",
       "    } else {\n",
       "      loadScript(\"vega\")\n",
       "        .then(() => loadScript(\"vega-lite\"))\n",
       "        .then(() => loadScript(\"vega-embed\"))\n",
       "        .catch(showError)\n",
       "        .then(() => displayChart(vegaEmbed));\n",
       "    }\n",
       "  })({\"config\": {\"view\": {\"continuousWidth\": 400, \"continuousHeight\": 300}}, \"layer\": [{\"mark\": \"bar\", \"encoding\": {\"x\": {\"type\": \"quantitative\", \"field\": \"Number of Data Sources\"}, \"y\": {\"type\": \"quantitative\", \"field\": \"Count of Techniques\"}}, \"width\": 500}, {\"mark\": {\"type\": \"text\", \"align\": \"center\", \"baseline\": \"middle\", \"dx\": 0, \"dy\": -5}, \"encoding\": {\"text\": {\"type\": \"quantitative\", \"field\": \"Count of Techniques\"}, \"x\": {\"type\": \"quantitative\", \"field\": \"Number of Data Sources\"}, \"y\": {\"type\": \"quantitative\", \"field\": \"Count of Techniques\"}}, \"width\": 500}], \"data\": {\"name\": \"data-b42acea724b15294082b652f5e539ec1\"}, \"$schema\": \"https://vega.github.io/schema/vega-lite/v4.8.1.json\", \"datasets\": {\"data-b42acea724b15294082b652f5e539ec1\": [{\"Number of Data Sources\": 1, \"Count of Techniques\": 50}, {\"Number of Data Sources\": 2, \"Count of Techniques\": 128}, {\"Number of Data Sources\": 3, \"Count of Techniques\": 121}, {\"Number of Data Sources\": 4, \"Count of Techniques\": 108}, {\"Number of Data Sources\": 5, \"Count of Techniques\": 52}, {\"Number of Data Sources\": 6, \"Count of Techniques\": 28}, {\"Number of Data Sources\": 7, \"Count of Techniques\": 9}, {\"Number of Data Sources\": 8, \"Count of Techniques\": 4}, {\"Number of Data Sources\": 9, \"Count of Techniques\": 3}, {\"Number of Data Sources\": 10, \"Count of Techniques\": 1}, {\"Number of Data Sources\": 11, \"Count of Techniques\": 4}, {\"Number of Data Sources\": 12, \"Count of Techniques\": 4}, {\"Number of Data Sources\": 14, \"Count of Techniques\": 1}, {\"Number of Data Sources\": 15, \"Count of Techniques\": 2}]}}, {\"mode\": \"vega-lite\"});\n",
       "</script>"
      ],
      "text/plain": [
       "alt.LayerChart(...)"
      ]
     },
     "execution_count": 40,
     "metadata": {},
     "output_type": "execute_result"
    }
   ],
   "source": [
    "data_source_distribution_2 = pandas.DataFrame({\n",
    "    'Techniques': list(techniques_data_source_3.groupby(['technique'])['technique'].count().keys()),\n",
    "    'Count of Data Sources': techniques_data_source_3.groupby(['technique'])['technique'].count().tolist()})\n",
    "\n",
    "data_source_distribution_3 = pandas.DataFrame({\n",
    "    'Number of Data Sources': list(data_source_distribution_2.groupby(['Count of Data Sources'])['Count of Data Sources'].count().keys()),\n",
    "    'Count of Techniques': data_source_distribution_2.groupby(['Count of Data Sources'])['Count of Data Sources'].count().tolist()})\n",
    "\n",
    "bars = alt.Chart(data_source_distribution_3).mark_bar().encode(x ='Number of Data Sources',y='Count of Techniques').properties(width=500)\n",
    "text = bars.mark_text(align='center',baseline='middle',dx=0,dy=-5).encode(text='Count of Techniques')\n",
    "bars + text"
   ]
  },
  {
   "cell_type": "markdown",
   "metadata": {},
   "source": [
    "The image above shows you the number data sources needed per techniques according to ATT&CK:\n",
    "* There are 71 techniques that require 3 data sources as enough context to validate the detection of them according to ATT&CK\n",
    "* Only one technique has 12 data sources\n",
    "* One data source only applies to 19 techniques"
   ]
  },
  {
   "cell_type": "markdown",
   "metadata": {},
   "source": [
    "Let's create subsets of data sources with the data source column defining and using a python function:"
   ]
  },
  {
   "cell_type": "code",
   "execution_count": 41,
   "metadata": {},
   "outputs": [],
   "source": [
    "# https://stackoverflow.com/questions/26332412/python-recursive-function-to-display-all-subsets-of-given-set\n",
    "def subs(l):\n",
    "    res = []\n",
    "    for i in range(1, len(l) + 1):\n",
    "        for combo in itertools.combinations(l, i):\n",
    "            res.append(list(combo))\n",
    "    return res"
   ]
  },
  {
   "cell_type": "markdown",
   "metadata": {},
   "source": [
    "Before applying the function, we need to use lowercase data sources names and sort data sources names to improve consistency:"
   ]
  },
  {
   "cell_type": "code",
   "execution_count": 42,
   "metadata": {},
   "outputs": [],
   "source": [
    "df = techniques_with_data_sources[['data_sources']]"
   ]
  },
  {
   "cell_type": "code",
   "execution_count": 43,
   "metadata": {},
   "outputs": [],
   "source": [
    "for index, row in df.iterrows():\n",
    "    row[\"data_sources\"]=[x.lower() for x in row[\"data_sources\"]]\n",
    "    row[\"data_sources\"].sort()"
   ]
  },
  {
   "cell_type": "code",
   "execution_count": 44,
   "metadata": {},
   "outputs": [
    {
     "data": {
      "text/html": [
       "<div>\n",
       "<style scoped>\n",
       "    .dataframe tbody tr th:only-of-type {\n",
       "        vertical-align: middle;\n",
       "    }\n",
       "\n",
       "    .dataframe tbody tr th {\n",
       "        vertical-align: top;\n",
       "    }\n",
       "\n",
       "    .dataframe thead th {\n",
       "        text-align: right;\n",
       "    }\n",
       "</style>\n",
       "<table border=\"1\" class=\"dataframe\">\n",
       "  <thead>\n",
       "    <tr style=\"text-align: right;\">\n",
       "      <th></th>\n",
       "      <th>data_sources</th>\n",
       "    </tr>\n",
       "  </thead>\n",
       "  <tbody>\n",
       "    <tr>\n",
       "      <th>0</th>\n",
       "      <td>[command: command execution, process: process ...</td>\n",
       "    </tr>\n",
       "    <tr>\n",
       "      <th>1</th>\n",
       "      <td>[command: command execution, instance: instanc...</td>\n",
       "    </tr>\n",
       "    <tr>\n",
       "      <th>2</th>\n",
       "      <td>[application log: application log content, clu...</td>\n",
       "    </tr>\n",
       "    <tr>\n",
       "      <th>3</th>\n",
       "      <td>[command: command execution, file: file access...</td>\n",
       "    </tr>\n",
       "    <tr>\n",
       "      <th>4</th>\n",
       "      <td>[image: image creation, network traffic: netwo...</td>\n",
       "    </tr>\n",
       "  </tbody>\n",
       "</table>\n",
       "</div>"
      ],
      "text/plain": [
       "                                        data_sources\n",
       "0  [command: command execution, process: process ...\n",
       "1  [command: command execution, instance: instanc...\n",
       "2  [application log: application log content, clu...\n",
       "3  [command: command execution, file: file access...\n",
       "4  [image: image creation, network traffic: netwo..."
      ]
     },
     "execution_count": 44,
     "metadata": {},
     "output_type": "execute_result"
    }
   ],
   "source": [
    "df.head()"
   ]
  },
  {
   "cell_type": "markdown",
   "metadata": {},
   "source": [
    "Let's apply the function and split the subsets column:"
   ]
  },
  {
   "cell_type": "code",
   "execution_count": 45,
   "metadata": {},
   "outputs": [
    {
     "name": "stderr",
     "output_type": "stream",
     "text": [
      "<ipython-input-45-9765a9dc0b2f>:1: SettingWithCopyWarning: \n",
      "A value is trying to be set on a copy of a slice from a DataFrame.\n",
      "Try using .loc[row_indexer,col_indexer] = value instead\n",
      "\n",
      "See the caveats in the documentation: https://pandas.pydata.org/pandas-docs/stable/user_guide/indexing.html#returning-a-view-versus-a-copy\n",
      "  df['subsets']=df['data_sources'].apply(subs)\n"
     ]
    }
   ],
   "source": [
    "df['subsets']=df['data_sources'].apply(subs)"
   ]
  },
  {
   "cell_type": "code",
   "execution_count": 46,
   "metadata": {},
   "outputs": [
    {
     "data": {
      "text/html": [
       "<div>\n",
       "<style scoped>\n",
       "    .dataframe tbody tr th:only-of-type {\n",
       "        vertical-align: middle;\n",
       "    }\n",
       "\n",
       "    .dataframe tbody tr th {\n",
       "        vertical-align: top;\n",
       "    }\n",
       "\n",
       "    .dataframe thead th {\n",
       "        text-align: right;\n",
       "    }\n",
       "</style>\n",
       "<table border=\"1\" class=\"dataframe\">\n",
       "  <thead>\n",
       "    <tr style=\"text-align: right;\">\n",
       "      <th></th>\n",
       "      <th>data_sources</th>\n",
       "      <th>subsets</th>\n",
       "    </tr>\n",
       "  </thead>\n",
       "  <tbody>\n",
       "    <tr>\n",
       "      <th>0</th>\n",
       "      <td>[command: command execution, process: process ...</td>\n",
       "      <td>[[command: command execution], [process: proce...</td>\n",
       "    </tr>\n",
       "    <tr>\n",
       "      <th>1</th>\n",
       "      <td>[command: command execution, instance: instanc...</td>\n",
       "      <td>[[command: command execution], [instance: inst...</td>\n",
       "    </tr>\n",
       "    <tr>\n",
       "      <th>2</th>\n",
       "      <td>[application log: application log content, clu...</td>\n",
       "      <td>[[application log: application log content], [...</td>\n",
       "    </tr>\n",
       "    <tr>\n",
       "      <th>3</th>\n",
       "      <td>[command: command execution, file: file access...</td>\n",
       "      <td>[[command: command execution], [file: file acc...</td>\n",
       "    </tr>\n",
       "    <tr>\n",
       "      <th>4</th>\n",
       "      <td>[image: image creation, network traffic: netwo...</td>\n",
       "      <td>[[image: image creation], [network traffic: ne...</td>\n",
       "    </tr>\n",
       "  </tbody>\n",
       "</table>\n",
       "</div>"
      ],
      "text/plain": [
       "                                        data_sources  \\\n",
       "0  [command: command execution, process: process ...   \n",
       "1  [command: command execution, instance: instanc...   \n",
       "2  [application log: application log content, clu...   \n",
       "3  [command: command execution, file: file access...   \n",
       "4  [image: image creation, network traffic: netwo...   \n",
       "\n",
       "                                             subsets  \n",
       "0  [[command: command execution], [process: proce...  \n",
       "1  [[command: command execution], [instance: inst...  \n",
       "2  [[application log: application log content], [...  \n",
       "3  [[command: command execution], [file: file acc...  \n",
       "4  [[image: image creation], [network traffic: ne...  "
      ]
     },
     "execution_count": 46,
     "metadata": {},
     "output_type": "execute_result"
    }
   ],
   "source": [
    "df.head()"
   ]
  },
  {
   "cell_type": "markdown",
   "metadata": {},
   "source": [
    "We need to split the subsets column values:"
   ]
  },
  {
   "cell_type": "code",
   "execution_count": 47,
   "metadata": {},
   "outputs": [],
   "source": [
    "techniques_with_data_sources_preview = df"
   ]
  },
  {
   "cell_type": "code",
   "execution_count": 48,
   "metadata": {},
   "outputs": [],
   "source": [
    "attributes_4 = ['subsets']\n",
    "\n",
    "for a in attributes_4:\n",
    "    s = techniques_with_data_sources_preview.apply(lambda x: pandas.Series(x[a]),axis=1).stack().reset_index(level=1, drop=True)\n",
    "    s.name = a\n",
    "    techniques_with_data_sources_preview = techniques_with_data_sources_preview.drop(a, axis=1).join(s).reset_index(drop=True)\n",
    "    \n",
    "techniques_with_data_sources_subsets = techniques_with_data_sources_preview.reindex(['data_sources','subsets'], axis=1)\n"
   ]
  },
  {
   "cell_type": "code",
   "execution_count": 49,
   "metadata": {},
   "outputs": [
    {
     "data": {
      "text/html": [
       "<div>\n",
       "<style scoped>\n",
       "    .dataframe tbody tr th:only-of-type {\n",
       "        vertical-align: middle;\n",
       "    }\n",
       "\n",
       "    .dataframe tbody tr th {\n",
       "        vertical-align: top;\n",
       "    }\n",
       "\n",
       "    .dataframe thead th {\n",
       "        text-align: right;\n",
       "    }\n",
       "</style>\n",
       "<table border=\"1\" class=\"dataframe\">\n",
       "  <thead>\n",
       "    <tr style=\"text-align: right;\">\n",
       "      <th></th>\n",
       "      <th>data_sources</th>\n",
       "      <th>subsets</th>\n",
       "    </tr>\n",
       "  </thead>\n",
       "  <tbody>\n",
       "    <tr>\n",
       "      <th>0</th>\n",
       "      <td>[command: command execution, process: process ...</td>\n",
       "      <td>[command: command execution]</td>\n",
       "    </tr>\n",
       "    <tr>\n",
       "      <th>1</th>\n",
       "      <td>[command: command execution, process: process ...</td>\n",
       "      <td>[process: process creation]</td>\n",
       "    </tr>\n",
       "    <tr>\n",
       "      <th>2</th>\n",
       "      <td>[command: command execution, process: process ...</td>\n",
       "      <td>[windows registry: windows registry key modifi...</td>\n",
       "    </tr>\n",
       "    <tr>\n",
       "      <th>3</th>\n",
       "      <td>[command: command execution, process: process ...</td>\n",
       "      <td>[command: command execution, process: process ...</td>\n",
       "    </tr>\n",
       "    <tr>\n",
       "      <th>4</th>\n",
       "      <td>[command: command execution, process: process ...</td>\n",
       "      <td>[command: command execution, windows registry:...</td>\n",
       "    </tr>\n",
       "  </tbody>\n",
       "</table>\n",
       "</div>"
      ],
      "text/plain": [
       "                                        data_sources  \\\n",
       "0  [command: command execution, process: process ...   \n",
       "1  [command: command execution, process: process ...   \n",
       "2  [command: command execution, process: process ...   \n",
       "3  [command: command execution, process: process ...   \n",
       "4  [command: command execution, process: process ...   \n",
       "\n",
       "                                             subsets  \n",
       "0                       [command: command execution]  \n",
       "1                        [process: process creation]  \n",
       "2  [windows registry: windows registry key modifi...  \n",
       "3  [command: command execution, process: process ...  \n",
       "4  [command: command execution, windows registry:...  "
      ]
     },
     "execution_count": 49,
     "metadata": {},
     "output_type": "execute_result"
    }
   ],
   "source": [
    "techniques_with_data_sources_subsets.head()"
   ]
  },
  {
   "cell_type": "markdown",
   "metadata": {},
   "source": [
    "Let's add three columns to analyse the dataframe: subsets_name (Changing Lists to Strings), subsets_number_elements ( Number of data sources per subset) and number_data_sources_per_technique"
   ]
  },
  {
   "cell_type": "code",
   "execution_count": 50,
   "metadata": {},
   "outputs": [],
   "source": [
    "techniques_with_data_sources_subsets['subsets_name']=techniques_with_data_sources_subsets['subsets'].apply(lambda x: ','.join(map(str, x)))\n",
    "techniques_with_data_sources_subsets['subsets_number_elements']=techniques_with_data_sources_subsets['subsets'].str.len()\n",
    "techniques_with_data_sources_subsets['number_data_sources_per_technique']=techniques_with_data_sources_subsets['data_sources'].str.len()"
   ]
  },
  {
   "cell_type": "code",
   "execution_count": 51,
   "metadata": {},
   "outputs": [
    {
     "data": {
      "text/html": [
       "<div>\n",
       "<style scoped>\n",
       "    .dataframe tbody tr th:only-of-type {\n",
       "        vertical-align: middle;\n",
       "    }\n",
       "\n",
       "    .dataframe tbody tr th {\n",
       "        vertical-align: top;\n",
       "    }\n",
       "\n",
       "    .dataframe thead th {\n",
       "        text-align: right;\n",
       "    }\n",
       "</style>\n",
       "<table border=\"1\" class=\"dataframe\">\n",
       "  <thead>\n",
       "    <tr style=\"text-align: right;\">\n",
       "      <th></th>\n",
       "      <th>data_sources</th>\n",
       "      <th>subsets</th>\n",
       "      <th>subsets_name</th>\n",
       "      <th>subsets_number_elements</th>\n",
       "      <th>number_data_sources_per_technique</th>\n",
       "    </tr>\n",
       "  </thead>\n",
       "  <tbody>\n",
       "    <tr>\n",
       "      <th>0</th>\n",
       "      <td>[command: command execution, process: process ...</td>\n",
       "      <td>[command: command execution]</td>\n",
       "      <td>command: command execution</td>\n",
       "      <td>1</td>\n",
       "      <td>3</td>\n",
       "    </tr>\n",
       "    <tr>\n",
       "      <th>1</th>\n",
       "      <td>[command: command execution, process: process ...</td>\n",
       "      <td>[process: process creation]</td>\n",
       "      <td>process: process creation</td>\n",
       "      <td>1</td>\n",
       "      <td>3</td>\n",
       "    </tr>\n",
       "    <tr>\n",
       "      <th>2</th>\n",
       "      <td>[command: command execution, process: process ...</td>\n",
       "      <td>[windows registry: windows registry key modifi...</td>\n",
       "      <td>windows registry: windows registry key modific...</td>\n",
       "      <td>1</td>\n",
       "      <td>3</td>\n",
       "    </tr>\n",
       "    <tr>\n",
       "      <th>3</th>\n",
       "      <td>[command: command execution, process: process ...</td>\n",
       "      <td>[command: command execution, process: process ...</td>\n",
       "      <td>command: command execution,process: process cr...</td>\n",
       "      <td>2</td>\n",
       "      <td>3</td>\n",
       "    </tr>\n",
       "    <tr>\n",
       "      <th>4</th>\n",
       "      <td>[command: command execution, process: process ...</td>\n",
       "      <td>[command: command execution, windows registry:...</td>\n",
       "      <td>command: command execution,windows registry: w...</td>\n",
       "      <td>2</td>\n",
       "      <td>3</td>\n",
       "    </tr>\n",
       "  </tbody>\n",
       "</table>\n",
       "</div>"
      ],
      "text/plain": [
       "                                        data_sources  \\\n",
       "0  [command: command execution, process: process ...   \n",
       "1  [command: command execution, process: process ...   \n",
       "2  [command: command execution, process: process ...   \n",
       "3  [command: command execution, process: process ...   \n",
       "4  [command: command execution, process: process ...   \n",
       "\n",
       "                                             subsets  \\\n",
       "0                       [command: command execution]   \n",
       "1                        [process: process creation]   \n",
       "2  [windows registry: windows registry key modifi...   \n",
       "3  [command: command execution, process: process ...   \n",
       "4  [command: command execution, windows registry:...   \n",
       "\n",
       "                                        subsets_name  subsets_number_elements  \\\n",
       "0                         command: command execution                        1   \n",
       "1                          process: process creation                        1   \n",
       "2  windows registry: windows registry key modific...                        1   \n",
       "3  command: command execution,process: process cr...                        2   \n",
       "4  command: command execution,windows registry: w...                        2   \n",
       "\n",
       "   number_data_sources_per_technique  \n",
       "0                                  3  \n",
       "1                                  3  \n",
       "2                                  3  \n",
       "3                                  3  \n",
       "4                                  3  "
      ]
     },
     "execution_count": 51,
     "metadata": {},
     "output_type": "execute_result"
    }
   ],
   "source": [
    "techniques_with_data_sources_subsets.head()"
   ]
  },
  {
   "cell_type": "markdown",
   "metadata": {},
   "source": [
    "As it was described above, we need to find grups pf data sources, so we are going to filter out all the subsets with only one data source:"
   ]
  },
  {
   "cell_type": "code",
   "execution_count": 52,
   "metadata": {},
   "outputs": [],
   "source": [
    "subsets = techniques_with_data_sources_subsets\n",
    "\n",
    "subsets_ok=subsets[subsets.subsets_number_elements != 1]"
   ]
  },
  {
   "cell_type": "code",
   "execution_count": 53,
   "metadata": {},
   "outputs": [
    {
     "data": {
      "text/html": [
       "<div>\n",
       "<style scoped>\n",
       "    .dataframe tbody tr th:only-of-type {\n",
       "        vertical-align: middle;\n",
       "    }\n",
       "\n",
       "    .dataframe tbody tr th {\n",
       "        vertical-align: top;\n",
       "    }\n",
       "\n",
       "    .dataframe thead th {\n",
       "        text-align: right;\n",
       "    }\n",
       "</style>\n",
       "<table border=\"1\" class=\"dataframe\">\n",
       "  <thead>\n",
       "    <tr style=\"text-align: right;\">\n",
       "      <th></th>\n",
       "      <th>data_sources</th>\n",
       "      <th>subsets</th>\n",
       "      <th>subsets_name</th>\n",
       "      <th>subsets_number_elements</th>\n",
       "      <th>number_data_sources_per_technique</th>\n",
       "    </tr>\n",
       "  </thead>\n",
       "  <tbody>\n",
       "    <tr>\n",
       "      <th>3</th>\n",
       "      <td>[command: command execution, process: process ...</td>\n",
       "      <td>[command: command execution, process: process ...</td>\n",
       "      <td>command: command execution,process: process cr...</td>\n",
       "      <td>2</td>\n",
       "      <td>3</td>\n",
       "    </tr>\n",
       "    <tr>\n",
       "      <th>4</th>\n",
       "      <td>[command: command execution, process: process ...</td>\n",
       "      <td>[command: command execution, windows registry:...</td>\n",
       "      <td>command: command execution,windows registry: w...</td>\n",
       "      <td>2</td>\n",
       "      <td>3</td>\n",
       "    </tr>\n",
       "    <tr>\n",
       "      <th>5</th>\n",
       "      <td>[command: command execution, process: process ...</td>\n",
       "      <td>[process: process creation, windows registry: ...</td>\n",
       "      <td>process: process creation,windows registry: wi...</td>\n",
       "      <td>2</td>\n",
       "      <td>3</td>\n",
       "    </tr>\n",
       "    <tr>\n",
       "      <th>6</th>\n",
       "      <td>[command: command execution, process: process ...</td>\n",
       "      <td>[command: command execution, process: process ...</td>\n",
       "      <td>command: command execution,process: process cr...</td>\n",
       "      <td>3</td>\n",
       "      <td>3</td>\n",
       "    </tr>\n",
       "    <tr>\n",
       "      <th>11</th>\n",
       "      <td>[command: command execution, instance: instanc...</td>\n",
       "      <td>[command: command execution, instance: instanc...</td>\n",
       "      <td>command: command execution,instance: instance ...</td>\n",
       "      <td>2</td>\n",
       "      <td>4</td>\n",
       "    </tr>\n",
       "  </tbody>\n",
       "</table>\n",
       "</div>"
      ],
      "text/plain": [
       "                                         data_sources  \\\n",
       "3   [command: command execution, process: process ...   \n",
       "4   [command: command execution, process: process ...   \n",
       "5   [command: command execution, process: process ...   \n",
       "6   [command: command execution, process: process ...   \n",
       "11  [command: command execution, instance: instanc...   \n",
       "\n",
       "                                              subsets  \\\n",
       "3   [command: command execution, process: process ...   \n",
       "4   [command: command execution, windows registry:...   \n",
       "5   [process: process creation, windows registry: ...   \n",
       "6   [command: command execution, process: process ...   \n",
       "11  [command: command execution, instance: instanc...   \n",
       "\n",
       "                                         subsets_name  \\\n",
       "3   command: command execution,process: process cr...   \n",
       "4   command: command execution,windows registry: w...   \n",
       "5   process: process creation,windows registry: wi...   \n",
       "6   command: command execution,process: process cr...   \n",
       "11  command: command execution,instance: instance ...   \n",
       "\n",
       "    subsets_number_elements  number_data_sources_per_technique  \n",
       "3                         2                                  3  \n",
       "4                         2                                  3  \n",
       "5                         2                                  3  \n",
       "6                         3                                  3  \n",
       "11                        2                                  4  "
      ]
     },
     "execution_count": 53,
     "metadata": {},
     "output_type": "execute_result"
    }
   ],
   "source": [
    "subsets_ok.head()"
   ]
  },
  {
   "cell_type": "markdown",
   "metadata": {},
   "source": [
    "Finally, we calculate the most relevant groups of data sources (Top 15):"
   ]
  },
  {
   "cell_type": "code",
   "execution_count": 54,
   "metadata": {},
   "outputs": [],
   "source": [
    "subsets_graph = subsets_ok.groupby(['subsets_name'])['subsets_name'].count().to_frame(name='subsets_count').sort_values(by='subsets_count',ascending=False)[0:15]"
   ]
  },
  {
   "cell_type": "code",
   "execution_count": 55,
   "metadata": {},
   "outputs": [
    {
     "data": {
      "text/html": [
       "<div>\n",
       "<style scoped>\n",
       "    .dataframe tbody tr th:only-of-type {\n",
       "        vertical-align: middle;\n",
       "    }\n",
       "\n",
       "    .dataframe tbody tr th {\n",
       "        vertical-align: top;\n",
       "    }\n",
       "\n",
       "    .dataframe thead th {\n",
       "        text-align: right;\n",
       "    }\n",
       "</style>\n",
       "<table border=\"1\" class=\"dataframe\">\n",
       "  <thead>\n",
       "    <tr style=\"text-align: right;\">\n",
       "      <th></th>\n",
       "      <th>subsets_count</th>\n",
       "    </tr>\n",
       "    <tr>\n",
       "      <th>subsets_name</th>\n",
       "      <th></th>\n",
       "    </tr>\n",
       "  </thead>\n",
       "  <tbody>\n",
       "    <tr>\n",
       "      <th>command: command execution,process: process creation</th>\n",
       "      <td>167</td>\n",
       "    </tr>\n",
       "    <tr>\n",
       "      <th>network traffic: network traffic content,network traffic: network traffic flow</th>\n",
       "      <td>62</td>\n",
       "    </tr>\n",
       "    <tr>\n",
       "      <th>file: file modification,process: process creation</th>\n",
       "      <td>60</td>\n",
       "    </tr>\n",
       "    <tr>\n",
       "      <th>file: file creation,process: process creation</th>\n",
       "      <td>57</td>\n",
       "    </tr>\n",
       "    <tr>\n",
       "      <th>command: command execution,file: file modification</th>\n",
       "      <td>54</td>\n",
       "    </tr>\n",
       "    <tr>\n",
       "      <th>file: file creation,file: file modification</th>\n",
       "      <td>51</td>\n",
       "    </tr>\n",
       "    <tr>\n",
       "      <th>command: command execution,file: file modification,process: process creation</th>\n",
       "      <td>47</td>\n",
       "    </tr>\n",
       "    <tr>\n",
       "      <th>command: command execution,process: os api execution</th>\n",
       "      <td>47</td>\n",
       "    </tr>\n",
       "    <tr>\n",
       "      <th>command: command execution,file: file creation</th>\n",
       "      <td>47</td>\n",
       "    </tr>\n",
       "    <tr>\n",
       "      <th>command: command execution,windows registry: windows registry key modification</th>\n",
       "      <td>45</td>\n",
       "    </tr>\n",
       "    <tr>\n",
       "      <th>command: command execution,file: file creation,process: process creation</th>\n",
       "      <td>44</td>\n",
       "    </tr>\n",
       "    <tr>\n",
       "      <th>command: command execution,file: file access</th>\n",
       "      <td>42</td>\n",
       "    </tr>\n",
       "    <tr>\n",
       "      <th>process: process creation,windows registry: windows registry key modification</th>\n",
       "      <td>40</td>\n",
       "    </tr>\n",
       "    <tr>\n",
       "      <th>file: file creation,file: file modification,process: process creation</th>\n",
       "      <td>40</td>\n",
       "    </tr>\n",
       "    <tr>\n",
       "      <th>command: command execution,process: process creation,windows registry: windows registry key modification</th>\n",
       "      <td>39</td>\n",
       "    </tr>\n",
       "  </tbody>\n",
       "</table>\n",
       "</div>"
      ],
      "text/plain": [
       "                                                    subsets_count\n",
       "subsets_name                                                     \n",
       "command: command execution,process: process cre...            167\n",
       "network traffic: network traffic content,networ...             62\n",
       "file: file modification,process: process creation              60\n",
       "file: file creation,process: process creation                  57\n",
       "command: command execution,file: file modification             54\n",
       "file: file creation,file: file modification                    51\n",
       "command: command execution,file: file modificat...             47\n",
       "command: command execution,process: os api exec...             47\n",
       "command: command execution,file: file creation                 47\n",
       "command: command execution,windows registry: wi...             45\n",
       "command: command execution,file: file creation,...             44\n",
       "command: command execution,file: file access                   42\n",
       "process: process creation,windows registry: win...             40\n",
       "file: file creation,file: file modification,pro...             40\n",
       "command: command execution,process: process cre...             39"
      ]
     },
     "execution_count": 55,
     "metadata": {},
     "output_type": "execute_result"
    }
   ],
   "source": [
    "subsets_graph"
   ]
  },
  {
   "cell_type": "code",
   "execution_count": 56,
   "metadata": {},
   "outputs": [
    {
     "data": {
      "text/html": [
       "\n",
       "<div id=\"altair-viz-79556a61e9f94afc89409d276dc93942\"></div>\n",
       "<script type=\"text/javascript\">\n",
       "  (function(spec, embedOpt){\n",
       "    let outputDiv = document.currentScript.previousElementSibling;\n",
       "    if (outputDiv.id !== \"altair-viz-79556a61e9f94afc89409d276dc93942\") {\n",
       "      outputDiv = document.getElementById(\"altair-viz-79556a61e9f94afc89409d276dc93942\");\n",
       "    }\n",
       "    const paths = {\n",
       "      \"vega\": \"https://cdn.jsdelivr.net/npm//vega@5?noext\",\n",
       "      \"vega-lib\": \"https://cdn.jsdelivr.net/npm//vega-lib?noext\",\n",
       "      \"vega-lite\": \"https://cdn.jsdelivr.net/npm//vega-lite@4.8.1?noext\",\n",
       "      \"vega-embed\": \"https://cdn.jsdelivr.net/npm//vega-embed@6?noext\",\n",
       "    };\n",
       "\n",
       "    function loadScript(lib) {\n",
       "      return new Promise(function(resolve, reject) {\n",
       "        var s = document.createElement('script');\n",
       "        s.src = paths[lib];\n",
       "        s.async = true;\n",
       "        s.onload = () => resolve(paths[lib]);\n",
       "        s.onerror = () => reject(`Error loading script: ${paths[lib]}`);\n",
       "        document.getElementsByTagName(\"head\")[0].appendChild(s);\n",
       "      });\n",
       "    }\n",
       "\n",
       "    function showError(err) {\n",
       "      outputDiv.innerHTML = `<div class=\"error\" style=\"color:red;\">${err}</div>`;\n",
       "      throw err;\n",
       "    }\n",
       "\n",
       "    function displayChart(vegaEmbed) {\n",
       "      vegaEmbed(outputDiv, spec, embedOpt)\n",
       "        .catch(err => showError(`Javascript Error: ${err.message}<br>This usually means there's a typo in your chart specification. See the javascript console for the full traceback.`));\n",
       "    }\n",
       "\n",
       "    if(typeof define === \"function\" && define.amd) {\n",
       "      requirejs.config({paths});\n",
       "      require([\"vega-embed\"], displayChart, err => showError(`Error loading script: ${err.message}`));\n",
       "    } else if (typeof vegaEmbed === \"function\") {\n",
       "      displayChart(vegaEmbed);\n",
       "    } else {\n",
       "      loadScript(\"vega\")\n",
       "        .then(() => loadScript(\"vega-lite\"))\n",
       "        .then(() => loadScript(\"vega-embed\"))\n",
       "        .catch(showError)\n",
       "        .then(() => displayChart(vegaEmbed));\n",
       "    }\n",
       "  })({\"config\": {\"view\": {\"continuousWidth\": 400, \"continuousHeight\": 300}}, \"layer\": [{\"mark\": \"bar\", \"encoding\": {\"color\": {\"type\": \"nominal\", \"field\": \"Data Sources\"}, \"x\": {\"type\": \"nominal\", \"field\": \"Data Sources\"}, \"y\": {\"type\": \"quantitative\", \"field\": \"Count of Techniques\"}}, \"width\": 500}, {\"mark\": {\"type\": \"text\", \"align\": \"center\", \"baseline\": \"middle\", \"dx\": 0, \"dy\": -5}, \"encoding\": {\"color\": {\"type\": \"nominal\", \"field\": \"Data Sources\"}, \"text\": {\"type\": \"quantitative\", \"field\": \"Count of Techniques\"}, \"x\": {\"type\": \"nominal\", \"field\": \"Data Sources\"}, \"y\": {\"type\": \"quantitative\", \"field\": \"Count of Techniques\"}}, \"width\": 500}], \"data\": {\"name\": \"data-485e56ecd538e0260a623f08c19fd8a4\"}, \"$schema\": \"https://vega.github.io/schema/vega-lite/v4.8.1.json\", \"datasets\": {\"data-485e56ecd538e0260a623f08c19fd8a4\": [{\"Data Sources\": \"command: command execution,process: process creation\", \"Count of Techniques\": 167}, {\"Data Sources\": \"network traffic: network traffic content,network traffic: network traffic flow\", \"Count of Techniques\": 62}, {\"Data Sources\": \"file: file modification,process: process creation\", \"Count of Techniques\": 60}, {\"Data Sources\": \"file: file creation,process: process creation\", \"Count of Techniques\": 57}, {\"Data Sources\": \"command: command execution,file: file modification\", \"Count of Techniques\": 54}, {\"Data Sources\": \"file: file creation,file: file modification\", \"Count of Techniques\": 51}, {\"Data Sources\": \"command: command execution,file: file modification,process: process creation\", \"Count of Techniques\": 47}, {\"Data Sources\": \"command: command execution,process: os api execution\", \"Count of Techniques\": 47}, {\"Data Sources\": \"command: command execution,file: file creation\", \"Count of Techniques\": 47}, {\"Data Sources\": \"command: command execution,windows registry: windows registry key modification\", \"Count of Techniques\": 45}, {\"Data Sources\": \"command: command execution,file: file creation,process: process creation\", \"Count of Techniques\": 44}, {\"Data Sources\": \"command: command execution,file: file access\", \"Count of Techniques\": 42}, {\"Data Sources\": \"process: process creation,windows registry: windows registry key modification\", \"Count of Techniques\": 40}, {\"Data Sources\": \"file: file creation,file: file modification,process: process creation\", \"Count of Techniques\": 40}, {\"Data Sources\": \"command: command execution,process: process creation,windows registry: windows registry key modification\", \"Count of Techniques\": 39}]}}, {\"mode\": \"vega-lite\"});\n",
       "</script>"
      ],
      "text/plain": [
       "alt.LayerChart(...)"
      ]
     },
     "execution_count": 56,
     "metadata": {},
     "output_type": "execute_result"
    }
   ],
   "source": [
    "subsets_graph_2 = pandas.DataFrame({\n",
    "    'Data Sources': list(subsets_graph.index),\n",
    "    'Count of Techniques': subsets_graph['subsets_count'].tolist()})\n",
    "\n",
    "bars = alt.Chart(subsets_graph_2).mark_bar().encode(x ='Data Sources', y ='Count of Techniques', color='Data Sources').properties(width=500)\n",
    "text = bars.mark_text(align='center',baseline='middle',dx= 0,dy=-5).encode(text='Count of Techniques')\n",
    "bars + text"
   ]
  },
  {
   "cell_type": "markdown",
   "metadata": {},
   "source": [
    "Group (Process Monitoring - Process Command-line parameters) is the is the group of data sources with the highest number of techniques. This group of data sources are suggested to hunt 78 techniques"
   ]
  },
  {
   "cell_type": "markdown",
   "metadata": {},
   "source": [
    "## 17. Let's Split all the Information About Techniques With Data Sources Defined: Matrix, Platform, Tactic and Data Source"
   ]
  },
  {
   "cell_type": "markdown",
   "metadata": {},
   "source": [
    "Let's split all the relevant columns of the dataframe:"
   ]
  },
  {
   "cell_type": "code",
   "execution_count": 57,
   "metadata": {},
   "outputs": [
    {
     "data": {
      "text/html": [
       "<div>\n",
       "<style scoped>\n",
       "    .dataframe tbody tr th:only-of-type {\n",
       "        vertical-align: middle;\n",
       "    }\n",
       "\n",
       "    .dataframe tbody tr th {\n",
       "        vertical-align: top;\n",
       "    }\n",
       "\n",
       "    .dataframe thead th {\n",
       "        text-align: right;\n",
       "    }\n",
       "</style>\n",
       "<table border=\"1\" class=\"dataframe\">\n",
       "  <thead>\n",
       "    <tr style=\"text-align: right;\">\n",
       "      <th></th>\n",
       "      <th>matrix</th>\n",
       "      <th>platform</th>\n",
       "      <th>tactic</th>\n",
       "      <th>technique</th>\n",
       "      <th>technique_id</th>\n",
       "      <th>data_sources</th>\n",
       "    </tr>\n",
       "  </thead>\n",
       "  <tbody>\n",
       "    <tr>\n",
       "      <th>0</th>\n",
       "      <td>mitre-attack</td>\n",
       "      <td>Windows</td>\n",
       "      <td>defense-evasion</td>\n",
       "      <td>Code Signing Policy Modification</td>\n",
       "      <td>T1553.006</td>\n",
       "      <td>Windows Registry: Windows Registry Key Modific...</td>\n",
       "    </tr>\n",
       "    <tr>\n",
       "      <th>1</th>\n",
       "      <td>mitre-attack</td>\n",
       "      <td>Windows</td>\n",
       "      <td>defense-evasion</td>\n",
       "      <td>Code Signing Policy Modification</td>\n",
       "      <td>T1553.006</td>\n",
       "      <td>Command: Command Execution</td>\n",
       "    </tr>\n",
       "    <tr>\n",
       "      <th>2</th>\n",
       "      <td>mitre-attack</td>\n",
       "      <td>Windows</td>\n",
       "      <td>defense-evasion</td>\n",
       "      <td>Code Signing Policy Modification</td>\n",
       "      <td>T1553.006</td>\n",
       "      <td>Process: Process Creation</td>\n",
       "    </tr>\n",
       "    <tr>\n",
       "      <th>3</th>\n",
       "      <td>mitre-attack</td>\n",
       "      <td>macOS</td>\n",
       "      <td>defense-evasion</td>\n",
       "      <td>Code Signing Policy Modification</td>\n",
       "      <td>T1553.006</td>\n",
       "      <td>Windows Registry: Windows Registry Key Modific...</td>\n",
       "    </tr>\n",
       "    <tr>\n",
       "      <th>4</th>\n",
       "      <td>mitre-attack</td>\n",
       "      <td>macOS</td>\n",
       "      <td>defense-evasion</td>\n",
       "      <td>Code Signing Policy Modification</td>\n",
       "      <td>T1553.006</td>\n",
       "      <td>Command: Command Execution</td>\n",
       "    </tr>\n",
       "  </tbody>\n",
       "</table>\n",
       "</div>"
      ],
      "text/plain": [
       "         matrix platform           tactic                         technique  \\\n",
       "0  mitre-attack  Windows  defense-evasion  Code Signing Policy Modification   \n",
       "1  mitre-attack  Windows  defense-evasion  Code Signing Policy Modification   \n",
       "2  mitre-attack  Windows  defense-evasion  Code Signing Policy Modification   \n",
       "3  mitre-attack    macOS  defense-evasion  Code Signing Policy Modification   \n",
       "4  mitre-attack    macOS  defense-evasion  Code Signing Policy Modification   \n",
       "\n",
       "  technique_id                                       data_sources  \n",
       "0    T1553.006  Windows Registry: Windows Registry Key Modific...  \n",
       "1    T1553.006                         Command: Command Execution  \n",
       "2    T1553.006                          Process: Process Creation  \n",
       "3    T1553.006  Windows Registry: Windows Registry Key Modific...  \n",
       "4    T1553.006                         Command: Command Execution  "
      ]
     },
     "execution_count": 57,
     "metadata": {},
     "output_type": "execute_result"
    }
   ],
   "source": [
    "techniques_data = techniques_with_data_sources\n",
    "\n",
    "attributes = ['platform','tactic','data_sources'] # In attributes we are going to indicate the name of the columns that we need to split\n",
    "\n",
    "for a in attributes:\n",
    "    s = techniques_data.apply(lambda x: pandas.Series(x[a]),axis=1).stack().reset_index(level=1, drop=True)\n",
    "    # \"s\" is going to be a column of a frame with every value of the list inside each cell of the column \"a\"\n",
    "    s.name = a\n",
    "    # We name \"s\" with the same name of \"a\".\n",
    "    techniques_data=techniques_data.drop(a, axis=1).join(s).reset_index(drop=True)\n",
    "    # We drop the column \"a\" from \"techniques_data\", and then join \"techniques_data\" with \"s\"\n",
    "\n",
    "# Let's re-arrange the columns from general to specific\n",
    "techniques_data_2=techniques_data.reindex(['matrix','platform','tactic','technique','technique_id','data_sources'], axis=1)\n",
    "\n",
    "# We are going to edit some names inside the dataframe to improve the consistency:\n",
    "techniques_data_3 = techniques_data_2.replace(['Process monitoring','Application logs'],['Process Monitoring','Application Logs'])\n",
    "\n",
    "techniques_data_3.head()"
   ]
  },
  {
   "cell_type": "markdown",
   "metadata": {},
   "source": [
    "Do you remember data sources names with a reference to Windows? After splitting the dataframe by platforms, tactics and data sources, are there any macOC or linux techniques that consider windows data sources? Let's identify those rows:"
   ]
  },
  {
   "cell_type": "code",
   "execution_count": 58,
   "metadata": {},
   "outputs": [],
   "source": [
    "# After splitting the rows of the dataframe, there are some values that relate windows data sources with platforms like linux and masOS.\n",
    "# We need to identify those rows\n",
    "conditions = [(techniques_data_3['platform']=='Linux')&(techniques_data_3['data_sources'].str.contains('windows',case=False)== True),\n",
    "             (techniques_data_3['platform']=='macOS')&(techniques_data_3['data_sources'].str.contains('windows',case=False)== True),\n",
    "             (techniques_data_3['platform']=='Linux')&(techniques_data_3['data_sources'].str.contains('powershell',case=False)== True),\n",
    "             (techniques_data_3['platform']=='macOS')&(techniques_data_3['data_sources'].str.contains('powershell',case=False)== True),\n",
    "             (techniques_data_3['platform']=='Linux')&(techniques_data_3['data_sources'].str.contains('wmi',case=False)== True),\n",
    "             (techniques_data_3['platform']=='macOS')&(techniques_data_3['data_sources'].str.contains('wmi',case=False)== True)]\n",
    "# In conditions we indicate a logical test\n",
    "\n",
    "choices = ['NO OK','NO OK','NO OK','NO OK','NO OK','NO OK']\n",
    "# In choices, we indicate the result when the logical test is true\n",
    "\n",
    "techniques_data_3['Validation'] = np.select(conditions,choices,default='OK')\n",
    "# We add a column \"Validation\" to \"techniques_data_3\" with the result of the logical test. The default value is going to be \"OK\""
   ]
  },
  {
   "cell_type": "markdown",
   "metadata": {},
   "source": [
    "What is the inconsistent data?"
   ]
  },
  {
   "cell_type": "code",
   "execution_count": 59,
   "metadata": {},
   "outputs": [
    {
     "data": {
      "text/html": [
       "<div>\n",
       "<style scoped>\n",
       "    .dataframe tbody tr th:only-of-type {\n",
       "        vertical-align: middle;\n",
       "    }\n",
       "\n",
       "    .dataframe tbody tr th {\n",
       "        vertical-align: top;\n",
       "    }\n",
       "\n",
       "    .dataframe thead th {\n",
       "        text-align: right;\n",
       "    }\n",
       "</style>\n",
       "<table border=\"1\" class=\"dataframe\">\n",
       "  <thead>\n",
       "    <tr style=\"text-align: right;\">\n",
       "      <th></th>\n",
       "      <th>matrix</th>\n",
       "      <th>platform</th>\n",
       "      <th>tactic</th>\n",
       "      <th>technique</th>\n",
       "      <th>technique_id</th>\n",
       "      <th>data_sources</th>\n",
       "      <th>Validation</th>\n",
       "    </tr>\n",
       "  </thead>\n",
       "  <tbody>\n",
       "    <tr>\n",
       "      <th>3</th>\n",
       "      <td>mitre-attack</td>\n",
       "      <td>macOS</td>\n",
       "      <td>defense-evasion</td>\n",
       "      <td>Code Signing Policy Modification</td>\n",
       "      <td>T1553.006</td>\n",
       "      <td>Windows Registry: Windows Registry Key Modific...</td>\n",
       "      <td>NO OK</td>\n",
       "    </tr>\n",
       "    <tr>\n",
       "      <th>307</th>\n",
       "      <td>mitre-attack</td>\n",
       "      <td>Linux</td>\n",
       "      <td>defense-evasion</td>\n",
       "      <td>Run Virtual Instance</td>\n",
       "      <td>T1564.006</td>\n",
       "      <td>Windows Registry: Windows Registry Key Modific...</td>\n",
       "      <td>NO OK</td>\n",
       "    </tr>\n",
       "    <tr>\n",
       "      <th>312</th>\n",
       "      <td>mitre-attack</td>\n",
       "      <td>macOS</td>\n",
       "      <td>defense-evasion</td>\n",
       "      <td>Run Virtual Instance</td>\n",
       "      <td>T1564.006</td>\n",
       "      <td>Windows Registry: Windows Registry Key Modific...</td>\n",
       "      <td>NO OK</td>\n",
       "    </tr>\n",
       "    <tr>\n",
       "      <th>318</th>\n",
       "      <td>mitre-attack</td>\n",
       "      <td>Linux</td>\n",
       "      <td>defense-evasion</td>\n",
       "      <td>Hidden File System</td>\n",
       "      <td>T1564.005</td>\n",
       "      <td>Windows Registry: Windows Registry Key Modific...</td>\n",
       "      <td>NO OK</td>\n",
       "    </tr>\n",
       "    <tr>\n",
       "      <th>321</th>\n",
       "      <td>mitre-attack</td>\n",
       "      <td>macOS</td>\n",
       "      <td>defense-evasion</td>\n",
       "      <td>Hidden File System</td>\n",
       "      <td>T1564.005</td>\n",
       "      <td>Windows Registry: Windows Registry Key Modific...</td>\n",
       "      <td>NO OK</td>\n",
       "    </tr>\n",
       "  </tbody>\n",
       "</table>\n",
       "</div>"
      ],
      "text/plain": [
       "           matrix platform           tactic                         technique  \\\n",
       "3    mitre-attack    macOS  defense-evasion  Code Signing Policy Modification   \n",
       "307  mitre-attack    Linux  defense-evasion              Run Virtual Instance   \n",
       "312  mitre-attack    macOS  defense-evasion              Run Virtual Instance   \n",
       "318  mitre-attack    Linux  defense-evasion                Hidden File System   \n",
       "321  mitre-attack    macOS  defense-evasion                Hidden File System   \n",
       "\n",
       "    technique_id                                       data_sources Validation  \n",
       "3      T1553.006  Windows Registry: Windows Registry Key Modific...      NO OK  \n",
       "307    T1564.006  Windows Registry: Windows Registry Key Modific...      NO OK  \n",
       "312    T1564.006  Windows Registry: Windows Registry Key Modific...      NO OK  \n",
       "318    T1564.005  Windows Registry: Windows Registry Key Modific...      NO OK  \n",
       "321    T1564.005  Windows Registry: Windows Registry Key Modific...      NO OK  "
      ]
     },
     "execution_count": 59,
     "metadata": {},
     "output_type": "execute_result"
    }
   ],
   "source": [
    "techniques_analysis_data_no_ok = techniques_data_3[techniques_data_3.Validation == 'NO OK']\n",
    "# Finally, we are filtering all the values with NO OK\n",
    "\n",
    "techniques_analysis_data_no_ok.head()"
   ]
  },
  {
   "cell_type": "code",
   "execution_count": 60,
   "metadata": {},
   "outputs": [
    {
     "name": "stdout",
     "output_type": "stream",
     "text": [
      "There are  100  rows with inconsistent data\n"
     ]
    }
   ],
   "source": [
    "print('There are ',len(techniques_analysis_data_no_ok),' rows with inconsistent data')"
   ]
  },
  {
   "cell_type": "markdown",
   "metadata": {},
   "source": [
    "What is the impact of this inconsistent data from a platform and data sources perspective?"
   ]
  },
  {
   "cell_type": "code",
   "execution_count": 61,
   "metadata": {},
   "outputs": [],
   "source": [
    "df = techniques_with_data_sources\n",
    "\n",
    "attributes = ['platform','data_sources']\n",
    "\n",
    "for a in attributes:\n",
    "    s = df.apply(lambda x: pandas.Series(x[a]),axis=1).stack().reset_index(level=1, drop=True)\n",
    "    s.name = a\n",
    "    df=df.drop(a, axis=1).join(s).reset_index(drop=True)\n",
    "    \n",
    "df_2=df.reindex(['matrix','platform','tactic','technique','technique_id','data_sources'], axis=1)\n",
    "df_3 = df_2.replace(['Process monitoring','Application logs'],['Process Monitoring','Application Logs'])\n",
    "\n",
    "conditions = [(df_3['data_sources'].str.contains('windows',case=False)== True),\n",
    "              (df_3['data_sources'].str.contains('powershell',case=False)== True),\n",
    "              (df_3['data_sources'].str.contains('wmi',case=False)== True)]\n",
    "\n",
    "choices = ['Windows','Windows','Windows']\n",
    "\n",
    "df_3['Validation'] = np.select(conditions,choices,default='Other')\n",
    "df_3['Num_Tech'] = 1\n",
    "df_4 = df_3[df_3.Validation == 'Windows']\n",
    "df_5 = df_4.groupby(['data_sources','platform'])['technique'].nunique()\n",
    "df_6 = df_5.to_frame().reset_index()"
   ]
  },
  {
   "cell_type": "code",
   "execution_count": 62,
   "metadata": {},
   "outputs": [
    {
     "data": {
      "text/html": [
       "\n",
       "<div id=\"altair-viz-6e49e36f6ad841589824b75f1faaace2\"></div>\n",
       "<script type=\"text/javascript\">\n",
       "  (function(spec, embedOpt){\n",
       "    let outputDiv = document.currentScript.previousElementSibling;\n",
       "    if (outputDiv.id !== \"altair-viz-6e49e36f6ad841589824b75f1faaace2\") {\n",
       "      outputDiv = document.getElementById(\"altair-viz-6e49e36f6ad841589824b75f1faaace2\");\n",
       "    }\n",
       "    const paths = {\n",
       "      \"vega\": \"https://cdn.jsdelivr.net/npm//vega@5?noext\",\n",
       "      \"vega-lib\": \"https://cdn.jsdelivr.net/npm//vega-lib?noext\",\n",
       "      \"vega-lite\": \"https://cdn.jsdelivr.net/npm//vega-lite@4.8.1?noext\",\n",
       "      \"vega-embed\": \"https://cdn.jsdelivr.net/npm//vega-embed@6?noext\",\n",
       "    };\n",
       "\n",
       "    function loadScript(lib) {\n",
       "      return new Promise(function(resolve, reject) {\n",
       "        var s = document.createElement('script');\n",
       "        s.src = paths[lib];\n",
       "        s.async = true;\n",
       "        s.onload = () => resolve(paths[lib]);\n",
       "        s.onerror = () => reject(`Error loading script: ${paths[lib]}`);\n",
       "        document.getElementsByTagName(\"head\")[0].appendChild(s);\n",
       "      });\n",
       "    }\n",
       "\n",
       "    function showError(err) {\n",
       "      outputDiv.innerHTML = `<div class=\"error\" style=\"color:red;\">${err}</div>`;\n",
       "      throw err;\n",
       "    }\n",
       "\n",
       "    function displayChart(vegaEmbed) {\n",
       "      vegaEmbed(outputDiv, spec, embedOpt)\n",
       "        .catch(err => showError(`Javascript Error: ${err.message}<br>This usually means there's a typo in your chart specification. See the javascript console for the full traceback.`));\n",
       "    }\n",
       "\n",
       "    if(typeof define === \"function\" && define.amd) {\n",
       "      requirejs.config({paths});\n",
       "      require([\"vega-embed\"], displayChart, err => showError(`Error loading script: ${err.message}`));\n",
       "    } else if (typeof vegaEmbed === \"function\") {\n",
       "      displayChart(vegaEmbed);\n",
       "    } else {\n",
       "      loadScript(\"vega\")\n",
       "        .then(() => loadScript(\"vega-lite\"))\n",
       "        .then(() => loadScript(\"vega-embed\"))\n",
       "        .catch(showError)\n",
       "        .then(() => displayChart(vegaEmbed));\n",
       "    }\n",
       "  })({\"config\": {\"view\": {\"continuousWidth\": 400, \"continuousHeight\": 300}}, \"data\": {\"name\": \"data-06dbf4286604ead36f1ae6c76d5f56c3\"}, \"mark\": \"bar\", \"encoding\": {\"color\": {\"type\": \"nominal\", \"field\": \"platform\"}, \"x\": {\"type\": \"quantitative\", \"field\": \"technique\", \"stack\": \"normalize\"}, \"y\": {\"type\": \"nominal\", \"field\": \"data_sources\"}}, \"height\": 200, \"$schema\": \"https://vega.github.io/schema/vega-lite/v4.8.1.json\", \"datasets\": {\"data-06dbf4286604ead36f1ae6c76d5f56c3\": [{\"data_sources\": \"WMI: WMI Creation\", \"platform\": \"Linux\", \"technique\": 1}, {\"data_sources\": \"WMI: WMI Creation\", \"platform\": \"Windows\", \"technique\": 2}, {\"data_sources\": \"WMI: WMI Creation\", \"platform\": \"macOS\", \"technique\": 1}, {\"data_sources\": \"Windows Registry\", \"platform\": \"Control Server\", \"technique\": 1}, {\"data_sources\": \"Windows Registry\", \"platform\": \"Data Historian\", \"technique\": 1}, {\"data_sources\": \"Windows Registry\", \"platform\": \"Engineering Workstation\", \"technique\": 1}, {\"data_sources\": \"Windows Registry\", \"platform\": \"Human-Machine Interface\", \"technique\": 1}, {\"data_sources\": \"Windows Registry\", \"platform\": \"Windows\", \"technique\": 1}, {\"data_sources\": \"Windows Registry: Windows Registry Key Access\", \"platform\": \"Azure AD\", \"technique\": 1}, {\"data_sources\": \"Windows Registry: Windows Registry Key Access\", \"platform\": \"Containers\", \"technique\": 1}, {\"data_sources\": \"Windows Registry: Windows Registry Key Access\", \"platform\": \"Google Workspace\", \"technique\": 1}, {\"data_sources\": \"Windows Registry: Windows Registry Key Access\", \"platform\": \"IaaS\", \"technique\": 1}, {\"data_sources\": \"Windows Registry: Windows Registry Key Access\", \"platform\": \"Linux\", \"technique\": 2}, {\"data_sources\": \"Windows Registry: Windows Registry Key Access\", \"platform\": \"Office 365\", \"technique\": 1}, {\"data_sources\": \"Windows Registry: Windows Registry Key Access\", \"platform\": \"SaaS\", \"technique\": 1}, {\"data_sources\": \"Windows Registry: Windows Registry Key Access\", \"platform\": \"Windows\", \"technique\": 6}, {\"data_sources\": \"Windows Registry: Windows Registry Key Access\", \"platform\": \"macOS\", \"technique\": 2}, {\"data_sources\": \"Windows Registry: Windows Registry Key Creation\", \"platform\": \"Linux\", \"technique\": 6}, {\"data_sources\": \"Windows Registry: Windows Registry Key Creation\", \"platform\": \"Office 365\", \"technique\": 4}, {\"data_sources\": \"Windows Registry: Windows Registry Key Creation\", \"platform\": \"Windows\", \"technique\": 15}, {\"data_sources\": \"Windows Registry: Windows Registry Key Creation\", \"platform\": \"macOS\", \"technique\": 6}, {\"data_sources\": \"Windows Registry: Windows Registry Key Deletion\", \"platform\": \"Containers\", \"technique\": 3}, {\"data_sources\": \"Windows Registry: Windows Registry Key Deletion\", \"platform\": \"IaaS\", \"technique\": 2}, {\"data_sources\": \"Windows Registry: Windows Registry Key Deletion\", \"platform\": \"Linux\", \"technique\": 3}, {\"data_sources\": \"Windows Registry: Windows Registry Key Deletion\", \"platform\": \"Office 365\", \"technique\": 1}, {\"data_sources\": \"Windows Registry: Windows Registry Key Deletion\", \"platform\": \"Windows\", \"technique\": 4}, {\"data_sources\": \"Windows Registry: Windows Registry Key Deletion\", \"platform\": \"macOS\", \"technique\": 3}, {\"data_sources\": \"Windows Registry: Windows Registry Key Modification\", \"platform\": \"Containers\", \"technique\": 3}, {\"data_sources\": \"Windows Registry: Windows Registry Key Modification\", \"platform\": \"IaaS\", \"technique\": 2}, {\"data_sources\": \"Windows Registry: Windows Registry Key Modification\", \"platform\": \"Linux\", \"technique\": 22}, {\"data_sources\": \"Windows Registry: Windows Registry Key Modification\", \"platform\": \"Network\", \"technique\": 3}, {\"data_sources\": \"Windows Registry: Windows Registry Key Modification\", \"platform\": \"Office 365\", \"technique\": 5}, {\"data_sources\": \"Windows Registry: Windows Registry Key Modification\", \"platform\": \"Windows\", \"technique\": 56}, {\"data_sources\": \"Windows Registry: Windows Registry Key Modification\", \"platform\": \"macOS\", \"technique\": 24}, {\"data_sources\": \"Windows error reporting\", \"platform\": \"Data Historian\", \"technique\": 1}, {\"data_sources\": \"Windows error reporting\", \"platform\": \"Engineering Workstation\", \"technique\": 1}, {\"data_sources\": \"Windows error reporting\", \"platform\": \"Human-Machine Interface\", \"technique\": 1}, {\"data_sources\": \"Windows event logs\", \"platform\": \"Control Server\", \"technique\": 2}, {\"data_sources\": \"Windows event logs\", \"platform\": \"Engineering Workstation\", \"technique\": 3}, {\"data_sources\": \"Windows event logs\", \"platform\": \"Field Controller/RTU/PLC/IED\", \"technique\": 1}, {\"data_sources\": \"Windows event logs\", \"platform\": \"Human-Machine Interface\", \"technique\": 3}, {\"data_sources\": \"Windows event logs\", \"platform\": \"Safety Instrumented System/Protection Relay\", \"technique\": 2}, {\"data_sources\": \"Windows event logs\", \"platform\": \"Windows\", \"technique\": 2}, {\"data_sources\": \"Windows registry\", \"platform\": \"Engineering Workstation\", \"technique\": 1}, {\"data_sources\": \"Windows registry\", \"platform\": \"Field Controller/RTU/PLC/IED\", \"technique\": 1}, {\"data_sources\": \"Windows registry\", \"platform\": \"Windows\", \"technique\": 2}]}}, {\"mode\": \"vega-lite\"});\n",
       "</script>"
      ],
      "text/plain": [
       "alt.Chart(...)"
      ]
     },
     "execution_count": 62,
     "metadata": {},
     "output_type": "execute_result"
    }
   ],
   "source": [
    "alt.Chart(df_6).mark_bar().encode(x=alt.X('technique', stack=\"normalize\"),    y='data_sources',    color='platform').properties(height=200)"
   ]
  },
  {
   "cell_type": "markdown",
   "metadata": {},
   "source": [
    "There are techniques that consider Windows Error Reporting, Windows Registry, and Windows event logs as data sources and they also consider platforms like Linux and masOS. We do not need to consider this rows because those data sources can only be managed at a Windows environment. These are the techniques that we should not consider in our data base:"
   ]
  },
  {
   "cell_type": "code",
   "execution_count": 63,
   "metadata": {},
   "outputs": [
    {
     "data": {
      "text/html": [
       "<div>\n",
       "<style scoped>\n",
       "    .dataframe tbody tr th:only-of-type {\n",
       "        vertical-align: middle;\n",
       "    }\n",
       "\n",
       "    .dataframe tbody tr th {\n",
       "        vertical-align: top;\n",
       "    }\n",
       "\n",
       "    .dataframe thead th {\n",
       "        text-align: right;\n",
       "    }\n",
       "</style>\n",
       "<table border=\"1\" class=\"dataframe\">\n",
       "  <thead>\n",
       "    <tr style=\"text-align: right;\">\n",
       "      <th></th>\n",
       "      <th>technique</th>\n",
       "      <th>data_sources</th>\n",
       "    </tr>\n",
       "  </thead>\n",
       "  <tbody>\n",
       "    <tr>\n",
       "      <th>2956</th>\n",
       "      <td>Event Triggered Execution</td>\n",
       "      <td>WMI: WMI Creation</td>\n",
       "    </tr>\n",
       "    <tr>\n",
       "      <th>5094</th>\n",
       "      <td>OS Credential Dumping</td>\n",
       "      <td>Windows Registry: Windows Registry Key Access</td>\n",
       "    </tr>\n",
       "    <tr>\n",
       "      <th>2415</th>\n",
       "      <td>Unsecured Credentials</td>\n",
       "      <td>Windows Registry: Windows Registry Key Access</td>\n",
       "    </tr>\n",
       "    <tr>\n",
       "      <th>4024</th>\n",
       "      <td>Browser Extensions</td>\n",
       "      <td>Windows Registry: Windows Registry Key Creation</td>\n",
       "    </tr>\n",
       "    <tr>\n",
       "      <th>3155</th>\n",
       "      <td>Create or Modify System Process</td>\n",
       "      <td>Windows Registry: Windows Registry Key Creation</td>\n",
       "    </tr>\n",
       "    <tr>\n",
       "      <th>2892</th>\n",
       "      <td>Boot or Logon Autostart Execution</td>\n",
       "      <td>Windows Registry: Windows Registry Key Creation</td>\n",
       "    </tr>\n",
       "    <tr>\n",
       "      <th>4851</th>\n",
       "      <td>Boot or Logon Initialization Scripts</td>\n",
       "      <td>Windows Registry: Windows Registry Key Creation</td>\n",
       "    </tr>\n",
       "    <tr>\n",
       "      <th>2326</th>\n",
       "      <td>Subvert Trust Controls</td>\n",
       "      <td>Windows Registry: Windows Registry Key Creation</td>\n",
       "    </tr>\n",
       "    <tr>\n",
       "      <th>1533</th>\n",
       "      <td>Install Root Certificate</td>\n",
       "      <td>Windows Registry: Windows Registry Key Creation</td>\n",
       "    </tr>\n",
       "    <tr>\n",
       "      <th>4499</th>\n",
       "      <td>Indicator Removal on Host</td>\n",
       "      <td>Windows Registry: Windows Registry Key Deletion</td>\n",
       "    </tr>\n",
       "    <tr>\n",
       "      <th>1573</th>\n",
       "      <td>Disable or Modify Tools</td>\n",
       "      <td>Windows Registry: Windows Registry Key Deletion</td>\n",
       "    </tr>\n",
       "    <tr>\n",
       "      <th>1630</th>\n",
       "      <td>Impair Defenses</td>\n",
       "      <td>Windows Registry: Windows Registry Key Deletion</td>\n",
       "    </tr>\n",
       "    <tr>\n",
       "      <th>1534</th>\n",
       "      <td>Install Root Certificate</td>\n",
       "      <td>Windows Registry: Windows Registry Key Modific...</td>\n",
       "    </tr>\n",
       "    <tr>\n",
       "      <th>4604</th>\n",
       "      <td>Input Capture</td>\n",
       "      <td>Windows Registry: Windows Registry Key Modific...</td>\n",
       "    </tr>\n",
       "    <tr>\n",
       "      <th>4498</th>\n",
       "      <td>Indicator Removal on Host</td>\n",
       "      <td>Windows Registry: Windows Registry Key Modific...</td>\n",
       "    </tr>\n",
       "    <tr>\n",
       "      <th>4196</th>\n",
       "      <td>Two-Factor Authentication Interception</td>\n",
       "      <td>Windows Registry: Windows Registry Key Modific...</td>\n",
       "    </tr>\n",
       "    <tr>\n",
       "      <th>307</th>\n",
       "      <td>Run Virtual Instance</td>\n",
       "      <td>Windows Registry: Windows Registry Key Modific...</td>\n",
       "    </tr>\n",
       "    <tr>\n",
       "      <th>3701</th>\n",
       "      <td>Service Stop</td>\n",
       "      <td>Windows Registry: Windows Registry Key Modific...</td>\n",
       "    </tr>\n",
       "    <tr>\n",
       "      <th>3683</th>\n",
       "      <td>Inhibit System Recovery</td>\n",
       "      <td>Windows Registry: Windows Registry Key Modific...</td>\n",
       "    </tr>\n",
       "    <tr>\n",
       "      <th>3156</th>\n",
       "      <td>Create or Modify System Process</td>\n",
       "      <td>Windows Registry: Windows Registry Key Modific...</td>\n",
       "    </tr>\n",
       "    <tr>\n",
       "      <th>318</th>\n",
       "      <td>Hidden File System</td>\n",
       "      <td>Windows Registry: Windows Registry Key Modific...</td>\n",
       "    </tr>\n",
       "    <tr>\n",
       "      <th>388</th>\n",
       "      <td>Indicator Blocking</td>\n",
       "      <td>Windows Registry: Windows Registry Key Modific...</td>\n",
       "    </tr>\n",
       "    <tr>\n",
       "      <th>2952</th>\n",
       "      <td>Event Triggered Execution</td>\n",
       "      <td>Windows Registry: Windows Registry Key Modific...</td>\n",
       "    </tr>\n",
       "    <tr>\n",
       "      <th>912</th>\n",
       "      <td>Hijack Execution Flow</td>\n",
       "      <td>Windows Registry: Windows Registry Key Modific...</td>\n",
       "    </tr>\n",
       "    <tr>\n",
       "      <th>2577</th>\n",
       "      <td>Abuse Elevation Control Mechanism</td>\n",
       "      <td>Windows Registry: Windows Registry Key Modific...</td>\n",
       "    </tr>\n",
       "    <tr>\n",
       "      <th>1052</th>\n",
       "      <td>System Services</td>\n",
       "      <td>Windows Registry: Windows Registry Key Modific...</td>\n",
       "    </tr>\n",
       "    <tr>\n",
       "      <th>2327</th>\n",
       "      <td>Subvert Trust Controls</td>\n",
       "      <td>Windows Registry: Windows Registry Key Modific...</td>\n",
       "    </tr>\n",
       "    <tr>\n",
       "      <th>1365</th>\n",
       "      <td>Hide Artifacts</td>\n",
       "      <td>Windows Registry: Windows Registry Key Modific...</td>\n",
       "    </tr>\n",
       "    <tr>\n",
       "      <th>2109</th>\n",
       "      <td>Keylogging</td>\n",
       "      <td>Windows Registry: Windows Registry Key Modific...</td>\n",
       "    </tr>\n",
       "    <tr>\n",
       "      <th>2032</th>\n",
       "      <td>Modify Authentication Process</td>\n",
       "      <td>Windows Registry: Windows Registry Key Modific...</td>\n",
       "    </tr>\n",
       "    <tr>\n",
       "      <th>1971</th>\n",
       "      <td>Man-in-the-Middle</td>\n",
       "      <td>Windows Registry: Windows Registry Key Modific...</td>\n",
       "    </tr>\n",
       "    <tr>\n",
       "      <th>1629</th>\n",
       "      <td>Impair Defenses</td>\n",
       "      <td>Windows Registry: Windows Registry Key Modific...</td>\n",
       "    </tr>\n",
       "    <tr>\n",
       "      <th>1572</th>\n",
       "      <td>Disable or Modify Tools</td>\n",
       "      <td>Windows Registry: Windows Registry Key Modific...</td>\n",
       "    </tr>\n",
       "    <tr>\n",
       "      <th>1546</th>\n",
       "      <td>Disable or Modify System Firewall</td>\n",
       "      <td>Windows Registry: Windows Registry Key Modific...</td>\n",
       "    </tr>\n",
       "    <tr>\n",
       "      <th>2893</th>\n",
       "      <td>Boot or Logon Autostart Execution</td>\n",
       "      <td>Windows Registry: Windows Registry Key Modific...</td>\n",
       "    </tr>\n",
       "    <tr>\n",
       "      <th>3</th>\n",
       "      <td>Code Signing Policy Modification</td>\n",
       "      <td>Windows Registry: Windows Registry Key Modific...</td>\n",
       "    </tr>\n",
       "  </tbody>\n",
       "</table>\n",
       "</div>"
      ],
      "text/plain": [
       "                                   technique  \\\n",
       "2956               Event Triggered Execution   \n",
       "5094                   OS Credential Dumping   \n",
       "2415                   Unsecured Credentials   \n",
       "4024                      Browser Extensions   \n",
       "3155         Create or Modify System Process   \n",
       "2892       Boot or Logon Autostart Execution   \n",
       "4851    Boot or Logon Initialization Scripts   \n",
       "2326                  Subvert Trust Controls   \n",
       "1533                Install Root Certificate   \n",
       "4499               Indicator Removal on Host   \n",
       "1573                 Disable or Modify Tools   \n",
       "1630                         Impair Defenses   \n",
       "1534                Install Root Certificate   \n",
       "4604                           Input Capture   \n",
       "4498               Indicator Removal on Host   \n",
       "4196  Two-Factor Authentication Interception   \n",
       "307                     Run Virtual Instance   \n",
       "3701                            Service Stop   \n",
       "3683                 Inhibit System Recovery   \n",
       "3156         Create or Modify System Process   \n",
       "318                       Hidden File System   \n",
       "388                       Indicator Blocking   \n",
       "2952               Event Triggered Execution   \n",
       "912                    Hijack Execution Flow   \n",
       "2577       Abuse Elevation Control Mechanism   \n",
       "1052                         System Services   \n",
       "2327                  Subvert Trust Controls   \n",
       "1365                          Hide Artifacts   \n",
       "2109                              Keylogging   \n",
       "2032           Modify Authentication Process   \n",
       "1971                       Man-in-the-Middle   \n",
       "1629                         Impair Defenses   \n",
       "1572                 Disable or Modify Tools   \n",
       "1546       Disable or Modify System Firewall   \n",
       "2893       Boot or Logon Autostart Execution   \n",
       "3           Code Signing Policy Modification   \n",
       "\n",
       "                                           data_sources  \n",
       "2956                                  WMI: WMI Creation  \n",
       "5094      Windows Registry: Windows Registry Key Access  \n",
       "2415      Windows Registry: Windows Registry Key Access  \n",
       "4024    Windows Registry: Windows Registry Key Creation  \n",
       "3155    Windows Registry: Windows Registry Key Creation  \n",
       "2892    Windows Registry: Windows Registry Key Creation  \n",
       "4851    Windows Registry: Windows Registry Key Creation  \n",
       "2326    Windows Registry: Windows Registry Key Creation  \n",
       "1533    Windows Registry: Windows Registry Key Creation  \n",
       "4499    Windows Registry: Windows Registry Key Deletion  \n",
       "1573    Windows Registry: Windows Registry Key Deletion  \n",
       "1630    Windows Registry: Windows Registry Key Deletion  \n",
       "1534  Windows Registry: Windows Registry Key Modific...  \n",
       "4604  Windows Registry: Windows Registry Key Modific...  \n",
       "4498  Windows Registry: Windows Registry Key Modific...  \n",
       "4196  Windows Registry: Windows Registry Key Modific...  \n",
       "307   Windows Registry: Windows Registry Key Modific...  \n",
       "3701  Windows Registry: Windows Registry Key Modific...  \n",
       "3683  Windows Registry: Windows Registry Key Modific...  \n",
       "3156  Windows Registry: Windows Registry Key Modific...  \n",
       "318   Windows Registry: Windows Registry Key Modific...  \n",
       "388   Windows Registry: Windows Registry Key Modific...  \n",
       "2952  Windows Registry: Windows Registry Key Modific...  \n",
       "912   Windows Registry: Windows Registry Key Modific...  \n",
       "2577  Windows Registry: Windows Registry Key Modific...  \n",
       "1052  Windows Registry: Windows Registry Key Modific...  \n",
       "2327  Windows Registry: Windows Registry Key Modific...  \n",
       "1365  Windows Registry: Windows Registry Key Modific...  \n",
       "2109  Windows Registry: Windows Registry Key Modific...  \n",
       "2032  Windows Registry: Windows Registry Key Modific...  \n",
       "1971  Windows Registry: Windows Registry Key Modific...  \n",
       "1629  Windows Registry: Windows Registry Key Modific...  \n",
       "1572  Windows Registry: Windows Registry Key Modific...  \n",
       "1546  Windows Registry: Windows Registry Key Modific...  \n",
       "2893  Windows Registry: Windows Registry Key Modific...  \n",
       "3     Windows Registry: Windows Registry Key Modific...  "
      ]
     },
     "execution_count": 63,
     "metadata": {},
     "output_type": "execute_result"
    }
   ],
   "source": [
    "techniques_analysis_data_no_ok[['technique','data_sources']].drop_duplicates().sort_values(by='data_sources',ascending=True)"
   ]
  },
  {
   "cell_type": "markdown",
   "metadata": {},
   "source": [
    "Without considering this inconsistent data, the final dataframe is:"
   ]
  },
  {
   "cell_type": "code",
   "execution_count": 64,
   "metadata": {},
   "outputs": [
    {
     "data": {
      "text/html": [
       "<div>\n",
       "<style scoped>\n",
       "    .dataframe tbody tr th:only-of-type {\n",
       "        vertical-align: middle;\n",
       "    }\n",
       "\n",
       "    .dataframe tbody tr th {\n",
       "        vertical-align: top;\n",
       "    }\n",
       "\n",
       "    .dataframe thead th {\n",
       "        text-align: right;\n",
       "    }\n",
       "</style>\n",
       "<table border=\"1\" class=\"dataframe\">\n",
       "  <thead>\n",
       "    <tr style=\"text-align: right;\">\n",
       "      <th></th>\n",
       "      <th>matrix</th>\n",
       "      <th>platform</th>\n",
       "      <th>tactic</th>\n",
       "      <th>technique</th>\n",
       "      <th>technique_id</th>\n",
       "      <th>data_sources</th>\n",
       "      <th>Validation</th>\n",
       "    </tr>\n",
       "  </thead>\n",
       "  <tbody>\n",
       "    <tr>\n",
       "      <th>0</th>\n",
       "      <td>mitre-attack</td>\n",
       "      <td>Windows</td>\n",
       "      <td>defense-evasion</td>\n",
       "      <td>Code Signing Policy Modification</td>\n",
       "      <td>T1553.006</td>\n",
       "      <td>Windows Registry: Windows Registry Key Modific...</td>\n",
       "      <td>OK</td>\n",
       "    </tr>\n",
       "    <tr>\n",
       "      <th>1</th>\n",
       "      <td>mitre-attack</td>\n",
       "      <td>Windows</td>\n",
       "      <td>defense-evasion</td>\n",
       "      <td>Code Signing Policy Modification</td>\n",
       "      <td>T1553.006</td>\n",
       "      <td>Command: Command Execution</td>\n",
       "      <td>OK</td>\n",
       "    </tr>\n",
       "    <tr>\n",
       "      <th>2</th>\n",
       "      <td>mitre-attack</td>\n",
       "      <td>Windows</td>\n",
       "      <td>defense-evasion</td>\n",
       "      <td>Code Signing Policy Modification</td>\n",
       "      <td>T1553.006</td>\n",
       "      <td>Process: Process Creation</td>\n",
       "      <td>OK</td>\n",
       "    </tr>\n",
       "    <tr>\n",
       "      <th>4</th>\n",
       "      <td>mitre-attack</td>\n",
       "      <td>macOS</td>\n",
       "      <td>defense-evasion</td>\n",
       "      <td>Code Signing Policy Modification</td>\n",
       "      <td>T1553.006</td>\n",
       "      <td>Command: Command Execution</td>\n",
       "      <td>OK</td>\n",
       "    </tr>\n",
       "    <tr>\n",
       "      <th>5</th>\n",
       "      <td>mitre-attack</td>\n",
       "      <td>macOS</td>\n",
       "      <td>defense-evasion</td>\n",
       "      <td>Code Signing Policy Modification</td>\n",
       "      <td>T1553.006</td>\n",
       "      <td>Process: Process Creation</td>\n",
       "      <td>OK</td>\n",
       "    </tr>\n",
       "  </tbody>\n",
       "</table>\n",
       "</div>"
      ],
      "text/plain": [
       "         matrix platform           tactic                         technique  \\\n",
       "0  mitre-attack  Windows  defense-evasion  Code Signing Policy Modification   \n",
       "1  mitre-attack  Windows  defense-evasion  Code Signing Policy Modification   \n",
       "2  mitre-attack  Windows  defense-evasion  Code Signing Policy Modification   \n",
       "4  mitre-attack    macOS  defense-evasion  Code Signing Policy Modification   \n",
       "5  mitre-attack    macOS  defense-evasion  Code Signing Policy Modification   \n",
       "\n",
       "  technique_id                                       data_sources Validation  \n",
       "0    T1553.006  Windows Registry: Windows Registry Key Modific...         OK  \n",
       "1    T1553.006                         Command: Command Execution         OK  \n",
       "2    T1553.006                          Process: Process Creation         OK  \n",
       "4    T1553.006                         Command: Command Execution         OK  \n",
       "5    T1553.006                          Process: Process Creation         OK  "
      ]
     },
     "execution_count": 64,
     "metadata": {},
     "output_type": "execute_result"
    }
   ],
   "source": [
    "techniques_analysis_data_ok = techniques_data_3[techniques_data_3.Validation == 'OK']\n",
    "techniques_analysis_data_ok.head()"
   ]
  },
  {
   "cell_type": "code",
   "execution_count": 65,
   "metadata": {},
   "outputs": [
    {
     "name": "stdout",
     "output_type": "stream",
     "text": [
      "There are  5693  rows of data that you can play with\n"
     ]
    }
   ],
   "source": [
    "print('There are ',len(techniques_analysis_data_ok),' rows of data that you can play with')"
   ]
  },
  {
   "cell_type": "markdown",
   "metadata": {},
   "source": [
    "## 18. Getting Techniques by Data Sources"
   ]
  },
  {
   "cell_type": "markdown",
   "metadata": {},
   "source": [
    "This function gets techniques' information that includes specific data sources"
   ]
  },
  {
   "cell_type": "code",
   "execution_count": 66,
   "metadata": {},
   "outputs": [],
   "source": [
    "data_source = 'PROCESS MONITORING'"
   ]
  },
  {
   "cell_type": "code",
   "execution_count": 67,
   "metadata": {},
   "outputs": [],
   "source": [
    "results = lift.get_techniques_by_datasources(data_source)"
   ]
  },
  {
   "cell_type": "code",
   "execution_count": 68,
   "metadata": {},
   "outputs": [
    {
     "data": {
      "text/plain": [
       "21"
      ]
     },
     "execution_count": 68,
     "metadata": {},
     "output_type": "execute_result"
    }
   ],
   "source": [
    "len(results)"
   ]
  },
  {
   "cell_type": "code",
   "execution_count": 69,
   "metadata": {},
   "outputs": [
    {
     "data": {
      "text/plain": [
       "list"
      ]
     },
     "execution_count": 69,
     "metadata": {},
     "output_type": "execute_result"
    }
   ],
   "source": [
    "type(results)"
   ]
  },
  {
   "cell_type": "code",
   "execution_count": 70,
   "metadata": {},
   "outputs": [],
   "source": [
    "results2 = lift.get_techniques_by_datasources('pRoceSS MoniTorinG','process commAnd-linE parameters')"
   ]
  },
  {
   "cell_type": "code",
   "execution_count": 71,
   "metadata": {},
   "outputs": [
    {
     "data": {
      "text/plain": [
       "22"
      ]
     },
     "execution_count": 71,
     "metadata": {},
     "output_type": "execute_result"
    }
   ],
   "source": [
    "len(results2)"
   ]
  },
  {
   "cell_type": "code",
   "execution_count": 72,
   "metadata": {},
   "outputs": [
    {
     "data": {
      "text/plain": [
       "AttackPattern(type='attack-pattern', id='attack-pattern--d67adac8-e3b9-44f9-9e6d-6c2a7d69dbe4', created_by_ref='identity--c78cb6e5-0c4b-4611-8297-d1b8b55e40b5', created='2020-05-21T17:43:26.506Z', modified='2020-05-21T17:43:26.506Z', name='Connection Proxy', description='Adversaries may use a connection proxy to direct network traffic between systems or act as an intermediary for network communications.\\n\\nThe definition of a proxy can also be expanded to encompass trust relationships between networks in peer-to-peer, mesh, or trusted connections between networks consisting of hosts or systems that regularly communicate with each other.\\n\\nThe network may be within a single organization or across multiple organizations with trust relationships. Adversaries could use these types of relationships to manage command and control communications, to reduce the number of simultaneous outbound network connections, to provide resiliency in the face of connection loss, or to ride over existing trusted communications paths between victims to avoid suspicion. (Citation: EAttack Connection Proxy)\\n\\nDetection: Processes utilizing the network that do not normally have network communication or have never been seen before are suspicious. Network activities disassociated from user-driven actions from processes that normally require user direction are suspicious.\\n\\nAnalyze network data for uncommon data flows (e.g., a client sending significantly more data than it receives from a server or between clients that should not or often do not communicate with one another). Processes utilizing the network that do not normally have network communication or have never been seen before are suspicious. Analyze packet contents to detect communications that do not follow the expected protocol behavior for the port that is being used. (Citation: University of Birmingham C2)', kill_chain_phases=[KillChainPhase(kill_chain_name='mitre-ics-attack', phase_name='command-and-control-ics')], external_references=[ExternalReference(source_name='mitre-ics-attack', url='https://collaborate.mitre.org/attackics/index.php/Technique/T0884', external_id='T0884'), ExternalReference(source_name='EAttack Connection Proxy', description='Enterprise ATT&CK. (2018, January 11). Connection Proxy. Retrieved May 17, 2018.', url='https://attack.mitre.org/wiki/Technique/T1090'), ExternalReference(source_name='University of Birmingham C2', description='Gardiner, J.,  Cova, M., Nagaraja, S. (2014, February). Command & Control Understanding, Denying and Detecting. Retrieved April 20, 2016.', url='https://www.cpni.gov.uk/Documents/Publications/2014/2014-04-23-c2-report-birmingham.pdf')], object_marking_refs=['marking-definition--fa42a846-8d90-4e51-bc29-71d5b4802168'], x_mitre_data_sources=['Process use of network', 'Process monitoring', 'Packet capture', 'Netflow/Enclave netflow', 'Network protocol analysis'], x_mitre_platforms=['Windows'])"
      ]
     },
     "execution_count": 72,
     "metadata": {},
     "output_type": "execute_result"
    }
   ],
   "source": [
    "results2[1]"
   ]
  }
 ],
 "metadata": {
  "kernelspec": {
   "display_name": "Python 3",
   "language": "python",
   "name": "python3"
  },
  "language_info": {
   "codemirror_mode": {
    "name": "ipython",
    "version": 3
   },
   "file_extension": ".py",
   "mimetype": "text/x-python",
   "name": "python",
   "nbconvert_exporter": "python",
   "pygments_lexer": "ipython3",
   "version": "3.8.8"
  }
 },
 "nbformat": 4,
 "nbformat_minor": 4
}