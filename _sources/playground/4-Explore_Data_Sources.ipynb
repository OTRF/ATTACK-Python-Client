{
 "cells": [
  {
   "cell_type": "markdown",
   "metadata": {},
   "source": [
    "# Explore ATT&CK Data Sources\n",
    "------------------"
   ]
  },
  {
   "cell_type": "markdown",
   "metadata": {},
   "source": [
    "## Goals:\n",
    "* Access ATT&CK data sources in STIX format via a public TAXII server\n",
    "* Learn to interact with ATT&CK data all at once\n",
    "* Explore and idenfity patterns in the data retrieved\n",
    "* Learn more about ATT&CK data sources"
   ]
  },
  {
   "cell_type": "markdown",
   "metadata": {},
   "source": [
    "## Import ATT&CK API Client"
   ]
  },
  {
   "cell_type": "code",
   "execution_count": 1,
   "metadata": {},
   "outputs": [],
   "source": [
    "from attackcti import attack_client"
   ]
  },
  {
   "cell_type": "markdown",
   "metadata": {},
   "source": [
    "## Import Extra Libraries"
   ]
  },
  {
   "cell_type": "code",
   "execution_count": 2,
   "metadata": {},
   "outputs": [],
   "source": [
    "from pandas import *\n",
    "import numpy as np\n",
    "import json\n",
    "\n",
    "import altair as alt\n",
    "alt.renderers.enable('default')\n",
    "\n",
    "import itertools\n",
    "\n",
    "import logging\n",
    "logging.getLogger('taxii2client').setLevel(logging.CRITICAL)"
   ]
  },
  {
   "cell_type": "markdown",
   "metadata": {},
   "source": [
    "## Initialize ATT&CK Client Class"
   ]
  },
  {
   "cell_type": "code",
   "execution_count": 3,
   "metadata": {},
   "outputs": [],
   "source": [
    "lift = attack_client()"
   ]
  },
  {
   "cell_type": "markdown",
   "metadata": {},
   "source": [
    "## Get All Techniques"
   ]
  },
  {
   "cell_type": "code",
   "execution_count": 4,
   "metadata": {},
   "outputs": [],
   "source": [
    "all_techniques = lift.get_techniques()"
   ]
  },
  {
   "cell_type": "markdown",
   "metadata": {},
   "source": [
    "## Convert Techniques to Dataframe and Update Techniques Objects"
   ]
  },
  {
   "cell_type": "markdown",
   "metadata": {},
   "source": [
    "Normalizing semi-structured JSON data into a flat table via **pandas.io.json.json_normalize**\n",
    "* Reference: https://pandas.pydata.org/pandas-docs/stable/generated/pandas.io.json.json_normalize.html"
   ]
  },
  {
   "cell_type": "code",
   "execution_count": 5,
   "metadata": {},
   "outputs": [],
   "source": [
    "temp_list = []\n",
    "for t in all_techniques:\n",
    "    matrix_name = t['external_references'][0]['source_name']\n",
    "    technique_number = t['external_references'][0]['external_id']\n",
    "    if 'x_mitre_data_sources' in t.keys():\n",
    "        data_sources = list(set([ds.split(':')[0] for ds in t['x_mitre_data_sources']]))\n",
    "        t = t.new_version(x_mitre_data_sources = data_sources)\n",
    "    t = t.new_version(matrix = matrix_name)\n",
    "    t = t.new_version(technique_id = technique_number)\n",
    "    temp_list.append(json.loads(t.serialize()))\n",
    "techniques = pandas.json_normalize(temp_list)\n",
    "techniques.rename(columns = {'x_mitre_platforms':'platform', 'kill_chain_phases':'tactic', 'name':'technique', 'x_mitre_data_sources':'data_sources'}, inplace = True)"
   ]
  },
  {
   "cell_type": "code",
   "execution_count": 6,
   "metadata": {},
   "outputs": [
    {
     "data": {
      "text/html": [
       "<div>\n",
       "<style scoped>\n",
       "    .dataframe tbody tr th:only-of-type {\n",
       "        vertical-align: middle;\n",
       "    }\n",
       "\n",
       "    .dataframe tbody tr th {\n",
       "        vertical-align: top;\n",
       "    }\n",
       "\n",
       "    .dataframe thead th {\n",
       "        text-align: right;\n",
       "    }\n",
       "</style>\n",
       "<table border=\"1\" class=\"dataframe\">\n",
       "  <thead>\n",
       "    <tr style=\"text-align: right;\">\n",
       "      <th></th>\n",
       "      <th>matrix</th>\n",
       "      <th>platform</th>\n",
       "      <th>tactic</th>\n",
       "      <th>technique</th>\n",
       "      <th>technique_id</th>\n",
       "      <th>data_sources</th>\n",
       "    </tr>\n",
       "  </thead>\n",
       "  <tbody>\n",
       "    <tr>\n",
       "      <th>0</th>\n",
       "      <td>mitre-attack</td>\n",
       "      <td>[macOS]</td>\n",
       "      <td>[{'kill_chain_name': 'mitre-attack', 'phase_na...</td>\n",
       "      <td>Resource Forking</td>\n",
       "      <td>T1564.009</td>\n",
       "      <td>[Command, Process, File]</td>\n",
       "    </tr>\n",
       "    <tr>\n",
       "      <th>1</th>\n",
       "      <td>mitre-attack</td>\n",
       "      <td>[Windows, Linux, macOS]</td>\n",
       "      <td>[{'kill_chain_name': 'mitre-attack', 'phase_na...</td>\n",
       "      <td>Downgrade Attack</td>\n",
       "      <td>T1562.010</td>\n",
       "      <td>[Process, Command]</td>\n",
       "    </tr>\n",
       "    <tr>\n",
       "      <th>2</th>\n",
       "      <td>mitre-attack</td>\n",
       "      <td>[macOS]</td>\n",
       "      <td>[{'kill_chain_name': 'mitre-attack', 'phase_na...</td>\n",
       "      <td>Login Items</td>\n",
       "      <td>T1547.015</td>\n",
       "      <td>[Process, File]</td>\n",
       "    </tr>\n",
       "    <tr>\n",
       "      <th>3</th>\n",
       "      <td>mitre-attack</td>\n",
       "      <td>[macOS, Linux, Windows]</td>\n",
       "      <td>[{'kill_chain_name': 'mitre-attack', 'phase_na...</td>\n",
       "      <td>Reflective Code Loading</td>\n",
       "      <td>T1620</td>\n",
       "      <td>[Module, Process, Script]</td>\n",
       "    </tr>\n",
       "    <tr>\n",
       "      <th>4</th>\n",
       "      <td>mitre-attack</td>\n",
       "      <td>[IaaS]</td>\n",
       "      <td>[{'kill_chain_name': 'mitre-attack', 'phase_na...</td>\n",
       "      <td>Cloud Storage Object Discovery</td>\n",
       "      <td>T1619</td>\n",
       "      <td>[Cloud Storage]</td>\n",
       "    </tr>\n",
       "  </tbody>\n",
       "</table>\n",
       "</div>"
      ],
      "text/plain": [
       "         matrix                 platform  \\\n",
       "0  mitre-attack                  [macOS]   \n",
       "1  mitre-attack  [Windows, Linux, macOS]   \n",
       "2  mitre-attack                  [macOS]   \n",
       "3  mitre-attack  [macOS, Linux, Windows]   \n",
       "4  mitre-attack                   [IaaS]   \n",
       "\n",
       "                                              tactic  \\\n",
       "0  [{'kill_chain_name': 'mitre-attack', 'phase_na...   \n",
       "1  [{'kill_chain_name': 'mitre-attack', 'phase_na...   \n",
       "2  [{'kill_chain_name': 'mitre-attack', 'phase_na...   \n",
       "3  [{'kill_chain_name': 'mitre-attack', 'phase_na...   \n",
       "4  [{'kill_chain_name': 'mitre-attack', 'phase_na...   \n",
       "\n",
       "                        technique technique_id               data_sources  \n",
       "0                Resource Forking    T1564.009   [Command, Process, File]  \n",
       "1                Downgrade Attack    T1562.010         [Process, Command]  \n",
       "2                     Login Items    T1547.015            [Process, File]  \n",
       "3         Reflective Code Loading        T1620  [Module, Process, Script]  \n",
       "4  Cloud Storage Object Discovery        T1619            [Cloud Storage]  "
      ]
     },
     "execution_count": 6,
     "metadata": {},
     "output_type": "execute_result"
    }
   ],
   "source": [
    "techniques = techniques.reindex(['matrix','platform','tactic','technique','technique_id','data_sources'], axis=1)\n",
    "techniques.head()"
   ]
  },
  {
   "cell_type": "code",
   "execution_count": 7,
   "metadata": {},
   "outputs": [
    {
     "name": "stdout",
     "output_type": "stream",
     "text": [
      "A total of  736  techniques\n"
     ]
    }
   ],
   "source": [
    "print('A total of ',len(techniques),' techniques')"
   ]
  },
  {
   "cell_type": "markdown",
   "metadata": {},
   "source": [
    "## Techniques Per Matrix\n",
    "Using **altair** python library we can start showing a few charts stacking the number of techniques with or without data sources.\n",
    "Reference: https://altair-viz.github.io/"
   ]
  },
  {
   "cell_type": "code",
   "execution_count": 8,
   "metadata": {},
   "outputs": [
    {
     "data": {
      "text/html": [
       "<div>\n",
       "<style scoped>\n",
       "    .dataframe tbody tr th:only-of-type {\n",
       "        vertical-align: middle;\n",
       "    }\n",
       "\n",
       "    .dataframe tbody tr th {\n",
       "        vertical-align: top;\n",
       "    }\n",
       "\n",
       "    .dataframe thead th {\n",
       "        text-align: right;\n",
       "    }\n",
       "</style>\n",
       "<table border=\"1\" class=\"dataframe\">\n",
       "  <thead>\n",
       "    <tr style=\"text-align: right;\">\n",
       "      <th></th>\n",
       "      <th>matrix</th>\n",
       "      <th>technique</th>\n",
       "    </tr>\n",
       "  </thead>\n",
       "  <tbody>\n",
       "    <tr>\n",
       "      <th>0</th>\n",
       "      <td>mitre-attack</td>\n",
       "      <td>566</td>\n",
       "    </tr>\n",
       "    <tr>\n",
       "      <th>1</th>\n",
       "      <td>mitre-ics-attack</td>\n",
       "      <td>78</td>\n",
       "    </tr>\n",
       "    <tr>\n",
       "      <th>2</th>\n",
       "      <td>mitre-mobile-attack</td>\n",
       "      <td>92</td>\n",
       "    </tr>\n",
       "  </tbody>\n",
       "</table>\n",
       "</div>"
      ],
      "text/plain": [
       "                matrix  technique\n",
       "0         mitre-attack        566\n",
       "1     mitre-ics-attack         78\n",
       "2  mitre-mobile-attack         92"
      ]
     },
     "execution_count": 8,
     "metadata": {},
     "output_type": "execute_result"
    }
   ],
   "source": [
    "data = techniques\n",
    "data_2 = data.groupby(['matrix'])['technique'].count()\n",
    "data_3 = data_2.to_frame().reset_index()\n",
    "data_3"
   ]
  },
  {
   "cell_type": "code",
   "execution_count": 9,
   "metadata": {},
   "outputs": [
    {
     "data": {
      "text/html": [
       "\n",
       "<div id=\"altair-viz-84ceee8a41b24fdf970531258c48a87e\"></div>\n",
       "<script type=\"text/javascript\">\n",
       "  var VEGA_DEBUG = (typeof VEGA_DEBUG == \"undefined\") ? {} : VEGA_DEBUG;\n",
       "  (function(spec, embedOpt){\n",
       "    let outputDiv = document.currentScript.previousElementSibling;\n",
       "    if (outputDiv.id !== \"altair-viz-84ceee8a41b24fdf970531258c48a87e\") {\n",
       "      outputDiv = document.getElementById(\"altair-viz-84ceee8a41b24fdf970531258c48a87e\");\n",
       "    }\n",
       "    const paths = {\n",
       "      \"vega\": \"https://cdn.jsdelivr.net/npm//vega@5?noext\",\n",
       "      \"vega-lib\": \"https://cdn.jsdelivr.net/npm//vega-lib?noext\",\n",
       "      \"vega-lite\": \"https://cdn.jsdelivr.net/npm//vega-lite@4.17.0?noext\",\n",
       "      \"vega-embed\": \"https://cdn.jsdelivr.net/npm//vega-embed@6?noext\",\n",
       "    };\n",
       "\n",
       "    function maybeLoadScript(lib, version) {\n",
       "      var key = `${lib.replace(\"-\", \"\")}_version`;\n",
       "      return (VEGA_DEBUG[key] == version) ?\n",
       "        Promise.resolve(paths[lib]) :\n",
       "        new Promise(function(resolve, reject) {\n",
       "          var s = document.createElement('script');\n",
       "          document.getElementsByTagName(\"head\")[0].appendChild(s);\n",
       "          s.async = true;\n",
       "          s.onload = () => {\n",
       "            VEGA_DEBUG[key] = version;\n",
       "            return resolve(paths[lib]);\n",
       "          };\n",
       "          s.onerror = () => reject(`Error loading script: ${paths[lib]}`);\n",
       "          s.src = paths[lib];\n",
       "        });\n",
       "    }\n",
       "\n",
       "    function showError(err) {\n",
       "      outputDiv.innerHTML = `<div class=\"error\" style=\"color:red;\">${err}</div>`;\n",
       "      throw err;\n",
       "    }\n",
       "\n",
       "    function displayChart(vegaEmbed) {\n",
       "      vegaEmbed(outputDiv, spec, embedOpt)\n",
       "        .catch(err => showError(`Javascript Error: ${err.message}<br>This usually means there's a typo in your chart specification. See the javascript console for the full traceback.`));\n",
       "    }\n",
       "\n",
       "    if(typeof define === \"function\" && define.amd) {\n",
       "      requirejs.config({paths});\n",
       "      require([\"vega-embed\"], displayChart, err => showError(`Error loading script: ${err.message}`));\n",
       "    } else {\n",
       "      maybeLoadScript(\"vega\", \"5\")\n",
       "        .then(() => maybeLoadScript(\"vega-lite\", \"4.17.0\"))\n",
       "        .then(() => maybeLoadScript(\"vega-embed\", \"6\"))\n",
       "        .catch(showError)\n",
       "        .then(() => displayChart(vegaEmbed));\n",
       "    }\n",
       "  })({\"config\": {\"view\": {\"continuousWidth\": 400, \"continuousHeight\": 300}}, \"data\": {\"name\": \"data-10635867994e3dea369b7ca711d65060\"}, \"mark\": \"bar\", \"encoding\": {\"color\": {\"field\": \"matrix\", \"type\": \"nominal\"}, \"x\": {\"field\": \"technique\", \"type\": \"quantitative\"}, \"y\": {\"field\": \"matrix\", \"type\": \"nominal\"}}, \"height\": 200, \"$schema\": \"https://vega.github.io/schema/vega-lite/v4.17.0.json\", \"datasets\": {\"data-10635867994e3dea369b7ca711d65060\": [{\"matrix\": \"mitre-attack\", \"technique\": 566}, {\"matrix\": \"mitre-ics-attack\", \"technique\": 78}, {\"matrix\": \"mitre-mobile-attack\", \"technique\": 92}]}}, {\"mode\": \"vega-lite\"});\n",
       "</script>"
      ],
      "text/plain": [
       "alt.Chart(...)"
      ]
     },
     "execution_count": 9,
     "metadata": {},
     "output_type": "execute_result"
    }
   ],
   "source": [
    "alt.Chart(data_3).mark_bar().encode(x='technique', y='matrix', color='matrix').properties(height = 200)"
   ]
  },
  {
   "cell_type": "markdown",
   "metadata": {},
   "source": [
    "## Techniques With and Without Data Sources"
   ]
  },
  {
   "cell_type": "code",
   "execution_count": 10,
   "metadata": {},
   "outputs": [
    {
     "data": {
      "text/html": [
       "\n",
       "<div id=\"altair-viz-f5a75675bc0744428c2335f2ed4672f0\"></div>\n",
       "<script type=\"text/javascript\">\n",
       "  var VEGA_DEBUG = (typeof VEGA_DEBUG == \"undefined\") ? {} : VEGA_DEBUG;\n",
       "  (function(spec, embedOpt){\n",
       "    let outputDiv = document.currentScript.previousElementSibling;\n",
       "    if (outputDiv.id !== \"altair-viz-f5a75675bc0744428c2335f2ed4672f0\") {\n",
       "      outputDiv = document.getElementById(\"altair-viz-f5a75675bc0744428c2335f2ed4672f0\");\n",
       "    }\n",
       "    const paths = {\n",
       "      \"vega\": \"https://cdn.jsdelivr.net/npm//vega@5?noext\",\n",
       "      \"vega-lib\": \"https://cdn.jsdelivr.net/npm//vega-lib?noext\",\n",
       "      \"vega-lite\": \"https://cdn.jsdelivr.net/npm//vega-lite@4.17.0?noext\",\n",
       "      \"vega-embed\": \"https://cdn.jsdelivr.net/npm//vega-embed@6?noext\",\n",
       "    };\n",
       "\n",
       "    function maybeLoadScript(lib, version) {\n",
       "      var key = `${lib.replace(\"-\", \"\")}_version`;\n",
       "      return (VEGA_DEBUG[key] == version) ?\n",
       "        Promise.resolve(paths[lib]) :\n",
       "        new Promise(function(resolve, reject) {\n",
       "          var s = document.createElement('script');\n",
       "          document.getElementsByTagName(\"head\")[0].appendChild(s);\n",
       "          s.async = true;\n",
       "          s.onload = () => {\n",
       "            VEGA_DEBUG[key] = version;\n",
       "            return resolve(paths[lib]);\n",
       "          };\n",
       "          s.onerror = () => reject(`Error loading script: ${paths[lib]}`);\n",
       "          s.src = paths[lib];\n",
       "        });\n",
       "    }\n",
       "\n",
       "    function showError(err) {\n",
       "      outputDiv.innerHTML = `<div class=\"error\" style=\"color:red;\">${err}</div>`;\n",
       "      throw err;\n",
       "    }\n",
       "\n",
       "    function displayChart(vegaEmbed) {\n",
       "      vegaEmbed(outputDiv, spec, embedOpt)\n",
       "        .catch(err => showError(`Javascript Error: ${err.message}<br>This usually means there's a typo in your chart specification. See the javascript console for the full traceback.`));\n",
       "    }\n",
       "\n",
       "    if(typeof define === \"function\" && define.amd) {\n",
       "      requirejs.config({paths});\n",
       "      require([\"vega-embed\"], displayChart, err => showError(`Error loading script: ${err.message}`));\n",
       "    } else {\n",
       "      maybeLoadScript(\"vega\", \"5\")\n",
       "        .then(() => maybeLoadScript(\"vega-lite\", \"4.17.0\"))\n",
       "        .then(() => maybeLoadScript(\"vega-embed\", \"6\"))\n",
       "        .catch(showError)\n",
       "        .then(() => displayChart(vegaEmbed));\n",
       "    }\n",
       "  })({\"config\": {\"view\": {\"continuousWidth\": 400, \"continuousHeight\": 300}}, \"layer\": [{\"mark\": \"bar\", \"encoding\": {\"color\": {\"field\": \"Techniques\", \"type\": \"nominal\"}, \"x\": {\"field\": \"Techniques\", \"type\": \"nominal\"}, \"y\": {\"field\": \"Count of Techniques\", \"type\": \"quantitative\"}}, \"height\": 300, \"width\": 200}, {\"mark\": {\"type\": \"text\", \"align\": \"center\", \"baseline\": \"middle\", \"dx\": 0, \"dy\": -5}, \"encoding\": {\"color\": {\"field\": \"Techniques\", \"type\": \"nominal\"}, \"text\": {\"field\": \"Count of Techniques\", \"type\": \"quantitative\"}, \"x\": {\"field\": \"Techniques\", \"type\": \"nominal\"}, \"y\": {\"field\": \"Count of Techniques\", \"type\": \"quantitative\"}}, \"height\": 300, \"width\": 200}], \"data\": {\"name\": \"data-32d7b01f660ff4377b3b157464e8cf70\"}, \"$schema\": \"https://vega.github.io/schema/vega-lite/v4.17.0.json\", \"datasets\": {\"data-32d7b01f660ff4377b3b157464e8cf70\": [{\"Techniques\": \"Without DS\", \"Count of Techniques\": 153}, {\"Techniques\": \"With DS\", \"Count of Techniques\": 583}]}}, {\"mode\": \"vega-lite\"});\n",
       "</script>"
      ],
      "text/plain": [
       "alt.LayerChart(...)"
      ]
     },
     "execution_count": 10,
     "metadata": {},
     "output_type": "execute_result"
    }
   ],
   "source": [
    "data_source_distribution = pandas.DataFrame({\n",
    "    'Techniques': ['Without DS','With DS'],\n",
    "    'Count of Techniques': [techniques['data_sources'].isna().sum(),techniques['data_sources'].notna().sum()]})\n",
    "bars = alt.Chart(data_source_distribution).mark_bar().encode(x='Techniques',y='Count of Techniques',color='Techniques').properties(width=200,height=300)\n",
    "text = bars.mark_text(align='center',baseline='middle',dx=0,dy=-5).encode(text='Count of Techniques')\n",
    "bars + text"
   ]
  },
  {
   "cell_type": "markdown",
   "metadata": {},
   "source": [
    "What is the distribution of techniques based on ATT&CK Matrix?"
   ]
  },
  {
   "cell_type": "code",
   "execution_count": 11,
   "metadata": {},
   "outputs": [
    {
     "data": {
      "text/html": [
       "<div>\n",
       "<style scoped>\n",
       "    .dataframe tbody tr th:only-of-type {\n",
       "        vertical-align: middle;\n",
       "    }\n",
       "\n",
       "    .dataframe tbody tr th {\n",
       "        vertical-align: top;\n",
       "    }\n",
       "\n",
       "    .dataframe thead th {\n",
       "        text-align: right;\n",
       "    }\n",
       "</style>\n",
       "<table border=\"1\" class=\"dataframe\">\n",
       "  <thead>\n",
       "    <tr style=\"text-align: right;\">\n",
       "      <th></th>\n",
       "      <th>matrix</th>\n",
       "      <th>Ind_DS</th>\n",
       "      <th>technique</th>\n",
       "    </tr>\n",
       "  </thead>\n",
       "  <tbody>\n",
       "    <tr>\n",
       "      <th>0</th>\n",
       "      <td>mitre-attack</td>\n",
       "      <td>With DS</td>\n",
       "      <td>520</td>\n",
       "    </tr>\n",
       "    <tr>\n",
       "      <th>1</th>\n",
       "      <td>mitre-attack</td>\n",
       "      <td>Without DS</td>\n",
       "      <td>46</td>\n",
       "    </tr>\n",
       "    <tr>\n",
       "      <th>2</th>\n",
       "      <td>mitre-ics-attack</td>\n",
       "      <td>With DS</td>\n",
       "      <td>63</td>\n",
       "    </tr>\n",
       "    <tr>\n",
       "      <th>3</th>\n",
       "      <td>mitre-ics-attack</td>\n",
       "      <td>Without DS</td>\n",
       "      <td>15</td>\n",
       "    </tr>\n",
       "    <tr>\n",
       "      <th>4</th>\n",
       "      <td>mitre-mobile-attack</td>\n",
       "      <td>Without DS</td>\n",
       "      <td>92</td>\n",
       "    </tr>\n",
       "  </tbody>\n",
       "</table>\n",
       "</div>"
      ],
      "text/plain": [
       "                matrix      Ind_DS  technique\n",
       "0         mitre-attack     With DS        520\n",
       "1         mitre-attack  Without DS         46\n",
       "2     mitre-ics-attack     With DS         63\n",
       "3     mitre-ics-attack  Without DS         15\n",
       "4  mitre-mobile-attack  Without DS         92"
      ]
     },
     "execution_count": 11,
     "metadata": {},
     "output_type": "execute_result"
    }
   ],
   "source": [
    "data = techniques\n",
    "data['Count_DS'] = data['data_sources'].str.len()\n",
    "data['Ind_DS'] = np.where(data['Count_DS']>0,'With DS','Without DS')\n",
    "data_2 = data.groupby(['matrix','Ind_DS'])['technique'].count()\n",
    "data_3 = data_2.to_frame().reset_index()\n",
    "data_3"
   ]
  },
  {
   "cell_type": "code",
   "execution_count": 12,
   "metadata": {},
   "outputs": [
    {
     "data": {
      "text/html": [
       "\n",
       "<div id=\"altair-viz-6a381f97edfe4e82872928b4f0894d14\"></div>\n",
       "<script type=\"text/javascript\">\n",
       "  var VEGA_DEBUG = (typeof VEGA_DEBUG == \"undefined\") ? {} : VEGA_DEBUG;\n",
       "  (function(spec, embedOpt){\n",
       "    let outputDiv = document.currentScript.previousElementSibling;\n",
       "    if (outputDiv.id !== \"altair-viz-6a381f97edfe4e82872928b4f0894d14\") {\n",
       "      outputDiv = document.getElementById(\"altair-viz-6a381f97edfe4e82872928b4f0894d14\");\n",
       "    }\n",
       "    const paths = {\n",
       "      \"vega\": \"https://cdn.jsdelivr.net/npm//vega@5?noext\",\n",
       "      \"vega-lib\": \"https://cdn.jsdelivr.net/npm//vega-lib?noext\",\n",
       "      \"vega-lite\": \"https://cdn.jsdelivr.net/npm//vega-lite@4.17.0?noext\",\n",
       "      \"vega-embed\": \"https://cdn.jsdelivr.net/npm//vega-embed@6?noext\",\n",
       "    };\n",
       "\n",
       "    function maybeLoadScript(lib, version) {\n",
       "      var key = `${lib.replace(\"-\", \"\")}_version`;\n",
       "      return (VEGA_DEBUG[key] == version) ?\n",
       "        Promise.resolve(paths[lib]) :\n",
       "        new Promise(function(resolve, reject) {\n",
       "          var s = document.createElement('script');\n",
       "          document.getElementsByTagName(\"head\")[0].appendChild(s);\n",
       "          s.async = true;\n",
       "          s.onload = () => {\n",
       "            VEGA_DEBUG[key] = version;\n",
       "            return resolve(paths[lib]);\n",
       "          };\n",
       "          s.onerror = () => reject(`Error loading script: ${paths[lib]}`);\n",
       "          s.src = paths[lib];\n",
       "        });\n",
       "    }\n",
       "\n",
       "    function showError(err) {\n",
       "      outputDiv.innerHTML = `<div class=\"error\" style=\"color:red;\">${err}</div>`;\n",
       "      throw err;\n",
       "    }\n",
       "\n",
       "    function displayChart(vegaEmbed) {\n",
       "      vegaEmbed(outputDiv, spec, embedOpt)\n",
       "        .catch(err => showError(`Javascript Error: ${err.message}<br>This usually means there's a typo in your chart specification. See the javascript console for the full traceback.`));\n",
       "    }\n",
       "\n",
       "    if(typeof define === \"function\" && define.amd) {\n",
       "      requirejs.config({paths});\n",
       "      require([\"vega-embed\"], displayChart, err => showError(`Error loading script: ${err.message}`));\n",
       "    } else {\n",
       "      maybeLoadScript(\"vega\", \"5\")\n",
       "        .then(() => maybeLoadScript(\"vega-lite\", \"4.17.0\"))\n",
       "        .then(() => maybeLoadScript(\"vega-embed\", \"6\"))\n",
       "        .catch(showError)\n",
       "        .then(() => displayChart(vegaEmbed));\n",
       "    }\n",
       "  })({\"config\": {\"view\": {\"continuousWidth\": 400, \"continuousHeight\": 300}}, \"data\": {\"name\": \"data-c7d76023afeedf13ed4b34ec6403b7b2\"}, \"mark\": \"bar\", \"encoding\": {\"color\": {\"field\": \"matrix\", \"type\": \"nominal\"}, \"x\": {\"field\": \"technique\", \"type\": \"quantitative\"}, \"y\": {\"field\": \"Ind_DS\", \"type\": \"nominal\"}}, \"height\": 200, \"$schema\": \"https://vega.github.io/schema/vega-lite/v4.17.0.json\", \"datasets\": {\"data-c7d76023afeedf13ed4b34ec6403b7b2\": [{\"matrix\": \"mitre-attack\", \"Ind_DS\": \"With DS\", \"technique\": 520}, {\"matrix\": \"mitre-attack\", \"Ind_DS\": \"Without DS\", \"technique\": 46}, {\"matrix\": \"mitre-ics-attack\", \"Ind_DS\": \"With DS\", \"technique\": 63}, {\"matrix\": \"mitre-ics-attack\", \"Ind_DS\": \"Without DS\", \"technique\": 15}, {\"matrix\": \"mitre-mobile-attack\", \"Ind_DS\": \"Without DS\", \"technique\": 92}]}}, {\"mode\": \"vega-lite\"});\n",
       "</script>"
      ],
      "text/plain": [
       "alt.Chart(...)"
      ]
     },
     "execution_count": 12,
     "metadata": {},
     "output_type": "execute_result"
    }
   ],
   "source": [
    "alt.Chart(data_3).mark_bar().encode(x='technique', y='Ind_DS', color='matrix').properties(height = 200)"
   ]
  },
  {
   "cell_type": "markdown",
   "metadata": {},
   "source": [
    "What are those mitre-attack techniques without data sources?"
   ]
  },
  {
   "cell_type": "code",
   "execution_count": 13,
   "metadata": {},
   "outputs": [
    {
     "data": {
      "text/html": [
       "<div>\n",
       "<style scoped>\n",
       "    .dataframe tbody tr th:only-of-type {\n",
       "        vertical-align: middle;\n",
       "    }\n",
       "\n",
       "    .dataframe tbody tr th {\n",
       "        vertical-align: top;\n",
       "    }\n",
       "\n",
       "    .dataframe thead th {\n",
       "        text-align: right;\n",
       "    }\n",
       "</style>\n",
       "<table border=\"1\" class=\"dataframe\">\n",
       "  <thead>\n",
       "    <tr style=\"text-align: right;\">\n",
       "      <th></th>\n",
       "      <th>matrix</th>\n",
       "      <th>platform</th>\n",
       "      <th>tactic</th>\n",
       "      <th>technique</th>\n",
       "      <th>technique_id</th>\n",
       "      <th>data_sources</th>\n",
       "      <th>Count_DS</th>\n",
       "      <th>Ind_DS</th>\n",
       "    </tr>\n",
       "  </thead>\n",
       "  <tbody>\n",
       "    <tr>\n",
       "      <th>58</th>\n",
       "      <td>mitre-attack</td>\n",
       "      <td>[PRE]</td>\n",
       "      <td>[{'kill_chain_name': 'mitre-attack', 'phase_na...</td>\n",
       "      <td>Vulnerabilities</td>\n",
       "      <td>T1588.006</td>\n",
       "      <td>NaN</td>\n",
       "      <td>NaN</td>\n",
       "      <td>Without DS</td>\n",
       "    </tr>\n",
       "    <tr>\n",
       "      <th>66</th>\n",
       "      <td>mitre-attack</td>\n",
       "      <td>[PRE]</td>\n",
       "      <td>[{'kill_chain_name': 'mitre-attack', 'phase_na...</td>\n",
       "      <td>Purchase Technical Data</td>\n",
       "      <td>T1597.002</td>\n",
       "      <td>NaN</td>\n",
       "      <td>NaN</td>\n",
       "      <td>Without DS</td>\n",
       "    </tr>\n",
       "    <tr>\n",
       "      <th>67</th>\n",
       "      <td>mitre-attack</td>\n",
       "      <td>[PRE]</td>\n",
       "      <td>[{'kill_chain_name': 'mitre-attack', 'phase_na...</td>\n",
       "      <td>Threat Intel Vendors</td>\n",
       "      <td>T1597.001</td>\n",
       "      <td>NaN</td>\n",
       "      <td>NaN</td>\n",
       "      <td>Without DS</td>\n",
       "    </tr>\n",
       "    <tr>\n",
       "      <th>68</th>\n",
       "      <td>mitre-attack</td>\n",
       "      <td>[PRE]</td>\n",
       "      <td>[{'kill_chain_name': 'mitre-attack', 'phase_na...</td>\n",
       "      <td>Search Closed Sources</td>\n",
       "      <td>T1597</td>\n",
       "      <td>NaN</td>\n",
       "      <td>NaN</td>\n",
       "      <td>Without DS</td>\n",
       "    </tr>\n",
       "    <tr>\n",
       "      <th>69</th>\n",
       "      <td>mitre-attack</td>\n",
       "      <td>[PRE]</td>\n",
       "      <td>[{'kill_chain_name': 'mitre-attack', 'phase_na...</td>\n",
       "      <td>Scan Databases</td>\n",
       "      <td>T1596.005</td>\n",
       "      <td>NaN</td>\n",
       "      <td>NaN</td>\n",
       "      <td>Without DS</td>\n",
       "    </tr>\n",
       "  </tbody>\n",
       "</table>\n",
       "</div>"
      ],
      "text/plain": [
       "          matrix platform                                             tactic  \\\n",
       "58  mitre-attack    [PRE]  [{'kill_chain_name': 'mitre-attack', 'phase_na...   \n",
       "66  mitre-attack    [PRE]  [{'kill_chain_name': 'mitre-attack', 'phase_na...   \n",
       "67  mitre-attack    [PRE]  [{'kill_chain_name': 'mitre-attack', 'phase_na...   \n",
       "68  mitre-attack    [PRE]  [{'kill_chain_name': 'mitre-attack', 'phase_na...   \n",
       "69  mitre-attack    [PRE]  [{'kill_chain_name': 'mitre-attack', 'phase_na...   \n",
       "\n",
       "                  technique technique_id data_sources  Count_DS      Ind_DS  \n",
       "58          Vulnerabilities    T1588.006          NaN       NaN  Without DS  \n",
       "66  Purchase Technical Data    T1597.002          NaN       NaN  Without DS  \n",
       "67     Threat Intel Vendors    T1597.001          NaN       NaN  Without DS  \n",
       "68    Search Closed Sources        T1597          NaN       NaN  Without DS  \n",
       "69           Scan Databases    T1596.005          NaN       NaN  Without DS  "
      ]
     },
     "execution_count": 13,
     "metadata": {},
     "output_type": "execute_result"
    }
   ],
   "source": [
    "data[(data['matrix']=='mitre-attack') & (data['Ind_DS']=='Without DS')][0:5]"
   ]
  },
  {
   "cell_type": "markdown",
   "metadata": {},
   "source": [
    "### Techniques without data sources"
   ]
  },
  {
   "cell_type": "code",
   "execution_count": 14,
   "metadata": {},
   "outputs": [],
   "source": [
    "techniques_without_data_sources=techniques[techniques.data_sources.isnull()].reset_index(drop=True)"
   ]
  },
  {
   "cell_type": "code",
   "execution_count": 15,
   "metadata": {},
   "outputs": [
    {
     "data": {
      "text/html": [
       "<div>\n",
       "<style scoped>\n",
       "    .dataframe tbody tr th:only-of-type {\n",
       "        vertical-align: middle;\n",
       "    }\n",
       "\n",
       "    .dataframe tbody tr th {\n",
       "        vertical-align: top;\n",
       "    }\n",
       "\n",
       "    .dataframe thead th {\n",
       "        text-align: right;\n",
       "    }\n",
       "</style>\n",
       "<table border=\"1\" class=\"dataframe\">\n",
       "  <thead>\n",
       "    <tr style=\"text-align: right;\">\n",
       "      <th></th>\n",
       "      <th>matrix</th>\n",
       "      <th>platform</th>\n",
       "      <th>tactic</th>\n",
       "      <th>technique</th>\n",
       "      <th>technique_id</th>\n",
       "      <th>data_sources</th>\n",
       "      <th>Count_DS</th>\n",
       "      <th>Ind_DS</th>\n",
       "    </tr>\n",
       "  </thead>\n",
       "  <tbody>\n",
       "    <tr>\n",
       "      <th>0</th>\n",
       "      <td>mitre-attack</td>\n",
       "      <td>[PRE]</td>\n",
       "      <td>[{'kill_chain_name': 'mitre-attack', 'phase_na...</td>\n",
       "      <td>Vulnerabilities</td>\n",
       "      <td>T1588.006</td>\n",
       "      <td>NaN</td>\n",
       "      <td>NaN</td>\n",
       "      <td>Without DS</td>\n",
       "    </tr>\n",
       "    <tr>\n",
       "      <th>1</th>\n",
       "      <td>mitre-attack</td>\n",
       "      <td>[PRE]</td>\n",
       "      <td>[{'kill_chain_name': 'mitre-attack', 'phase_na...</td>\n",
       "      <td>Purchase Technical Data</td>\n",
       "      <td>T1597.002</td>\n",
       "      <td>NaN</td>\n",
       "      <td>NaN</td>\n",
       "      <td>Without DS</td>\n",
       "    </tr>\n",
       "    <tr>\n",
       "      <th>2</th>\n",
       "      <td>mitre-attack</td>\n",
       "      <td>[PRE]</td>\n",
       "      <td>[{'kill_chain_name': 'mitre-attack', 'phase_na...</td>\n",
       "      <td>Threat Intel Vendors</td>\n",
       "      <td>T1597.001</td>\n",
       "      <td>NaN</td>\n",
       "      <td>NaN</td>\n",
       "      <td>Without DS</td>\n",
       "    </tr>\n",
       "    <tr>\n",
       "      <th>3</th>\n",
       "      <td>mitre-attack</td>\n",
       "      <td>[PRE]</td>\n",
       "      <td>[{'kill_chain_name': 'mitre-attack', 'phase_na...</td>\n",
       "      <td>Search Closed Sources</td>\n",
       "      <td>T1597</td>\n",
       "      <td>NaN</td>\n",
       "      <td>NaN</td>\n",
       "      <td>Without DS</td>\n",
       "    </tr>\n",
       "    <tr>\n",
       "      <th>4</th>\n",
       "      <td>mitre-attack</td>\n",
       "      <td>[PRE]</td>\n",
       "      <td>[{'kill_chain_name': 'mitre-attack', 'phase_na...</td>\n",
       "      <td>Scan Databases</td>\n",
       "      <td>T1596.005</td>\n",
       "      <td>NaN</td>\n",
       "      <td>NaN</td>\n",
       "      <td>Without DS</td>\n",
       "    </tr>\n",
       "  </tbody>\n",
       "</table>\n",
       "</div>"
      ],
      "text/plain": [
       "         matrix platform                                             tactic  \\\n",
       "0  mitre-attack    [PRE]  [{'kill_chain_name': 'mitre-attack', 'phase_na...   \n",
       "1  mitre-attack    [PRE]  [{'kill_chain_name': 'mitre-attack', 'phase_na...   \n",
       "2  mitre-attack    [PRE]  [{'kill_chain_name': 'mitre-attack', 'phase_na...   \n",
       "3  mitre-attack    [PRE]  [{'kill_chain_name': 'mitre-attack', 'phase_na...   \n",
       "4  mitre-attack    [PRE]  [{'kill_chain_name': 'mitre-attack', 'phase_na...   \n",
       "\n",
       "                 technique technique_id data_sources  Count_DS      Ind_DS  \n",
       "0          Vulnerabilities    T1588.006          NaN       NaN  Without DS  \n",
       "1  Purchase Technical Data    T1597.002          NaN       NaN  Without DS  \n",
       "2     Threat Intel Vendors    T1597.001          NaN       NaN  Without DS  \n",
       "3    Search Closed Sources        T1597          NaN       NaN  Without DS  \n",
       "4           Scan Databases    T1596.005          NaN       NaN  Without DS  "
      ]
     },
     "execution_count": 15,
     "metadata": {},
     "output_type": "execute_result"
    }
   ],
   "source": [
    "techniques_without_data_sources.head()"
   ]
  },
  {
   "cell_type": "code",
   "execution_count": 16,
   "metadata": {},
   "outputs": [
    {
     "name": "stdout",
     "output_type": "stream",
     "text": [
      "There are  153  techniques without data sources ( 21%  of  736  techniques)\n"
     ]
    }
   ],
   "source": [
    "print('There are ',techniques['data_sources'].isna().sum(),' techniques without data sources (',\"{0:.0%}\".format(techniques['data_sources'].isna().sum()/len(techniques)),' of ',len(techniques),' techniques)')"
   ]
  },
  {
   "cell_type": "markdown",
   "metadata": {},
   "source": [
    "### Techniques With Data Sources"
   ]
  },
  {
   "cell_type": "code",
   "execution_count": 17,
   "metadata": {},
   "outputs": [],
   "source": [
    "techniques_with_data_sources=techniques[techniques.data_sources.notnull()].reset_index(drop=True)"
   ]
  },
  {
   "cell_type": "code",
   "execution_count": 18,
   "metadata": {},
   "outputs": [
    {
     "data": {
      "text/html": [
       "<div>\n",
       "<style scoped>\n",
       "    .dataframe tbody tr th:only-of-type {\n",
       "        vertical-align: middle;\n",
       "    }\n",
       "\n",
       "    .dataframe tbody tr th {\n",
       "        vertical-align: top;\n",
       "    }\n",
       "\n",
       "    .dataframe thead th {\n",
       "        text-align: right;\n",
       "    }\n",
       "</style>\n",
       "<table border=\"1\" class=\"dataframe\">\n",
       "  <thead>\n",
       "    <tr style=\"text-align: right;\">\n",
       "      <th></th>\n",
       "      <th>matrix</th>\n",
       "      <th>platform</th>\n",
       "      <th>tactic</th>\n",
       "      <th>technique</th>\n",
       "      <th>technique_id</th>\n",
       "      <th>data_sources</th>\n",
       "      <th>Count_DS</th>\n",
       "      <th>Ind_DS</th>\n",
       "    </tr>\n",
       "  </thead>\n",
       "  <tbody>\n",
       "    <tr>\n",
       "      <th>0</th>\n",
       "      <td>mitre-attack</td>\n",
       "      <td>[macOS]</td>\n",
       "      <td>[{'kill_chain_name': 'mitre-attack', 'phase_na...</td>\n",
       "      <td>Resource Forking</td>\n",
       "      <td>T1564.009</td>\n",
       "      <td>[Command, Process, File]</td>\n",
       "      <td>3.0</td>\n",
       "      <td>With DS</td>\n",
       "    </tr>\n",
       "    <tr>\n",
       "      <th>1</th>\n",
       "      <td>mitre-attack</td>\n",
       "      <td>[Windows, Linux, macOS]</td>\n",
       "      <td>[{'kill_chain_name': 'mitre-attack', 'phase_na...</td>\n",
       "      <td>Downgrade Attack</td>\n",
       "      <td>T1562.010</td>\n",
       "      <td>[Process, Command]</td>\n",
       "      <td>2.0</td>\n",
       "      <td>With DS</td>\n",
       "    </tr>\n",
       "    <tr>\n",
       "      <th>2</th>\n",
       "      <td>mitre-attack</td>\n",
       "      <td>[macOS]</td>\n",
       "      <td>[{'kill_chain_name': 'mitre-attack', 'phase_na...</td>\n",
       "      <td>Login Items</td>\n",
       "      <td>T1547.015</td>\n",
       "      <td>[Process, File]</td>\n",
       "      <td>2.0</td>\n",
       "      <td>With DS</td>\n",
       "    </tr>\n",
       "    <tr>\n",
       "      <th>3</th>\n",
       "      <td>mitre-attack</td>\n",
       "      <td>[macOS, Linux, Windows]</td>\n",
       "      <td>[{'kill_chain_name': 'mitre-attack', 'phase_na...</td>\n",
       "      <td>Reflective Code Loading</td>\n",
       "      <td>T1620</td>\n",
       "      <td>[Module, Process, Script]</td>\n",
       "      <td>3.0</td>\n",
       "      <td>With DS</td>\n",
       "    </tr>\n",
       "    <tr>\n",
       "      <th>4</th>\n",
       "      <td>mitre-attack</td>\n",
       "      <td>[IaaS]</td>\n",
       "      <td>[{'kill_chain_name': 'mitre-attack', 'phase_na...</td>\n",
       "      <td>Cloud Storage Object Discovery</td>\n",
       "      <td>T1619</td>\n",
       "      <td>[Cloud Storage]</td>\n",
       "      <td>1.0</td>\n",
       "      <td>With DS</td>\n",
       "    </tr>\n",
       "  </tbody>\n",
       "</table>\n",
       "</div>"
      ],
      "text/plain": [
       "         matrix                 platform  \\\n",
       "0  mitre-attack                  [macOS]   \n",
       "1  mitre-attack  [Windows, Linux, macOS]   \n",
       "2  mitre-attack                  [macOS]   \n",
       "3  mitre-attack  [macOS, Linux, Windows]   \n",
       "4  mitre-attack                   [IaaS]   \n",
       "\n",
       "                                              tactic  \\\n",
       "0  [{'kill_chain_name': 'mitre-attack', 'phase_na...   \n",
       "1  [{'kill_chain_name': 'mitre-attack', 'phase_na...   \n",
       "2  [{'kill_chain_name': 'mitre-attack', 'phase_na...   \n",
       "3  [{'kill_chain_name': 'mitre-attack', 'phase_na...   \n",
       "4  [{'kill_chain_name': 'mitre-attack', 'phase_na...   \n",
       "\n",
       "                        technique technique_id               data_sources  \\\n",
       "0                Resource Forking    T1564.009   [Command, Process, File]   \n",
       "1                Downgrade Attack    T1562.010         [Process, Command]   \n",
       "2                     Login Items    T1547.015            [Process, File]   \n",
       "3         Reflective Code Loading        T1620  [Module, Process, Script]   \n",
       "4  Cloud Storage Object Discovery        T1619            [Cloud Storage]   \n",
       "\n",
       "   Count_DS   Ind_DS  \n",
       "0       3.0  With DS  \n",
       "1       2.0  With DS  \n",
       "2       2.0  With DS  \n",
       "3       3.0  With DS  \n",
       "4       1.0  With DS  "
      ]
     },
     "execution_count": 18,
     "metadata": {},
     "output_type": "execute_result"
    }
   ],
   "source": [
    "techniques_with_data_sources.head()"
   ]
  },
  {
   "cell_type": "code",
   "execution_count": 19,
   "metadata": {},
   "outputs": [
    {
     "name": "stdout",
     "output_type": "stream",
     "text": [
      "There are  583  techniques with data sources ( 79%  of  736  techniques)\n"
     ]
    }
   ],
   "source": [
    "print('There are ',techniques['data_sources'].notna().sum(),' techniques with data sources (',\"{0:.0%}\".format(techniques['data_sources'].notna().sum()/len(techniques)),' of ',len(techniques),' techniques)')"
   ]
  },
  {
   "cell_type": "markdown",
   "metadata": {},
   "source": [
    "## Grouping Techniques With Data Sources By Matrix"
   ]
  },
  {
   "cell_type": "markdown",
   "metadata": {},
   "source": [
    "Let's create a graph to represent the number of techniques per matrix:"
   ]
  },
  {
   "cell_type": "code",
   "execution_count": 20,
   "metadata": {},
   "outputs": [
    {
     "data": {
      "text/html": [
       "\n",
       "<div id=\"altair-viz-f960236101724d448c3c3780f1bd2c3f\"></div>\n",
       "<script type=\"text/javascript\">\n",
       "  var VEGA_DEBUG = (typeof VEGA_DEBUG == \"undefined\") ? {} : VEGA_DEBUG;\n",
       "  (function(spec, embedOpt){\n",
       "    let outputDiv = document.currentScript.previousElementSibling;\n",
       "    if (outputDiv.id !== \"altair-viz-f960236101724d448c3c3780f1bd2c3f\") {\n",
       "      outputDiv = document.getElementById(\"altair-viz-f960236101724d448c3c3780f1bd2c3f\");\n",
       "    }\n",
       "    const paths = {\n",
       "      \"vega\": \"https://cdn.jsdelivr.net/npm//vega@5?noext\",\n",
       "      \"vega-lib\": \"https://cdn.jsdelivr.net/npm//vega-lib?noext\",\n",
       "      \"vega-lite\": \"https://cdn.jsdelivr.net/npm//vega-lite@4.17.0?noext\",\n",
       "      \"vega-embed\": \"https://cdn.jsdelivr.net/npm//vega-embed@6?noext\",\n",
       "    };\n",
       "\n",
       "    function maybeLoadScript(lib, version) {\n",
       "      var key = `${lib.replace(\"-\", \"\")}_version`;\n",
       "      return (VEGA_DEBUG[key] == version) ?\n",
       "        Promise.resolve(paths[lib]) :\n",
       "        new Promise(function(resolve, reject) {\n",
       "          var s = document.createElement('script');\n",
       "          document.getElementsByTagName(\"head\")[0].appendChild(s);\n",
       "          s.async = true;\n",
       "          s.onload = () => {\n",
       "            VEGA_DEBUG[key] = version;\n",
       "            return resolve(paths[lib]);\n",
       "          };\n",
       "          s.onerror = () => reject(`Error loading script: ${paths[lib]}`);\n",
       "          s.src = paths[lib];\n",
       "        });\n",
       "    }\n",
       "\n",
       "    function showError(err) {\n",
       "      outputDiv.innerHTML = `<div class=\"error\" style=\"color:red;\">${err}</div>`;\n",
       "      throw err;\n",
       "    }\n",
       "\n",
       "    function displayChart(vegaEmbed) {\n",
       "      vegaEmbed(outputDiv, spec, embedOpt)\n",
       "        .catch(err => showError(`Javascript Error: ${err.message}<br>This usually means there's a typo in your chart specification. See the javascript console for the full traceback.`));\n",
       "    }\n",
       "\n",
       "    if(typeof define === \"function\" && define.amd) {\n",
       "      requirejs.config({paths});\n",
       "      require([\"vega-embed\"], displayChart, err => showError(`Error loading script: ${err.message}`));\n",
       "    } else {\n",
       "      maybeLoadScript(\"vega\", \"5\")\n",
       "        .then(() => maybeLoadScript(\"vega-lite\", \"4.17.0\"))\n",
       "        .then(() => maybeLoadScript(\"vega-embed\", \"6\"))\n",
       "        .catch(showError)\n",
       "        .then(() => displayChart(vegaEmbed));\n",
       "    }\n",
       "  })({\"config\": {\"view\": {\"continuousWidth\": 400, \"continuousHeight\": 300}}, \"layer\": [{\"mark\": \"bar\", \"encoding\": {\"x\": {\"field\": \"Count of Techniques\", \"type\": \"quantitative\"}, \"y\": {\"field\": \"Matrix\", \"type\": \"nominal\"}}, \"height\": 100, \"width\": 300}, {\"mark\": {\"type\": \"text\", \"align\": \"center\", \"baseline\": \"middle\", \"dx\": 10, \"dy\": 0}, \"encoding\": {\"text\": {\"field\": \"Count of Techniques\", \"type\": \"quantitative\"}, \"x\": {\"field\": \"Count of Techniques\", \"type\": \"quantitative\"}, \"y\": {\"field\": \"Matrix\", \"type\": \"nominal\"}}, \"height\": 100, \"width\": 300}], \"data\": {\"name\": \"data-5cfd4c49484a0b9ab586ff77b037dff7\"}, \"$schema\": \"https://vega.github.io/schema/vega-lite/v4.17.0.json\", \"datasets\": {\"data-5cfd4c49484a0b9ab586ff77b037dff7\": [{\"Matrix\": \"mitre-attack\", \"Count of Techniques\": 520}, {\"Matrix\": \"mitre-ics-attack\", \"Count of Techniques\": 63}]}}, {\"mode\": \"vega-lite\"});\n",
       "</script>"
      ],
      "text/plain": [
       "alt.LayerChart(...)"
      ]
     },
     "execution_count": 20,
     "metadata": {},
     "output_type": "execute_result"
    }
   ],
   "source": [
    "matrix_distribution = pandas.DataFrame({\n",
    "    'Matrix': list(techniques_with_data_sources.groupby(['matrix'])['matrix'].count().keys()),\n",
    "    'Count of Techniques': techniques_with_data_sources.groupby(['matrix'])['matrix'].count().tolist()})\n",
    "bars = alt.Chart(matrix_distribution).mark_bar().encode(y='Matrix',x='Count of Techniques').properties(width=300,height=100)\n",
    "text = bars.mark_text(align='center',baseline='middle',dx=10,dy=0).encode(text='Count of Techniques')\n",
    "bars + text"
   ]
  },
  {
   "cell_type": "markdown",
   "metadata": {},
   "source": [
    "All the techniques belong to **mitre-attack** matrix which is the main **Enterprise** matrix. Reference: https://attack.mitre.org/wiki/Main_Page "
   ]
  },
  {
   "cell_type": "markdown",
   "metadata": {},
   "source": [
    "## Grouping Techniques With Data Sources by Platform"
   ]
  },
  {
   "cell_type": "markdown",
   "metadata": {},
   "source": [
    "First, we need to split the **platform** column values because a technique might be mapped to more than one platform"
   ]
  },
  {
   "cell_type": "code",
   "execution_count": 21,
   "metadata": {},
   "outputs": [],
   "source": [
    "techniques_platform=techniques_with_data_sources\n",
    "\n",
    "attributes_1 = ['platform'] # In attributes we are going to indicate the name of the columns that we need to split\n",
    "\n",
    "for a in attributes_1:\n",
    "    s = techniques_platform.apply(lambda x: pandas.Series(x[a]),axis=1).stack().reset_index(level=1, drop=True)\n",
    "    # \"s\" is going to be a column of a frame with every value of the list inside each cell of the column \"a\"\n",
    "    s.name = a\n",
    "    # We name \"s\" with the same name of \"a\".\n",
    "    techniques_platform=techniques_platform.drop(a, axis=1).join(s).reset_index(drop=True)\n",
    "    # We drop the column \"a\" from \"techniques_platform\", and then join \"techniques_platform\" with \"s\"\n",
    "\n",
    "# Let's re-arrange the columns from general to specific\n",
    "techniques_platform_2=techniques_platform.reindex(['matrix','platform','tactic','technique','technique_id','data_sources'], axis=1)"
   ]
  },
  {
   "cell_type": "markdown",
   "metadata": {},
   "source": [
    "We can now show techniques with data sources mapped to one platform at the time"
   ]
  },
  {
   "cell_type": "code",
   "execution_count": 22,
   "metadata": {},
   "outputs": [
    {
     "data": {
      "text/html": [
       "<div>\n",
       "<style scoped>\n",
       "    .dataframe tbody tr th:only-of-type {\n",
       "        vertical-align: middle;\n",
       "    }\n",
       "\n",
       "    .dataframe tbody tr th {\n",
       "        vertical-align: top;\n",
       "    }\n",
       "\n",
       "    .dataframe thead th {\n",
       "        text-align: right;\n",
       "    }\n",
       "</style>\n",
       "<table border=\"1\" class=\"dataframe\">\n",
       "  <thead>\n",
       "    <tr style=\"text-align: right;\">\n",
       "      <th></th>\n",
       "      <th>matrix</th>\n",
       "      <th>platform</th>\n",
       "      <th>tactic</th>\n",
       "      <th>technique</th>\n",
       "      <th>technique_id</th>\n",
       "      <th>data_sources</th>\n",
       "    </tr>\n",
       "  </thead>\n",
       "  <tbody>\n",
       "    <tr>\n",
       "      <th>0</th>\n",
       "      <td>mitre-attack</td>\n",
       "      <td>macOS</td>\n",
       "      <td>[{'kill_chain_name': 'mitre-attack', 'phase_na...</td>\n",
       "      <td>Resource Forking</td>\n",
       "      <td>T1564.009</td>\n",
       "      <td>[Command, Process, File]</td>\n",
       "    </tr>\n",
       "    <tr>\n",
       "      <th>1</th>\n",
       "      <td>mitre-attack</td>\n",
       "      <td>Windows</td>\n",
       "      <td>[{'kill_chain_name': 'mitre-attack', 'phase_na...</td>\n",
       "      <td>Downgrade Attack</td>\n",
       "      <td>T1562.010</td>\n",
       "      <td>[Process, Command]</td>\n",
       "    </tr>\n",
       "    <tr>\n",
       "      <th>2</th>\n",
       "      <td>mitre-attack</td>\n",
       "      <td>Linux</td>\n",
       "      <td>[{'kill_chain_name': 'mitre-attack', 'phase_na...</td>\n",
       "      <td>Downgrade Attack</td>\n",
       "      <td>T1562.010</td>\n",
       "      <td>[Process, Command]</td>\n",
       "    </tr>\n",
       "    <tr>\n",
       "      <th>3</th>\n",
       "      <td>mitre-attack</td>\n",
       "      <td>macOS</td>\n",
       "      <td>[{'kill_chain_name': 'mitre-attack', 'phase_na...</td>\n",
       "      <td>Downgrade Attack</td>\n",
       "      <td>T1562.010</td>\n",
       "      <td>[Process, Command]</td>\n",
       "    </tr>\n",
       "    <tr>\n",
       "      <th>4</th>\n",
       "      <td>mitre-attack</td>\n",
       "      <td>macOS</td>\n",
       "      <td>[{'kill_chain_name': 'mitre-attack', 'phase_na...</td>\n",
       "      <td>Login Items</td>\n",
       "      <td>T1547.015</td>\n",
       "      <td>[Process, File]</td>\n",
       "    </tr>\n",
       "  </tbody>\n",
       "</table>\n",
       "</div>"
      ],
      "text/plain": [
       "         matrix platform                                             tactic  \\\n",
       "0  mitre-attack    macOS  [{'kill_chain_name': 'mitre-attack', 'phase_na...   \n",
       "1  mitre-attack  Windows  [{'kill_chain_name': 'mitre-attack', 'phase_na...   \n",
       "2  mitre-attack    Linux  [{'kill_chain_name': 'mitre-attack', 'phase_na...   \n",
       "3  mitre-attack    macOS  [{'kill_chain_name': 'mitre-attack', 'phase_na...   \n",
       "4  mitre-attack    macOS  [{'kill_chain_name': 'mitre-attack', 'phase_na...   \n",
       "\n",
       "          technique technique_id              data_sources  \n",
       "0  Resource Forking    T1564.009  [Command, Process, File]  \n",
       "1  Downgrade Attack    T1562.010        [Process, Command]  \n",
       "2  Downgrade Attack    T1562.010        [Process, Command]  \n",
       "3  Downgrade Attack    T1562.010        [Process, Command]  \n",
       "4       Login Items    T1547.015           [Process, File]  "
      ]
     },
     "execution_count": 22,
     "metadata": {},
     "output_type": "execute_result"
    }
   ],
   "source": [
    "techniques_platform_2.head()"
   ]
  },
  {
   "cell_type": "markdown",
   "metadata": {},
   "source": [
    "Let's create a visualization to show the number of techniques grouped by platform:"
   ]
  },
  {
   "cell_type": "code",
   "execution_count": 23,
   "metadata": {},
   "outputs": [
    {
     "data": {
      "text/html": [
       "\n",
       "<div id=\"altair-viz-c8e65d05290d4e72b5bd6fdda5eefe88\"></div>\n",
       "<script type=\"text/javascript\">\n",
       "  var VEGA_DEBUG = (typeof VEGA_DEBUG == \"undefined\") ? {} : VEGA_DEBUG;\n",
       "  (function(spec, embedOpt){\n",
       "    let outputDiv = document.currentScript.previousElementSibling;\n",
       "    if (outputDiv.id !== \"altair-viz-c8e65d05290d4e72b5bd6fdda5eefe88\") {\n",
       "      outputDiv = document.getElementById(\"altair-viz-c8e65d05290d4e72b5bd6fdda5eefe88\");\n",
       "    }\n",
       "    const paths = {\n",
       "      \"vega\": \"https://cdn.jsdelivr.net/npm//vega@5?noext\",\n",
       "      \"vega-lib\": \"https://cdn.jsdelivr.net/npm//vega-lib?noext\",\n",
       "      \"vega-lite\": \"https://cdn.jsdelivr.net/npm//vega-lite@4.17.0?noext\",\n",
       "      \"vega-embed\": \"https://cdn.jsdelivr.net/npm//vega-embed@6?noext\",\n",
       "    };\n",
       "\n",
       "    function maybeLoadScript(lib, version) {\n",
       "      var key = `${lib.replace(\"-\", \"\")}_version`;\n",
       "      return (VEGA_DEBUG[key] == version) ?\n",
       "        Promise.resolve(paths[lib]) :\n",
       "        new Promise(function(resolve, reject) {\n",
       "          var s = document.createElement('script');\n",
       "          document.getElementsByTagName(\"head\")[0].appendChild(s);\n",
       "          s.async = true;\n",
       "          s.onload = () => {\n",
       "            VEGA_DEBUG[key] = version;\n",
       "            return resolve(paths[lib]);\n",
       "          };\n",
       "          s.onerror = () => reject(`Error loading script: ${paths[lib]}`);\n",
       "          s.src = paths[lib];\n",
       "        });\n",
       "    }\n",
       "\n",
       "    function showError(err) {\n",
       "      outputDiv.innerHTML = `<div class=\"error\" style=\"color:red;\">${err}</div>`;\n",
       "      throw err;\n",
       "    }\n",
       "\n",
       "    function displayChart(vegaEmbed) {\n",
       "      vegaEmbed(outputDiv, spec, embedOpt)\n",
       "        .catch(err => showError(`Javascript Error: ${err.message}<br>This usually means there's a typo in your chart specification. See the javascript console for the full traceback.`));\n",
       "    }\n",
       "\n",
       "    if(typeof define === \"function\" && define.amd) {\n",
       "      requirejs.config({paths});\n",
       "      require([\"vega-embed\"], displayChart, err => showError(`Error loading script: ${err.message}`));\n",
       "    } else {\n",
       "      maybeLoadScript(\"vega\", \"5\")\n",
       "        .then(() => maybeLoadScript(\"vega-lite\", \"4.17.0\"))\n",
       "        .then(() => maybeLoadScript(\"vega-embed\", \"6\"))\n",
       "        .catch(showError)\n",
       "        .then(() => displayChart(vegaEmbed));\n",
       "    }\n",
       "  })({\"config\": {\"view\": {\"continuousWidth\": 400, \"continuousHeight\": 300}}, \"layer\": [{\"mark\": \"bar\", \"encoding\": {\"color\": {\"field\": \"Platform\", \"type\": \"nominal\"}, \"x\": {\"field\": \"Platform\", \"type\": \"nominal\"}, \"y\": {\"field\": \"Count of Techniques\", \"type\": \"quantitative\"}}, \"height\": 300, \"width\": 200}, {\"mark\": {\"type\": \"text\", \"align\": \"center\", \"baseline\": \"middle\", \"dx\": 0, \"dy\": -5}, \"encoding\": {\"color\": {\"field\": \"Platform\", \"type\": \"nominal\"}, \"text\": {\"field\": \"Count of Techniques\", \"type\": \"quantitative\"}, \"x\": {\"field\": \"Platform\", \"type\": \"nominal\"}, \"y\": {\"field\": \"Count of Techniques\", \"type\": \"quantitative\"}}, \"height\": 300, \"width\": 200}], \"data\": {\"name\": \"data-a4ac7e8e5b956d61b690419d3c348342\"}, \"$schema\": \"https://vega.github.io/schema/vega-lite/v4.17.0.json\", \"datasets\": {\"data-a4ac7e8e5b956d61b690419d3c348342\": [{\"Platform\": \"Azure AD\", \"Count of Techniques\": 33}, {\"Platform\": \"Containers\", \"Count of Techniques\": 33}, {\"Platform\": \"Control Server\", \"Count of Techniques\": 27}, {\"Platform\": \"Data Historian\", \"Count of Techniques\": 14}, {\"Platform\": \"Device Configuration/Parameters\", \"Count of Techniques\": 5}, {\"Platform\": \"Engineering Workstation\", \"Count of Techniques\": 15}, {\"Platform\": \"Field Controller/RTU/PLC/IED\", \"Count of Techniques\": 37}, {\"Platform\": \"Google Workspace\", \"Count of Techniques\": 41}, {\"Platform\": \"Human-Machine Interface\", \"Count of Techniques\": 31}, {\"Platform\": \"IaaS\", \"Count of Techniques\": 66}, {\"Platform\": \"Input/Output Server\", \"Count of Techniques\": 9}, {\"Platform\": \"Linux\", \"Count of Techniques\": 258}, {\"Platform\": \"Network\", \"Count of Techniques\": 30}, {\"Platform\": \"None\", \"Count of Techniques\": 2}, {\"Platform\": \"Office 365\", \"Count of Techniques\": 56}, {\"Platform\": \"PRE\", \"Count of Techniques\": 42}, {\"Platform\": \"SaaS\", \"Count of Techniques\": 39}, {\"Platform\": \"Safety Instrumented System/Protection Relay\", \"Count of Techniques\": 21}, {\"Platform\": \"Windows\", \"Count of Techniques\": 385}, {\"Platform\": \"macOS\", \"Count of Techniques\": 272}]}}, {\"mode\": \"vega-lite\"});\n",
       "</script>"
      ],
      "text/plain": [
       "alt.LayerChart(...)"
      ]
     },
     "execution_count": 23,
     "metadata": {},
     "output_type": "execute_result"
    }
   ],
   "source": [
    "platform_distribution = pandas.DataFrame({\n",
    "    'Platform': list(techniques_platform_2.groupby(['platform'])['platform'].count().keys()),\n",
    "    'Count of Techniques': techniques_platform_2.groupby(['platform'])['platform'].count().tolist()})\n",
    "bars = alt.Chart(platform_distribution,height=300).mark_bar().encode(x ='Platform',y='Count of Techniques',color='Platform').properties(width=200)\n",
    "text = bars.mark_text(align='center',baseline='middle',dx=0,dy=-5).encode(text='Count of Techniques')\n",
    "bars + text"
   ]
  },
  {
   "cell_type": "markdown",
   "metadata": {},
   "source": [
    "In the bar chart above we can see that there are more techniques with data sources mapped to the Windows platform."
   ]
  },
  {
   "cell_type": "markdown",
   "metadata": {},
   "source": [
    "Defende-evasion and Persistence are tactics with the highest nummber of techniques with data sources"
   ]
  },
  {
   "cell_type": "markdown",
   "metadata": {},
   "source": [
    "## Grouping Techniques With Data Sources by Data Source"
   ]
  },
  {
   "cell_type": "markdown",
   "metadata": {},
   "source": [
    "We need to split the data source column values because a technique might be mapped to more than one data source:"
   ]
  },
  {
   "cell_type": "code",
   "execution_count": 24,
   "metadata": {},
   "outputs": [],
   "source": [
    "techniques_data_source=techniques_with_data_sources\n",
    "\n",
    "attributes_3 = ['data_sources'] # In attributes we are going to indicate the name of the columns that we need to split\n",
    "\n",
    "for a in attributes_3:\n",
    "    s = techniques_data_source.apply(lambda x: pandas.Series(x[a]),axis=1).stack().reset_index(level=1, drop=True)\n",
    "    # \"s\" is going to be a column of a frame with every value of the list inside each cell of the column \"a\"\n",
    "    s.name = a\n",
    "    # We name \"s\" with the same name of \"a\".\n",
    "    techniques_data_source = techniques_data_source.drop(a, axis=1).join(s).reset_index(drop=True)\n",
    "    # We drop the column \"a\" from \"techniques_data_source\", and then join \"techniques_data_source\" with \"s\"\n",
    "\n",
    "# Let's re-arrange the columns from general to specific\n",
    "techniques_data_source_2 = techniques_data_source.reindex(['matrix','platform','tactic','technique','technique_id','data_sources'], axis=1)\n",
    "\n",
    "# We are going to edit some names inside the dataframe to improve the consistency:\n",
    "techniques_data_source_3 = techniques_data_source_2.replace(['Process monitoring','Application logs'],['Process Monitoring','Application Logs'])"
   ]
  },
  {
   "cell_type": "markdown",
   "metadata": {},
   "source": [
    "We can now show techniques with data sources mapped to one data source at the time"
   ]
  },
  {
   "cell_type": "code",
   "execution_count": 25,
   "metadata": {},
   "outputs": [
    {
     "data": {
      "text/html": [
       "<div>\n",
       "<style scoped>\n",
       "    .dataframe tbody tr th:only-of-type {\n",
       "        vertical-align: middle;\n",
       "    }\n",
       "\n",
       "    .dataframe tbody tr th {\n",
       "        vertical-align: top;\n",
       "    }\n",
       "\n",
       "    .dataframe thead th {\n",
       "        text-align: right;\n",
       "    }\n",
       "</style>\n",
       "<table border=\"1\" class=\"dataframe\">\n",
       "  <thead>\n",
       "    <tr style=\"text-align: right;\">\n",
       "      <th></th>\n",
       "      <th>matrix</th>\n",
       "      <th>platform</th>\n",
       "      <th>tactic</th>\n",
       "      <th>technique</th>\n",
       "      <th>technique_id</th>\n",
       "      <th>data_sources</th>\n",
       "    </tr>\n",
       "  </thead>\n",
       "  <tbody>\n",
       "    <tr>\n",
       "      <th>0</th>\n",
       "      <td>mitre-attack</td>\n",
       "      <td>[macOS]</td>\n",
       "      <td>[{'kill_chain_name': 'mitre-attack', 'phase_na...</td>\n",
       "      <td>Resource Forking</td>\n",
       "      <td>T1564.009</td>\n",
       "      <td>Command</td>\n",
       "    </tr>\n",
       "    <tr>\n",
       "      <th>1</th>\n",
       "      <td>mitre-attack</td>\n",
       "      <td>[macOS]</td>\n",
       "      <td>[{'kill_chain_name': 'mitre-attack', 'phase_na...</td>\n",
       "      <td>Resource Forking</td>\n",
       "      <td>T1564.009</td>\n",
       "      <td>Process</td>\n",
       "    </tr>\n",
       "    <tr>\n",
       "      <th>2</th>\n",
       "      <td>mitre-attack</td>\n",
       "      <td>[macOS]</td>\n",
       "      <td>[{'kill_chain_name': 'mitre-attack', 'phase_na...</td>\n",
       "      <td>Resource Forking</td>\n",
       "      <td>T1564.009</td>\n",
       "      <td>File</td>\n",
       "    </tr>\n",
       "    <tr>\n",
       "      <th>3</th>\n",
       "      <td>mitre-attack</td>\n",
       "      <td>[Windows, Linux, macOS]</td>\n",
       "      <td>[{'kill_chain_name': 'mitre-attack', 'phase_na...</td>\n",
       "      <td>Downgrade Attack</td>\n",
       "      <td>T1562.010</td>\n",
       "      <td>Process</td>\n",
       "    </tr>\n",
       "    <tr>\n",
       "      <th>4</th>\n",
       "      <td>mitre-attack</td>\n",
       "      <td>[Windows, Linux, macOS]</td>\n",
       "      <td>[{'kill_chain_name': 'mitre-attack', 'phase_na...</td>\n",
       "      <td>Downgrade Attack</td>\n",
       "      <td>T1562.010</td>\n",
       "      <td>Command</td>\n",
       "    </tr>\n",
       "  </tbody>\n",
       "</table>\n",
       "</div>"
      ],
      "text/plain": [
       "         matrix                 platform  \\\n",
       "0  mitre-attack                  [macOS]   \n",
       "1  mitre-attack                  [macOS]   \n",
       "2  mitre-attack                  [macOS]   \n",
       "3  mitre-attack  [Windows, Linux, macOS]   \n",
       "4  mitre-attack  [Windows, Linux, macOS]   \n",
       "\n",
       "                                              tactic         technique  \\\n",
       "0  [{'kill_chain_name': 'mitre-attack', 'phase_na...  Resource Forking   \n",
       "1  [{'kill_chain_name': 'mitre-attack', 'phase_na...  Resource Forking   \n",
       "2  [{'kill_chain_name': 'mitre-attack', 'phase_na...  Resource Forking   \n",
       "3  [{'kill_chain_name': 'mitre-attack', 'phase_na...  Downgrade Attack   \n",
       "4  [{'kill_chain_name': 'mitre-attack', 'phase_na...  Downgrade Attack   \n",
       "\n",
       "  technique_id data_sources  \n",
       "0    T1564.009      Command  \n",
       "1    T1564.009      Process  \n",
       "2    T1564.009         File  \n",
       "3    T1562.010      Process  \n",
       "4    T1562.010      Command  "
      ]
     },
     "execution_count": 25,
     "metadata": {},
     "output_type": "execute_result"
    }
   ],
   "source": [
    "techniques_data_source_3.head()"
   ]
  },
  {
   "cell_type": "markdown",
   "metadata": {},
   "source": [
    "Let's create a visualization to show the number of techniques grouped by data sources:"
   ]
  },
  {
   "cell_type": "code",
   "execution_count": 26,
   "metadata": {},
   "outputs": [
    {
     "data": {
      "text/html": [
       "\n",
       "<div id=\"altair-viz-b18e07474592482da432424f558222f1\"></div>\n",
       "<script type=\"text/javascript\">\n",
       "  var VEGA_DEBUG = (typeof VEGA_DEBUG == \"undefined\") ? {} : VEGA_DEBUG;\n",
       "  (function(spec, embedOpt){\n",
       "    let outputDiv = document.currentScript.previousElementSibling;\n",
       "    if (outputDiv.id !== \"altair-viz-b18e07474592482da432424f558222f1\") {\n",
       "      outputDiv = document.getElementById(\"altair-viz-b18e07474592482da432424f558222f1\");\n",
       "    }\n",
       "    const paths = {\n",
       "      \"vega\": \"https://cdn.jsdelivr.net/npm//vega@5?noext\",\n",
       "      \"vega-lib\": \"https://cdn.jsdelivr.net/npm//vega-lib?noext\",\n",
       "      \"vega-lite\": \"https://cdn.jsdelivr.net/npm//vega-lite@4.17.0?noext\",\n",
       "      \"vega-embed\": \"https://cdn.jsdelivr.net/npm//vega-embed@6?noext\",\n",
       "    };\n",
       "\n",
       "    function maybeLoadScript(lib, version) {\n",
       "      var key = `${lib.replace(\"-\", \"\")}_version`;\n",
       "      return (VEGA_DEBUG[key] == version) ?\n",
       "        Promise.resolve(paths[lib]) :\n",
       "        new Promise(function(resolve, reject) {\n",
       "          var s = document.createElement('script');\n",
       "          document.getElementsByTagName(\"head\")[0].appendChild(s);\n",
       "          s.async = true;\n",
       "          s.onload = () => {\n",
       "            VEGA_DEBUG[key] = version;\n",
       "            return resolve(paths[lib]);\n",
       "          };\n",
       "          s.onerror = () => reject(`Error loading script: ${paths[lib]}`);\n",
       "          s.src = paths[lib];\n",
       "        });\n",
       "    }\n",
       "\n",
       "    function showError(err) {\n",
       "      outputDiv.innerHTML = `<div class=\"error\" style=\"color:red;\">${err}</div>`;\n",
       "      throw err;\n",
       "    }\n",
       "\n",
       "    function displayChart(vegaEmbed) {\n",
       "      vegaEmbed(outputDiv, spec, embedOpt)\n",
       "        .catch(err => showError(`Javascript Error: ${err.message}<br>This usually means there's a typo in your chart specification. See the javascript console for the full traceback.`));\n",
       "    }\n",
       "\n",
       "    if(typeof define === \"function\" && define.amd) {\n",
       "      requirejs.config({paths});\n",
       "      require([\"vega-embed\"], displayChart, err => showError(`Error loading script: ${err.message}`));\n",
       "    } else {\n",
       "      maybeLoadScript(\"vega\", \"5\")\n",
       "        .then(() => maybeLoadScript(\"vega-lite\", \"4.17.0\"))\n",
       "        .then(() => maybeLoadScript(\"vega-embed\", \"6\"))\n",
       "        .catch(showError)\n",
       "        .then(() => displayChart(vegaEmbed));\n",
       "    }\n",
       "  })({\"config\": {\"view\": {\"continuousWidth\": 400, \"continuousHeight\": 300}}, \"layer\": [{\"mark\": \"bar\", \"encoding\": {\"color\": {\"field\": \"Data Source\", \"type\": \"nominal\"}, \"x\": {\"field\": \"Data Source\", \"type\": \"nominal\"}, \"y\": {\"field\": \"Count of Techniques\", \"type\": \"quantitative\"}}, \"height\": 300, \"width\": 1200}, {\"mark\": {\"type\": \"text\", \"align\": \"center\", \"baseline\": \"middle\", \"dx\": 0, \"dy\": -5}, \"encoding\": {\"color\": {\"field\": \"Data Source\", \"type\": \"nominal\"}, \"text\": {\"field\": \"Count of Techniques\", \"type\": \"quantitative\"}, \"x\": {\"field\": \"Data Source\", \"type\": \"nominal\"}, \"y\": {\"field\": \"Count of Techniques\", \"type\": \"quantitative\"}}, \"height\": 300, \"width\": 1200}], \"data\": {\"name\": \"data-6bac681780a0c38d88059e128f103fb9\"}, \"$schema\": \"https://vega.github.io/schema/vega-lite/v4.17.0.json\", \"datasets\": {\"data-6bac681780a0c38d88059e128f103fb9\": [{\"Data Source\": \"Active Directory\", \"Count of Techniques\": 23}, {\"Data Source\": \"Application Log\", \"Count of Techniques\": 80}, {\"Data Source\": \"Asset\", \"Count of Techniques\": 4}, {\"Data Source\": \"Assets\", \"Count of Techniques\": 1}, {\"Data Source\": \"Certificate\", \"Count of Techniques\": 2}, {\"Data Source\": \"Cloud Service\", \"Count of Techniques\": 4}, {\"Data Source\": \"Cloud Storage\", \"Count of Techniques\": 6}, {\"Data Source\": \"Cluster\", \"Count of Techniques\": 1}, {\"Data Source\": \"Command\", \"Count of Techniques\": 270}, {\"Data Source\": \"Container\", \"Count of Techniques\": 7}, {\"Data Source\": \"Domain Name\", \"Count of Techniques\": 5}, {\"Data Source\": \"Drive\", \"Count of Techniques\": 13}, {\"Data Source\": \"Driver\", \"Count of Techniques\": 12}, {\"Data Source\": \"File\", \"Count of Techniques\": 206}, {\"Data Source\": \"Firewall\", \"Count of Techniques\": 5}, {\"Data Source\": \"Firmware\", \"Count of Techniques\": 12}, {\"Data Source\": \"Group\", \"Count of Techniques\": 4}, {\"Data Source\": \"Image\", \"Count of Techniques\": 7}, {\"Data Source\": \"Instance\", \"Count of Techniques\": 11}, {\"Data Source\": \"Internet Scan\", \"Count of Techniques\": 22}, {\"Data Source\": \"Kernel\", \"Count of Techniques\": 2}, {\"Data Source\": \"Logon Session\", \"Count of Techniques\": 43}, {\"Data Source\": \"Malware Repository\", \"Count of Techniques\": 7}, {\"Data Source\": \"Module\", \"Count of Techniques\": 55}, {\"Data Source\": \"Named Pipe\", \"Count of Techniques\": 1}, {\"Data Source\": \"Network Share\", \"Count of Techniques\": 6}, {\"Data Source\": \"Network Traffic\", \"Count of Techniques\": 174}, {\"Data Source\": \"Operational Databases\", \"Count of Techniques\": 15}, {\"Data Source\": \"Persona\", \"Count of Techniques\": 4}, {\"Data Source\": \"Pod\", \"Count of Techniques\": 3}, {\"Data Source\": \"Process\", \"Count of Techniques\": 273}, {\"Data Source\": \"Scheduled Job\", \"Count of Techniques\": 10}, {\"Data Source\": \"Script\", \"Count of Techniques\": 29}, {\"Data Source\": \"Sensor Health\", \"Count of Techniques\": 15}, {\"Data Source\": \"Service\", \"Count of Techniques\": 27}, {\"Data Source\": \"Snapshot\", \"Count of Techniques\": 5}, {\"Data Source\": \"User Account\", \"Count of Techniques\": 40}, {\"Data Source\": \"Volume\", \"Count of Techniques\": 3}, {\"Data Source\": \"WMI\", \"Count of Techniques\": 2}, {\"Data Source\": \"Web Credential\", \"Count of Techniques\": 6}, {\"Data Source\": \"Windows Registry\", \"Count of Techniques\": 71}]}}, {\"mode\": \"vega-lite\"});\n",
       "</script>"
      ],
      "text/plain": [
       "alt.LayerChart(...)"
      ]
     },
     "execution_count": 26,
     "metadata": {},
     "output_type": "execute_result"
    }
   ],
   "source": [
    "data_source_distribution = pandas.DataFrame({\n",
    "    'Data Source': list(techniques_data_source_3.groupby(['data_sources'])['data_sources'].count().keys()),\n",
    "    'Count of Techniques': techniques_data_source_3.groupby(['data_sources'])['data_sources'].count().tolist()})\n",
    "bars = alt.Chart(data_source_distribution,width=800,height=300).mark_bar().encode(x ='Data Source',y='Count of Techniques',color='Data Source').properties(width=1200)\n",
    "text = bars.mark_text(align='center',baseline='middle',dx=0,dy=-5).encode(text='Count of Techniques')\n",
    "bars + text"
   ]
  },
  {
   "cell_type": "markdown",
   "metadata": {},
   "source": [
    "A few interesting things from the bar chart above:\n",
    "* Process Monitoring, File Monitoring, and Process Command-line parameters are the Data Sources with the highest number of techniques\n",
    "* There are some data source names that include string references to Windows such as PowerShell, Windows and wmi"
   ]
  },
  {
   "cell_type": "markdown",
   "metadata": {},
   "source": [
    "## Most Relevant Groups Of Data Sources Per Technique"
   ]
  },
  {
   "cell_type": "markdown",
   "metadata": {},
   "source": [
    "### Number Of Data Sources Per Technique"
   ]
  },
  {
   "cell_type": "markdown",
   "metadata": {},
   "source": [
    "Although identifying the data sources with the highest number of techniques is a good start, they usually do not work alone. You might be collecting **Process Monitoring** already but you might be still missing a lot of context from a data perspective."
   ]
  },
  {
   "cell_type": "code",
   "execution_count": 27,
   "metadata": {},
   "outputs": [
    {
     "data": {
      "text/html": [
       "\n",
       "<div id=\"altair-viz-f9c708ad00834143b96a0c2b93ae15bd\"></div>\n",
       "<script type=\"text/javascript\">\n",
       "  var VEGA_DEBUG = (typeof VEGA_DEBUG == \"undefined\") ? {} : VEGA_DEBUG;\n",
       "  (function(spec, embedOpt){\n",
       "    let outputDiv = document.currentScript.previousElementSibling;\n",
       "    if (outputDiv.id !== \"altair-viz-f9c708ad00834143b96a0c2b93ae15bd\") {\n",
       "      outputDiv = document.getElementById(\"altair-viz-f9c708ad00834143b96a0c2b93ae15bd\");\n",
       "    }\n",
       "    const paths = {\n",
       "      \"vega\": \"https://cdn.jsdelivr.net/npm//vega@5?noext\",\n",
       "      \"vega-lib\": \"https://cdn.jsdelivr.net/npm//vega-lib?noext\",\n",
       "      \"vega-lite\": \"https://cdn.jsdelivr.net/npm//vega-lite@4.17.0?noext\",\n",
       "      \"vega-embed\": \"https://cdn.jsdelivr.net/npm//vega-embed@6?noext\",\n",
       "    };\n",
       "\n",
       "    function maybeLoadScript(lib, version) {\n",
       "      var key = `${lib.replace(\"-\", \"\")}_version`;\n",
       "      return (VEGA_DEBUG[key] == version) ?\n",
       "        Promise.resolve(paths[lib]) :\n",
       "        new Promise(function(resolve, reject) {\n",
       "          var s = document.createElement('script');\n",
       "          document.getElementsByTagName(\"head\")[0].appendChild(s);\n",
       "          s.async = true;\n",
       "          s.onload = () => {\n",
       "            VEGA_DEBUG[key] = version;\n",
       "            return resolve(paths[lib]);\n",
       "          };\n",
       "          s.onerror = () => reject(`Error loading script: ${paths[lib]}`);\n",
       "          s.src = paths[lib];\n",
       "        });\n",
       "    }\n",
       "\n",
       "    function showError(err) {\n",
       "      outputDiv.innerHTML = `<div class=\"error\" style=\"color:red;\">${err}</div>`;\n",
       "      throw err;\n",
       "    }\n",
       "\n",
       "    function displayChart(vegaEmbed) {\n",
       "      vegaEmbed(outputDiv, spec, embedOpt)\n",
       "        .catch(err => showError(`Javascript Error: ${err.message}<br>This usually means there's a typo in your chart specification. See the javascript console for the full traceback.`));\n",
       "    }\n",
       "\n",
       "    if(typeof define === \"function\" && define.amd) {\n",
       "      requirejs.config({paths});\n",
       "      require([\"vega-embed\"], displayChart, err => showError(`Error loading script: ${err.message}`));\n",
       "    } else {\n",
       "      maybeLoadScript(\"vega\", \"5\")\n",
       "        .then(() => maybeLoadScript(\"vega-lite\", \"4.17.0\"))\n",
       "        .then(() => maybeLoadScript(\"vega-embed\", \"6\"))\n",
       "        .catch(showError)\n",
       "        .then(() => displayChart(vegaEmbed));\n",
       "    }\n",
       "  })({\"config\": {\"view\": {\"continuousWidth\": 400, \"continuousHeight\": 300}}, \"layer\": [{\"mark\": \"bar\", \"encoding\": {\"x\": {\"field\": \"Number of Data Sources\", \"type\": \"quantitative\"}, \"y\": {\"field\": \"Count of Techniques\", \"type\": \"quantitative\"}}, \"width\": 500}, {\"mark\": {\"type\": \"text\", \"align\": \"center\", \"baseline\": \"middle\", \"dx\": 0, \"dy\": -5}, \"encoding\": {\"text\": {\"field\": \"Count of Techniques\", \"type\": \"quantitative\"}, \"x\": {\"field\": \"Number of Data Sources\", \"type\": \"quantitative\"}, \"y\": {\"field\": \"Count of Techniques\", \"type\": \"quantitative\"}}, \"width\": 500}], \"data\": {\"name\": \"data-d3984eb4064466943fbe0b716192322e\"}, \"$schema\": \"https://vega.github.io/schema/vega-lite/v4.17.0.json\", \"datasets\": {\"data-d3984eb4064466943fbe0b716192322e\": [{\"Number of Data Sources\": 1, \"Count of Techniques\": 125}, {\"Number of Data Sources\": 2, \"Count of Techniques\": 151}, {\"Number of Data Sources\": 3, \"Count of Techniques\": 144}, {\"Number of Data Sources\": 4, \"Count of Techniques\": 75}, {\"Number of Data Sources\": 5, \"Count of Techniques\": 26}, {\"Number of Data Sources\": 6, \"Count of Techniques\": 11}, {\"Number of Data Sources\": 7, \"Count of Techniques\": 3}, {\"Number of Data Sources\": 8, \"Count of Techniques\": 3}, {\"Number of Data Sources\": 9, \"Count of Techniques\": 1}, {\"Number of Data Sources\": 10, \"Count of Techniques\": 3}, {\"Number of Data Sources\": 11, \"Count of Techniques\": 2}, {\"Number of Data Sources\": 12, \"Count of Techniques\": 1}, {\"Number of Data Sources\": 13, \"Count of Techniques\": 1}]}}, {\"mode\": \"vega-lite\"});\n",
       "</script>"
      ],
      "text/plain": [
       "alt.LayerChart(...)"
      ]
     },
     "execution_count": 27,
     "metadata": {},
     "output_type": "execute_result"
    }
   ],
   "source": [
    "data_source_distribution_2 = pandas.DataFrame({\n",
    "    'Techniques': list(techniques_data_source_3.groupby(['technique'])['technique'].count().keys()),\n",
    "    'Count of Data Sources': techniques_data_source_3.groupby(['technique'])['technique'].count().tolist()})\n",
    "\n",
    "data_source_distribution_3 = pandas.DataFrame({\n",
    "    'Number of Data Sources': list(data_source_distribution_2.groupby(['Count of Data Sources'])['Count of Data Sources'].count().keys()),\n",
    "    'Count of Techniques': data_source_distribution_2.groupby(['Count of Data Sources'])['Count of Data Sources'].count().tolist()})\n",
    "\n",
    "bars = alt.Chart(data_source_distribution_3).mark_bar().encode(x ='Number of Data Sources',y='Count of Techniques').properties(width=500)\n",
    "text = bars.mark_text(align='center',baseline='middle',dx=0,dy=-5).encode(text='Count of Techniques')\n",
    "bars + text"
   ]
  },
  {
   "cell_type": "markdown",
   "metadata": {},
   "source": [
    "The image above shows you the number data sources needed per techniques according to ATT&CK:\n",
    "* There are 71 techniques that require 3 data sources as enough context to validate the detection of them according to ATT&CK\n",
    "* Only one technique has 12 data sources\n",
    "* One data source only applies to 19 techniques"
   ]
  },
  {
   "cell_type": "markdown",
   "metadata": {},
   "source": [
    "Let's create subsets of data sources with the data source column defining and using a python function:"
   ]
  },
  {
   "cell_type": "code",
   "execution_count": 28,
   "metadata": {},
   "outputs": [],
   "source": [
    "# https://stackoverflow.com/questions/26332412/python-recursive-function-to-display-all-subsets-of-given-set\n",
    "def subs(l):\n",
    "    res = []\n",
    "    for i in range(1, len(l) + 1):\n",
    "        for combo in itertools.combinations(l, i):\n",
    "            res.append(list(combo))\n",
    "    return res"
   ]
  },
  {
   "cell_type": "markdown",
   "metadata": {},
   "source": [
    "Before applying the function, we need to use lowercase data sources names and sort data sources names to improve consistency:"
   ]
  },
  {
   "cell_type": "code",
   "execution_count": 29,
   "metadata": {},
   "outputs": [],
   "source": [
    "df = techniques_with_data_sources[['data_sources']]"
   ]
  },
  {
   "cell_type": "code",
   "execution_count": 30,
   "metadata": {},
   "outputs": [],
   "source": [
    "for index, row in df.iterrows():\n",
    "    row[\"data_sources\"]=[x.lower() for x in row[\"data_sources\"]]\n",
    "    row[\"data_sources\"].sort()"
   ]
  },
  {
   "cell_type": "code",
   "execution_count": 31,
   "metadata": {},
   "outputs": [
    {
     "data": {
      "text/html": [
       "<div>\n",
       "<style scoped>\n",
       "    .dataframe tbody tr th:only-of-type {\n",
       "        vertical-align: middle;\n",
       "    }\n",
       "\n",
       "    .dataframe tbody tr th {\n",
       "        vertical-align: top;\n",
       "    }\n",
       "\n",
       "    .dataframe thead th {\n",
       "        text-align: right;\n",
       "    }\n",
       "</style>\n",
       "<table border=\"1\" class=\"dataframe\">\n",
       "  <thead>\n",
       "    <tr style=\"text-align: right;\">\n",
       "      <th></th>\n",
       "      <th>data_sources</th>\n",
       "    </tr>\n",
       "  </thead>\n",
       "  <tbody>\n",
       "    <tr>\n",
       "      <th>0</th>\n",
       "      <td>[command, file, process]</td>\n",
       "    </tr>\n",
       "    <tr>\n",
       "      <th>1</th>\n",
       "      <td>[command, process]</td>\n",
       "    </tr>\n",
       "    <tr>\n",
       "      <th>2</th>\n",
       "      <td>[file, process]</td>\n",
       "    </tr>\n",
       "    <tr>\n",
       "      <th>3</th>\n",
       "      <td>[module, process, script]</td>\n",
       "    </tr>\n",
       "    <tr>\n",
       "      <th>4</th>\n",
       "      <td>[cloud storage]</td>\n",
       "    </tr>\n",
       "  </tbody>\n",
       "</table>\n",
       "</div>"
      ],
      "text/plain": [
       "                data_sources\n",
       "0   [command, file, process]\n",
       "1         [command, process]\n",
       "2            [file, process]\n",
       "3  [module, process, script]\n",
       "4            [cloud storage]"
      ]
     },
     "execution_count": 31,
     "metadata": {},
     "output_type": "execute_result"
    }
   ],
   "source": [
    "df.head()"
   ]
  },
  {
   "cell_type": "markdown",
   "metadata": {},
   "source": [
    "Let's apply the function and split the subsets column:"
   ]
  },
  {
   "cell_type": "code",
   "execution_count": 32,
   "metadata": {},
   "outputs": [
    {
     "name": "stderr",
     "output_type": "stream",
     "text": [
      "<ipython-input-32-9765a9dc0b2f>:1: SettingWithCopyWarning: \n",
      "A value is trying to be set on a copy of a slice from a DataFrame.\n",
      "Try using .loc[row_indexer,col_indexer] = value instead\n",
      "\n",
      "See the caveats in the documentation: https://pandas.pydata.org/pandas-docs/stable/user_guide/indexing.html#returning-a-view-versus-a-copy\n",
      "  df['subsets']=df['data_sources'].apply(subs)\n"
     ]
    }
   ],
   "source": [
    "df['subsets']=df['data_sources'].apply(subs)"
   ]
  },
  {
   "cell_type": "code",
   "execution_count": 33,
   "metadata": {},
   "outputs": [
    {
     "data": {
      "text/html": [
       "<div>\n",
       "<style scoped>\n",
       "    .dataframe tbody tr th:only-of-type {\n",
       "        vertical-align: middle;\n",
       "    }\n",
       "\n",
       "    .dataframe tbody tr th {\n",
       "        vertical-align: top;\n",
       "    }\n",
       "\n",
       "    .dataframe thead th {\n",
       "        text-align: right;\n",
       "    }\n",
       "</style>\n",
       "<table border=\"1\" class=\"dataframe\">\n",
       "  <thead>\n",
       "    <tr style=\"text-align: right;\">\n",
       "      <th></th>\n",
       "      <th>data_sources</th>\n",
       "      <th>subsets</th>\n",
       "    </tr>\n",
       "  </thead>\n",
       "  <tbody>\n",
       "    <tr>\n",
       "      <th>0</th>\n",
       "      <td>[command, file, process]</td>\n",
       "      <td>[[command], [file], [process], [command, file]...</td>\n",
       "    </tr>\n",
       "    <tr>\n",
       "      <th>1</th>\n",
       "      <td>[command, process]</td>\n",
       "      <td>[[command], [process], [command, process]]</td>\n",
       "    </tr>\n",
       "    <tr>\n",
       "      <th>2</th>\n",
       "      <td>[file, process]</td>\n",
       "      <td>[[file], [process], [file, process]]</td>\n",
       "    </tr>\n",
       "    <tr>\n",
       "      <th>3</th>\n",
       "      <td>[module, process, script]</td>\n",
       "      <td>[[module], [process], [script], [module, proce...</td>\n",
       "    </tr>\n",
       "    <tr>\n",
       "      <th>4</th>\n",
       "      <td>[cloud storage]</td>\n",
       "      <td>[[cloud storage]]</td>\n",
       "    </tr>\n",
       "  </tbody>\n",
       "</table>\n",
       "</div>"
      ],
      "text/plain": [
       "                data_sources  \\\n",
       "0   [command, file, process]   \n",
       "1         [command, process]   \n",
       "2            [file, process]   \n",
       "3  [module, process, script]   \n",
       "4            [cloud storage]   \n",
       "\n",
       "                                             subsets  \n",
       "0  [[command], [file], [process], [command, file]...  \n",
       "1         [[command], [process], [command, process]]  \n",
       "2               [[file], [process], [file, process]]  \n",
       "3  [[module], [process], [script], [module, proce...  \n",
       "4                                  [[cloud storage]]  "
      ]
     },
     "execution_count": 33,
     "metadata": {},
     "output_type": "execute_result"
    }
   ],
   "source": [
    "df.head()"
   ]
  },
  {
   "cell_type": "markdown",
   "metadata": {},
   "source": [
    "We need to split the subsets column values:"
   ]
  },
  {
   "cell_type": "code",
   "execution_count": 34,
   "metadata": {},
   "outputs": [],
   "source": [
    "techniques_with_data_sources_preview = df"
   ]
  },
  {
   "cell_type": "code",
   "execution_count": 35,
   "metadata": {},
   "outputs": [],
   "source": [
    "attributes_4 = ['subsets']\n",
    "\n",
    "for a in attributes_4:\n",
    "    s = techniques_with_data_sources_preview.apply(lambda x: pandas.Series(x[a]),axis=1).stack().reset_index(level=1, drop=True)\n",
    "    s.name = a\n",
    "    techniques_with_data_sources_preview = techniques_with_data_sources_preview.drop(a, axis=1).join(s).reset_index(drop=True)\n",
    "    \n",
    "techniques_with_data_sources_subsets = techniques_with_data_sources_preview.reindex(['data_sources','subsets'], axis=1)\n"
   ]
  },
  {
   "cell_type": "code",
   "execution_count": 36,
   "metadata": {},
   "outputs": [
    {
     "data": {
      "text/html": [
       "<div>\n",
       "<style scoped>\n",
       "    .dataframe tbody tr th:only-of-type {\n",
       "        vertical-align: middle;\n",
       "    }\n",
       "\n",
       "    .dataframe tbody tr th {\n",
       "        vertical-align: top;\n",
       "    }\n",
       "\n",
       "    .dataframe thead th {\n",
       "        text-align: right;\n",
       "    }\n",
       "</style>\n",
       "<table border=\"1\" class=\"dataframe\">\n",
       "  <thead>\n",
       "    <tr style=\"text-align: right;\">\n",
       "      <th></th>\n",
       "      <th>data_sources</th>\n",
       "      <th>subsets</th>\n",
       "    </tr>\n",
       "  </thead>\n",
       "  <tbody>\n",
       "    <tr>\n",
       "      <th>0</th>\n",
       "      <td>[command, file, process]</td>\n",
       "      <td>[command]</td>\n",
       "    </tr>\n",
       "    <tr>\n",
       "      <th>1</th>\n",
       "      <td>[command, file, process]</td>\n",
       "      <td>[file]</td>\n",
       "    </tr>\n",
       "    <tr>\n",
       "      <th>2</th>\n",
       "      <td>[command, file, process]</td>\n",
       "      <td>[process]</td>\n",
       "    </tr>\n",
       "    <tr>\n",
       "      <th>3</th>\n",
       "      <td>[command, file, process]</td>\n",
       "      <td>[command, file]</td>\n",
       "    </tr>\n",
       "    <tr>\n",
       "      <th>4</th>\n",
       "      <td>[command, file, process]</td>\n",
       "      <td>[command, process]</td>\n",
       "    </tr>\n",
       "  </tbody>\n",
       "</table>\n",
       "</div>"
      ],
      "text/plain": [
       "               data_sources             subsets\n",
       "0  [command, file, process]           [command]\n",
       "1  [command, file, process]              [file]\n",
       "2  [command, file, process]           [process]\n",
       "3  [command, file, process]     [command, file]\n",
       "4  [command, file, process]  [command, process]"
      ]
     },
     "execution_count": 36,
     "metadata": {},
     "output_type": "execute_result"
    }
   ],
   "source": [
    "techniques_with_data_sources_subsets.head()"
   ]
  },
  {
   "cell_type": "markdown",
   "metadata": {},
   "source": [
    "Let's add three columns to analyse the dataframe: subsets_name (Changing Lists to Strings), subsets_number_elements ( Number of data sources per subset) and number_data_sources_per_technique"
   ]
  },
  {
   "cell_type": "code",
   "execution_count": 37,
   "metadata": {},
   "outputs": [],
   "source": [
    "techniques_with_data_sources_subsets['subsets_name']=techniques_with_data_sources_subsets['subsets'].apply(lambda x: ','.join(map(str, x)))\n",
    "techniques_with_data_sources_subsets['subsets_number_elements']=techniques_with_data_sources_subsets['subsets'].str.len()\n",
    "techniques_with_data_sources_subsets['number_data_sources_per_technique']=techniques_with_data_sources_subsets['data_sources'].str.len()"
   ]
  },
  {
   "cell_type": "code",
   "execution_count": 38,
   "metadata": {},
   "outputs": [
    {
     "data": {
      "text/html": [
       "<div>\n",
       "<style scoped>\n",
       "    .dataframe tbody tr th:only-of-type {\n",
       "        vertical-align: middle;\n",
       "    }\n",
       "\n",
       "    .dataframe tbody tr th {\n",
       "        vertical-align: top;\n",
       "    }\n",
       "\n",
       "    .dataframe thead th {\n",
       "        text-align: right;\n",
       "    }\n",
       "</style>\n",
       "<table border=\"1\" class=\"dataframe\">\n",
       "  <thead>\n",
       "    <tr style=\"text-align: right;\">\n",
       "      <th></th>\n",
       "      <th>data_sources</th>\n",
       "      <th>subsets</th>\n",
       "      <th>subsets_name</th>\n",
       "      <th>subsets_number_elements</th>\n",
       "      <th>number_data_sources_per_technique</th>\n",
       "    </tr>\n",
       "  </thead>\n",
       "  <tbody>\n",
       "    <tr>\n",
       "      <th>0</th>\n",
       "      <td>[command, file, process]</td>\n",
       "      <td>[command]</td>\n",
       "      <td>command</td>\n",
       "      <td>1</td>\n",
       "      <td>3</td>\n",
       "    </tr>\n",
       "    <tr>\n",
       "      <th>1</th>\n",
       "      <td>[command, file, process]</td>\n",
       "      <td>[file]</td>\n",
       "      <td>file</td>\n",
       "      <td>1</td>\n",
       "      <td>3</td>\n",
       "    </tr>\n",
       "    <tr>\n",
       "      <th>2</th>\n",
       "      <td>[command, file, process]</td>\n",
       "      <td>[process]</td>\n",
       "      <td>process</td>\n",
       "      <td>1</td>\n",
       "      <td>3</td>\n",
       "    </tr>\n",
       "    <tr>\n",
       "      <th>3</th>\n",
       "      <td>[command, file, process]</td>\n",
       "      <td>[command, file]</td>\n",
       "      <td>command,file</td>\n",
       "      <td>2</td>\n",
       "      <td>3</td>\n",
       "    </tr>\n",
       "    <tr>\n",
       "      <th>4</th>\n",
       "      <td>[command, file, process]</td>\n",
       "      <td>[command, process]</td>\n",
       "      <td>command,process</td>\n",
       "      <td>2</td>\n",
       "      <td>3</td>\n",
       "    </tr>\n",
       "  </tbody>\n",
       "</table>\n",
       "</div>"
      ],
      "text/plain": [
       "               data_sources             subsets     subsets_name  \\\n",
       "0  [command, file, process]           [command]          command   \n",
       "1  [command, file, process]              [file]             file   \n",
       "2  [command, file, process]           [process]          process   \n",
       "3  [command, file, process]     [command, file]     command,file   \n",
       "4  [command, file, process]  [command, process]  command,process   \n",
       "\n",
       "   subsets_number_elements  number_data_sources_per_technique  \n",
       "0                        1                                  3  \n",
       "1                        1                                  3  \n",
       "2                        1                                  3  \n",
       "3                        2                                  3  \n",
       "4                        2                                  3  "
      ]
     },
     "execution_count": 38,
     "metadata": {},
     "output_type": "execute_result"
    }
   ],
   "source": [
    "techniques_with_data_sources_subsets.head()"
   ]
  },
  {
   "cell_type": "markdown",
   "metadata": {},
   "source": [
    "As it was described above, we need to find grups pf data sources, so we are going to filter out all the subsets with only one data source:"
   ]
  },
  {
   "cell_type": "code",
   "execution_count": 39,
   "metadata": {},
   "outputs": [],
   "source": [
    "subsets = techniques_with_data_sources_subsets\n",
    "\n",
    "subsets_ok=subsets[subsets.subsets_number_elements != 1]"
   ]
  },
  {
   "cell_type": "code",
   "execution_count": 40,
   "metadata": {},
   "outputs": [
    {
     "data": {
      "text/html": [
       "<div>\n",
       "<style scoped>\n",
       "    .dataframe tbody tr th:only-of-type {\n",
       "        vertical-align: middle;\n",
       "    }\n",
       "\n",
       "    .dataframe tbody tr th {\n",
       "        vertical-align: top;\n",
       "    }\n",
       "\n",
       "    .dataframe thead th {\n",
       "        text-align: right;\n",
       "    }\n",
       "</style>\n",
       "<table border=\"1\" class=\"dataframe\">\n",
       "  <thead>\n",
       "    <tr style=\"text-align: right;\">\n",
       "      <th></th>\n",
       "      <th>data_sources</th>\n",
       "      <th>subsets</th>\n",
       "      <th>subsets_name</th>\n",
       "      <th>subsets_number_elements</th>\n",
       "      <th>number_data_sources_per_technique</th>\n",
       "    </tr>\n",
       "  </thead>\n",
       "  <tbody>\n",
       "    <tr>\n",
       "      <th>3</th>\n",
       "      <td>[command, file, process]</td>\n",
       "      <td>[command, file]</td>\n",
       "      <td>command,file</td>\n",
       "      <td>2</td>\n",
       "      <td>3</td>\n",
       "    </tr>\n",
       "    <tr>\n",
       "      <th>4</th>\n",
       "      <td>[command, file, process]</td>\n",
       "      <td>[command, process]</td>\n",
       "      <td>command,process</td>\n",
       "      <td>2</td>\n",
       "      <td>3</td>\n",
       "    </tr>\n",
       "    <tr>\n",
       "      <th>5</th>\n",
       "      <td>[command, file, process]</td>\n",
       "      <td>[file, process]</td>\n",
       "      <td>file,process</td>\n",
       "      <td>2</td>\n",
       "      <td>3</td>\n",
       "    </tr>\n",
       "    <tr>\n",
       "      <th>6</th>\n",
       "      <td>[command, file, process]</td>\n",
       "      <td>[command, file, process]</td>\n",
       "      <td>command,file,process</td>\n",
       "      <td>3</td>\n",
       "      <td>3</td>\n",
       "    </tr>\n",
       "    <tr>\n",
       "      <th>9</th>\n",
       "      <td>[command, process]</td>\n",
       "      <td>[command, process]</td>\n",
       "      <td>command,process</td>\n",
       "      <td>2</td>\n",
       "      <td>2</td>\n",
       "    </tr>\n",
       "  </tbody>\n",
       "</table>\n",
       "</div>"
      ],
      "text/plain": [
       "               data_sources                   subsets          subsets_name  \\\n",
       "3  [command, file, process]           [command, file]          command,file   \n",
       "4  [command, file, process]        [command, process]       command,process   \n",
       "5  [command, file, process]           [file, process]          file,process   \n",
       "6  [command, file, process]  [command, file, process]  command,file,process   \n",
       "9        [command, process]        [command, process]       command,process   \n",
       "\n",
       "   subsets_number_elements  number_data_sources_per_technique  \n",
       "3                        2                                  3  \n",
       "4                        2                                  3  \n",
       "5                        2                                  3  \n",
       "6                        3                                  3  \n",
       "9                        2                                  2  "
      ]
     },
     "execution_count": 40,
     "metadata": {},
     "output_type": "execute_result"
    }
   ],
   "source": [
    "subsets_ok.head()"
   ]
  },
  {
   "cell_type": "markdown",
   "metadata": {},
   "source": [
    "Finally, we calculate the most relevant groups of data sources (Top 15):"
   ]
  },
  {
   "cell_type": "code",
   "execution_count": 41,
   "metadata": {},
   "outputs": [],
   "source": [
    "subsets_graph = subsets_ok.groupby(['subsets_name'])['subsets_name'].count().to_frame(name='subsets_count').sort_values(by='subsets_count',ascending=False)[0:15]"
   ]
  },
  {
   "cell_type": "code",
   "execution_count": 42,
   "metadata": {},
   "outputs": [
    {
     "data": {
      "text/html": [
       "<div>\n",
       "<style scoped>\n",
       "    .dataframe tbody tr th:only-of-type {\n",
       "        vertical-align: middle;\n",
       "    }\n",
       "\n",
       "    .dataframe tbody tr th {\n",
       "        vertical-align: top;\n",
       "    }\n",
       "\n",
       "    .dataframe thead th {\n",
       "        text-align: right;\n",
       "    }\n",
       "</style>\n",
       "<table border=\"1\" class=\"dataframe\">\n",
       "  <thead>\n",
       "    <tr style=\"text-align: right;\">\n",
       "      <th></th>\n",
       "      <th>subsets_count</th>\n",
       "    </tr>\n",
       "    <tr>\n",
       "      <th>subsets_name</th>\n",
       "      <th></th>\n",
       "    </tr>\n",
       "  </thead>\n",
       "  <tbody>\n",
       "    <tr>\n",
       "      <th>command,process</th>\n",
       "      <td>206</td>\n",
       "    </tr>\n",
       "    <tr>\n",
       "      <th>command,file</th>\n",
       "      <td>131</td>\n",
       "    </tr>\n",
       "    <tr>\n",
       "      <th>file,process</th>\n",
       "      <td>118</td>\n",
       "    </tr>\n",
       "    <tr>\n",
       "      <th>command,file,process</th>\n",
       "      <td>90</td>\n",
       "    </tr>\n",
       "    <tr>\n",
       "      <th>command,windows registry</th>\n",
       "      <td>60</td>\n",
       "    </tr>\n",
       "    <tr>\n",
       "      <th>process,windows registry</th>\n",
       "      <td>59</td>\n",
       "    </tr>\n",
       "    <tr>\n",
       "      <th>command,process,windows registry</th>\n",
       "      <td>53</td>\n",
       "    </tr>\n",
       "    <tr>\n",
       "      <th>application log,network traffic</th>\n",
       "      <td>48</td>\n",
       "    </tr>\n",
       "    <tr>\n",
       "      <th>command,network traffic</th>\n",
       "      <td>45</td>\n",
       "    </tr>\n",
       "    <tr>\n",
       "      <th>network traffic,process</th>\n",
       "      <td>44</td>\n",
       "    </tr>\n",
       "    <tr>\n",
       "      <th>module,process</th>\n",
       "      <td>44</td>\n",
       "    </tr>\n",
       "    <tr>\n",
       "      <th>file,network traffic</th>\n",
       "      <td>39</td>\n",
       "    </tr>\n",
       "    <tr>\n",
       "      <th>file,windows registry</th>\n",
       "      <td>37</td>\n",
       "    </tr>\n",
       "    <tr>\n",
       "      <th>file,process,windows registry</th>\n",
       "      <td>33</td>\n",
       "    </tr>\n",
       "    <tr>\n",
       "      <th>command,module</th>\n",
       "      <td>31</td>\n",
       "    </tr>\n",
       "  </tbody>\n",
       "</table>\n",
       "</div>"
      ],
      "text/plain": [
       "                                  subsets_count\n",
       "subsets_name                                   \n",
       "command,process                             206\n",
       "command,file                                131\n",
       "file,process                                118\n",
       "command,file,process                         90\n",
       "command,windows registry                     60\n",
       "process,windows registry                     59\n",
       "command,process,windows registry             53\n",
       "application log,network traffic              48\n",
       "command,network traffic                      45\n",
       "network traffic,process                      44\n",
       "module,process                               44\n",
       "file,network traffic                         39\n",
       "file,windows registry                        37\n",
       "file,process,windows registry                33\n",
       "command,module                               31"
      ]
     },
     "execution_count": 42,
     "metadata": {},
     "output_type": "execute_result"
    }
   ],
   "source": [
    "subsets_graph"
   ]
  },
  {
   "cell_type": "code",
   "execution_count": 43,
   "metadata": {},
   "outputs": [
    {
     "data": {
      "text/html": [
       "\n",
       "<div id=\"altair-viz-7e2688ece0014507a3cf0a7535c3310c\"></div>\n",
       "<script type=\"text/javascript\">\n",
       "  var VEGA_DEBUG = (typeof VEGA_DEBUG == \"undefined\") ? {} : VEGA_DEBUG;\n",
       "  (function(spec, embedOpt){\n",
       "    let outputDiv = document.currentScript.previousElementSibling;\n",
       "    if (outputDiv.id !== \"altair-viz-7e2688ece0014507a3cf0a7535c3310c\") {\n",
       "      outputDiv = document.getElementById(\"altair-viz-7e2688ece0014507a3cf0a7535c3310c\");\n",
       "    }\n",
       "    const paths = {\n",
       "      \"vega\": \"https://cdn.jsdelivr.net/npm//vega@5?noext\",\n",
       "      \"vega-lib\": \"https://cdn.jsdelivr.net/npm//vega-lib?noext\",\n",
       "      \"vega-lite\": \"https://cdn.jsdelivr.net/npm//vega-lite@4.17.0?noext\",\n",
       "      \"vega-embed\": \"https://cdn.jsdelivr.net/npm//vega-embed@6?noext\",\n",
       "    };\n",
       "\n",
       "    function maybeLoadScript(lib, version) {\n",
       "      var key = `${lib.replace(\"-\", \"\")}_version`;\n",
       "      return (VEGA_DEBUG[key] == version) ?\n",
       "        Promise.resolve(paths[lib]) :\n",
       "        new Promise(function(resolve, reject) {\n",
       "          var s = document.createElement('script');\n",
       "          document.getElementsByTagName(\"head\")[0].appendChild(s);\n",
       "          s.async = true;\n",
       "          s.onload = () => {\n",
       "            VEGA_DEBUG[key] = version;\n",
       "            return resolve(paths[lib]);\n",
       "          };\n",
       "          s.onerror = () => reject(`Error loading script: ${paths[lib]}`);\n",
       "          s.src = paths[lib];\n",
       "        });\n",
       "    }\n",
       "\n",
       "    function showError(err) {\n",
       "      outputDiv.innerHTML = `<div class=\"error\" style=\"color:red;\">${err}</div>`;\n",
       "      throw err;\n",
       "    }\n",
       "\n",
       "    function displayChart(vegaEmbed) {\n",
       "      vegaEmbed(outputDiv, spec, embedOpt)\n",
       "        .catch(err => showError(`Javascript Error: ${err.message}<br>This usually means there's a typo in your chart specification. See the javascript console for the full traceback.`));\n",
       "    }\n",
       "\n",
       "    if(typeof define === \"function\" && define.amd) {\n",
       "      requirejs.config({paths});\n",
       "      require([\"vega-embed\"], displayChart, err => showError(`Error loading script: ${err.message}`));\n",
       "    } else {\n",
       "      maybeLoadScript(\"vega\", \"5\")\n",
       "        .then(() => maybeLoadScript(\"vega-lite\", \"4.17.0\"))\n",
       "        .then(() => maybeLoadScript(\"vega-embed\", \"6\"))\n",
       "        .catch(showError)\n",
       "        .then(() => displayChart(vegaEmbed));\n",
       "    }\n",
       "  })({\"config\": {\"view\": {\"continuousWidth\": 400, \"continuousHeight\": 300}}, \"layer\": [{\"mark\": \"bar\", \"encoding\": {\"color\": {\"field\": \"Data Sources\", \"type\": \"nominal\"}, \"x\": {\"field\": \"Data Sources\", \"type\": \"nominal\"}, \"y\": {\"field\": \"Count of Techniques\", \"type\": \"quantitative\"}}, \"width\": 500}, {\"mark\": {\"type\": \"text\", \"align\": \"center\", \"baseline\": \"middle\", \"dx\": 0, \"dy\": -5}, \"encoding\": {\"color\": {\"field\": \"Data Sources\", \"type\": \"nominal\"}, \"text\": {\"field\": \"Count of Techniques\", \"type\": \"quantitative\"}, \"x\": {\"field\": \"Data Sources\", \"type\": \"nominal\"}, \"y\": {\"field\": \"Count of Techniques\", \"type\": \"quantitative\"}}, \"width\": 500}], \"data\": {\"name\": \"data-ce2abf625345195ee2519ba52eab77d7\"}, \"$schema\": \"https://vega.github.io/schema/vega-lite/v4.17.0.json\", \"datasets\": {\"data-ce2abf625345195ee2519ba52eab77d7\": [{\"Data Sources\": \"command,process\", \"Count of Techniques\": 206}, {\"Data Sources\": \"command,file\", \"Count of Techniques\": 131}, {\"Data Sources\": \"file,process\", \"Count of Techniques\": 118}, {\"Data Sources\": \"command,file,process\", \"Count of Techniques\": 90}, {\"Data Sources\": \"command,windows registry\", \"Count of Techniques\": 60}, {\"Data Sources\": \"process,windows registry\", \"Count of Techniques\": 59}, {\"Data Sources\": \"command,process,windows registry\", \"Count of Techniques\": 53}, {\"Data Sources\": \"application log,network traffic\", \"Count of Techniques\": 48}, {\"Data Sources\": \"command,network traffic\", \"Count of Techniques\": 45}, {\"Data Sources\": \"network traffic,process\", \"Count of Techniques\": 44}, {\"Data Sources\": \"module,process\", \"Count of Techniques\": 44}, {\"Data Sources\": \"file,network traffic\", \"Count of Techniques\": 39}, {\"Data Sources\": \"file,windows registry\", \"Count of Techniques\": 37}, {\"Data Sources\": \"file,process,windows registry\", \"Count of Techniques\": 33}, {\"Data Sources\": \"command,module\", \"Count of Techniques\": 31}]}}, {\"mode\": \"vega-lite\"});\n",
       "</script>"
      ],
      "text/plain": [
       "alt.LayerChart(...)"
      ]
     },
     "execution_count": 43,
     "metadata": {},
     "output_type": "execute_result"
    }
   ],
   "source": [
    "subsets_graph_2 = pandas.DataFrame({\n",
    "    'Data Sources': list(subsets_graph.index),\n",
    "    'Count of Techniques': subsets_graph['subsets_count'].tolist()})\n",
    "\n",
    "bars = alt.Chart(subsets_graph_2).mark_bar().encode(x ='Data Sources', y ='Count of Techniques', color='Data Sources').properties(width=500)\n",
    "text = bars.mark_text(align='center',baseline='middle',dx= 0,dy=-5).encode(text='Count of Techniques')\n",
    "bars + text"
   ]
  },
  {
   "cell_type": "markdown",
   "metadata": {},
   "source": [
    "Group (Process Monitoring - Process Command-line parameters) is the is the group of data sources with the highest number of techniques. This group of data sources are suggested to hunt 78 techniques"
   ]
  },
  {
   "cell_type": "markdown",
   "metadata": {},
   "source": [
    "## Let's Split all the Information About Techniques With Data Sources Defined: Matrix, Platform, Tactic and Data Source"
   ]
  },
  {
   "cell_type": "markdown",
   "metadata": {},
   "source": [
    "Let's split all the relevant columns of the dataframe:"
   ]
  },
  {
   "cell_type": "code",
   "execution_count": 44,
   "metadata": {},
   "outputs": [
    {
     "data": {
      "text/html": [
       "<div>\n",
       "<style scoped>\n",
       "    .dataframe tbody tr th:only-of-type {\n",
       "        vertical-align: middle;\n",
       "    }\n",
       "\n",
       "    .dataframe tbody tr th {\n",
       "        vertical-align: top;\n",
       "    }\n",
       "\n",
       "    .dataframe thead th {\n",
       "        text-align: right;\n",
       "    }\n",
       "</style>\n",
       "<table border=\"1\" class=\"dataframe\">\n",
       "  <thead>\n",
       "    <tr style=\"text-align: right;\">\n",
       "      <th></th>\n",
       "      <th>matrix</th>\n",
       "      <th>platform</th>\n",
       "      <th>tactic</th>\n",
       "      <th>technique</th>\n",
       "      <th>technique_id</th>\n",
       "      <th>data_sources</th>\n",
       "    </tr>\n",
       "  </thead>\n",
       "  <tbody>\n",
       "    <tr>\n",
       "      <th>0</th>\n",
       "      <td>mitre-attack</td>\n",
       "      <td>macOS</td>\n",
       "      <td>{'kill_chain_name': 'mitre-attack', 'phase_nam...</td>\n",
       "      <td>Resource Forking</td>\n",
       "      <td>T1564.009</td>\n",
       "      <td>Command</td>\n",
       "    </tr>\n",
       "    <tr>\n",
       "      <th>1</th>\n",
       "      <td>mitre-attack</td>\n",
       "      <td>macOS</td>\n",
       "      <td>{'kill_chain_name': 'mitre-attack', 'phase_nam...</td>\n",
       "      <td>Resource Forking</td>\n",
       "      <td>T1564.009</td>\n",
       "      <td>Process</td>\n",
       "    </tr>\n",
       "    <tr>\n",
       "      <th>2</th>\n",
       "      <td>mitre-attack</td>\n",
       "      <td>macOS</td>\n",
       "      <td>{'kill_chain_name': 'mitre-attack', 'phase_nam...</td>\n",
       "      <td>Resource Forking</td>\n",
       "      <td>T1564.009</td>\n",
       "      <td>File</td>\n",
       "    </tr>\n",
       "    <tr>\n",
       "      <th>3</th>\n",
       "      <td>mitre-attack</td>\n",
       "      <td>Windows</td>\n",
       "      <td>{'kill_chain_name': 'mitre-attack', 'phase_nam...</td>\n",
       "      <td>Downgrade Attack</td>\n",
       "      <td>T1562.010</td>\n",
       "      <td>Process</td>\n",
       "    </tr>\n",
       "    <tr>\n",
       "      <th>4</th>\n",
       "      <td>mitre-attack</td>\n",
       "      <td>Windows</td>\n",
       "      <td>{'kill_chain_name': 'mitre-attack', 'phase_nam...</td>\n",
       "      <td>Downgrade Attack</td>\n",
       "      <td>T1562.010</td>\n",
       "      <td>Command</td>\n",
       "    </tr>\n",
       "  </tbody>\n",
       "</table>\n",
       "</div>"
      ],
      "text/plain": [
       "         matrix platform                                             tactic  \\\n",
       "0  mitre-attack    macOS  {'kill_chain_name': 'mitre-attack', 'phase_nam...   \n",
       "1  mitre-attack    macOS  {'kill_chain_name': 'mitre-attack', 'phase_nam...   \n",
       "2  mitre-attack    macOS  {'kill_chain_name': 'mitre-attack', 'phase_nam...   \n",
       "3  mitre-attack  Windows  {'kill_chain_name': 'mitre-attack', 'phase_nam...   \n",
       "4  mitre-attack  Windows  {'kill_chain_name': 'mitre-attack', 'phase_nam...   \n",
       "\n",
       "          technique technique_id data_sources  \n",
       "0  Resource Forking    T1564.009      Command  \n",
       "1  Resource Forking    T1564.009      Process  \n",
       "2  Resource Forking    T1564.009         File  \n",
       "3  Downgrade Attack    T1562.010      Process  \n",
       "4  Downgrade Attack    T1562.010      Command  "
      ]
     },
     "execution_count": 44,
     "metadata": {},
     "output_type": "execute_result"
    }
   ],
   "source": [
    "techniques_data = techniques_with_data_sources\n",
    "\n",
    "attributes = ['platform','tactic','data_sources'] # In attributes we are going to indicate the name of the columns that we need to split\n",
    "\n",
    "for a in attributes:\n",
    "    s = techniques_data.apply(lambda x: pandas.Series(x[a]),axis=1).stack().reset_index(level=1, drop=True)\n",
    "    # \"s\" is going to be a column of a frame with every value of the list inside each cell of the column \"a\"\n",
    "    s.name = a\n",
    "    # We name \"s\" with the same name of \"a\".\n",
    "    techniques_data=techniques_data.drop(a, axis=1).join(s).reset_index(drop=True)\n",
    "    # We drop the column \"a\" from \"techniques_data\", and then join \"techniques_data\" with \"s\"\n",
    "\n",
    "# Let's re-arrange the columns from general to specific\n",
    "techniques_data_2=techniques_data.reindex(['matrix','platform','tactic','technique','technique_id','data_sources'], axis=1)\n",
    "\n",
    "# We are going to edit some names inside the dataframe to improve the consistency:\n",
    "techniques_data_3 = techniques_data_2.replace(['Process monitoring','Application logs'],['Process Monitoring','Application Logs'])\n",
    "\n",
    "techniques_data_3.head()"
   ]
  },
  {
   "cell_type": "markdown",
   "metadata": {},
   "source": [
    "Do you remember data sources names with a reference to Windows? After splitting the dataframe by platforms, tactics and data sources, are there any macOC or linux techniques that consider windows data sources? Let's identify those rows:"
   ]
  },
  {
   "cell_type": "code",
   "execution_count": 45,
   "metadata": {},
   "outputs": [],
   "source": [
    "# After splitting the rows of the dataframe, there are some values that relate windows data sources with platforms like linux and masOS.\n",
    "# We need to identify those rows\n",
    "conditions = [(techniques_data_3['platform']=='Linux')&(techniques_data_3['data_sources'].str.contains('windows',case=False)== True),\n",
    "             (techniques_data_3['platform']=='macOS')&(techniques_data_3['data_sources'].str.contains('windows',case=False)== True),\n",
    "             (techniques_data_3['platform']=='Linux')&(techniques_data_3['data_sources'].str.contains('powershell',case=False)== True),\n",
    "             (techniques_data_3['platform']=='macOS')&(techniques_data_3['data_sources'].str.contains('powershell',case=False)== True),\n",
    "             (techniques_data_3['platform']=='Linux')&(techniques_data_3['data_sources'].str.contains('wmi',case=False)== True),\n",
    "             (techniques_data_3['platform']=='macOS')&(techniques_data_3['data_sources'].str.contains('wmi',case=False)== True)]\n",
    "# In conditions we indicate a logical test\n",
    "\n",
    "choices = ['NO OK','NO OK','NO OK','NO OK','NO OK','NO OK']\n",
    "# In choices, we indicate the result when the logical test is true\n",
    "\n",
    "techniques_data_3['Validation'] = np.select(conditions,choices,default='OK')\n",
    "# We add a column \"Validation\" to \"techniques_data_3\" with the result of the logical test. The default value is going to be \"OK\""
   ]
  },
  {
   "cell_type": "markdown",
   "metadata": {},
   "source": [
    "What is the inconsistent data?"
   ]
  },
  {
   "cell_type": "code",
   "execution_count": 46,
   "metadata": {},
   "outputs": [
    {
     "data": {
      "text/html": [
       "<div>\n",
       "<style scoped>\n",
       "    .dataframe tbody tr th:only-of-type {\n",
       "        vertical-align: middle;\n",
       "    }\n",
       "\n",
       "    .dataframe tbody tr th {\n",
       "        vertical-align: top;\n",
       "    }\n",
       "\n",
       "    .dataframe thead th {\n",
       "        text-align: right;\n",
       "    }\n",
       "</style>\n",
       "<table border=\"1\" class=\"dataframe\">\n",
       "  <thead>\n",
       "    <tr style=\"text-align: right;\">\n",
       "      <th></th>\n",
       "      <th>matrix</th>\n",
       "      <th>platform</th>\n",
       "      <th>tactic</th>\n",
       "      <th>technique</th>\n",
       "      <th>technique_id</th>\n",
       "      <th>data_sources</th>\n",
       "      <th>Validation</th>\n",
       "    </tr>\n",
       "  </thead>\n",
       "  <tbody>\n",
       "    <tr>\n",
       "      <th>31</th>\n",
       "      <td>mitre-attack</td>\n",
       "      <td>Linux</td>\n",
       "      <td>{'kill_chain_name': 'mitre-attack', 'phase_nam...</td>\n",
       "      <td>System Language Discovery</td>\n",
       "      <td>T1614.001</td>\n",
       "      <td>Windows Registry</td>\n",
       "      <td>NO OK</td>\n",
       "    </tr>\n",
       "    <tr>\n",
       "      <th>34</th>\n",
       "      <td>mitre-attack</td>\n",
       "      <td>macOS</td>\n",
       "      <td>{'kill_chain_name': 'mitre-attack', 'phase_nam...</td>\n",
       "      <td>System Language Discovery</td>\n",
       "      <td>T1614.001</td>\n",
       "      <td>Windows Registry</td>\n",
       "      <td>NO OK</td>\n",
       "    </tr>\n",
       "    <tr>\n",
       "      <th>68</th>\n",
       "      <td>mitre-attack</td>\n",
       "      <td>macOS</td>\n",
       "      <td>{'kill_chain_name': 'mitre-attack', 'phase_nam...</td>\n",
       "      <td>Code Signing Policy Modification</td>\n",
       "      <td>T1553.006</td>\n",
       "      <td>Windows Registry</td>\n",
       "      <td>NO OK</td>\n",
       "    </tr>\n",
       "    <tr>\n",
       "      <th>335</th>\n",
       "      <td>mitre-attack</td>\n",
       "      <td>Linux</td>\n",
       "      <td>{'kill_chain_name': 'mitre-attack', 'phase_nam...</td>\n",
       "      <td>Run Virtual Instance</td>\n",
       "      <td>T1564.006</td>\n",
       "      <td>Windows Registry</td>\n",
       "      <td>NO OK</td>\n",
       "    </tr>\n",
       "    <tr>\n",
       "      <th>340</th>\n",
       "      <td>mitre-attack</td>\n",
       "      <td>macOS</td>\n",
       "      <td>{'kill_chain_name': 'mitre-attack', 'phase_nam...</td>\n",
       "      <td>Run Virtual Instance</td>\n",
       "      <td>T1564.006</td>\n",
       "      <td>Windows Registry</td>\n",
       "      <td>NO OK</td>\n",
       "    </tr>\n",
       "  </tbody>\n",
       "</table>\n",
       "</div>"
      ],
      "text/plain": [
       "           matrix platform                                             tactic  \\\n",
       "31   mitre-attack    Linux  {'kill_chain_name': 'mitre-attack', 'phase_nam...   \n",
       "34   mitre-attack    macOS  {'kill_chain_name': 'mitre-attack', 'phase_nam...   \n",
       "68   mitre-attack    macOS  {'kill_chain_name': 'mitre-attack', 'phase_nam...   \n",
       "335  mitre-attack    Linux  {'kill_chain_name': 'mitre-attack', 'phase_nam...   \n",
       "340  mitre-attack    macOS  {'kill_chain_name': 'mitre-attack', 'phase_nam...   \n",
       "\n",
       "                            technique technique_id      data_sources  \\\n",
       "31          System Language Discovery    T1614.001  Windows Registry   \n",
       "34          System Language Discovery    T1614.001  Windows Registry   \n",
       "68   Code Signing Policy Modification    T1553.006  Windows Registry   \n",
       "335              Run Virtual Instance    T1564.006  Windows Registry   \n",
       "340              Run Virtual Instance    T1564.006  Windows Registry   \n",
       "\n",
       "    Validation  \n",
       "31       NO OK  \n",
       "34       NO OK  \n",
       "68       NO OK  \n",
       "335      NO OK  \n",
       "340      NO OK  "
      ]
     },
     "execution_count": 46,
     "metadata": {},
     "output_type": "execute_result"
    }
   ],
   "source": [
    "techniques_analysis_data_no_ok = techniques_data_3[techniques_data_3.Validation == 'NO OK']\n",
    "# Finally, we are filtering all the values with NO OK\n",
    "\n",
    "techniques_analysis_data_no_ok.head()"
   ]
  },
  {
   "cell_type": "code",
   "execution_count": 47,
   "metadata": {},
   "outputs": [
    {
     "name": "stdout",
     "output_type": "stream",
     "text": [
      "There are  85  rows with inconsistent data\n"
     ]
    }
   ],
   "source": [
    "print('There are ',len(techniques_analysis_data_no_ok),' rows with inconsistent data')"
   ]
  },
  {
   "cell_type": "markdown",
   "metadata": {},
   "source": [
    "What is the impact of this inconsistent data from a platform and data sources perspective?"
   ]
  },
  {
   "cell_type": "code",
   "execution_count": 48,
   "metadata": {},
   "outputs": [],
   "source": [
    "df = techniques_with_data_sources\n",
    "\n",
    "attributes = ['platform','data_sources']\n",
    "\n",
    "for a in attributes:\n",
    "    s = df.apply(lambda x: pandas.Series(x[a]),axis=1).stack().reset_index(level=1, drop=True)\n",
    "    s.name = a\n",
    "    df=df.drop(a, axis=1).join(s).reset_index(drop=True)\n",
    "    \n",
    "df_2=df.reindex(['matrix','platform','tactic','technique','technique_id','data_sources'], axis=1)\n",
    "df_3 = df_2.replace(['Process monitoring','Application logs'],['Process Monitoring','Application Logs'])\n",
    "\n",
    "conditions = [(df_3['data_sources'].str.contains('windows',case=False)== True),\n",
    "              (df_3['data_sources'].str.contains('powershell',case=False)== True),\n",
    "              (df_3['data_sources'].str.contains('wmi',case=False)== True)]\n",
    "\n",
    "choices = ['Windows','Windows','Windows']\n",
    "\n",
    "df_3['Validation'] = np.select(conditions,choices,default='Other')\n",
    "df_3['Num_Tech'] = 1\n",
    "df_4 = df_3[df_3.Validation == 'Windows']\n",
    "df_5 = df_4.groupby(['data_sources','platform'])['technique'].nunique()\n",
    "df_6 = df_5.to_frame().reset_index()"
   ]
  },
  {
   "cell_type": "code",
   "execution_count": 49,
   "metadata": {},
   "outputs": [
    {
     "data": {
      "text/html": [
       "\n",
       "<div id=\"altair-viz-528452593ccf4a9a897c80a9c63b1d9c\"></div>\n",
       "<script type=\"text/javascript\">\n",
       "  var VEGA_DEBUG = (typeof VEGA_DEBUG == \"undefined\") ? {} : VEGA_DEBUG;\n",
       "  (function(spec, embedOpt){\n",
       "    let outputDiv = document.currentScript.previousElementSibling;\n",
       "    if (outputDiv.id !== \"altair-viz-528452593ccf4a9a897c80a9c63b1d9c\") {\n",
       "      outputDiv = document.getElementById(\"altair-viz-528452593ccf4a9a897c80a9c63b1d9c\");\n",
       "    }\n",
       "    const paths = {\n",
       "      \"vega\": \"https://cdn.jsdelivr.net/npm//vega@5?noext\",\n",
       "      \"vega-lib\": \"https://cdn.jsdelivr.net/npm//vega-lib?noext\",\n",
       "      \"vega-lite\": \"https://cdn.jsdelivr.net/npm//vega-lite@4.17.0?noext\",\n",
       "      \"vega-embed\": \"https://cdn.jsdelivr.net/npm//vega-embed@6?noext\",\n",
       "    };\n",
       "\n",
       "    function maybeLoadScript(lib, version) {\n",
       "      var key = `${lib.replace(\"-\", \"\")}_version`;\n",
       "      return (VEGA_DEBUG[key] == version) ?\n",
       "        Promise.resolve(paths[lib]) :\n",
       "        new Promise(function(resolve, reject) {\n",
       "          var s = document.createElement('script');\n",
       "          document.getElementsByTagName(\"head\")[0].appendChild(s);\n",
       "          s.async = true;\n",
       "          s.onload = () => {\n",
       "            VEGA_DEBUG[key] = version;\n",
       "            return resolve(paths[lib]);\n",
       "          };\n",
       "          s.onerror = () => reject(`Error loading script: ${paths[lib]}`);\n",
       "          s.src = paths[lib];\n",
       "        });\n",
       "    }\n",
       "\n",
       "    function showError(err) {\n",
       "      outputDiv.innerHTML = `<div class=\"error\" style=\"color:red;\">${err}</div>`;\n",
       "      throw err;\n",
       "    }\n",
       "\n",
       "    function displayChart(vegaEmbed) {\n",
       "      vegaEmbed(outputDiv, spec, embedOpt)\n",
       "        .catch(err => showError(`Javascript Error: ${err.message}<br>This usually means there's a typo in your chart specification. See the javascript console for the full traceback.`));\n",
       "    }\n",
       "\n",
       "    if(typeof define === \"function\" && define.amd) {\n",
       "      requirejs.config({paths});\n",
       "      require([\"vega-embed\"], displayChart, err => showError(`Error loading script: ${err.message}`));\n",
       "    } else {\n",
       "      maybeLoadScript(\"vega\", \"5\")\n",
       "        .then(() => maybeLoadScript(\"vega-lite\", \"4.17.0\"))\n",
       "        .then(() => maybeLoadScript(\"vega-embed\", \"6\"))\n",
       "        .catch(showError)\n",
       "        .then(() => displayChart(vegaEmbed));\n",
       "    }\n",
       "  })({\"config\": {\"view\": {\"continuousWidth\": 400, \"continuousHeight\": 300}}, \"data\": {\"name\": \"data-061ddfc66e28da7dc440c2a06a1f2a3d\"}, \"mark\": \"bar\", \"encoding\": {\"color\": {\"field\": \"platform\", \"type\": \"nominal\"}, \"x\": {\"field\": \"technique\", \"stack\": \"normalize\", \"type\": \"quantitative\"}, \"y\": {\"field\": \"data_sources\", \"type\": \"nominal\"}}, \"height\": 200, \"$schema\": \"https://vega.github.io/schema/vega-lite/v4.17.0.json\", \"datasets\": {\"data-061ddfc66e28da7dc440c2a06a1f2a3d\": [{\"data_sources\": \"WMI\", \"platform\": \"Linux\", \"technique\": 1}, {\"data_sources\": \"WMI\", \"platform\": \"Windows\", \"technique\": 2}, {\"data_sources\": \"WMI\", \"platform\": \"macOS\", \"technique\": 1}, {\"data_sources\": \"Windows Registry\", \"platform\": \"Azure AD\", \"technique\": 1}, {\"data_sources\": \"Windows Registry\", \"platform\": \"Containers\", \"technique\": 4}, {\"data_sources\": \"Windows Registry\", \"platform\": \"Control Server\", \"technique\": 1}, {\"data_sources\": \"Windows Registry\", \"platform\": \"Data Historian\", \"technique\": 1}, {\"data_sources\": \"Windows Registry\", \"platform\": \"Engineering Workstation\", \"technique\": 1}, {\"data_sources\": \"Windows Registry\", \"platform\": \"Google Workspace\", \"technique\": 1}, {\"data_sources\": \"Windows Registry\", \"platform\": \"Human-Machine Interface\", \"technique\": 2}, {\"data_sources\": \"Windows Registry\", \"platform\": \"IaaS\", \"technique\": 3}, {\"data_sources\": \"Windows Registry\", \"platform\": \"Linux\", \"technique\": 27}, {\"data_sources\": \"Windows Registry\", \"platform\": \"Network\", \"technique\": 4}, {\"data_sources\": \"Windows Registry\", \"platform\": \"Office 365\", \"technique\": 7}, {\"data_sources\": \"Windows Registry\", \"platform\": \"SaaS\", \"technique\": 1}, {\"data_sources\": \"Windows Registry\", \"platform\": \"Safety Instrumented System/Protection Relay\", \"technique\": 1}, {\"data_sources\": \"Windows Registry\", \"platform\": \"Windows\", \"technique\": 69}, {\"data_sources\": \"Windows Registry\", \"platform\": \"macOS\", \"technique\": 30}]}}, {\"mode\": \"vega-lite\"});\n",
       "</script>"
      ],
      "text/plain": [
       "alt.Chart(...)"
      ]
     },
     "execution_count": 49,
     "metadata": {},
     "output_type": "execute_result"
    }
   ],
   "source": [
    "alt.Chart(df_6).mark_bar().encode(x=alt.X('technique', stack=\"normalize\"),    y='data_sources',    color='platform').properties(height=200)"
   ]
  },
  {
   "cell_type": "markdown",
   "metadata": {},
   "source": [
    "There are techniques that consider Windows Error Reporting, Windows Registry, and Windows event logs as data sources and they also consider platforms like Linux and masOS. We do not need to consider this rows because those data sources can only be managed at a Windows environment. These are the techniques that we should not consider in our data base:"
   ]
  },
  {
   "cell_type": "code",
   "execution_count": 50,
   "metadata": {},
   "outputs": [
    {
     "data": {
      "text/html": [
       "<div>\n",
       "<style scoped>\n",
       "    .dataframe tbody tr th:only-of-type {\n",
       "        vertical-align: middle;\n",
       "    }\n",
       "\n",
       "    .dataframe tbody tr th {\n",
       "        vertical-align: top;\n",
       "    }\n",
       "\n",
       "    .dataframe thead th {\n",
       "        text-align: right;\n",
       "    }\n",
       "</style>\n",
       "<table border=\"1\" class=\"dataframe\">\n",
       "  <thead>\n",
       "    <tr style=\"text-align: right;\">\n",
       "      <th></th>\n",
       "      <th>technique</th>\n",
       "      <th>data_sources</th>\n",
       "    </tr>\n",
       "  </thead>\n",
       "  <tbody>\n",
       "    <tr>\n",
       "      <th>2558</th>\n",
       "      <td>Event Triggered Execution</td>\n",
       "      <td>WMI</td>\n",
       "    </tr>\n",
       "    <tr>\n",
       "      <th>31</th>\n",
       "      <td>System Language Discovery</td>\n",
       "      <td>Windows Registry</td>\n",
       "    </tr>\n",
       "    <tr>\n",
       "      <th>3911</th>\n",
       "      <td>Input Capture</td>\n",
       "      <td>Windows Registry</td>\n",
       "    </tr>\n",
       "    <tr>\n",
       "      <th>3818</th>\n",
       "      <td>Indicator Removal on Host</td>\n",
       "      <td>Windows Registry</td>\n",
       "    </tr>\n",
       "    <tr>\n",
       "      <th>3543</th>\n",
       "      <td>Two-Factor Authentication Interception</td>\n",
       "      <td>Windows Registry</td>\n",
       "    </tr>\n",
       "    <tr>\n",
       "      <th>3374</th>\n",
       "      <td>Browser Extensions</td>\n",
       "      <td>Windows Registry</td>\n",
       "    </tr>\n",
       "    <tr>\n",
       "      <th>3123</th>\n",
       "      <td>Service Stop</td>\n",
       "      <td>Windows Registry</td>\n",
       "    </tr>\n",
       "    <tr>\n",
       "      <th>3108</th>\n",
       "      <td>Inhibit System Recovery</td>\n",
       "      <td>Windows Registry</td>\n",
       "    </tr>\n",
       "    <tr>\n",
       "      <th>2700</th>\n",
       "      <td>Create or Modify System Process</td>\n",
       "      <td>Windows Registry</td>\n",
       "    </tr>\n",
       "    <tr>\n",
       "      <th>2560</th>\n",
       "      <td>Event Triggered Execution</td>\n",
       "      <td>Windows Registry</td>\n",
       "    </tr>\n",
       "    <tr>\n",
       "      <th>2519</th>\n",
       "      <td>Boot or Logon Autostart Execution</td>\n",
       "      <td>Windows Registry</td>\n",
       "    </tr>\n",
       "    <tr>\n",
       "      <th>2241</th>\n",
       "      <td>Abuse Elevation Control Mechanism</td>\n",
       "      <td>Windows Registry</td>\n",
       "    </tr>\n",
       "    <tr>\n",
       "      <th>2084</th>\n",
       "      <td>Unsecured Credentials</td>\n",
       "      <td>Windows Registry</td>\n",
       "    </tr>\n",
       "    <tr>\n",
       "      <th>2007</th>\n",
       "      <td>Subvert Trust Controls</td>\n",
       "      <td>Windows Registry</td>\n",
       "    </tr>\n",
       "    <tr>\n",
       "      <th>4103</th>\n",
       "      <td>Boot or Logon Initialization Scripts</td>\n",
       "      <td>Windows Registry</td>\n",
       "    </tr>\n",
       "    <tr>\n",
       "      <th>1815</th>\n",
       "      <td>Keylogging</td>\n",
       "      <td>Windows Registry</td>\n",
       "    </tr>\n",
       "    <tr>\n",
       "      <th>1692</th>\n",
       "      <td>Adversary-in-the-Middle</td>\n",
       "      <td>Windows Registry</td>\n",
       "    </tr>\n",
       "    <tr>\n",
       "      <th>1396</th>\n",
       "      <td>Impair Defenses</td>\n",
       "      <td>Windows Registry</td>\n",
       "    </tr>\n",
       "    <tr>\n",
       "      <th>1350</th>\n",
       "      <td>Disable or Modify Tools</td>\n",
       "      <td>Windows Registry</td>\n",
       "    </tr>\n",
       "    <tr>\n",
       "      <th>1322</th>\n",
       "      <td>Disable or Modify System Firewall</td>\n",
       "      <td>Windows Registry</td>\n",
       "    </tr>\n",
       "    <tr>\n",
       "      <th>1313</th>\n",
       "      <td>Install Root Certificate</td>\n",
       "      <td>Windows Registry</td>\n",
       "    </tr>\n",
       "    <tr>\n",
       "      <th>1177</th>\n",
       "      <td>Hide Artifacts</td>\n",
       "      <td>Windows Registry</td>\n",
       "    </tr>\n",
       "    <tr>\n",
       "      <th>951</th>\n",
       "      <td>System Services</td>\n",
       "      <td>Windows Registry</td>\n",
       "    </tr>\n",
       "    <tr>\n",
       "      <th>831</th>\n",
       "      <td>Hijack Execution Flow</td>\n",
       "      <td>Windows Registry</td>\n",
       "    </tr>\n",
       "    <tr>\n",
       "      <th>730</th>\n",
       "      <td>Hidden Users</td>\n",
       "      <td>Windows Registry</td>\n",
       "    </tr>\n",
       "    <tr>\n",
       "      <th>415</th>\n",
       "      <td>Indicator Blocking</td>\n",
       "      <td>Windows Registry</td>\n",
       "    </tr>\n",
       "    <tr>\n",
       "      <th>348</th>\n",
       "      <td>Hidden File System</td>\n",
       "      <td>Windows Registry</td>\n",
       "    </tr>\n",
       "    <tr>\n",
       "      <th>335</th>\n",
       "      <td>Run Virtual Instance</td>\n",
       "      <td>Windows Registry</td>\n",
       "    </tr>\n",
       "    <tr>\n",
       "      <th>68</th>\n",
       "      <td>Code Signing Policy Modification</td>\n",
       "      <td>Windows Registry</td>\n",
       "    </tr>\n",
       "    <tr>\n",
       "      <th>1740</th>\n",
       "      <td>Modify Authentication Process</td>\n",
       "      <td>Windows Registry</td>\n",
       "    </tr>\n",
       "    <tr>\n",
       "      <th>4286</th>\n",
       "      <td>OS Credential Dumping</td>\n",
       "      <td>Windows Registry</td>\n",
       "    </tr>\n",
       "  </tbody>\n",
       "</table>\n",
       "</div>"
      ],
      "text/plain": [
       "                                   technique      data_sources\n",
       "2558               Event Triggered Execution               WMI\n",
       "31                 System Language Discovery  Windows Registry\n",
       "3911                           Input Capture  Windows Registry\n",
       "3818               Indicator Removal on Host  Windows Registry\n",
       "3543  Two-Factor Authentication Interception  Windows Registry\n",
       "3374                      Browser Extensions  Windows Registry\n",
       "3123                            Service Stop  Windows Registry\n",
       "3108                 Inhibit System Recovery  Windows Registry\n",
       "2700         Create or Modify System Process  Windows Registry\n",
       "2560               Event Triggered Execution  Windows Registry\n",
       "2519       Boot or Logon Autostart Execution  Windows Registry\n",
       "2241       Abuse Elevation Control Mechanism  Windows Registry\n",
       "2084                   Unsecured Credentials  Windows Registry\n",
       "2007                  Subvert Trust Controls  Windows Registry\n",
       "4103    Boot or Logon Initialization Scripts  Windows Registry\n",
       "1815                              Keylogging  Windows Registry\n",
       "1692                 Adversary-in-the-Middle  Windows Registry\n",
       "1396                         Impair Defenses  Windows Registry\n",
       "1350                 Disable or Modify Tools  Windows Registry\n",
       "1322       Disable or Modify System Firewall  Windows Registry\n",
       "1313                Install Root Certificate  Windows Registry\n",
       "1177                          Hide Artifacts  Windows Registry\n",
       "951                          System Services  Windows Registry\n",
       "831                    Hijack Execution Flow  Windows Registry\n",
       "730                             Hidden Users  Windows Registry\n",
       "415                       Indicator Blocking  Windows Registry\n",
       "348                       Hidden File System  Windows Registry\n",
       "335                     Run Virtual Instance  Windows Registry\n",
       "68          Code Signing Policy Modification  Windows Registry\n",
       "1740           Modify Authentication Process  Windows Registry\n",
       "4286                   OS Credential Dumping  Windows Registry"
      ]
     },
     "execution_count": 50,
     "metadata": {},
     "output_type": "execute_result"
    }
   ],
   "source": [
    "techniques_analysis_data_no_ok[['technique','data_sources']].drop_duplicates().sort_values(by='data_sources',ascending=True)"
   ]
  },
  {
   "cell_type": "markdown",
   "metadata": {},
   "source": [
    "Without considering this inconsistent data, the final dataframe is:"
   ]
  },
  {
   "cell_type": "code",
   "execution_count": 51,
   "metadata": {},
   "outputs": [
    {
     "data": {
      "text/html": [
       "<div>\n",
       "<style scoped>\n",
       "    .dataframe tbody tr th:only-of-type {\n",
       "        vertical-align: middle;\n",
       "    }\n",
       "\n",
       "    .dataframe tbody tr th {\n",
       "        vertical-align: top;\n",
       "    }\n",
       "\n",
       "    .dataframe thead th {\n",
       "        text-align: right;\n",
       "    }\n",
       "</style>\n",
       "<table border=\"1\" class=\"dataframe\">\n",
       "  <thead>\n",
       "    <tr style=\"text-align: right;\">\n",
       "      <th></th>\n",
       "      <th>matrix</th>\n",
       "      <th>platform</th>\n",
       "      <th>tactic</th>\n",
       "      <th>technique</th>\n",
       "      <th>technique_id</th>\n",
       "      <th>data_sources</th>\n",
       "      <th>Validation</th>\n",
       "    </tr>\n",
       "  </thead>\n",
       "  <tbody>\n",
       "    <tr>\n",
       "      <th>0</th>\n",
       "      <td>mitre-attack</td>\n",
       "      <td>macOS</td>\n",
       "      <td>{'kill_chain_name': 'mitre-attack', 'phase_nam...</td>\n",
       "      <td>Resource Forking</td>\n",
       "      <td>T1564.009</td>\n",
       "      <td>Command</td>\n",
       "      <td>OK</td>\n",
       "    </tr>\n",
       "    <tr>\n",
       "      <th>1</th>\n",
       "      <td>mitre-attack</td>\n",
       "      <td>macOS</td>\n",
       "      <td>{'kill_chain_name': 'mitre-attack', 'phase_nam...</td>\n",
       "      <td>Resource Forking</td>\n",
       "      <td>T1564.009</td>\n",
       "      <td>Process</td>\n",
       "      <td>OK</td>\n",
       "    </tr>\n",
       "    <tr>\n",
       "      <th>2</th>\n",
       "      <td>mitre-attack</td>\n",
       "      <td>macOS</td>\n",
       "      <td>{'kill_chain_name': 'mitre-attack', 'phase_nam...</td>\n",
       "      <td>Resource Forking</td>\n",
       "      <td>T1564.009</td>\n",
       "      <td>File</td>\n",
       "      <td>OK</td>\n",
       "    </tr>\n",
       "    <tr>\n",
       "      <th>3</th>\n",
       "      <td>mitre-attack</td>\n",
       "      <td>Windows</td>\n",
       "      <td>{'kill_chain_name': 'mitre-attack', 'phase_nam...</td>\n",
       "      <td>Downgrade Attack</td>\n",
       "      <td>T1562.010</td>\n",
       "      <td>Process</td>\n",
       "      <td>OK</td>\n",
       "    </tr>\n",
       "    <tr>\n",
       "      <th>4</th>\n",
       "      <td>mitre-attack</td>\n",
       "      <td>Windows</td>\n",
       "      <td>{'kill_chain_name': 'mitre-attack', 'phase_nam...</td>\n",
       "      <td>Downgrade Attack</td>\n",
       "      <td>T1562.010</td>\n",
       "      <td>Command</td>\n",
       "      <td>OK</td>\n",
       "    </tr>\n",
       "  </tbody>\n",
       "</table>\n",
       "</div>"
      ],
      "text/plain": [
       "         matrix platform                                             tactic  \\\n",
       "0  mitre-attack    macOS  {'kill_chain_name': 'mitre-attack', 'phase_nam...   \n",
       "1  mitre-attack    macOS  {'kill_chain_name': 'mitre-attack', 'phase_nam...   \n",
       "2  mitre-attack    macOS  {'kill_chain_name': 'mitre-attack', 'phase_nam...   \n",
       "3  mitre-attack  Windows  {'kill_chain_name': 'mitre-attack', 'phase_nam...   \n",
       "4  mitre-attack  Windows  {'kill_chain_name': 'mitre-attack', 'phase_nam...   \n",
       "\n",
       "          technique technique_id data_sources Validation  \n",
       "0  Resource Forking    T1564.009      Command         OK  \n",
       "1  Resource Forking    T1564.009      Process         OK  \n",
       "2  Resource Forking    T1564.009         File         OK  \n",
       "3  Downgrade Attack    T1562.010      Process         OK  \n",
       "4  Downgrade Attack    T1562.010      Command         OK  "
      ]
     },
     "execution_count": 51,
     "metadata": {},
     "output_type": "execute_result"
    }
   ],
   "source": [
    "techniques_analysis_data_ok = techniques_data_3[techniques_data_3.Validation == 'OK']\n",
    "techniques_analysis_data_ok.head()"
   ]
  },
  {
   "cell_type": "code",
   "execution_count": 52,
   "metadata": {},
   "outputs": [
    {
     "name": "stdout",
     "output_type": "stream",
     "text": [
      "There are  4703  rows of data that you can play with\n"
     ]
    }
   ],
   "source": [
    "print('There are ',len(techniques_analysis_data_ok),' rows of data that you can play with')"
   ]
  },
  {
   "cell_type": "markdown",
   "metadata": {},
   "source": [
    "## Getting Techniques by Data Sources"
   ]
  },
  {
   "cell_type": "markdown",
   "metadata": {},
   "source": [
    "This function gets techniques' information that includes specific data sources"
   ]
  },
  {
   "cell_type": "code",
   "execution_count": 53,
   "metadata": {},
   "outputs": [],
   "source": [
    "data_source = 'PROCESS'"
   ]
  },
  {
   "cell_type": "code",
   "execution_count": 54,
   "metadata": {},
   "outputs": [],
   "source": [
    "results = lift.get_techniques_by_data_sources(data_source)"
   ]
  },
  {
   "cell_type": "code",
   "execution_count": 55,
   "metadata": {},
   "outputs": [
    {
     "data": {
      "text/plain": [
       "280"
      ]
     },
     "execution_count": 55,
     "metadata": {},
     "output_type": "execute_result"
    }
   ],
   "source": [
    "len(results)"
   ]
  },
  {
   "cell_type": "code",
   "execution_count": 56,
   "metadata": {},
   "outputs": [
    {
     "data": {
      "text/plain": [
       "list"
      ]
     },
     "execution_count": 56,
     "metadata": {},
     "output_type": "execute_result"
    }
   ],
   "source": [
    "type(results)"
   ]
  },
  {
   "cell_type": "code",
   "execution_count": 57,
   "metadata": {},
   "outputs": [],
   "source": [
    "results2 = lift.get_techniques_by_data_sources('pRoceSS','commAnd')"
   ]
  },
  {
   "cell_type": "code",
   "execution_count": 58,
   "metadata": {},
   "outputs": [
    {
     "data": {
      "text/plain": [
       "344"
      ]
     },
     "execution_count": 58,
     "metadata": {},
     "output_type": "execute_result"
    }
   ],
   "source": [
    "len(results2)"
   ]
  },
  {
   "cell_type": "code",
   "execution_count": 59,
   "metadata": {},
   "outputs": [
    {
     "data": {
      "text/plain": [
       "AttackPattern(type='attack-pattern', id='attack-pattern--824add00-99a1-4b15-9a2d-6c5683b7b497', created_by_ref='identity--c78cb6e5-0c4b-4611-8297-d1b8b55e40b5', created='2021-10-08T14:06:28.212Z', modified='2021-10-15T00:48:06.723Z', name='Downgrade Attack', description='Adversaries may downgrade or use a version of system features that may be outdated, vulnerable, and/or does not support updated security controls such as logging. For example, [PowerShell](https://attack.mitre.org/techniques/T1059/001) versions 5+ includes Script Block Logging (SBL) which can record executed script content. However, adversaries may attempt to execute a previous version of PowerShell that does not support SBL with the intent to [Impair Defenses](https://attack.mitre.org/techniques/T1562) while running malicious scripts that may have otherwise been detected.(Citation: CrowdStrike BGH Ransomware 2021)(Citation: Mandiant BYOL 2018)\\n\\nAdversaries may downgrade and use less-secure versions of various features of a system, such as [Command and Scripting Interpreter](https://attack.mitre.org/techniques/T1059)s or even network protocols that can be abused to enable [Adversary-in-the-Middle](https://attack.mitre.org/techniques/T1557).(Citation: Praetorian TLS Downgrade Attack 2014)', kill_chain_phases=[KillChainPhase(kill_chain_name='mitre-attack', phase_name='defense-evasion')], revoked=False, external_references=[ExternalReference(source_name='mitre-attack', url='https://attack.mitre.org/techniques/T1562/010', external_id='T1562.010'), ExternalReference(source_name='CrowdStrike BGH Ransomware 2021', description='Falcon Complete Team. (2021, May 11). Response When Minutes Matter: Rising Up Against Ransomware. Retrieved October 8, 2021.', url='https://www.crowdstrike.com/blog/how-falcon-complete-stopped-a-big-game-hunting-ransomware-attack/'), ExternalReference(source_name='Mandiant BYOL 2018', description='Kirk, N. (2018, June 18). Bring Your Own Land (BYOL) – A Novel Red Teaming Technique. Retrieved October 8, 2021.', url='https://www.mandiant.com/resources/bring-your-own-land-novel-red-teaming-technique'), ExternalReference(source_name='Praetorian TLS Downgrade Attack 2014', description='Praetorian. (2014, August 19). Man-in-the-Middle TLS Protocol Downgrade Attack. Retrieved October 8, 2021.', url='https://www.praetorian.com/blog/man-in-the-middle-tls-ssl-protocol-downgrade-attack/')], object_marking_refs=['marking-definition--fa42a846-8d90-4e51-bc29-71d5b4802168'], x_mitre_data_sources=['Command: Command Execution', 'Process: Process Metadata', 'Process: Process Creation'], x_mitre_detection='Monitor for commands or other activity that may be indicative of attempts to abuse older or deprecated technologies (ex: <code>powershell –v 2</code>). Also monitor for other abnormal events, such as execution of and/or processes spawning from a version of a tool that is not expected in the environment.', x_mitre_is_subtechnique=True, x_mitre_permissions_required=['User'], x_mitre_platforms=['Windows', 'Linux', 'macOS'], x_mitre_version='1.0')"
      ]
     },
     "execution_count": 59,
     "metadata": {},
     "output_type": "execute_result"
    }
   ],
   "source": [
    "results2[1]"
   ]
  },
  {
   "cell_type": "code",
   "execution_count": null,
   "metadata": {},
   "outputs": [],
   "source": []
  }
 ],
 "metadata": {
  "kernelspec": {
   "display_name": "Python 3",
   "language": "python",
   "name": "python3"
  },
  "language_info": {
   "codemirror_mode": {
    "name": "ipython",
    "version": 3
   },
   "file_extension": ".py",
   "mimetype": "text/x-python",
   "name": "python",
   "nbconvert_exporter": "python",
   "pygments_lexer": "ipython3",
   "version": "3.9.5"
  }
 },
 "nbformat": 4,
 "nbformat_minor": 4
}
