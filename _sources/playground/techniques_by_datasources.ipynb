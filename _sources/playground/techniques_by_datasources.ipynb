{
 "cells": [
  {
   "cell_type": "markdown",
   "metadata": {},
   "source": [
    "# Get Techniques from Data Sources"
   ]
  },
  {
   "cell_type": "markdown",
   "metadata": {},
   "source": [
    "## Import Library"
   ]
  },
  {
   "cell_type": "code",
   "execution_count": 1,
   "metadata": {},
   "outputs": [],
   "source": [
    "from attackcti import attack_client"
   ]
  },
  {
   "cell_type": "markdown",
   "metadata": {},
   "source": [
    "## Initialize Client"
   ]
  },
  {
   "cell_type": "code",
   "execution_count": 2,
   "metadata": {},
   "outputs": [],
   "source": [
    "lift = attack_client()"
   ]
  },
  {
   "cell_type": "markdown",
   "metadata": {},
   "source": [
    "## Retrieve Techniques "
   ]
  },
  {
   "cell_type": "code",
   "execution_count": 3,
   "metadata": {},
   "outputs": [],
   "source": [
    "techniques = lift.get_techniques_by_datasources(\n",
    "    \"Network intrusion detection system\",\n",
    "    \"Network protocol analysis\",\n",
    "    \"Netflow/Enclave netflow\",\n",
    "    \"Packet capture\",\n",
    "    \"DNS records\"\n",
    ")"
   ]
  },
  {
   "cell_type": "code",
   "execution_count": 4,
   "metadata": {},
   "outputs": [
    {
     "data": {
      "text/plain": [
       "45"
      ]
     },
     "execution_count": 4,
     "metadata": {},
     "output_type": "execute_result"
    }
   ],
   "source": [
    "len(techniques)"
   ]
  },
  {
   "cell_type": "code",
   "execution_count": 5,
   "metadata": {},
   "outputs": [
    {
     "name": "stdout",
     "output_type": "stream",
     "text": [
      "{\n",
      "    \"type\": \"attack-pattern\",\n",
      "    \"id\": \"attack-pattern--2877063e-1851-48d2-bcc6-bc1d2733157e\",\n",
      "    \"created_by_ref\": \"identity--c78cb6e5-0c4b-4611-8297-d1b8b55e40b5\",\n",
      "    \"created\": \"2020-05-21T17:43:26.506Z\",\n",
      "    \"modified\": \"2020-05-21T17:43:26.506Z\",\n",
      "    \"name\": \"Wireless Compromise\",\n",
      "    \"description\": \"Adversaries may perform wireless compromise as a method of gaining communications and unauthorized access to a wireless network. Access to a wireless network may be gained through the compromise of a wireless device. (Citation: ICSCorsair - Bolshev) (Citation: Hart - Bolshev) Adversaries may also utilize radios and other wireless communication devices on the same frequency as the wireless network. Wireless compromise can be done as an initial access vector from a remote distance.  \\n\\nA joint case study on the Maroochy Shire Water Services event examined the attack from a cyber security perspective.  (Citation: Maroochy - MITRE - 200808) The adversary disrupted Maroochy Shire's radio-controlled sewage system by driving around with stolen radio equipment and issuing commands with them. Boden used a two-way radio to communicate with and set the frequencies of Maroochy Shire's repeater stations. \\n\\nA Polish student used a modified TV remote controller to gain access to and control over the Lodz city tram system in Poland. (Citation: LodzTram-LondonReconnections-2017-12) (Citation: LodzTram-InHomelandSecurity-2008-02) The remote controller device allowed the student to interface with the tram\\u2019s network to modify track settings and override operator control. The adversary may have accomplished this by aligning the controller to the frequency and amplitude of IR control protocol signals. (Citation: LodzTram-Schneier-2008-01) The controller then enabled initial access to the network, allowing the capture and replay of tram signals. (Citation: LodzTram-LondonReconnections-2017-12)\",\n",
      "    \"kill_chain_phases\": [\n",
      "        {\n",
      "            \"kill_chain_name\": \"mitre-ics-attack\",\n",
      "            \"phase_name\": \"initial-access-ics\"\n",
      "        }\n",
      "    ],\n",
      "    \"external_references\": [\n",
      "        {\n",
      "            \"source_name\": \"mitre-ics-attack\",\n",
      "            \"url\": \"https://collaborate.mitre.org/attackics/index.php/Technique/T0860\",\n",
      "            \"external_id\": \"T0860\"\n",
      "        },\n",
      "        {\n",
      "            \"source_name\": \"Hart - Bolshev\",\n",
      "            \"description\": \"Alexander Bolshev. (2014, March 11). S4x14: HART As An Attack Vector. Retrieved January 5, 2020.\",\n",
      "            \"url\": \"https://www.slideshare.net/dgpeters/17-bolshev-1-13\"\n",
      "        },\n",
      "        {\n",
      "            \"source_name\": \"ICSCorsair - Bolshev\",\n",
      "            \"description\": \"Alexander Bolshev, Gleb Cherbov. (2014, July 08). ICSCorsair: How I will PWN your ERP through 4-20 mA current loop. Retrieved January 5, 2020.\",\n",
      "            \"url\": \"https://www.blackhat.com/docs/us-14/materials/us-14-Bolshev-ICSCorsair-How-I-Will-PWN-Your-ERP-Through-4-20mA-Current-Loop-WP.pdf\"\n",
      "        },\n",
      "        {\n",
      "            \"source_name\": \"LodzTram-InHomelandSecurity-2008-02\",\n",
      "            \"description\": \"Shelley Smith. (2008, February 12). Teen Hacker in Poland Plays Trains and Derails City Tram System. Retrieved October 17, 2019.\",\n",
      "            \"url\": \"https://inhomelandsecurity.com/teen%20hacker%20in%20poland%20plays%20tr/\"\n",
      "        },\n",
      "        {\n",
      "            \"source_name\": \"LodzTram-LondonReconnections-2017-12\",\n",
      "            \"description\": \"John Bill. (2017, May 12). Hacked Cyber Security Railways. Retrieved October 17, 2019.\",\n",
      "            \"url\": \"https://www.londonreconnections.com/2017/hacked-cyber-security-railways/\"\n",
      "        },\n",
      "        {\n",
      "            \"source_name\": \"LodzTram-Schneier-2008-01\",\n",
      "            \"description\": \"Bruce Schneier. (2008, January 17). Hacking Polish Trams. Retrieved October 17, 2019.\",\n",
      "            \"url\": \"https://www.schneier.com/blog/archives/2008/01/hacking%20the%20pol.html\"\n",
      "        },\n",
      "        {\n",
      "            \"source_name\": \"Maroochy - MITRE - 200808\",\n",
      "            \"description\": \"Marshall Abrams. (2008, July 23). Malicious Control System Cyber Security Attack Case Study\\u2013 Maroochy Water Services, Australia. Retrieved March 27, 2018.\",\n",
      "            \"url\": \"https://www.mitre.org/sites/default/files/pdf/08%201145.pdf\"\n",
      "        }\n",
      "    ],\n",
      "    \"object_marking_refs\": [\n",
      "        \"marking-definition--fa42a846-8d90-4e51-bc29-71d5b4802168\"\n",
      "    ],\n",
      "    \"x_mitre_contributors\": [\n",
      "        \"Scott Dougherty\"\n",
      "    ],\n",
      "    \"x_mitre_data_sources\": [\n",
      "        \"Network protocol analysis\",\n",
      "        \"Packet capture\",\n",
      "        \"Network intrusion detection system\"\n",
      "    ],\n",
      "    \"x_mitre_platforms\": [\n",
      "        \"Windows\"\n",
      "    ]\n",
      "}\n"
     ]
    }
   ],
   "source": [
    "print(techniques[0])"
   ]
  },
  {
   "cell_type": "code",
   "execution_count": null,
   "metadata": {},
   "outputs": [],
   "source": []
  }
 ],
 "metadata": {
  "kernelspec": {
   "display_name": "Python 3",
   "language": "python",
   "name": "python3"
  },
  "language_info": {
   "codemirror_mode": {
    "name": "ipython",
    "version": 3
   },
   "file_extension": ".py",
   "mimetype": "text/x-python",
   "name": "python",
   "nbconvert_exporter": "python",
   "pygments_lexer": "ipython3",
   "version": "3.8.8"
  }
 },
 "nbformat": 4,
 "nbformat_minor": 4
}
