{
 "cells": [
  {
   "cell_type": "markdown",
   "metadata": {},
   "source": [
    "# Introduction\n",
    "\n",
    "[![Binder](https://mybinder.org/badge_logo.svg)](https://mybinder.org/v2/gh/OTRF/ATTACK-Python-Client/master)\n",
    "[![Open_Threat_Research Community](https://img.shields.io/badge/Open_Threat_Research-Community-brightgreen.svg)](https://twitter.com/OTR_Community)\n",
    "[![Open Source Love svg1](https://badges.frapsoft.com/os/v3/open-source.svg?v=103)](https://github.com/ellerbrock/open-source-badges/)\n",
    "[![Downloads](https://pepy.tech/badge/attackcti)](https://pepy.tech/project/attackcti)\n",
    "\n",
    "A Python module to access up to date ATT&CK content available in STIX via public TAXII server. This project leverages the python classes and functions of the [cti-python-stix2](https://github.com/oasis-open/cti-python-stix2) and [cti-taxii-client](https://github.com/oasis-open/cti-taxii-client) libraries developed by MITRE.\n",
    "\n",
    "## Goals\n",
    "\n",
    "* Provide an easy way to access and interact with up to date ATT&CK content available in STIX via public TAXII server\n",
    "* Allow security analysts to quickly explore ATT&CK content and apply it in their daily operations\n",
    "* Allow the integration of ATT&Ck content with other platforms to host up to date information from the framework\n",
    "* Help security analysts during the transition from the ATT&CK MediaWiki API to the STIX/TAXII 2.0 API\n",
    "* Learn STIX2 and TAXII Client Python libraries\n",
    "\n",
    "## Current Status: Production/Stable\n",
    "\n",
    "The project is currently in a Production/Stable stage, which means that the current main functions are more stable. I would love to get your feedback to make it a better project.\n",
    "\n",
    "## Resources\n",
    "\n",
    "* [MITRE CTI](https://github.com/mitre/cti)\n",
    "* [OASIS CTI TAXII Client](https://github.com/oasis-open/cti-taxii-client)\n",
    "* [OASIS CTI Python STIX2](https://github.com/oasis-open/cti-python-stix2)\n",
    "* [MITRE ATT&CK Framework](https://attack.mitre.org/wiki/Main_Page)\n",
    "* [ATT&CK MediaWiki API](https://attack.mitre.org/wiki/Using_the_API)\n",
    "* [Invoke-ATTACKAPI](https://github.com/Cyb3rWard0g/Invoke-ATTACKAPI)\n",
    "* [Mitre-Attack-API](https://github.com/annamcabee/Mitre-Attack-API)\n",
    "\n",
    "### Requirements\n",
    "\n",
    "Python 3+\n",
    "\n",
    "### Installation\n",
    "\n",
    "You can install it via PIP:\n",
    "\n",
    "```\n",
    "pip install attackcti\n",
    "```\n",
    "\n",
    "Or you can also do the following:\n",
    "\n",
    "```\n",
    "git clone https://github.com/OTRF/ATTACK-Python-Client\n",
    "cd ATTACK-Python-Client\n",
    "pip install .\n",
    "```\n",
    "\n",
    "## Author\n",
    "\n",
    "* Roberto Rodriguez [@Cyb3rWard0g](https://twitter.com/Cyb3rWard0g)\n",
    "\n",
    "## Official Committers\n",
    "\n",
    "* Jose Luis Rodriguez [@Cyb3rPandaH](https://twitter.com/Cyb3rPandaH)"
   ]
  },
  {
   "cell_type": "code",
   "execution_count": null,
   "metadata": {},
   "outputs": [],
   "source": []
  }
 ],
 "metadata": {
  "kernelspec": {
   "display_name": "PySpark_Python3",
   "language": "python",
   "name": "pyspark3"
  },
  "language_info": {
   "codemirror_mode": {
    "name": "ipython",
    "version": 3
   },
   "file_extension": ".py",
   "mimetype": "text/x-python",
   "name": "python",
   "nbconvert_exporter": "python",
   "pygments_lexer": "ipython3",
   "version": "3.7.3"
  }
 },
 "nbformat": 4,
 "nbformat_minor": 2
}
